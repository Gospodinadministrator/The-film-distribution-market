{
 "cells": [
  {
   "cell_type": "markdown",
   "metadata": {},
   "source": [
    "# В данном приекте мы изучаем рынок российского кинопроката и выявляем текущие тренды. Так же уделим внимание фильмам, которые получили государственную поддержку. Ответим на вопрос, насколько такие фильмы интересны зрителю. "
   ]
  },
  {
   "cell_type": "code",
   "execution_count": 1,
   "metadata": {
    "id": "dw87FlzMgFyM"
   },
   "outputs": [],
   "source": [
    "import pandas as pd\n",
    "import matplotlib.pyplot as plt\n",
    "data = pd.read_csv('/datasets/mkrf_movies.csv')\n",
    "data1 = pd.read_csv('/datasets/mkrf_shows.csv')"
   ]
  },
  {
   "cell_type": "code",
   "execution_count": 2,
   "metadata": {
    "scrolled": true
   },
   "outputs": [
    {
     "name": "stdout",
     "output_type": "stream",
     "text": [
      "<class 'pandas.core.frame.DataFrame'>\n",
      "RangeIndex: 7486 entries, 0 to 7485\n",
      "Data columns (total 15 columns):\n",
      " #   Column                 Non-Null Count  Dtype  \n",
      "---  ------                 --------------  -----  \n",
      " 0   title                  7486 non-null   object \n",
      " 1   puNumber               7486 non-null   object \n",
      " 2   show_start_date        7486 non-null   object \n",
      " 3   type                   7486 non-null   object \n",
      " 4   film_studio            7468 non-null   object \n",
      " 5   production_country     7484 non-null   object \n",
      " 6   director               7477 non-null   object \n",
      " 7   producer               6918 non-null   object \n",
      " 8   age_restriction        7486 non-null   object \n",
      " 9   refundable_support     332 non-null    float64\n",
      " 10  nonrefundable_support  332 non-null    float64\n",
      " 11  budget                 332 non-null    float64\n",
      " 12  financing_source       332 non-null    object \n",
      " 13  ratings                6519 non-null   object \n",
      " 14  genres                 6510 non-null   object \n",
      "dtypes: float64(3), object(12)\n",
      "memory usage: 877.4+ KB\n"
     ]
    }
   ],
   "source": [
    "data.info()"
   ]
  },
  {
   "cell_type": "code",
   "execution_count": 3,
   "metadata": {
    "scrolled": true
   },
   "outputs": [
    {
     "data": {
      "text/html": [
       "<div>\n",
       "<style scoped>\n",
       "    .dataframe tbody tr th:only-of-type {\n",
       "        vertical-align: middle;\n",
       "    }\n",
       "\n",
       "    .dataframe tbody tr th {\n",
       "        vertical-align: top;\n",
       "    }\n",
       "\n",
       "    .dataframe thead th {\n",
       "        text-align: right;\n",
       "    }\n",
       "</style>\n",
       "<table border=\"1\" class=\"dataframe\">\n",
       "  <thead>\n",
       "    <tr style=\"text-align: right;\">\n",
       "      <th></th>\n",
       "      <th>title</th>\n",
       "      <th>show_start_date</th>\n",
       "      <th>type</th>\n",
       "      <th>film_studio</th>\n",
       "      <th>production_country</th>\n",
       "      <th>director</th>\n",
       "      <th>producer</th>\n",
       "      <th>age_restriction</th>\n",
       "      <th>refundable_support</th>\n",
       "      <th>nonrefundable_support</th>\n",
       "      <th>budget</th>\n",
       "      <th>financing_source</th>\n",
       "      <th>ratings</th>\n",
       "      <th>genres</th>\n",
       "    </tr>\n",
       "    <tr>\n",
       "      <th>puNumber</th>\n",
       "      <th></th>\n",
       "      <th></th>\n",
       "      <th></th>\n",
       "      <th></th>\n",
       "      <th></th>\n",
       "      <th></th>\n",
       "      <th></th>\n",
       "      <th></th>\n",
       "      <th></th>\n",
       "      <th></th>\n",
       "      <th></th>\n",
       "      <th></th>\n",
       "      <th></th>\n",
       "      <th></th>\n",
       "    </tr>\n",
       "  </thead>\n",
       "  <tbody>\n",
       "    <tr>\n",
       "      <th>111004112</th>\n",
       "      <td>1</td>\n",
       "      <td>1</td>\n",
       "      <td>1</td>\n",
       "      <td>1</td>\n",
       "      <td>1</td>\n",
       "      <td>1</td>\n",
       "      <td>0</td>\n",
       "      <td>1</td>\n",
       "      <td>0</td>\n",
       "      <td>0</td>\n",
       "      <td>0</td>\n",
       "      <td>0</td>\n",
       "      <td>0</td>\n",
       "      <td>0</td>\n",
       "    </tr>\n",
       "    <tr>\n",
       "      <th>111000110</th>\n",
       "      <td>1</td>\n",
       "      <td>1</td>\n",
       "      <td>1</td>\n",
       "      <td>1</td>\n",
       "      <td>1</td>\n",
       "      <td>1</td>\n",
       "      <td>1</td>\n",
       "      <td>1</td>\n",
       "      <td>0</td>\n",
       "      <td>0</td>\n",
       "      <td>0</td>\n",
       "      <td>0</td>\n",
       "      <td>1</td>\n",
       "      <td>1</td>\n",
       "    </tr>\n",
       "    <tr>\n",
       "      <th>111000111</th>\n",
       "      <td>1</td>\n",
       "      <td>1</td>\n",
       "      <td>1</td>\n",
       "      <td>1</td>\n",
       "      <td>1</td>\n",
       "      <td>1</td>\n",
       "      <td>1</td>\n",
       "      <td>1</td>\n",
       "      <td>0</td>\n",
       "      <td>0</td>\n",
       "      <td>0</td>\n",
       "      <td>0</td>\n",
       "      <td>1</td>\n",
       "      <td>1</td>\n",
       "    </tr>\n",
       "    <tr>\n",
       "      <th>111000112</th>\n",
       "      <td>1</td>\n",
       "      <td>1</td>\n",
       "      <td>1</td>\n",
       "      <td>1</td>\n",
       "      <td>1</td>\n",
       "      <td>1</td>\n",
       "      <td>1</td>\n",
       "      <td>1</td>\n",
       "      <td>0</td>\n",
       "      <td>0</td>\n",
       "      <td>0</td>\n",
       "      <td>0</td>\n",
       "      <td>1</td>\n",
       "      <td>1</td>\n",
       "    </tr>\n",
       "    <tr>\n",
       "      <th>111000113</th>\n",
       "      <td>1</td>\n",
       "      <td>1</td>\n",
       "      <td>1</td>\n",
       "      <td>1</td>\n",
       "      <td>1</td>\n",
       "      <td>1</td>\n",
       "      <td>1</td>\n",
       "      <td>1</td>\n",
       "      <td>0</td>\n",
       "      <td>0</td>\n",
       "      <td>0</td>\n",
       "      <td>0</td>\n",
       "      <td>1</td>\n",
       "      <td>1</td>\n",
       "    </tr>\n",
       "    <tr>\n",
       "      <th>...</th>\n",
       "      <td>...</td>\n",
       "      <td>...</td>\n",
       "      <td>...</td>\n",
       "      <td>...</td>\n",
       "      <td>...</td>\n",
       "      <td>...</td>\n",
       "      <td>...</td>\n",
       "      <td>...</td>\n",
       "      <td>...</td>\n",
       "      <td>...</td>\n",
       "      <td>...</td>\n",
       "      <td>...</td>\n",
       "      <td>...</td>\n",
       "      <td>...</td>\n",
       "    </tr>\n",
       "    <tr>\n",
       "      <th>226017410</th>\n",
       "      <td>1</td>\n",
       "      <td>1</td>\n",
       "      <td>1</td>\n",
       "      <td>1</td>\n",
       "      <td>1</td>\n",
       "      <td>1</td>\n",
       "      <td>0</td>\n",
       "      <td>1</td>\n",
       "      <td>0</td>\n",
       "      <td>0</td>\n",
       "      <td>0</td>\n",
       "      <td>0</td>\n",
       "      <td>1</td>\n",
       "      <td>1</td>\n",
       "    </tr>\n",
       "    <tr>\n",
       "      <th>226019110</th>\n",
       "      <td>1</td>\n",
       "      <td>1</td>\n",
       "      <td>1</td>\n",
       "      <td>1</td>\n",
       "      <td>1</td>\n",
       "      <td>1</td>\n",
       "      <td>1</td>\n",
       "      <td>1</td>\n",
       "      <td>0</td>\n",
       "      <td>0</td>\n",
       "      <td>0</td>\n",
       "      <td>0</td>\n",
       "      <td>1</td>\n",
       "      <td>1</td>\n",
       "    </tr>\n",
       "    <tr>\n",
       "      <th>231001012</th>\n",
       "      <td>1</td>\n",
       "      <td>1</td>\n",
       "      <td>1</td>\n",
       "      <td>1</td>\n",
       "      <td>1</td>\n",
       "      <td>1</td>\n",
       "      <td>1</td>\n",
       "      <td>1</td>\n",
       "      <td>0</td>\n",
       "      <td>0</td>\n",
       "      <td>0</td>\n",
       "      <td>0</td>\n",
       "      <td>1</td>\n",
       "      <td>1</td>\n",
       "    </tr>\n",
       "    <tr>\n",
       "      <th>231001111</th>\n",
       "      <td>1</td>\n",
       "      <td>1</td>\n",
       "      <td>1</td>\n",
       "      <td>1</td>\n",
       "      <td>1</td>\n",
       "      <td>1</td>\n",
       "      <td>1</td>\n",
       "      <td>1</td>\n",
       "      <td>0</td>\n",
       "      <td>0</td>\n",
       "      <td>0</td>\n",
       "      <td>0</td>\n",
       "      <td>1</td>\n",
       "      <td>1</td>\n",
       "    </tr>\n",
       "    <tr>\n",
       "      <th>нет</th>\n",
       "      <td>1</td>\n",
       "      <td>1</td>\n",
       "      <td>1</td>\n",
       "      <td>1</td>\n",
       "      <td>1</td>\n",
       "      <td>1</td>\n",
       "      <td>1</td>\n",
       "      <td>1</td>\n",
       "      <td>0</td>\n",
       "      <td>0</td>\n",
       "      <td>0</td>\n",
       "      <td>0</td>\n",
       "      <td>0</td>\n",
       "      <td>0</td>\n",
       "    </tr>\n",
       "  </tbody>\n",
       "</table>\n",
       "<p>7484 rows × 14 columns</p>\n",
       "</div>"
      ],
      "text/plain": [
       "            title  show_start_date  type  film_studio  production_country  \\\n",
       "puNumber                                                                    \n",
       " 111004112      1                1     1            1                   1   \n",
       "111000110       1                1     1            1                   1   \n",
       "111000111       1                1     1            1                   1   \n",
       "111000112       1                1     1            1                   1   \n",
       "111000113       1                1     1            1                   1   \n",
       "...           ...              ...   ...          ...                 ...   \n",
       "226017410       1                1     1            1                   1   \n",
       "226019110       1                1     1            1                   1   \n",
       "231001012       1                1     1            1                   1   \n",
       "231001111       1                1     1            1                   1   \n",
       "нет             1                1     1            1                   1   \n",
       "\n",
       "            director  producer  age_restriction  refundable_support  \\\n",
       "puNumber                                                              \n",
       " 111004112         1         0                1                   0   \n",
       "111000110          1         1                1                   0   \n",
       "111000111          1         1                1                   0   \n",
       "111000112          1         1                1                   0   \n",
       "111000113          1         1                1                   0   \n",
       "...              ...       ...              ...                 ...   \n",
       "226017410          1         0                1                   0   \n",
       "226019110          1         1                1                   0   \n",
       "231001012          1         1                1                   0   \n",
       "231001111          1         1                1                   0   \n",
       "нет                1         1                1                   0   \n",
       "\n",
       "            nonrefundable_support  budget  financing_source  ratings  genres  \n",
       "puNumber                                                                      \n",
       " 111004112                      0       0                 0        0       0  \n",
       "111000110                       0       0                 0        1       1  \n",
       "111000111                       0       0                 0        1       1  \n",
       "111000112                       0       0                 0        1       1  \n",
       "111000113                       0       0                 0        1       1  \n",
       "...                           ...     ...               ...      ...     ...  \n",
       "226017410                       0       0                 0        1       1  \n",
       "226019110                       0       0                 0        1       1  \n",
       "231001012                       0       0                 0        1       1  \n",
       "231001111                       0       0                 0        1       1  \n",
       "нет                             0       0                 0        0       0  \n",
       "\n",
       "[7484 rows x 14 columns]"
      ]
     },
     "execution_count": 3,
     "metadata": {},
     "output_type": "execute_result"
    }
   ],
   "source": [
    "data.groupby('puNumber').count()"
   ]
  },
  {
   "cell_type": "code",
   "execution_count": 4,
   "metadata": {
    "scrolled": true
   },
   "outputs": [
    {
     "name": "stdout",
     "output_type": "stream",
     "text": [
      "<class 'pandas.core.frame.DataFrame'>\n",
      "RangeIndex: 3158 entries, 0 to 3157\n",
      "Data columns (total 2 columns):\n",
      " #   Column      Non-Null Count  Dtype  \n",
      "---  ------      --------------  -----  \n",
      " 0   puNumber    3158 non-null   int64  \n",
      " 1   box_office  3158 non-null   float64\n",
      "dtypes: float64(1), int64(1)\n",
      "memory usage: 49.5 KB\n"
     ]
    }
   ],
   "source": [
    "data1.info()"
   ]
  },
  {
   "cell_type": "code",
   "execution_count": 5,
   "metadata": {
    "scrolled": true
   },
   "outputs": [
    {
     "name": "stdout",
     "output_type": "stream",
     "text": [
      "<class 'pandas.core.frame.DataFrame'>\n",
      "RangeIndex: 7486 entries, 0 to 7485\n",
      "Data columns (total 17 columns):\n",
      " #   Column                 Non-Null Count  Dtype  \n",
      "---  ------                 --------------  -----  \n",
      " 0   title                  7486 non-null   object \n",
      " 1   puNumber               7486 non-null   object \n",
      " 2   show_start_date        7486 non-null   object \n",
      " 3   type                   7486 non-null   object \n",
      " 4   film_studio            7468 non-null   object \n",
      " 5   production_country     7484 non-null   object \n",
      " 6   director               7477 non-null   object \n",
      " 7   producer               6918 non-null   object \n",
      " 8   age_restriction        7486 non-null   object \n",
      " 9   refundable_support     332 non-null    float64\n",
      " 10  nonrefundable_support  332 non-null    float64\n",
      " 11  budget                 332 non-null    float64\n",
      " 12  financing_source       332 non-null    object \n",
      " 13  ratings                6519 non-null   object \n",
      " 14  genres                 6510 non-null   object \n",
      " 15  puNumber               3158 non-null   float64\n",
      " 16  box_office             3158 non-null   float64\n",
      "dtypes: float64(5), object(12)\n",
      "memory usage: 994.4+ KB\n"
     ]
    }
   ],
   "source": [
    "data_test = pd.concat([data, data1], axis=1)\n",
    "data_test.info()"
   ]
  },
  {
   "cell_type": "code",
   "execution_count": 6,
   "metadata": {},
   "outputs": [],
   "source": [
    "data['puNumber'] = (\n",
    "    data['puNumber']\n",
    "    .replace('нет', '0', regex=True)\n",
    ")"
   ]
  },
  {
   "cell_type": "code",
   "execution_count": 7,
   "metadata": {},
   "outputs": [],
   "source": [
    "data['puNumber'] = data['puNumber'].astype('int64')"
   ]
  },
  {
   "cell_type": "code",
   "execution_count": 8,
   "metadata": {},
   "outputs": [],
   "source": [
    "data = data.merge(data1, on = 'puNumber', how = 'outer')"
   ]
  },
  {
   "cell_type": "code",
   "execution_count": 9,
   "metadata": {
    "scrolled": true
   },
   "outputs": [
    {
     "data": {
      "text/html": [
       "<div>\n",
       "<style scoped>\n",
       "    .dataframe tbody tr th:only-of-type {\n",
       "        vertical-align: middle;\n",
       "    }\n",
       "\n",
       "    .dataframe tbody tr th {\n",
       "        vertical-align: top;\n",
       "    }\n",
       "\n",
       "    .dataframe thead th {\n",
       "        text-align: right;\n",
       "    }\n",
       "</style>\n",
       "<table border=\"1\" class=\"dataframe\">\n",
       "  <thead>\n",
       "    <tr style=\"text-align: right;\">\n",
       "      <th></th>\n",
       "      <th>title</th>\n",
       "      <th>puNumber</th>\n",
       "      <th>show_start_date</th>\n",
       "      <th>type</th>\n",
       "      <th>film_studio</th>\n",
       "      <th>production_country</th>\n",
       "      <th>director</th>\n",
       "      <th>producer</th>\n",
       "      <th>age_restriction</th>\n",
       "      <th>refundable_support</th>\n",
       "      <th>nonrefundable_support</th>\n",
       "      <th>budget</th>\n",
       "      <th>financing_source</th>\n",
       "      <th>ratings</th>\n",
       "      <th>genres</th>\n",
       "      <th>box_office</th>\n",
       "    </tr>\n",
       "  </thead>\n",
       "  <tbody>\n",
       "    <tr>\n",
       "      <th>0</th>\n",
       "      <td>Открытый простор</td>\n",
       "      <td>221048915</td>\n",
       "      <td>2015-11-27T12:00:00.000Z</td>\n",
       "      <td>Художественный</td>\n",
       "      <td>Тачстоун Пикчерз, Кобальт Пикчерз, Бикон Пикче...</td>\n",
       "      <td>США</td>\n",
       "      <td>Кевин Костнер</td>\n",
       "      <td>Дэвид Валдес, Кевин Костнер, Джейк Эбертс</td>\n",
       "      <td>«18+» - запрещено для детей</td>\n",
       "      <td>NaN</td>\n",
       "      <td>NaN</td>\n",
       "      <td>NaN</td>\n",
       "      <td>NaN</td>\n",
       "      <td>7.2</td>\n",
       "      <td>боевик,драма,мелодрама</td>\n",
       "      <td>NaN</td>\n",
       "    </tr>\n",
       "    <tr>\n",
       "      <th>1</th>\n",
       "      <td>Особо важное задание</td>\n",
       "      <td>111013716</td>\n",
       "      <td>2016-09-13T12:00:00.000Z</td>\n",
       "      <td>Художественный</td>\n",
       "      <td>Киностудия \"Мосфильм\"</td>\n",
       "      <td>СССР</td>\n",
       "      <td>Е.Матвеев</td>\n",
       "      <td>NaN</td>\n",
       "      <td>«6+» - для детей старше 6 лет</td>\n",
       "      <td>NaN</td>\n",
       "      <td>NaN</td>\n",
       "      <td>NaN</td>\n",
       "      <td>NaN</td>\n",
       "      <td>6.6</td>\n",
       "      <td>драма,военный</td>\n",
       "      <td>NaN</td>\n",
       "    </tr>\n",
       "    <tr>\n",
       "      <th>2</th>\n",
       "      <td>Особо опасен</td>\n",
       "      <td>221038416</td>\n",
       "      <td>2016-10-10T12:00:00.000Z</td>\n",
       "      <td>Художественный</td>\n",
       "      <td>Юниверсал Пикчерз, Кикстарт Продакшнз, Марк Пл...</td>\n",
       "      <td>США</td>\n",
       "      <td>Тимур Бекмамбетов</td>\n",
       "      <td>Джим Лемли, Джейсон Нетер, Марк Е.Платт, Яйн Смит</td>\n",
       "      <td>«18+» - запрещено для детей</td>\n",
       "      <td>NaN</td>\n",
       "      <td>NaN</td>\n",
       "      <td>NaN</td>\n",
       "      <td>NaN</td>\n",
       "      <td>6.8</td>\n",
       "      <td>фантастика,боевик,триллер</td>\n",
       "      <td>NaN</td>\n",
       "    </tr>\n",
       "    <tr>\n",
       "      <th>3</th>\n",
       "      <td>Особо опасен</td>\n",
       "      <td>221026916</td>\n",
       "      <td>2016-06-10T12:00:00.000Z</td>\n",
       "      <td>Художественный</td>\n",
       "      <td>Юниверсал Пикчерз, Кикстарт Продакшнз, Марк Пл...</td>\n",
       "      <td>США</td>\n",
       "      <td>Тимур Бекмамбетов</td>\n",
       "      <td>Джим Лемли, Джейсон Нетер, Марк Е.Платт, Яйн Смит</td>\n",
       "      <td>«18+» - запрещено для детей</td>\n",
       "      <td>NaN</td>\n",
       "      <td>NaN</td>\n",
       "      <td>NaN</td>\n",
       "      <td>NaN</td>\n",
       "      <td>6.8</td>\n",
       "      <td>фантастика,боевик,триллер</td>\n",
       "      <td>NaN</td>\n",
       "    </tr>\n",
       "    <tr>\n",
       "      <th>4</th>\n",
       "      <td>Особо опасен</td>\n",
       "      <td>221030815</td>\n",
       "      <td>2015-07-29T12:00:00.000Z</td>\n",
       "      <td>Художественный</td>\n",
       "      <td>Юниверсал Пикчерз, Кикстарт Продакшнз, Марк Пл...</td>\n",
       "      <td>США</td>\n",
       "      <td>Тимур Бекмамбетов</td>\n",
       "      <td>Джим Лемли, Джейсон Нетер, Марк Е.Платт, Яйн Смит</td>\n",
       "      <td>«18+» - запрещено для детей</td>\n",
       "      <td>NaN</td>\n",
       "      <td>NaN</td>\n",
       "      <td>NaN</td>\n",
       "      <td>NaN</td>\n",
       "      <td>6.8</td>\n",
       "      <td>фантастика,боевик,триллер</td>\n",
       "      <td>NaN</td>\n",
       "    </tr>\n",
       "    <tr>\n",
       "      <th>5</th>\n",
       "      <td>Остановился поезд</td>\n",
       "      <td>111013816</td>\n",
       "      <td>2016-09-13T12:00:00.000Z</td>\n",
       "      <td>Художественный</td>\n",
       "      <td>Киностудия \"Мосфильм\"</td>\n",
       "      <td>СССР</td>\n",
       "      <td>В.Абдрашитов</td>\n",
       "      <td>NaN</td>\n",
       "      <td>«6+» - для детей старше 6 лет</td>\n",
       "      <td>NaN</td>\n",
       "      <td>NaN</td>\n",
       "      <td>NaN</td>\n",
       "      <td>NaN</td>\n",
       "      <td>7.7</td>\n",
       "      <td>драма</td>\n",
       "      <td>NaN</td>\n",
       "    </tr>\n",
       "    <tr>\n",
       "      <th>6</th>\n",
       "      <td>Любовь и голуби</td>\n",
       "      <td>111007013</td>\n",
       "      <td>2013-10-18T12:00:00.000Z</td>\n",
       "      <td>Художественный</td>\n",
       "      <td>Киностудия \"Мосфильм\"</td>\n",
       "      <td>СССР</td>\n",
       "      <td>В.Меньшов</td>\n",
       "      <td>NaN</td>\n",
       "      <td>«12+» - для детей старше 12 лет</td>\n",
       "      <td>NaN</td>\n",
       "      <td>NaN</td>\n",
       "      <td>NaN</td>\n",
       "      <td>NaN</td>\n",
       "      <td>8.3</td>\n",
       "      <td>мелодрама,комедия</td>\n",
       "      <td>2700.0</td>\n",
       "    </tr>\n",
       "    <tr>\n",
       "      <th>7</th>\n",
       "      <td>Любовь и сигареты</td>\n",
       "      <td>221074614</td>\n",
       "      <td>2014-12-29T12:00:00.000Z</td>\n",
       "      <td>Художественный</td>\n",
       "      <td>Юнайтед Артистс, Грин Стрит Филмз, Айкон Интер...</td>\n",
       "      <td>США</td>\n",
       "      <td>Джон Туртурро</td>\n",
       "      <td>Джон Пенотти, Джон Туртурро</td>\n",
       "      <td>«18+» - запрещено для детей</td>\n",
       "      <td>NaN</td>\n",
       "      <td>NaN</td>\n",
       "      <td>NaN</td>\n",
       "      <td>NaN</td>\n",
       "      <td>6.6</td>\n",
       "      <td>мюзикл,мелодрама,комедия</td>\n",
       "      <td>NaN</td>\n",
       "    </tr>\n",
       "    <tr>\n",
       "      <th>8</th>\n",
       "      <td>Отпетые мошенники.</td>\n",
       "      <td>121011416</td>\n",
       "      <td>2016-05-05T12:00:00.000Z</td>\n",
       "      <td>Художественный</td>\n",
       "      <td>Пульсар Продюксьон, ТФ1 Фильм</td>\n",
       "      <td>Франция</td>\n",
       "      <td>Эрик Беснард</td>\n",
       "      <td>Патрис Леду</td>\n",
       "      <td>«18+» - запрещено для детей</td>\n",
       "      <td>NaN</td>\n",
       "      <td>NaN</td>\n",
       "      <td>NaN</td>\n",
       "      <td>NaN</td>\n",
       "      <td>8.0</td>\n",
       "      <td>комедия,криминал</td>\n",
       "      <td>NaN</td>\n",
       "    </tr>\n",
       "    <tr>\n",
       "      <th>9</th>\n",
       "      <td>Отпуск за свой счет</td>\n",
       "      <td>111019114</td>\n",
       "      <td>2014-12-01T12:00:00.000Z</td>\n",
       "      <td>Художественный</td>\n",
       "      <td>Киностудия \"Мосфильм\", Телевидение ВНР</td>\n",
       "      <td>СССР, Венгрия</td>\n",
       "      <td>В.Титов</td>\n",
       "      <td>NaN</td>\n",
       "      <td>«12+» - для детей старше 12 лет</td>\n",
       "      <td>NaN</td>\n",
       "      <td>NaN</td>\n",
       "      <td>NaN</td>\n",
       "      <td>NaN</td>\n",
       "      <td>7.8</td>\n",
       "      <td>мелодрама,комедия</td>\n",
       "      <td>NaN</td>\n",
       "    </tr>\n",
       "  </tbody>\n",
       "</table>\n",
       "</div>"
      ],
      "text/plain": [
       "                  title   puNumber           show_start_date            type  \\\n",
       "0      Открытый простор  221048915  2015-11-27T12:00:00.000Z  Художественный   \n",
       "1  Особо важное задание  111013716  2016-09-13T12:00:00.000Z  Художественный   \n",
       "2          Особо опасен  221038416  2016-10-10T12:00:00.000Z  Художественный   \n",
       "3          Особо опасен  221026916  2016-06-10T12:00:00.000Z  Художественный   \n",
       "4          Особо опасен  221030815  2015-07-29T12:00:00.000Z  Художественный   \n",
       "5     Остановился поезд  111013816  2016-09-13T12:00:00.000Z  Художественный   \n",
       "6       Любовь и голуби  111007013  2013-10-18T12:00:00.000Z  Художественный   \n",
       "7     Любовь и сигареты  221074614  2014-12-29T12:00:00.000Z  Художественный   \n",
       "8    Отпетые мошенники.  121011416  2016-05-05T12:00:00.000Z  Художественный   \n",
       "9   Отпуск за свой счет  111019114  2014-12-01T12:00:00.000Z  Художественный   \n",
       "\n",
       "                                         film_studio production_country  \\\n",
       "0  Тачстоун Пикчерз, Кобальт Пикчерз, Бикон Пикче...                США   \n",
       "1                              Киностудия \"Мосфильм\"               СССР   \n",
       "2  Юниверсал Пикчерз, Кикстарт Продакшнз, Марк Пл...                США   \n",
       "3  Юниверсал Пикчерз, Кикстарт Продакшнз, Марк Пл...                США   \n",
       "4  Юниверсал Пикчерз, Кикстарт Продакшнз, Марк Пл...                США   \n",
       "5                              Киностудия \"Мосфильм\"               СССР   \n",
       "6                              Киностудия \"Мосфильм\"               СССР   \n",
       "7  Юнайтед Артистс, Грин Стрит Филмз, Айкон Интер...                США   \n",
       "8                     Пульсар Продюксьон, ТФ1 Фильм             Франция   \n",
       "9             Киностудия \"Мосфильм\", Телевидение ВНР      СССР, Венгрия   \n",
       "\n",
       "            director                                           producer  \\\n",
       "0      Кевин Костнер          Дэвид Валдес, Кевин Костнер, Джейк Эбертс   \n",
       "1          Е.Матвеев                                                NaN   \n",
       "2  Тимур Бекмамбетов  Джим Лемли, Джейсон Нетер, Марк Е.Платт, Яйн Смит   \n",
       "3  Тимур Бекмамбетов  Джим Лемли, Джейсон Нетер, Марк Е.Платт, Яйн Смит   \n",
       "4  Тимур Бекмамбетов  Джим Лемли, Джейсон Нетер, Марк Е.Платт, Яйн Смит   \n",
       "5       В.Абдрашитов                                                NaN   \n",
       "6          В.Меньшов                                                NaN   \n",
       "7      Джон Туртурро                        Джон Пенотти, Джон Туртурро   \n",
       "8       Эрик Беснард                                        Патрис Леду   \n",
       "9            В.Титов                                                NaN   \n",
       "\n",
       "                   age_restriction  refundable_support  nonrefundable_support  \\\n",
       "0      «18+» - запрещено для детей                 NaN                    NaN   \n",
       "1    «6+» - для детей старше 6 лет                 NaN                    NaN   \n",
       "2      «18+» - запрещено для детей                 NaN                    NaN   \n",
       "3      «18+» - запрещено для детей                 NaN                    NaN   \n",
       "4      «18+» - запрещено для детей                 NaN                    NaN   \n",
       "5    «6+» - для детей старше 6 лет                 NaN                    NaN   \n",
       "6  «12+» - для детей старше 12 лет                 NaN                    NaN   \n",
       "7      «18+» - запрещено для детей                 NaN                    NaN   \n",
       "8      «18+» - запрещено для детей                 NaN                    NaN   \n",
       "9  «12+» - для детей старше 12 лет                 NaN                    NaN   \n",
       "\n",
       "   budget financing_source ratings                     genres  box_office  \n",
       "0     NaN              NaN     7.2     боевик,драма,мелодрама         NaN  \n",
       "1     NaN              NaN     6.6              драма,военный         NaN  \n",
       "2     NaN              NaN     6.8  фантастика,боевик,триллер         NaN  \n",
       "3     NaN              NaN     6.8  фантастика,боевик,триллер         NaN  \n",
       "4     NaN              NaN     6.8  фантастика,боевик,триллер         NaN  \n",
       "5     NaN              NaN     7.7                      драма         NaN  \n",
       "6     NaN              NaN     8.3          мелодрама,комедия      2700.0  \n",
       "7     NaN              NaN     6.6   мюзикл,мелодрама,комедия         NaN  \n",
       "8     NaN              NaN     8.0           комедия,криминал         NaN  \n",
       "9     NaN              NaN     7.8          мелодрама,комедия         NaN  "
      ]
     },
     "execution_count": 9,
     "metadata": {},
     "output_type": "execute_result"
    }
   ],
   "source": [
    "data.head(10)"
   ]
  },
  {
   "cell_type": "markdown",
   "metadata": {},
   "source": [
    "**Проверив данные мы видим, что в Датафрейме data есть выбивающееся значение номера прокатоного удостоверения, видимо кто-то зашёл без него, поэтому мы заменили строковое значение числовым и соединили таблицы**\n",
    "*Комментарий для ревьюера: я попробовал оба варианта, более долгий с предобработкой выбитого значения и метод который бы просто совместил таблицы, но обработать для дальнейшего анализа пришлось бы потом так или иначе*"
   ]
  },
  {
   "cell_type": "code",
   "execution_count": 10,
   "metadata": {
    "id": "kVGSplJOgFyO",
    "scrolled": true
   },
   "outputs": [
    {
     "name": "stdout",
     "output_type": "stream",
     "text": [
      "<class 'pandas.core.frame.DataFrame'>\n",
      "Int64Index: 7486 entries, 0 to 7485\n",
      "Data columns (total 16 columns):\n",
      " #   Column                 Non-Null Count  Dtype  \n",
      "---  ------                 --------------  -----  \n",
      " 0   title                  7486 non-null   object \n",
      " 1   puNumber               7486 non-null   int64  \n",
      " 2   show_start_date        7486 non-null   object \n",
      " 3   type                   7486 non-null   object \n",
      " 4   film_studio            7468 non-null   object \n",
      " 5   production_country     7484 non-null   object \n",
      " 6   director               7477 non-null   object \n",
      " 7   producer               6918 non-null   object \n",
      " 8   age_restriction        7486 non-null   object \n",
      " 9   refundable_support     332 non-null    float64\n",
      " 10  nonrefundable_support  332 non-null    float64\n",
      " 11  budget                 332 non-null    float64\n",
      " 12  financing_source       332 non-null    object \n",
      " 13  ratings                6519 non-null   object \n",
      " 14  genres                 6510 non-null   object \n",
      " 15  box_office             3158 non-null   float64\n",
      "dtypes: float64(4), int64(1), object(11)\n",
      "memory usage: 994.2+ KB\n"
     ]
    }
   ],
   "source": [
    "data.info()"
   ]
  },
  {
   "cell_type": "code",
   "execution_count": 11,
   "metadata": {},
   "outputs": [],
   "source": [
    "data['ratings'] = data['ratings'].replace('%', '', regex=True).astype(float)"
   ]
  },
  {
   "cell_type": "code",
   "execution_count": 12,
   "metadata": {},
   "outputs": [],
   "source": [
    "data = data.dropna(subset = ['ratings']).reset_index()\n",
    "data['ratings'] = data['ratings']"
   ]
  },
  {
   "cell_type": "code",
   "execution_count": 13,
   "metadata": {},
   "outputs": [
    {
     "data": {
      "text/plain": [
       "array([ 7.2,  6.6,  6.8,  7.7,  8.3,  8. ,  7.8,  8.1,  7.1,  6. ,  7.4,\n",
       "        5.8,  8.7,  6.3,  6.9,  5. ,  4.3,  7.3,  7. ,  6.4,  8.2,  7.5,\n",
       "        6.7,  7.9,  5.9,  6.2,  5.6,  6.5,  2.4,  7.6,  6.1,  8.6,  8.5,\n",
       "        8.8,  5.5,  5.1,  5.7,  5.4, 99. ,  4.4,  4.5,  5.3,  4.1,  8.4,\n",
       "        2.6,  3.8,  4.6,  4.8,  4. ,  3. ,  1.6,  4.2,  5.2,  4.7,  4.9,\n",
       "        3.9,  2.7,  3.3,  2.9, 28. ,  3.7,  1.4,  3.1, 97. ,  3.5,  3.2,\n",
       "        2.8,  1.5,  2.1,  2.5,  9.2,  3.4,  1.1,  3.6, 83. , 64. , 91. ,\n",
       "       94. , 62. , 79. , 90. , 19. , 88. ,  1. , 89. ,  1.3,  1.9,  1.8,\n",
       "        1.2,  1.7,  9. , 98. ,  8.9,  9.1])"
      ]
     },
     "execution_count": 13,
     "metadata": {},
     "output_type": "execute_result"
    }
   ],
   "source": [
    "data['ratings'].unique()"
   ]
  },
  {
   "cell_type": "code",
   "execution_count": 14,
   "metadata": {},
   "outputs": [],
   "source": [
    "sab = data.query('ratings > 10')['ratings'] / 10"
   ]
  },
  {
   "cell_type": "code",
   "execution_count": 15,
   "metadata": {},
   "outputs": [],
   "source": [
    "data.loc[data['ratings'] > 10, 'ratings'] = sab"
   ]
  },
  {
   "cell_type": "markdown",
   "metadata": {},
   "source": [
    "**В предыдущем шаге мы исправили тип данных колонки 'puNumber' для возможного анализа по номеру удостоверения, тоже самое касается и колонки 'ratings'.**"
   ]
  },
  {
   "cell_type": "code",
   "execution_count": 16,
   "metadata": {},
   "outputs": [],
   "source": [
    "data = data.dropna(subset = ['producer','film_studio' ,'age_restriction', 'production_country', 'director', 'ratings', 'genres']).reset_index()"
   ]
  },
  {
   "cell_type": "code",
   "execution_count": 17,
   "metadata": {},
   "outputs": [
    {
     "name": "stdout",
     "output_type": "stream",
     "text": [
      "Requirement already satisfied: missingno in /opt/conda/lib/python3.9/site-packages (0.5.2)\n",
      "Requirement already satisfied: scipy in /opt/conda/lib/python3.9/site-packages (from missingno) (1.9.1)\n",
      "Requirement already satisfied: seaborn in /opt/conda/lib/python3.9/site-packages (from missingno) (0.11.1)\n",
      "Requirement already satisfied: matplotlib in /opt/conda/lib/python3.9/site-packages (from missingno) (3.3.4)\n",
      "Requirement already satisfied: numpy in /opt/conda/lib/python3.9/site-packages (from missingno) (1.21.1)\n",
      "Requirement already satisfied: cycler>=0.10 in /opt/conda/lib/python3.9/site-packages (from matplotlib->missingno) (0.11.0)\n",
      "Requirement already satisfied: pyparsing!=2.0.4,!=2.1.2,!=2.1.6,>=2.0.3 in /opt/conda/lib/python3.9/site-packages (from matplotlib->missingno) (2.4.7)\n",
      "Requirement already satisfied: pillow>=6.2.0 in /opt/conda/lib/python3.9/site-packages (from matplotlib->missingno) (8.4.0)\n",
      "Requirement already satisfied: kiwisolver>=1.0.1 in /opt/conda/lib/python3.9/site-packages (from matplotlib->missingno) (1.4.4)\n",
      "Requirement already satisfied: python-dateutil>=2.1 in /opt/conda/lib/python3.9/site-packages (from matplotlib->missingno) (2.8.1)\n",
      "Requirement already satisfied: six>=1.5 in /opt/conda/lib/python3.9/site-packages (from python-dateutil>=2.1->matplotlib->missingno) (1.16.0)\n",
      "Requirement already satisfied: pandas>=0.23 in /opt/conda/lib/python3.9/site-packages (from seaborn->missingno) (1.2.4)\n",
      "Requirement already satisfied: pytz>=2017.3 in /opt/conda/lib/python3.9/site-packages (from pandas>=0.23->seaborn->missingno) (2021.1)\n"
     ]
    },
    {
     "data": {
      "text/plain": [
       "<AxesSubplot:>"
      ]
     },
     "execution_count": 17,
     "metadata": {},
     "output_type": "execute_result"
    },
    {
     "data": {
      "image/png": "[encoded data removed]",
      "text/plain": [
       "<Figure size 1800x720 with 3 Axes>"
      ]
     },
     "metadata": {
      "needs_background": "light"
     },
     "output_type": "display_data"
    }
   ],
   "source": [
    "!pip install missingno\n",
    "import missingno as msno\n",
    "msno.bar(data)"
   ]
  },
  {
   "cell_type": "code",
   "execution_count": 18,
   "metadata": {},
   "outputs": [],
   "source": [
    "for col in ['refundable_support', 'nonrefundable_support']:\n",
    "    data[col] = data[col].fillna(0)"
   ]
  },
  {
   "cell_type": "code",
   "execution_count": 19,
   "metadata": {},
   "outputs": [],
   "source": [
    "data['financing_source'] = data['financing_source'].fillna('Отсутствует')"
   ]
  },
  {
   "cell_type": "code",
   "execution_count": 20,
   "metadata": {
    "scrolled": true
   },
   "outputs": [
    {
     "name": "stdout",
     "output_type": "stream",
     "text": [
      "<class 'pandas.core.frame.DataFrame'>\n",
      "RangeIndex: 6025 entries, 0 to 6024\n",
      "Data columns (total 18 columns):\n",
      " #   Column                 Non-Null Count  Dtype  \n",
      "---  ------                 --------------  -----  \n",
      " 0   level_0                6025 non-null   int64  \n",
      " 1   index                  6025 non-null   int64  \n",
      " 2   title                  6025 non-null   object \n",
      " 3   puNumber               6025 non-null   int64  \n",
      " 4   show_start_date        6025 non-null   object \n",
      " 5   type                   6025 non-null   object \n",
      " 6   film_studio            6025 non-null   object \n",
      " 7   production_country     6025 non-null   object \n",
      " 8   director               6025 non-null   object \n",
      " 9   producer               6025 non-null   object \n",
      " 10  age_restriction        6025 non-null   object \n",
      " 11  refundable_support     6025 non-null   float64\n",
      " 12  nonrefundable_support  6025 non-null   float64\n",
      " 13  budget                 314 non-null    float64\n",
      " 14  financing_source       6025 non-null   object \n",
      " 15  ratings                6025 non-null   float64\n",
      " 16  genres                 6025 non-null   object \n",
      " 17  box_office             2800 non-null   float64\n",
      "dtypes: float64(5), int64(3), object(10)\n",
      "memory usage: 847.4+ KB\n"
     ]
    }
   ],
   "source": [
    "data.info()"
   ]
  },
  {
   "cell_type": "markdown",
   "metadata": {},
   "source": [
    "**Мы избавились от пропусков в датафрейме удалив строки в которых было бы невозможно логически заменить значения. В тех столбцах где говорится про гос.поддержку можно логически дойти, что пустые колонки, это фильмы без гос.поддержки, поэтому ставим 0. Так же в соответствующих строках, пишем что фильм не имеет гос.поддержки вместо пропущенного значения**"
   ]
  },
  {
   "cell_type": "code",
   "execution_count": 21,
   "metadata": {},
   "outputs": [
    {
     "data": {
      "text/plain": [
       "2"
      ]
     },
     "execution_count": 21,
     "metadata": {},
     "output_type": "execute_result"
    }
   ],
   "source": [
    "data['puNumber'].duplicated().sum()"
   ]
  },
  {
   "cell_type": "code",
   "execution_count": 22,
   "metadata": {},
   "outputs": [
    {
     "data": {
      "text/html": [
       "<div>\n",
       "<style scoped>\n",
       "    .dataframe tbody tr th:only-of-type {\n",
       "        vertical-align: middle;\n",
       "    }\n",
       "\n",
       "    .dataframe tbody tr th {\n",
       "        vertical-align: top;\n",
       "    }\n",
       "\n",
       "    .dataframe thead th {\n",
       "        text-align: right;\n",
       "    }\n",
       "</style>\n",
       "<table border=\"1\" class=\"dataframe\">\n",
       "  <thead>\n",
       "    <tr style=\"text-align: right;\">\n",
       "      <th></th>\n",
       "      <th>level_0</th>\n",
       "      <th>index</th>\n",
       "      <th>title</th>\n",
       "      <th>puNumber</th>\n",
       "      <th>show_start_date</th>\n",
       "      <th>type</th>\n",
       "      <th>film_studio</th>\n",
       "      <th>production_country</th>\n",
       "      <th>director</th>\n",
       "      <th>producer</th>\n",
       "      <th>age_restriction</th>\n",
       "      <th>refundable_support</th>\n",
       "      <th>nonrefundable_support</th>\n",
       "      <th>budget</th>\n",
       "      <th>financing_source</th>\n",
       "      <th>ratings</th>\n",
       "      <th>genres</th>\n",
       "      <th>box_office</th>\n",
       "    </tr>\n",
       "  </thead>\n",
       "  <tbody>\n",
       "    <tr>\n",
       "      <th>3789</th>\n",
       "      <td>4200</td>\n",
       "      <td>4639</td>\n",
       "      <td>Иоанна - женщина на папском престоле /По роман...</td>\n",
       "      <td>221154310</td>\n",
       "      <td>2010-12-17T12:00:00.000Z</td>\n",
       "      <td>Художественный</td>\n",
       "      <td>Константин Фильм, А Эр Ди Дегето Фильм, Дюне ...</td>\n",
       "      <td>Германия - Великобритания - Италия - Испания</td>\n",
       "      <td>Зенке Вортманн</td>\n",
       "      <td>Оливер Бербен, Дорис Д.Хайнце, Фарук Элтан</td>\n",
       "      <td>«16+» - для детей старше 16 лет</td>\n",
       "      <td>0.0</td>\n",
       "      <td>0.0</td>\n",
       "      <td>NaN</td>\n",
       "      <td>Отсутствует</td>\n",
       "      <td>7.6</td>\n",
       "      <td>драма,мелодрама,история</td>\n",
       "      <td>NaN</td>\n",
       "    </tr>\n",
       "    <tr>\n",
       "      <th>4184</th>\n",
       "      <td>4600</td>\n",
       "      <td>5068</td>\n",
       "      <td>Анализируй то!</td>\n",
       "      <td>221054410</td>\n",
       "      <td>2010-05-25T12:00:00.000Z</td>\n",
       "      <td>Художественный</td>\n",
       "      <td>Уорнер Бразерс, Виллидж Роадшоу Пикчерз, Эн-Пи...</td>\n",
       "      <td>США</td>\n",
       "      <td>Гарольд Реймис</td>\n",
       "      <td>Джейн Розенталь, Паул Уэйнстейн</td>\n",
       "      <td>«12+» - для детей старше 12 лет</td>\n",
       "      <td>0.0</td>\n",
       "      <td>0.0</td>\n",
       "      <td>NaN</td>\n",
       "      <td>Отсутствует</td>\n",
       "      <td>6.8</td>\n",
       "      <td>комедия,криминал</td>\n",
       "      <td>NaN</td>\n",
       "    </tr>\n",
       "  </tbody>\n",
       "</table>\n",
       "</div>"
      ],
      "text/plain": [
       "      level_0  index                                              title  \\\n",
       "3789     4200   4639  Иоанна - женщина на папском престоле /По роман...   \n",
       "4184     4600   5068                                     Анализируй то!   \n",
       "\n",
       "       puNumber           show_start_date            type  \\\n",
       "3789  221154310  2010-12-17T12:00:00.000Z  Художественный   \n",
       "4184  221054410  2010-05-25T12:00:00.000Z  Художественный   \n",
       "\n",
       "                                            film_studio  \\\n",
       "3789   Константин Фильм, А Эр Ди Дегето Фильм, Дюне ...   \n",
       "4184  Уорнер Бразерс, Виллидж Роадшоу Пикчерз, Эн-Пи...   \n",
       "\n",
       "                                production_country        director  \\\n",
       "3789  Германия - Великобритания - Италия - Испания  Зенке Вортманн   \n",
       "4184                                           США  Гарольд Реймис   \n",
       "\n",
       "                                        producer  \\\n",
       "3789  Оливер Бербен, Дорис Д.Хайнце, Фарук Элтан   \n",
       "4184             Джейн Розенталь, Паул Уэйнстейн   \n",
       "\n",
       "                      age_restriction  refundable_support  \\\n",
       "3789  «16+» - для детей старше 16 лет                 0.0   \n",
       "4184  «12+» - для детей старше 12 лет                 0.0   \n",
       "\n",
       "      nonrefundable_support  budget financing_source  ratings  \\\n",
       "3789                    0.0     NaN      Отсутствует      7.6   \n",
       "4184                    0.0     NaN      Отсутствует      6.8   \n",
       "\n",
       "                       genres  box_office  \n",
       "3789  драма,мелодрама,история         NaN  \n",
       "4184         комедия,криминал         NaN  "
      ]
     },
     "execution_count": 22,
     "metadata": {},
     "output_type": "execute_result"
    }
   ],
   "source": [
    "data[data['puNumber'].duplicated()]"
   ]
  },
  {
   "cell_type": "code",
   "execution_count": 23,
   "metadata": {},
   "outputs": [],
   "source": [
    "data.loc[4188, 'puNumber'] = '1'"
   ]
  },
  {
   "cell_type": "code",
   "execution_count": 24,
   "metadata": {},
   "outputs": [],
   "source": [
    "data.loc[3792, 'puNumber'] = '2'"
   ]
  },
  {
   "cell_type": "code",
   "execution_count": 25,
   "metadata": {},
   "outputs": [
    {
     "data": {
      "text/plain": [
       "2"
      ]
     },
     "execution_count": 25,
     "metadata": {},
     "output_type": "execute_result"
    }
   ],
   "source": [
    "data['puNumber'].duplicated().sum()"
   ]
  },
  {
   "cell_type": "markdown",
   "metadata": {},
   "source": [
    "**Было обнаружено два дубликата номера прокатного удостоверения. Они могли возникнуть в следствии человеческого фактора, тот кто заполнял мог вбить дважды один и тот же номер. Среди остальных столбцов нет смысла искать дубликаты, т.к так или иначе они будут повторяться. Поэтому чтобы не удалять дубликаты номеров, я их заменил, чтобы они так же учавствовали в анализе.**"
   ]
  },
  {
   "cell_type": "code",
   "execution_count": 26,
   "metadata": {},
   "outputs": [
    {
     "data": {
      "text/plain": [
       "Художественный                3907\n",
       " Художественный               1181\n",
       "Анимационный                   553\n",
       "Прочие                         195\n",
       "Документальный                 153\n",
       "Научно-популярный               34\n",
       "Музыкально-развлекательный       1\n",
       " Анимационный                    1\n",
       "Name: type, dtype: int64"
      ]
     },
     "execution_count": 26,
     "metadata": {},
     "output_type": "execute_result"
    }
   ],
   "source": [
    "data['type'].value_counts()"
   ]
  },
  {
   "cell_type": "code",
   "execution_count": 27,
   "metadata": {
    "scrolled": true
   },
   "outputs": [
    {
     "data": {
      "text/plain": [
       "array(['Художественный', 'Анимационный', 'Прочие', 'Документальный',\n",
       "       'Научно-популярный', ' Художественный', ' Анимационный',\n",
       "       'Музыкально-развлекательный'], dtype=object)"
      ]
     },
     "execution_count": 27,
     "metadata": {},
     "output_type": "execute_result"
    }
   ],
   "source": [
    "data['type'].unique()"
   ]
  },
  {
   "cell_type": "code",
   "execution_count": 28,
   "metadata": {},
   "outputs": [],
   "source": [
    "data['producer'] = data['producer'].str.strip()"
   ]
  },
  {
   "cell_type": "code",
   "execution_count": 29,
   "metadata": {},
   "outputs": [],
   "source": [
    "for st in  ['title', 'type', 'film_studio', 'production_country', 'director', 'age_restriction', 'genres']:\n",
    "    data[st] = data[st].str.lower()\n",
    "    data[st] = (\n",
    "        data[st]\n",
    "        .str.strip()\n",
    "        .str.replace(' ','_')\n",
    "    )"
   ]
  },
  {
   "cell_type": "code",
   "execution_count": 30,
   "metadata": {},
   "outputs": [
    {
     "name": "stdout",
     "output_type": "stream",
     "text": [
      "[0.00000000e+00 2.65000000e+07 1.07847945e+08 2.80000000e+07\n",
      " 2.50000000e+07 4.65022990e+07 7.50000000e+07 3.40000000e+07\n",
      " 3.00000000e+07 4.00000000e+07 2.30000000e+07 4.50000000e+07\n",
      " 5.65790550e+07 2.55000000e+07 2.75100000e+07 1.00000000e+07\n",
      " 2.40000000e+07 2.45000000e+07 2.70000000e+07 5.00000000e+06\n",
      " 9.00000000e+07 2.60000000e+07 2.00000000e+07 7.00000000e+07\n",
      " 9.70000000e+07 2.44500000e+07 5.00000000e+07 6.00000000e+07\n",
      " 2.75000000e+07 2.69500000e+07 1.10000000e+08 1.00000000e+08\n",
      " 1.50000000e+07 5.90000000e+07 2.50000000e+08 3.70000000e+07\n",
      " 3.50000000e+07 2.01452850e+07 2.59000000e+07 6.00000000e+06\n",
      " 3.92104482e+08 2.52000000e+07 2.29040000e+07 2.90000000e+07\n",
      " 5.10000000e+07 4.70000000e+06 5.30000000e+06 2.17000000e+07\n",
      " 2.49860000e+07 2.53450000e+07 1.33000000e+08 1.75000000e+08\n",
      " 3.01239150e+07 2.85000000e+07 3.00000000e+08 4.15000000e+07\n",
      " 2.00000000e+08 1.50000000e+08 5.50000000e+07 6.40000000e+07\n",
      " 5.00008660e+07 1.15200000e+07 1.90000000e+08 2.25000000e+08\n",
      " 8.00000000e+06 4.00000000e+08 2.60000000e+08 3.10000000e+07\n",
      " 8.50000000e+07 8.00000000e+07 1.20000000e+08 1.30000000e+08\n",
      " 1.40000000e+08 3.00000000e+06]\n",
      "[0.00000000e+00 2.65000000e+07 1.07847945e+08 2.80000000e+07\n",
      " 2.50000000e+07 4.65022990e+07 7.50000000e+07 3.40000000e+07\n",
      " 3.00000000e+07 4.00000000e+07 2.30000000e+07 4.50000000e+07\n",
      " 5.65790550e+07 2.55000000e+07 2.75100000e+07 1.00000000e+07\n",
      " 2.40000000e+07 2.45000000e+07 2.70000000e+07 5.00000000e+06\n",
      " 9.00000000e+07 2.60000000e+07 2.00000000e+07 7.00000000e+07\n",
      " 9.70000000e+07 2.44500000e+07 5.00000000e+07 6.00000000e+07\n",
      " 2.75000000e+07 2.69500000e+07 1.10000000e+08 1.00000000e+08\n",
      " 1.50000000e+07 5.90000000e+07 2.50000000e+08 3.70000000e+07\n",
      " 3.50000000e+07 2.01452850e+07 2.59000000e+07 6.00000000e+06\n",
      " 3.92104482e+08 2.52000000e+07 2.29040000e+07 2.90000000e+07\n",
      " 5.10000000e+07 4.70000000e+06 5.30000000e+06 2.17000000e+07\n",
      " 2.49860000e+07 2.53450000e+07 1.33000000e+08 1.75000000e+08\n",
      " 3.01239150e+07 2.85000000e+07 3.00000000e+08 4.15000000e+07\n",
      " 2.00000000e+08 1.50000000e+08 5.50000000e+07 6.40000000e+07\n",
      " 5.00008660e+07 1.15200000e+07 1.90000000e+08 2.25000000e+08\n",
      " 8.00000000e+06 4.00000000e+08 2.60000000e+08 3.10000000e+07\n",
      " 8.50000000e+07 8.00000000e+07 1.20000000e+08 1.30000000e+08\n",
      " 1.40000000e+08 3.00000000e+06]\n",
      "[0.00000000e+00 2.65000000e+07 1.07847945e+08 2.80000000e+07\n",
      " 2.50000000e+07 4.65022990e+07 7.50000000e+07 3.40000000e+07\n",
      " 3.00000000e+07 4.00000000e+07 2.30000000e+07 4.50000000e+07\n",
      " 5.65790550e+07 2.55000000e+07 2.75100000e+07 1.00000000e+07\n",
      " 2.40000000e+07 2.45000000e+07 2.70000000e+07 5.00000000e+06\n",
      " 9.00000000e+07 2.60000000e+07 2.00000000e+07 7.00000000e+07\n",
      " 9.70000000e+07 2.44500000e+07 5.00000000e+07 6.00000000e+07\n",
      " 2.75000000e+07 2.69500000e+07 1.10000000e+08 1.00000000e+08\n",
      " 1.50000000e+07 5.90000000e+07 2.50000000e+08 3.70000000e+07\n",
      " 3.50000000e+07 2.01452850e+07 2.59000000e+07 6.00000000e+06\n",
      " 3.92104482e+08 2.52000000e+07 2.29040000e+07 2.90000000e+07\n",
      " 5.10000000e+07 4.70000000e+06 5.30000000e+06 2.17000000e+07\n",
      " 2.49860000e+07 2.53450000e+07 1.33000000e+08 1.75000000e+08\n",
      " 3.01239150e+07 2.85000000e+07 3.00000000e+08 4.15000000e+07\n",
      " 2.00000000e+08 1.50000000e+08 5.50000000e+07 6.40000000e+07\n",
      " 5.00008660e+07 1.15200000e+07 1.90000000e+08 2.25000000e+08\n",
      " 8.00000000e+06 4.00000000e+08 2.60000000e+08 3.10000000e+07\n",
      " 8.50000000e+07 8.00000000e+07 1.20000000e+08 1.30000000e+08\n",
      " 1.40000000e+08 3.00000000e+06]\n",
      "[0.00000000e+00 2.65000000e+07 1.07847945e+08 2.80000000e+07\n",
      " 2.50000000e+07 4.65022990e+07 7.50000000e+07 3.40000000e+07\n",
      " 3.00000000e+07 4.00000000e+07 2.30000000e+07 4.50000000e+07\n",
      " 5.65790550e+07 2.55000000e+07 2.75100000e+07 1.00000000e+07\n",
      " 2.40000000e+07 2.45000000e+07 2.70000000e+07 5.00000000e+06\n",
      " 9.00000000e+07 2.60000000e+07 2.00000000e+07 7.00000000e+07\n",
      " 9.70000000e+07 2.44500000e+07 5.00000000e+07 6.00000000e+07\n",
      " 2.75000000e+07 2.69500000e+07 1.10000000e+08 1.00000000e+08\n",
      " 1.50000000e+07 5.90000000e+07 2.50000000e+08 3.70000000e+07\n",
      " 3.50000000e+07 2.01452850e+07 2.59000000e+07 6.00000000e+06\n",
      " 3.92104482e+08 2.52000000e+07 2.29040000e+07 2.90000000e+07\n",
      " 5.10000000e+07 4.70000000e+06 5.30000000e+06 2.17000000e+07\n",
      " 2.49860000e+07 2.53450000e+07 1.33000000e+08 1.75000000e+08\n",
      " 3.01239150e+07 2.85000000e+07 3.00000000e+08 4.15000000e+07\n",
      " 2.00000000e+08 1.50000000e+08 5.50000000e+07 6.40000000e+07\n",
      " 5.00008660e+07 1.15200000e+07 1.90000000e+08 2.25000000e+08\n",
      " 8.00000000e+06 4.00000000e+08 2.60000000e+08 3.10000000e+07\n",
      " 8.50000000e+07 8.00000000e+07 1.20000000e+08 1.30000000e+08\n",
      " 1.40000000e+08 3.00000000e+06]\n",
      "[0.00000000e+00 2.65000000e+07 1.07847945e+08 2.80000000e+07\n",
      " 2.50000000e+07 4.65022990e+07 7.50000000e+07 3.40000000e+07\n",
      " 3.00000000e+07 4.00000000e+07 2.30000000e+07 4.50000000e+07\n",
      " 5.65790550e+07 2.55000000e+07 2.75100000e+07 1.00000000e+07\n",
      " 2.40000000e+07 2.45000000e+07 2.70000000e+07 5.00000000e+06\n",
      " 9.00000000e+07 2.60000000e+07 2.00000000e+07 7.00000000e+07\n",
      " 9.70000000e+07 2.44500000e+07 5.00000000e+07 6.00000000e+07\n",
      " 2.75000000e+07 2.69500000e+07 1.10000000e+08 1.00000000e+08\n",
      " 1.50000000e+07 5.90000000e+07 2.50000000e+08 3.70000000e+07\n",
      " 3.50000000e+07 2.01452850e+07 2.59000000e+07 6.00000000e+06\n",
      " 3.92104482e+08 2.52000000e+07 2.29040000e+07 2.90000000e+07\n",
      " 5.10000000e+07 4.70000000e+06 5.30000000e+06 2.17000000e+07\n",
      " 2.49860000e+07 2.53450000e+07 1.33000000e+08 1.75000000e+08\n",
      " 3.01239150e+07 2.85000000e+07 3.00000000e+08 4.15000000e+07\n",
      " 2.00000000e+08 1.50000000e+08 5.50000000e+07 6.40000000e+07\n",
      " 5.00008660e+07 1.15200000e+07 1.90000000e+08 2.25000000e+08\n",
      " 8.00000000e+06 4.00000000e+08 2.60000000e+08 3.10000000e+07\n",
      " 8.50000000e+07 8.00000000e+07 1.20000000e+08 1.30000000e+08\n",
      " 1.40000000e+08 3.00000000e+06]\n",
      "[0.00000000e+00 2.65000000e+07 1.07847945e+08 2.80000000e+07\n",
      " 2.50000000e+07 4.65022990e+07 7.50000000e+07 3.40000000e+07\n",
      " 3.00000000e+07 4.00000000e+07 2.30000000e+07 4.50000000e+07\n",
      " 5.65790550e+07 2.55000000e+07 2.75100000e+07 1.00000000e+07\n",
      " 2.40000000e+07 2.45000000e+07 2.70000000e+07 5.00000000e+06\n",
      " 9.00000000e+07 2.60000000e+07 2.00000000e+07 7.00000000e+07\n",
      " 9.70000000e+07 2.44500000e+07 5.00000000e+07 6.00000000e+07\n",
      " 2.75000000e+07 2.69500000e+07 1.10000000e+08 1.00000000e+08\n",
      " 1.50000000e+07 5.90000000e+07 2.50000000e+08 3.70000000e+07\n",
      " 3.50000000e+07 2.01452850e+07 2.59000000e+07 6.00000000e+06\n",
      " 3.92104482e+08 2.52000000e+07 2.29040000e+07 2.90000000e+07\n",
      " 5.10000000e+07 4.70000000e+06 5.30000000e+06 2.17000000e+07\n",
      " 2.49860000e+07 2.53450000e+07 1.33000000e+08 1.75000000e+08\n",
      " 3.01239150e+07 2.85000000e+07 3.00000000e+08 4.15000000e+07\n",
      " 2.00000000e+08 1.50000000e+08 5.50000000e+07 6.40000000e+07\n",
      " 5.00008660e+07 1.15200000e+07 1.90000000e+08 2.25000000e+08\n",
      " 8.00000000e+06 4.00000000e+08 2.60000000e+08 3.10000000e+07\n",
      " 8.50000000e+07 8.00000000e+07 1.20000000e+08 1.30000000e+08\n",
      " 1.40000000e+08 3.00000000e+06]\n",
      "[0.00000000e+00 2.65000000e+07 1.07847945e+08 2.80000000e+07\n",
      " 2.50000000e+07 4.65022990e+07 7.50000000e+07 3.40000000e+07\n",
      " 3.00000000e+07 4.00000000e+07 2.30000000e+07 4.50000000e+07\n",
      " 5.65790550e+07 2.55000000e+07 2.75100000e+07 1.00000000e+07\n",
      " 2.40000000e+07 2.45000000e+07 2.70000000e+07 5.00000000e+06\n",
      " 9.00000000e+07 2.60000000e+07 2.00000000e+07 7.00000000e+07\n",
      " 9.70000000e+07 2.44500000e+07 5.00000000e+07 6.00000000e+07\n",
      " 2.75000000e+07 2.69500000e+07 1.10000000e+08 1.00000000e+08\n",
      " 1.50000000e+07 5.90000000e+07 2.50000000e+08 3.70000000e+07\n",
      " 3.50000000e+07 2.01452850e+07 2.59000000e+07 6.00000000e+06\n",
      " 3.92104482e+08 2.52000000e+07 2.29040000e+07 2.90000000e+07\n",
      " 5.10000000e+07 4.70000000e+06 5.30000000e+06 2.17000000e+07\n",
      " 2.49860000e+07 2.53450000e+07 1.33000000e+08 1.75000000e+08\n",
      " 3.01239150e+07 2.85000000e+07 3.00000000e+08 4.15000000e+07\n",
      " 2.00000000e+08 1.50000000e+08 5.50000000e+07 6.40000000e+07\n",
      " 5.00008660e+07 1.15200000e+07 1.90000000e+08 2.25000000e+08\n",
      " 8.00000000e+06 4.00000000e+08 2.60000000e+08 3.10000000e+07\n",
      " 8.50000000e+07 8.00000000e+07 1.20000000e+08 1.30000000e+08\n",
      " 1.40000000e+08 3.00000000e+06]\n",
      "[0.00000000e+00 2.65000000e+07 1.07847945e+08 2.80000000e+07\n",
      " 2.50000000e+07 4.65022990e+07 7.50000000e+07 3.40000000e+07\n",
      " 3.00000000e+07 4.00000000e+07 2.30000000e+07 4.50000000e+07\n",
      " 5.65790550e+07 2.55000000e+07 2.75100000e+07 1.00000000e+07\n",
      " 2.40000000e+07 2.45000000e+07 2.70000000e+07 5.00000000e+06\n",
      " 9.00000000e+07 2.60000000e+07 2.00000000e+07 7.00000000e+07\n",
      " 9.70000000e+07 2.44500000e+07 5.00000000e+07 6.00000000e+07\n",
      " 2.75000000e+07 2.69500000e+07 1.10000000e+08 1.00000000e+08\n",
      " 1.50000000e+07 5.90000000e+07 2.50000000e+08 3.70000000e+07\n",
      " 3.50000000e+07 2.01452850e+07 2.59000000e+07 6.00000000e+06\n",
      " 3.92104482e+08 2.52000000e+07 2.29040000e+07 2.90000000e+07\n",
      " 5.10000000e+07 4.70000000e+06 5.30000000e+06 2.17000000e+07\n",
      " 2.49860000e+07 2.53450000e+07 1.33000000e+08 1.75000000e+08\n",
      " 3.01239150e+07 2.85000000e+07 3.00000000e+08 4.15000000e+07\n",
      " 2.00000000e+08 1.50000000e+08 5.50000000e+07 6.40000000e+07\n",
      " 5.00008660e+07 1.15200000e+07 1.90000000e+08 2.25000000e+08\n",
      " 8.00000000e+06 4.00000000e+08 2.60000000e+08 3.10000000e+07\n",
      " 8.50000000e+07 8.00000000e+07 1.20000000e+08 1.30000000e+08\n",
      " 1.40000000e+08 3.00000000e+06]\n"
     ]
    }
   ],
   "source": [
    "for con in ['title', 'type', 'film_studio', 'production_country', 'director', 'producer', 'age_restriction', 'genres']:\n",
    "    print(data[col].unique())"
   ]
  },
  {
   "cell_type": "code",
   "execution_count": 31,
   "metadata": {
    "id": "PnXKIVdFgFyR"
   },
   "outputs": [],
   "source": [
    "for col in ['refundable_support', 'nonrefundable_support']:\n",
    "    data[col] = data[col].fillna(0)"
   ]
  },
  {
   "cell_type": "markdown",
   "metadata": {
    "id": "YbzClBxagFyS"
   },
   "source": [
    "**Чтобы было возможно анализировать данные, мы избавились от лишних пробелов и привели все категоральные данные к змеиному стилю и единому регистру. Так же данные в столбцах про гос.финансирование отсутствующие данные мы заменили на 0, т.к можно логически подумать, что раз не заполнено, значит финансирования не было**"
   ]
  },
  {
   "cell_type": "code",
   "execution_count": 32,
   "metadata": {},
   "outputs": [
    {
     "data": {
      "text/html": [
       "<div>\n",
       "<style scoped>\n",
       "    .dataframe tbody tr th:only-of-type {\n",
       "        vertical-align: middle;\n",
       "    }\n",
       "\n",
       "    .dataframe tbody tr th {\n",
       "        vertical-align: top;\n",
       "    }\n",
       "\n",
       "    .dataframe thead th {\n",
       "        text-align: right;\n",
       "    }\n",
       "</style>\n",
       "<table border=\"1\" class=\"dataframe\">\n",
       "  <thead>\n",
       "    <tr style=\"text-align: right;\">\n",
       "      <th></th>\n",
       "      <th>level_0</th>\n",
       "      <th>index</th>\n",
       "      <th>title</th>\n",
       "      <th>puNumber</th>\n",
       "      <th>show_start_date</th>\n",
       "      <th>type</th>\n",
       "      <th>film_studio</th>\n",
       "      <th>production_country</th>\n",
       "      <th>director</th>\n",
       "      <th>producer</th>\n",
       "      <th>age_restriction</th>\n",
       "      <th>refundable_support</th>\n",
       "      <th>nonrefundable_support</th>\n",
       "      <th>budget</th>\n",
       "      <th>financing_source</th>\n",
       "      <th>ratings</th>\n",
       "      <th>genres</th>\n",
       "      <th>box_office</th>\n",
       "    </tr>\n",
       "  </thead>\n",
       "  <tbody>\n",
       "    <tr>\n",
       "      <th>0</th>\n",
       "      <td>0</td>\n",
       "      <td>0</td>\n",
       "      <td>открытый_простор</td>\n",
       "      <td>221048915</td>\n",
       "      <td>2015-11-27T12:00:00.000Z</td>\n",
       "      <td>художественный</td>\n",
       "      <td>тачстоун_пикчерз,_кобальт_пикчерз,_бикон_пикче...</td>\n",
       "      <td>сша</td>\n",
       "      <td>кевин_костнер</td>\n",
       "      <td>Дэвид Валдес, Кевин Костнер, Джейк Эбертс</td>\n",
       "      <td>«18+»_-_запрещено_для_детей</td>\n",
       "      <td>0.0</td>\n",
       "      <td>0.0</td>\n",
       "      <td>NaN</td>\n",
       "      <td>Отсутствует</td>\n",
       "      <td>7.2</td>\n",
       "      <td>боевик,драма,мелодрама</td>\n",
       "      <td>NaN</td>\n",
       "    </tr>\n",
       "    <tr>\n",
       "      <th>1</th>\n",
       "      <td>2</td>\n",
       "      <td>2</td>\n",
       "      <td>особо_опасен</td>\n",
       "      <td>221038416</td>\n",
       "      <td>2016-10-10T12:00:00.000Z</td>\n",
       "      <td>художественный</td>\n",
       "      <td>юниверсал_пикчерз,_кикстарт_продакшнз,_марк_пл...</td>\n",
       "      <td>сша</td>\n",
       "      <td>тимур_бекмамбетов</td>\n",
       "      <td>Джим Лемли, Джейсон Нетер, Марк Е.Платт, Яйн Смит</td>\n",
       "      <td>«18+»_-_запрещено_для_детей</td>\n",
       "      <td>0.0</td>\n",
       "      <td>0.0</td>\n",
       "      <td>NaN</td>\n",
       "      <td>Отсутствует</td>\n",
       "      <td>6.8</td>\n",
       "      <td>фантастика,боевик,триллер</td>\n",
       "      <td>NaN</td>\n",
       "    </tr>\n",
       "    <tr>\n",
       "      <th>2</th>\n",
       "      <td>3</td>\n",
       "      <td>3</td>\n",
       "      <td>особо_опасен</td>\n",
       "      <td>221026916</td>\n",
       "      <td>2016-06-10T12:00:00.000Z</td>\n",
       "      <td>художественный</td>\n",
       "      <td>юниверсал_пикчерз,_кикстарт_продакшнз,_марк_пл...</td>\n",
       "      <td>сша</td>\n",
       "      <td>тимур_бекмамбетов</td>\n",
       "      <td>Джим Лемли, Джейсон Нетер, Марк Е.Платт, Яйн Смит</td>\n",
       "      <td>«18+»_-_запрещено_для_детей</td>\n",
       "      <td>0.0</td>\n",
       "      <td>0.0</td>\n",
       "      <td>NaN</td>\n",
       "      <td>Отсутствует</td>\n",
       "      <td>6.8</td>\n",
       "      <td>фантастика,боевик,триллер</td>\n",
       "      <td>NaN</td>\n",
       "    </tr>\n",
       "    <tr>\n",
       "      <th>3</th>\n",
       "      <td>4</td>\n",
       "      <td>4</td>\n",
       "      <td>особо_опасен</td>\n",
       "      <td>221030815</td>\n",
       "      <td>2015-07-29T12:00:00.000Z</td>\n",
       "      <td>художественный</td>\n",
       "      <td>юниверсал_пикчерз,_кикстарт_продакшнз,_марк_пл...</td>\n",
       "      <td>сша</td>\n",
       "      <td>тимур_бекмамбетов</td>\n",
       "      <td>Джим Лемли, Джейсон Нетер, Марк Е.Платт, Яйн Смит</td>\n",
       "      <td>«18+»_-_запрещено_для_детей</td>\n",
       "      <td>0.0</td>\n",
       "      <td>0.0</td>\n",
       "      <td>NaN</td>\n",
       "      <td>Отсутствует</td>\n",
       "      <td>6.8</td>\n",
       "      <td>фантастика,боевик,триллер</td>\n",
       "      <td>NaN</td>\n",
       "    </tr>\n",
       "    <tr>\n",
       "      <th>4</th>\n",
       "      <td>7</td>\n",
       "      <td>7</td>\n",
       "      <td>любовь_и_сигареты</td>\n",
       "      <td>221074614</td>\n",
       "      <td>2014-12-29T12:00:00.000Z</td>\n",
       "      <td>художественный</td>\n",
       "      <td>юнайтед_артистс,_грин_стрит_филмз,_айкон_интер...</td>\n",
       "      <td>сша</td>\n",
       "      <td>джон_туртурро</td>\n",
       "      <td>Джон Пенотти, Джон Туртурро</td>\n",
       "      <td>«18+»_-_запрещено_для_детей</td>\n",
       "      <td>0.0</td>\n",
       "      <td>0.0</td>\n",
       "      <td>NaN</td>\n",
       "      <td>Отсутствует</td>\n",
       "      <td>6.6</td>\n",
       "      <td>мюзикл,мелодрама,комедия</td>\n",
       "      <td>NaN</td>\n",
       "    </tr>\n",
       "  </tbody>\n",
       "</table>\n",
       "</div>"
      ],
      "text/plain": [
       "   level_0  index              title   puNumber           show_start_date  \\\n",
       "0        0      0   открытый_простор  221048915  2015-11-27T12:00:00.000Z   \n",
       "1        2      2       особо_опасен  221038416  2016-10-10T12:00:00.000Z   \n",
       "2        3      3       особо_опасен  221026916  2016-06-10T12:00:00.000Z   \n",
       "3        4      4       особо_опасен  221030815  2015-07-29T12:00:00.000Z   \n",
       "4        7      7  любовь_и_сигареты  221074614  2014-12-29T12:00:00.000Z   \n",
       "\n",
       "             type                                        film_studio  \\\n",
       "0  художественный  тачстоун_пикчерз,_кобальт_пикчерз,_бикон_пикче...   \n",
       "1  художественный  юниверсал_пикчерз,_кикстарт_продакшнз,_марк_пл...   \n",
       "2  художественный  юниверсал_пикчерз,_кикстарт_продакшнз,_марк_пл...   \n",
       "3  художественный  юниверсал_пикчерз,_кикстарт_продакшнз,_марк_пл...   \n",
       "4  художественный  юнайтед_артистс,_грин_стрит_филмз,_айкон_интер...   \n",
       "\n",
       "  production_country           director  \\\n",
       "0                сша      кевин_костнер   \n",
       "1                сша  тимур_бекмамбетов   \n",
       "2                сша  тимур_бекмамбетов   \n",
       "3                сша  тимур_бекмамбетов   \n",
       "4                сша      джон_туртурро   \n",
       "\n",
       "                                            producer  \\\n",
       "0          Дэвид Валдес, Кевин Костнер, Джейк Эбертс   \n",
       "1  Джим Лемли, Джейсон Нетер, Марк Е.Платт, Яйн Смит   \n",
       "2  Джим Лемли, Джейсон Нетер, Марк Е.Платт, Яйн Смит   \n",
       "3  Джим Лемли, Джейсон Нетер, Марк Е.Платт, Яйн Смит   \n",
       "4                        Джон Пенотти, Джон Туртурро   \n",
       "\n",
       "               age_restriction  refundable_support  nonrefundable_support  \\\n",
       "0  «18+»_-_запрещено_для_детей                 0.0                    0.0   \n",
       "1  «18+»_-_запрещено_для_детей                 0.0                    0.0   \n",
       "2  «18+»_-_запрещено_для_детей                 0.0                    0.0   \n",
       "3  «18+»_-_запрещено_для_детей                 0.0                    0.0   \n",
       "4  «18+»_-_запрещено_для_детей                 0.0                    0.0   \n",
       "\n",
       "   budget financing_source  ratings                     genres  box_office  \n",
       "0     NaN      Отсутствует      7.2     боевик,драма,мелодрама         NaN  \n",
       "1     NaN      Отсутствует      6.8  фантастика,боевик,триллер         NaN  \n",
       "2     NaN      Отсутствует      6.8  фантастика,боевик,триллер         NaN  \n",
       "3     NaN      Отсутствует      6.8  фантастика,боевик,триллер         NaN  \n",
       "4     NaN      Отсутствует      6.6   мюзикл,мелодрама,комедия         NaN  "
      ]
     },
     "execution_count": 32,
     "metadata": {},
     "output_type": "execute_result"
    }
   ],
   "source": [
    "data.head(5)"
   ]
  },
  {
   "cell_type": "code",
   "execution_count": 33,
   "metadata": {},
   "outputs": [],
   "source": [
    "data['show_start_date'] = pd.to_datetime(data.show_start_date, dayfirst=True)\n",
    "data['year'] = data['show_start_date'].dt.year"
   ]
  },
  {
   "cell_type": "code",
   "execution_count": 34,
   "metadata": {
    "id": "I-yd1DkWgFyT"
   },
   "outputs": [
    {
     "data": {
      "text/html": [
       "<div>\n",
       "<style scoped>\n",
       "    .dataframe tbody tr th:only-of-type {\n",
       "        vertical-align: middle;\n",
       "    }\n",
       "\n",
       "    .dataframe tbody tr th {\n",
       "        vertical-align: top;\n",
       "    }\n",
       "\n",
       "    .dataframe thead th {\n",
       "        text-align: right;\n",
       "    }\n",
       "</style>\n",
       "<table border=\"1\" class=\"dataframe\">\n",
       "  <thead>\n",
       "    <tr style=\"text-align: right;\">\n",
       "      <th></th>\n",
       "      <th>level_0</th>\n",
       "      <th>index</th>\n",
       "      <th>title</th>\n",
       "      <th>puNumber</th>\n",
       "      <th>show_start_date</th>\n",
       "      <th>type</th>\n",
       "      <th>film_studio</th>\n",
       "      <th>production_country</th>\n",
       "      <th>director</th>\n",
       "      <th>producer</th>\n",
       "      <th>age_restriction</th>\n",
       "      <th>refundable_support</th>\n",
       "      <th>nonrefundable_support</th>\n",
       "      <th>budget</th>\n",
       "      <th>financing_source</th>\n",
       "      <th>ratings</th>\n",
       "      <th>genres</th>\n",
       "      <th>box_office</th>\n",
       "      <th>year</th>\n",
       "    </tr>\n",
       "  </thead>\n",
       "  <tbody>\n",
       "    <tr>\n",
       "      <th>6020</th>\n",
       "      <td>6514</td>\n",
       "      <td>7476</td>\n",
       "      <td>я_свободен</td>\n",
       "      <td>111023019</td>\n",
       "      <td>2019-12-26 12:00:00+00:00</td>\n",
       "      <td>художественный</td>\n",
       "      <td>ао_\"тпо_\"киностудия_им._м.горького\"</td>\n",
       "      <td>россия</td>\n",
       "      <td>и.северов</td>\n",
       "      <td>С.Зернов</td>\n",
       "      <td>«12+»_-_для_детей_старше_12_лет</td>\n",
       "      <td>0.0</td>\n",
       "      <td>30000000.0</td>\n",
       "      <td>46154000.0</td>\n",
       "      <td>Министерство культуры</td>\n",
       "      <td>5.9</td>\n",
       "      <td>драма</td>\n",
       "      <td>NaN</td>\n",
       "      <td>2019</td>\n",
       "    </tr>\n",
       "    <tr>\n",
       "      <th>6021</th>\n",
       "      <td>6515</td>\n",
       "      <td>7477</td>\n",
       "      <td>тридцать</td>\n",
       "      <td>121038419</td>\n",
       "      <td>2019-12-26 12:00:00+00:00</td>\n",
       "      <td>художественный</td>\n",
       "      <td>демнехст_ауф_видео</td>\n",
       "      <td>германия</td>\n",
       "      <td>симона_костова</td>\n",
       "      <td>Джейлан Атаман-Джека</td>\n",
       "      <td>«16+»_-_для_детей_старше_16_лет</td>\n",
       "      <td>0.0</td>\n",
       "      <td>0.0</td>\n",
       "      <td>NaN</td>\n",
       "      <td>Отсутствует</td>\n",
       "      <td>6.3</td>\n",
       "      <td>драма</td>\n",
       "      <td>NaN</td>\n",
       "      <td>2019</td>\n",
       "    </tr>\n",
       "    <tr>\n",
       "      <th>6022</th>\n",
       "      <td>6516</td>\n",
       "      <td>7478</td>\n",
       "      <td>(не)идеальный_мужчина</td>\n",
       "      <td>111023119</td>\n",
       "      <td>2019-12-24 12:00:00+00:00</td>\n",
       "      <td>художественный</td>\n",
       "      <td>ооо_\"нон-стоп_продакшн\"</td>\n",
       "      <td>россия</td>\n",
       "      <td>м.бальчюнас_(псевдоним_м.вайсберг)</td>\n",
       "      <td>С.Мелькумов, А.Роднянский, М.Вайсберг, Р.Минас...</td>\n",
       "      <td>«12+»_-_для_детей_старше_12_лет</td>\n",
       "      <td>40000000.0</td>\n",
       "      <td>60000000.0</td>\n",
       "      <td>150147502.0</td>\n",
       "      <td>Фонд кино</td>\n",
       "      <td>4.5</td>\n",
       "      <td>комедия,фантастика,мелодрама</td>\n",
       "      <td>NaN</td>\n",
       "      <td>2019</td>\n",
       "    </tr>\n",
       "    <tr>\n",
       "      <th>6023</th>\n",
       "      <td>6517</td>\n",
       "      <td>7482</td>\n",
       "      <td>звериная_ярость</td>\n",
       "      <td>121037819</td>\n",
       "      <td>2019-12-24 12:00:00+00:00</td>\n",
       "      <td>художественный</td>\n",
       "      <td>дэниел_гродник_продакшнз,_вандерфилм_медиа_кор...</td>\n",
       "      <td>сша</td>\n",
       "      <td>ник_пауэлл</td>\n",
       "      <td>Джефф Боулер, Дэниэл Гродник, Луильо Руис, Брэ...</td>\n",
       "      <td>«16+»_-_для_детей_старше_16_лет</td>\n",
       "      <td>0.0</td>\n",
       "      <td>0.0</td>\n",
       "      <td>NaN</td>\n",
       "      <td>Отсутствует</td>\n",
       "      <td>5.4</td>\n",
       "      <td>боевик,триллер</td>\n",
       "      <td>NaN</td>\n",
       "      <td>2019</td>\n",
       "    </tr>\n",
       "    <tr>\n",
       "      <th>6024</th>\n",
       "      <td>6518</td>\n",
       "      <td>7485</td>\n",
       "      <td>машины_песенки._серия_\"когда_цветут_кактусы\"</td>\n",
       "      <td>124010719</td>\n",
       "      <td>2019-12-30 12:00:00+00:00</td>\n",
       "      <td>анимационный</td>\n",
       "      <td>анимаккорд_лтд.,_ооо_студия_\"анимаккорд\"</td>\n",
       "      <td>республика_кипр,_россия</td>\n",
       "      <td>и.трусов</td>\n",
       "      <td>Д.Ловейко</td>\n",
       "      <td>«0+»_-_для_любой_зрительской_аудитории</td>\n",
       "      <td>0.0</td>\n",
       "      <td>0.0</td>\n",
       "      <td>NaN</td>\n",
       "      <td>Отсутствует</td>\n",
       "      <td>6.3</td>\n",
       "      <td>комедия,вестерн</td>\n",
       "      <td>NaN</td>\n",
       "      <td>2019</td>\n",
       "    </tr>\n",
       "  </tbody>\n",
       "</table>\n",
       "</div>"
      ],
      "text/plain": [
       "      level_0  index                                         title   puNumber  \\\n",
       "6020     6514   7476                                    я_свободен  111023019   \n",
       "6021     6515   7477                                      тридцать  121038419   \n",
       "6022     6516   7478                         (не)идеальный_мужчина  111023119   \n",
       "6023     6517   7482                               звериная_ярость  121037819   \n",
       "6024     6518   7485  машины_песенки._серия_\"когда_цветут_кактусы\"  124010719   \n",
       "\n",
       "               show_start_date            type  \\\n",
       "6020 2019-12-26 12:00:00+00:00  художественный   \n",
       "6021 2019-12-26 12:00:00+00:00  художественный   \n",
       "6022 2019-12-24 12:00:00+00:00  художественный   \n",
       "6023 2019-12-24 12:00:00+00:00  художественный   \n",
       "6024 2019-12-30 12:00:00+00:00    анимационный   \n",
       "\n",
       "                                            film_studio  \\\n",
       "6020                ао_\"тпо_\"киностудия_им._м.горького\"   \n",
       "6021                                 демнехст_ауф_видео   \n",
       "6022                            ооо_\"нон-стоп_продакшн\"   \n",
       "6023  дэниел_гродник_продакшнз,_вандерфилм_медиа_кор...   \n",
       "6024           анимаккорд_лтд.,_ооо_студия_\"анимаккорд\"   \n",
       "\n",
       "           production_country                            director  \\\n",
       "6020                   россия                           и.северов   \n",
       "6021                 германия                      симона_костова   \n",
       "6022                   россия  м.бальчюнас_(псевдоним_м.вайсберг)   \n",
       "6023                      сша                          ник_пауэлл   \n",
       "6024  республика_кипр,_россия                            и.трусов   \n",
       "\n",
       "                                               producer  \\\n",
       "6020                                           С.Зернов   \n",
       "6021                               Джейлан Атаман-Джека   \n",
       "6022  С.Мелькумов, А.Роднянский, М.Вайсберг, Р.Минас...   \n",
       "6023  Джефф Боулер, Дэниэл Гродник, Луильо Руис, Брэ...   \n",
       "6024                                          Д.Ловейко   \n",
       "\n",
       "                             age_restriction  refundable_support  \\\n",
       "6020         «12+»_-_для_детей_старше_12_лет                 0.0   \n",
       "6021         «16+»_-_для_детей_старше_16_лет                 0.0   \n",
       "6022         «12+»_-_для_детей_старше_12_лет          40000000.0   \n",
       "6023         «16+»_-_для_детей_старше_16_лет                 0.0   \n",
       "6024  «0+»_-_для_любой_зрительской_аудитории                 0.0   \n",
       "\n",
       "      nonrefundable_support       budget       financing_source  ratings  \\\n",
       "6020             30000000.0   46154000.0  Министерство культуры      5.9   \n",
       "6021                    0.0          NaN            Отсутствует      6.3   \n",
       "6022             60000000.0  150147502.0              Фонд кино      4.5   \n",
       "6023                    0.0          NaN            Отсутствует      5.4   \n",
       "6024                    0.0          NaN            Отсутствует      6.3   \n",
       "\n",
       "                            genres  box_office  year  \n",
       "6020                         драма         NaN  2019  \n",
       "6021                         драма         NaN  2019  \n",
       "6022  комедия,фантастика,мелодрама         NaN  2019  \n",
       "6023                боевик,триллер         NaN  2019  \n",
       "6024               комедия,вестерн         NaN  2019  "
      ]
     },
     "execution_count": 34,
     "metadata": {},
     "output_type": "execute_result"
    }
   ],
   "source": [
    "data.tail(5)"
   ]
  },
  {
   "cell_type": "markdown",
   "metadata": {
    "id": "nFTDLDYOgFyT"
   },
   "source": [
    "- Создайте два столбца: с именем и фамилией главного режиссёра и основным жанром фильма. В столбцы войдут первые значения из списка режиссёров и жанров соответственно.\n",
    "\n",
    "<div id=\"accordion\">\n",
    "    <div class=\"card\">\n",
    "        <div class=\"card-header\" id=\"headingThree\">\n",
    "            <button class=\"btn btn-link collapsed\" data-toggle=\"collapse\" data-target=\"#collapseHint_2\" aria-expanded=\"false\" aria-controls=\"collapseHint_2\">Подсказка</button>\n",
    "        </div>\n",
    "        <div id=\"collapseHint_2\" class=\"collapse\" aria-labelledby=\"headingThree\" data-parent=\"#accordion\">\n",
    "            <div class=\"card-body\">\n",
    "Чтобы создать такие столбцы, лучше всего использовать собственную функцию. Эту функцию можно применить к двум столбцам сразу. \n",
    "            </div>\n",
    "        </div>\n",
    "    </div>\n",
    "</div>"
   ]
  },
  {
   "cell_type": "code",
   "execution_count": 35,
   "metadata": {},
   "outputs": [],
   "source": [
    "def main(row):\n",
    "    values = row.split(',')\n",
    "    return values[0]\n",
    "data['main_producer'] = data['producer'].apply(main)\n",
    "data['main_genre'] = data['genres'].apply(main)"
   ]
  },
  {
   "cell_type": "code",
   "execution_count": 36,
   "metadata": {
    "scrolled": true
   },
   "outputs": [
    {
     "data": {
      "text/html": [
       "<div>\n",
       "<style scoped>\n",
       "    .dataframe tbody tr th:only-of-type {\n",
       "        vertical-align: middle;\n",
       "    }\n",
       "\n",
       "    .dataframe tbody tr th {\n",
       "        vertical-align: top;\n",
       "    }\n",
       "\n",
       "    .dataframe thead th {\n",
       "        text-align: right;\n",
       "    }\n",
       "</style>\n",
       "<table border=\"1\" class=\"dataframe\">\n",
       "  <thead>\n",
       "    <tr style=\"text-align: right;\">\n",
       "      <th></th>\n",
       "      <th>level_0</th>\n",
       "      <th>index</th>\n",
       "      <th>title</th>\n",
       "      <th>puNumber</th>\n",
       "      <th>show_start_date</th>\n",
       "      <th>type</th>\n",
       "      <th>film_studio</th>\n",
       "      <th>production_country</th>\n",
       "      <th>director</th>\n",
       "      <th>producer</th>\n",
       "      <th>...</th>\n",
       "      <th>refundable_support</th>\n",
       "      <th>nonrefundable_support</th>\n",
       "      <th>budget</th>\n",
       "      <th>financing_source</th>\n",
       "      <th>ratings</th>\n",
       "      <th>genres</th>\n",
       "      <th>box_office</th>\n",
       "      <th>year</th>\n",
       "      <th>main_producer</th>\n",
       "      <th>main_genre</th>\n",
       "    </tr>\n",
       "  </thead>\n",
       "  <tbody>\n",
       "    <tr>\n",
       "      <th>0</th>\n",
       "      <td>0</td>\n",
       "      <td>0</td>\n",
       "      <td>открытый_простор</td>\n",
       "      <td>221048915</td>\n",
       "      <td>2015-11-27 12:00:00+00:00</td>\n",
       "      <td>художественный</td>\n",
       "      <td>тачстоун_пикчерз,_кобальт_пикчерз,_бикон_пикче...</td>\n",
       "      <td>сша</td>\n",
       "      <td>кевин_костнер</td>\n",
       "      <td>Дэвид Валдес, Кевин Костнер, Джейк Эбертс</td>\n",
       "      <td>...</td>\n",
       "      <td>0.0</td>\n",
       "      <td>0.0</td>\n",
       "      <td>NaN</td>\n",
       "      <td>Отсутствует</td>\n",
       "      <td>7.2</td>\n",
       "      <td>боевик,драма,мелодрама</td>\n",
       "      <td>NaN</td>\n",
       "      <td>2015</td>\n",
       "      <td>Дэвид Валдес</td>\n",
       "      <td>боевик</td>\n",
       "    </tr>\n",
       "    <tr>\n",
       "      <th>1</th>\n",
       "      <td>2</td>\n",
       "      <td>2</td>\n",
       "      <td>особо_опасен</td>\n",
       "      <td>221038416</td>\n",
       "      <td>2016-10-10 12:00:00+00:00</td>\n",
       "      <td>художественный</td>\n",
       "      <td>юниверсал_пикчерз,_кикстарт_продакшнз,_марк_пл...</td>\n",
       "      <td>сша</td>\n",
       "      <td>тимур_бекмамбетов</td>\n",
       "      <td>Джим Лемли, Джейсон Нетер, Марк Е.Платт, Яйн Смит</td>\n",
       "      <td>...</td>\n",
       "      <td>0.0</td>\n",
       "      <td>0.0</td>\n",
       "      <td>NaN</td>\n",
       "      <td>Отсутствует</td>\n",
       "      <td>6.8</td>\n",
       "      <td>фантастика,боевик,триллер</td>\n",
       "      <td>NaN</td>\n",
       "      <td>2016</td>\n",
       "      <td>Джим Лемли</td>\n",
       "      <td>фантастика</td>\n",
       "    </tr>\n",
       "    <tr>\n",
       "      <th>2</th>\n",
       "      <td>3</td>\n",
       "      <td>3</td>\n",
       "      <td>особо_опасен</td>\n",
       "      <td>221026916</td>\n",
       "      <td>2016-06-10 12:00:00+00:00</td>\n",
       "      <td>художественный</td>\n",
       "      <td>юниверсал_пикчерз,_кикстарт_продакшнз,_марк_пл...</td>\n",
       "      <td>сша</td>\n",
       "      <td>тимур_бекмамбетов</td>\n",
       "      <td>Джим Лемли, Джейсон Нетер, Марк Е.Платт, Яйн Смит</td>\n",
       "      <td>...</td>\n",
       "      <td>0.0</td>\n",
       "      <td>0.0</td>\n",
       "      <td>NaN</td>\n",
       "      <td>Отсутствует</td>\n",
       "      <td>6.8</td>\n",
       "      <td>фантастика,боевик,триллер</td>\n",
       "      <td>NaN</td>\n",
       "      <td>2016</td>\n",
       "      <td>Джим Лемли</td>\n",
       "      <td>фантастика</td>\n",
       "    </tr>\n",
       "    <tr>\n",
       "      <th>3</th>\n",
       "      <td>4</td>\n",
       "      <td>4</td>\n",
       "      <td>особо_опасен</td>\n",
       "      <td>221030815</td>\n",
       "      <td>2015-07-29 12:00:00+00:00</td>\n",
       "      <td>художественный</td>\n",
       "      <td>юниверсал_пикчерз,_кикстарт_продакшнз,_марк_пл...</td>\n",
       "      <td>сша</td>\n",
       "      <td>тимур_бекмамбетов</td>\n",
       "      <td>Джим Лемли, Джейсон Нетер, Марк Е.Платт, Яйн Смит</td>\n",
       "      <td>...</td>\n",
       "      <td>0.0</td>\n",
       "      <td>0.0</td>\n",
       "      <td>NaN</td>\n",
       "      <td>Отсутствует</td>\n",
       "      <td>6.8</td>\n",
       "      <td>фантастика,боевик,триллер</td>\n",
       "      <td>NaN</td>\n",
       "      <td>2015</td>\n",
       "      <td>Джим Лемли</td>\n",
       "      <td>фантастика</td>\n",
       "    </tr>\n",
       "    <tr>\n",
       "      <th>4</th>\n",
       "      <td>7</td>\n",
       "      <td>7</td>\n",
       "      <td>любовь_и_сигареты</td>\n",
       "      <td>221074614</td>\n",
       "      <td>2014-12-29 12:00:00+00:00</td>\n",
       "      <td>художественный</td>\n",
       "      <td>юнайтед_артистс,_грин_стрит_филмз,_айкон_интер...</td>\n",
       "      <td>сша</td>\n",
       "      <td>джон_туртурро</td>\n",
       "      <td>Джон Пенотти, Джон Туртурро</td>\n",
       "      <td>...</td>\n",
       "      <td>0.0</td>\n",
       "      <td>0.0</td>\n",
       "      <td>NaN</td>\n",
       "      <td>Отсутствует</td>\n",
       "      <td>6.6</td>\n",
       "      <td>мюзикл,мелодрама,комедия</td>\n",
       "      <td>NaN</td>\n",
       "      <td>2014</td>\n",
       "      <td>Джон Пенотти</td>\n",
       "      <td>мюзикл</td>\n",
       "    </tr>\n",
       "  </tbody>\n",
       "</table>\n",
       "<p>5 rows × 21 columns</p>\n",
       "</div>"
      ],
      "text/plain": [
       "   level_0  index              title   puNumber           show_start_date  \\\n",
       "0        0      0   открытый_простор  221048915 2015-11-27 12:00:00+00:00   \n",
       "1        2      2       особо_опасен  221038416 2016-10-10 12:00:00+00:00   \n",
       "2        3      3       особо_опасен  221026916 2016-06-10 12:00:00+00:00   \n",
       "3        4      4       особо_опасен  221030815 2015-07-29 12:00:00+00:00   \n",
       "4        7      7  любовь_и_сигареты  221074614 2014-12-29 12:00:00+00:00   \n",
       "\n",
       "             type                                        film_studio  \\\n",
       "0  художественный  тачстоун_пикчерз,_кобальт_пикчерз,_бикон_пикче...   \n",
       "1  художественный  юниверсал_пикчерз,_кикстарт_продакшнз,_марк_пл...   \n",
       "2  художественный  юниверсал_пикчерз,_кикстарт_продакшнз,_марк_пл...   \n",
       "3  художественный  юниверсал_пикчерз,_кикстарт_продакшнз,_марк_пл...   \n",
       "4  художественный  юнайтед_артистс,_грин_стрит_филмз,_айкон_интер...   \n",
       "\n",
       "  production_country           director  \\\n",
       "0                сша      кевин_костнер   \n",
       "1                сша  тимур_бекмамбетов   \n",
       "2                сша  тимур_бекмамбетов   \n",
       "3                сша  тимур_бекмамбетов   \n",
       "4                сша      джон_туртурро   \n",
       "\n",
       "                                            producer  ... refundable_support  \\\n",
       "0          Дэвид Валдес, Кевин Костнер, Джейк Эбертс  ...                0.0   \n",
       "1  Джим Лемли, Джейсон Нетер, Марк Е.Платт, Яйн Смит  ...                0.0   \n",
       "2  Джим Лемли, Джейсон Нетер, Марк Е.Платт, Яйн Смит  ...                0.0   \n",
       "3  Джим Лемли, Джейсон Нетер, Марк Е.Платт, Яйн Смит  ...                0.0   \n",
       "4                        Джон Пенотти, Джон Туртурро  ...                0.0   \n",
       "\n",
       "   nonrefundable_support  budget  financing_source ratings  \\\n",
       "0                    0.0     NaN       Отсутствует     7.2   \n",
       "1                    0.0     NaN       Отсутствует     6.8   \n",
       "2                    0.0     NaN       Отсутствует     6.8   \n",
       "3                    0.0     NaN       Отсутствует     6.8   \n",
       "4                    0.0     NaN       Отсутствует     6.6   \n",
       "\n",
       "                      genres box_office  year  main_producer  main_genre  \n",
       "0     боевик,драма,мелодрама        NaN  2015   Дэвид Валдес      боевик  \n",
       "1  фантастика,боевик,триллер        NaN  2016     Джим Лемли  фантастика  \n",
       "2  фантастика,боевик,триллер        NaN  2016     Джим Лемли  фантастика  \n",
       "3  фантастика,боевик,триллер        NaN  2015     Джим Лемли  фантастика  \n",
       "4   мюзикл,мелодрама,комедия        NaN  2014   Джон Пенотти      мюзикл  \n",
       "\n",
       "[5 rows x 21 columns]"
      ]
     },
     "execution_count": 36,
     "metadata": {},
     "output_type": "execute_result"
    }
   ],
   "source": [
    "data.head(5)"
   ]
  },
  {
   "cell_type": "markdown",
   "metadata": {
    "id": "LV6qFuZLgFyV"
   },
   "source": [
    "**Сделав функцию мы вывели главных Продюсеров и основные жанры фильмов (для справки хотел отметить, что если я правильно понимаю задание, то там пишется режисёров, а Режисёров тут итак по одному значению, возможно имелось ввиду продюссеров)**"
   ]
  },
  {
   "cell_type": "markdown",
   "metadata": {
    "id": "1FsCXHwdgFyU"
   },
   "source": [
    "- Посчитайте, какую долю от общего бюджета фильма составляет государственная поддержка."
   ]
  },
  {
   "cell_type": "code",
   "execution_count": 37,
   "metadata": {},
   "outputs": [],
   "source": [
    "data['fund_piec'] = (data['refundable_support'] + data['nonrefundable_support']) / data['budget']"
   ]
  },
  {
   "cell_type": "code",
   "execution_count": 38,
   "metadata": {},
   "outputs": [],
   "source": [
    "fund_piec = data.dropna(subset = ['fund_piec']).head(5)"
   ]
  },
  {
   "cell_type": "code",
   "execution_count": 39,
   "metadata": {},
   "outputs": [
    {
     "data": {
      "text/plain": [
       "0.5486824774358487"
      ]
     },
     "execution_count": 39,
     "metadata": {},
     "output_type": "execute_result"
    }
   ],
   "source": [
    "fund_piec['fund_piec'].mean()"
   ]
  },
  {
   "cell_type": "markdown",
   "metadata": {},
   "source": [
    "**В среднем гос.поддержка составляет около половины всего бюджета фильма**"
   ]
  },
  {
   "cell_type": "markdown",
   "metadata": {},
   "source": [
    "**Проведя Предобработку данных, мы подготовили их к дальнейшему анализу. Теперь мы можем спокойно анализировать рейтинг, производить разбивку по году выпуска, жанрам и режиссёрам. Всё это может нам пригодится в дальнейшем анализе. Так же мы избавились от \"плохих\" данных и пропусков**"
   ]
  },
  {
   "cell_type": "code",
   "execution_count": 40,
   "metadata": {},
   "outputs": [
    {
     "data": {
      "text/plain": [
       "(2010, 2019)"
      ]
     },
     "execution_count": 40,
     "metadata": {},
     "output_type": "execute_result"
    }
   ],
   "source": [
    "data['year'].min(), data['year'].max()"
   ]
  },
  {
   "cell_type": "code",
   "execution_count": 41,
   "metadata": {
    "scrolled": false
   },
   "outputs": [
    {
     "data": {
      "text/plain": [
       "<AxesSubplot:title={'center':'Год выхода фильма'}, ylabel='Frequency'>"
      ]
     },
     "execution_count": 41,
     "metadata": {},
     "output_type": "execute_result"
    },
    {
     "data": {
      "image/png": "[encoded data removed]",
      "text/plain": [
       "<Figure size 432x288 with 1 Axes>"
      ]
     },
     "metadata": {
      "needs_background": "light"
     },
     "output_type": "display_data"
    }
   ],
   "source": [
    "data['year'].plot(kind = 'hist', bins = 10, title='Год выхода фильма', grid = True)"
   ]
  },
  {
   "cell_type": "code",
   "execution_count": 42,
   "metadata": {
    "scrolled": false
   },
   "outputs": [
    {
     "data": {
      "text/plain": [
       "<AxesSubplot:title={'center':'Наличие прокатной информации'}, xlabel='year'>"
      ]
     },
     "execution_count": 42,
     "metadata": {},
     "output_type": "execute_result"
    },
    {
     "data": {
      "image/png": "[encoded data removed]",
      "text/plain": [
       "<Figure size 432x288 with 1 Axes>"
      ]
     },
     "metadata": {
      "needs_background": "light"
     },
     "output_type": "display_data"
    }
   ],
   "source": [
    "(\n",
    "    data.pivot_table(index = 'year', values = 'budget', aggfunc = 'count')\n",
    "    .plot(title='Наличие прокатной информации')\n",
    ")"
   ]
  },
  {
   "cell_type": "markdown",
   "metadata": {},
   "source": [
    "**Тут мы можем заметить, что большме всего фильмов выходило в 2010 году, потом их число резко снизилось и постепенно начало повышаться к 2018 году. Так же большая часть отсутствующих данных прокатных данных, так же приходится на 2010 год.**"
   ]
  },
  {
   "cell_type": "markdown",
   "metadata": {
    "id": "BEOdcIrIgFyW"
   },
   "source": [
    "- Изучите, как менялась динамика проката по годам. В каком году сумма сборов была минимальной? А максимальной?"
   ]
  },
  {
   "cell_type": "code",
   "execution_count": 43,
   "metadata": {},
   "outputs": [],
   "source": [
    "pd.set_option('display.float_format', '{:.2f}'.format)\n",
    "#Я воспользовался подсказкой, но честно говоря, интересно, как ещё можно было бы изменить формат выводимых чисел"
   ]
  },
  {
   "cell_type": "code",
   "execution_count": 44,
   "metadata": {},
   "outputs": [],
   "source": [
    "sub = data.query('year < 2014')['box_office']*100\n",
    "data.loc[data['year'] < 2014, 'box_office'] = sub"
   ]
  },
  {
   "cell_type": "code",
   "execution_count": 45,
   "metadata": {},
   "outputs": [
    {
     "data": {
      "text/plain": [
       "year\n",
       "2010     241425400.00\n",
       "2011     204977000.00\n",
       "2012     686249800.00\n",
       "2013    2941964420.00\n",
       "2014    7311223990.30\n",
       "2015   37852586035.37\n",
       "2016   45802307850.76\n",
       "2017   46116786572.50\n",
       "2018   46776164715.43\n",
       "2019   48253561271.12\n",
       "Name: box_office, dtype: float64"
      ]
     },
     "execution_count": 45,
     "metadata": {},
     "output_type": "execute_result"
    }
   ],
   "source": [
    "data.groupby('year')['box_office'].sum()"
   ]
  },
  {
   "cell_type": "code",
   "execution_count": 46,
   "metadata": {},
   "outputs": [],
   "source": [
    "cash = data.query('box_office > 0')\n",
    "cash = cash.dropna(subset = ['box_office'])"
   ]
  },
  {
   "cell_type": "code",
   "execution_count": 47,
   "metadata": {
    "scrolled": true
   },
   "outputs": [
    {
     "data": {
      "text/plain": [
       "count         2783.00\n",
       "mean      84867857.37\n",
       "std      253387489.86\n",
       "min            100.00\n",
       "25%         548360.00\n",
       "50%        3695157.08\n",
       "75%       33437803.32\n",
       "max     3073568690.79\n",
       "Name: box_office, dtype: float64"
      ]
     },
     "execution_count": 47,
     "metadata": {},
     "output_type": "execute_result"
    }
   ],
   "source": [
    "cash['box_office'].describe()"
   ]
  },
  {
   "cell_type": "markdown",
   "metadata": {},
   "source": [
    "**Слишком большая разница, стоит проверить на выбросы**"
   ]
  },
  {
   "cell_type": "code",
   "execution_count": 48,
   "metadata": {},
   "outputs": [
    {
     "data": {
      "text/plain": [
       "{'whiskers': [<matplotlib.lines.Line2D at 0x7fcf52a4f3a0>,\n",
       "  <matplotlib.lines.Line2D at 0x7fcf52a4f700>],\n",
       " 'caps': [<matplotlib.lines.Line2D at 0x7fcf52a4fa60>,\n",
       "  <matplotlib.lines.Line2D at 0x7fcf52a4fdc0>],\n",
       " 'boxes': [<matplotlib.lines.Line2D at 0x7fcf52a4f040>],\n",
       " 'medians': [<matplotlib.lines.Line2D at 0x7fcf52a44160>],\n",
       " 'fliers': [<matplotlib.lines.Line2D at 0x7fcf52a444c0>],\n",
       " 'means': []}"
      ]
     },
     "execution_count": 48,
     "metadata": {},
     "output_type": "execute_result"
    },
    {
     "data": {
      "image/png": "[encoded data removed]",
      "text/plain": [
       "<Figure size 432x288 with 1 Axes>"
      ]
     },
     "metadata": {
      "needs_background": "light"
     },
     "output_type": "display_data"
    }
   ],
   "source": [
    "plt.ylim(0, 80000000)\n",
    "plt.boxplot(cash['box_office'])"
   ]
  },
  {
   "cell_type": "code",
   "execution_count": 49,
   "metadata": {
    "id": "tfEhofYvgFyX",
    "scrolled": true
   },
   "outputs": [
    {
     "data": {
      "text/plain": [
       "<AxesSubplot:title={'center':'Сборы фильмов в каждом году'}, xlabel='year'>"
      ]
     },
     "execution_count": 49,
     "metadata": {},
     "output_type": "execute_result"
    },
    {
     "data": {
      "image/png": "[encoded data removed]",
      "text/plain": [
       "<Figure size 432x288 with 1 Axes>"
      ]
     },
     "metadata": {
      "needs_background": "light"
     },
     "output_type": "display_data"
    }
   ],
   "source": [
    "(\n",
    "    cash\n",
    "    .query('year > 2013')\n",
    "    .pivot_table(index = 'year', values = 'box_office', aggfunc = 'sum')\n",
    "    .plot(grid = True, title='Сборы фильмов в каждом году')\n",
    ")"
   ]
  },
  {
   "cell_type": "markdown",
   "metadata": {},
   "source": [
    "**Судя по динамике прокатных данных, мы видим, что минимальные сборы были в 2014 году были самые маленькие сборы**"
   ]
  },
  {
   "cell_type": "markdown",
   "metadata": {
    "id": "G-7qS-N-gFyY"
   },
   "source": [
    "- С помощью сводной таблицы посчитайте среднюю и медианную сумму сборов для каждого года."
   ]
  },
  {
   "cell_type": "code",
   "execution_count": 50,
   "metadata": {
    "id": "jmp-rgg9gFyY",
    "scrolled": true
   },
   "outputs": [
    {
     "data": {
      "text/plain": [
       "<AxesSubplot:title={'center':'Среднее и медианное значение сборов каждого года'}, xlabel='year'>"
      ]
     },
     "execution_count": 50,
     "metadata": {},
     "output_type": "execute_result"
    },
    {
     "data": {
      "image/png": "[encoded data removed]",
      "text/plain": [
       "<Figure size 432x288 with 1 Axes>"
      ]
     },
     "metadata": {
      "needs_background": "light"
     },
     "output_type": "display_data"
    }
   ],
   "source": [
    "(\n",
    "    cash\n",
    "    .pivot_table(index = 'year', values = 'box_office', aggfunc = ('mean', 'median'))\n",
    "    .plot(title='Среднее и медианное значение сборов каждого года')\n",
    ")"
   ]
  },
  {
   "cell_type": "markdown",
   "metadata": {},
   "source": [
    "**Тут можно наблюдать, что кол-во сборов увеличивалось не переставая с 2010 года, по 2018. В 2019 же сборов стало вдвое меньше чем в предыдущем году. Но при этом есть резкий подъём среднего значения, но при этом плавный подъём медианного. Это может быть из-за вышедших блокбастеров, которые могли иметь астрономические сборы.**"
   ]
  },
  {
   "cell_type": "markdown",
   "metadata": {
    "id": "Ok89WFwJgFyZ"
   },
   "source": [
    "- Определите, влияет ли возрастное ограничение аудитории («6+», «12+», «16+», «18+» и т. д.) на сборы фильма в прокате в период с 2015 по 2019 год? Фильмы с каким возрастным ограничением собрали больше всего денег в прокате? Меняется ли картина в зависимости от года? Если да, предположите, с чем это может быть связано."
   ]
  },
  {
   "cell_type": "code",
   "execution_count": 51,
   "metadata": {
    "scrolled": true
   },
   "outputs": [
    {
     "data": {
      "text/plain": [
       "year\n",
       "2010     241425400.00\n",
       "2011     204977000.00\n",
       "2012     686249800.00\n",
       "2013    2941964420.00\n",
       "2014    7311223990.30\n",
       "2015   37852586035.37\n",
       "2016   45802307850.76\n",
       "2017   46116786572.50\n",
       "2018   46776164715.43\n",
       "2019   48253561271.12\n",
       "Name: box_office, dtype: float64"
      ]
     },
     "execution_count": 51,
     "metadata": {},
     "output_type": "execute_result"
    }
   ],
   "source": [
    "cash.groupby(by = 'year')['box_office'].sum()"
   ]
  },
  {
   "cell_type": "code",
   "execution_count": 52,
   "metadata": {
    "id": "jsSbEqfjgFya"
   },
   "outputs": [
    {
     "data": {
      "text/html": [
       "<div>\n",
       "<style scoped>\n",
       "    .dataframe tbody tr th:only-of-type {\n",
       "        vertical-align: middle;\n",
       "    }\n",
       "\n",
       "    .dataframe tbody tr th {\n",
       "        vertical-align: top;\n",
       "    }\n",
       "\n",
       "    .dataframe thead th {\n",
       "        text-align: right;\n",
       "    }\n",
       "</style>\n",
       "<table border=\"1\" class=\"dataframe\">\n",
       "  <thead>\n",
       "    <tr style=\"text-align: right;\">\n",
       "      <th>year</th>\n",
       "      <th>2015</th>\n",
       "      <th>2016</th>\n",
       "      <th>2017</th>\n",
       "      <th>2018</th>\n",
       "      <th>2019</th>\n",
       "    </tr>\n",
       "    <tr>\n",
       "      <th>age_restriction</th>\n",
       "      <th></th>\n",
       "      <th></th>\n",
       "      <th></th>\n",
       "      <th></th>\n",
       "      <th></th>\n",
       "    </tr>\n",
       "  </thead>\n",
       "  <tbody>\n",
       "    <tr>\n",
       "      <th>«0+»_-_для_любой_зрительской_аудитории</th>\n",
       "      <td>327577365.24</td>\n",
       "      <td>79924770.56</td>\n",
       "      <td>228657142.00</td>\n",
       "      <td>4111901.28</td>\n",
       "      <td>13779632.32</td>\n",
       "    </tr>\n",
       "    <tr>\n",
       "      <th>«12+»_-_для_детей_старше_12_лет</th>\n",
       "      <td>13328485767.21</td>\n",
       "      <td>12187723893.55</td>\n",
       "      <td>7348597446.66</td>\n",
       "      <td>12453262305.68</td>\n",
       "      <td>12663649987.77</td>\n",
       "    </tr>\n",
       "    <tr>\n",
       "      <th>«16+»_-_для_детей_старше_16_лет</th>\n",
       "      <td>11062928961.17</td>\n",
       "      <td>15958033401.51</td>\n",
       "      <td>17840387633.06</td>\n",
       "      <td>15502100973.48</td>\n",
       "      <td>12713458001.99</td>\n",
       "    </tr>\n",
       "    <tr>\n",
       "      <th>«18+»_-_запрещено_для_детей</th>\n",
       "      <td>5269078722.64</td>\n",
       "      <td>6764812402.30</td>\n",
       "      <td>9620582164.02</td>\n",
       "      <td>8729020058.44</td>\n",
       "      <td>10072280971.25</td>\n",
       "    </tr>\n",
       "    <tr>\n",
       "      <th>«6+»_-_для_детей_старше_6_лет</th>\n",
       "      <td>7864515219.11</td>\n",
       "      <td>10811813382.84</td>\n",
       "      <td>11078562186.76</td>\n",
       "      <td>10087669476.55</td>\n",
       "      <td>12790392677.79</td>\n",
       "    </tr>\n",
       "  </tbody>\n",
       "</table>\n",
       "</div>"
      ],
      "text/plain": [
       "year                                             2015           2016  \\\n",
       "age_restriction                                                        \n",
       "«0+»_-_для_любой_зрительской_аудитории   327577365.24    79924770.56   \n",
       "«12+»_-_для_детей_старше_12_лет        13328485767.21 12187723893.55   \n",
       "«16+»_-_для_детей_старше_16_лет        11062928961.17 15958033401.51   \n",
       "«18+»_-_запрещено_для_детей             5269078722.64  6764812402.30   \n",
       "«6+»_-_для_детей_старше_6_лет           7864515219.11 10811813382.84   \n",
       "\n",
       "year                                             2017           2018  \\\n",
       "age_restriction                                                        \n",
       "«0+»_-_для_любой_зрительской_аудитории   228657142.00     4111901.28   \n",
       "«12+»_-_для_детей_старше_12_лет         7348597446.66 12453262305.68   \n",
       "«16+»_-_для_детей_старше_16_лет        17840387633.06 15502100973.48   \n",
       "«18+»_-_запрещено_для_детей             9620582164.02  8729020058.44   \n",
       "«6+»_-_для_детей_старше_6_лет          11078562186.76 10087669476.55   \n",
       "\n",
       "year                                             2019  \n",
       "age_restriction                                        \n",
       "«0+»_-_для_любой_зрительской_аудитории    13779632.32  \n",
       "«12+»_-_для_детей_старше_12_лет        12663649987.77  \n",
       "«16+»_-_для_детей_старше_16_лет        12713458001.99  \n",
       "«18+»_-_запрещено_для_детей            10072280971.25  \n",
       "«6+»_-_для_детей_старше_6_лет          12790392677.79  "
      ]
     },
     "execution_count": 52,
     "metadata": {},
     "output_type": "execute_result"
    }
   ],
   "source": [
    "(\n",
    "    cash\n",
    "    .query('year >= 2015')\n",
    "    .pivot_table(index = 'age_restriction', columns = 'year', values = 'box_office', aggfunc = 'sum')\n",
    ")"
   ]
  },
  {
   "cell_type": "markdown",
   "metadata": {},
   "source": [
    "**Судя по всему, наибольшие сборы собирали фильмы для детей старше 16 лет, наименьшие же фильмы для любой зрительской аудитории. Я так думаю, это из-за того, что 16 лет это наиболее заинтересованная аудитория, плюс фильмы там самые уравновешенные и подходящие для многих, в то время как \"0+\" это чаще всего мультики на столько детские, что подходят только совсем маленьким детям, а \"18+\" чаще всего содержат кадры или высказывания, которые далеко не всем будут приятны. Почти на равне с \"16+\" идёт \"12+\" рейтинг. Фильмы \"12+\" можно считать семейными и на них часто ходят всей семьёй, поэтому они собирают хорошие сборы.**"
   ]
  },
  {
   "cell_type": "code",
   "execution_count": 53,
   "metadata": {},
   "outputs": [],
   "source": [
    "gos = data.query('financing_source != \"Отсутствует\" and budget > 0')"
   ]
  },
  {
   "cell_type": "code",
   "execution_count": 54,
   "metadata": {},
   "outputs": [
    {
     "data": {
      "text/plain": [
       "count          298.00\n",
       "mean     137683808.56\n",
       "std      195645169.98\n",
       "min       14462464.00\n",
       "25%       46168856.75\n",
       "50%       75470538.00\n",
       "75%      154803696.75\n",
       "max     2305074303.00\n",
       "Name: budget, dtype: float64"
      ]
     },
     "execution_count": 54,
     "metadata": {},
     "output_type": "execute_result"
    }
   ],
   "source": [
    "gos['budget'].describe()"
   ]
  },
  {
   "cell_type": "code",
   "execution_count": 55,
   "metadata": {
    "scrolled": true
   },
   "outputs": [
    {
     "data": {
      "text/plain": [
       "<AxesSubplot:title={'center':'Бюджет фильмов с Гос.поддержкой'}, ylabel='Frequency'>"
      ]
     },
     "execution_count": 55,
     "metadata": {},
     "output_type": "execute_result"
    },
    {
     "data": {
      "image/png": "[encoded data removed]",
      "text/plain": [
       "<Figure size 432x288 with 1 Axes>"
      ]
     },
     "metadata": {
      "needs_background": "light"
     },
     "output_type": "display_data"
    }
   ],
   "source": [
    "gos['budget'].plot(kind = 'hist', bins = 100, title='Бюджет фильмов с Гос.поддержкой')"
   ]
  },
  {
   "cell_type": "code",
   "execution_count": 56,
   "metadata": {},
   "outputs": [
    {
     "data": {
      "text/plain": [
       "{'whiskers': [<matplotlib.lines.Line2D at 0x7fcf50c82160>,\n",
       "  <matplotlib.lines.Line2D at 0x7fcf50c824c0>],\n",
       " 'caps': [<matplotlib.lines.Line2D at 0x7fcf50c82820>,\n",
       "  <matplotlib.lines.Line2D at 0x7fcf50c82b80>],\n",
       " 'boxes': [<matplotlib.lines.Line2D at 0x7fcf50c72dc0>],\n",
       " 'medians': [<matplotlib.lines.Line2D at 0x7fcf50c82ee0>],\n",
       " 'fliers': [<matplotlib.lines.Line2D at 0x7fcf50c8c280>],\n",
       " 'means': []}"
      ]
     },
     "execution_count": 56,
     "metadata": {},
     "output_type": "execute_result"
    },
    {
     "data": {
      "image/png": "[encoded data removed]",
      "text/plain": [
       "<Figure size 432x288 with 1 Axes>"
      ]
     },
     "metadata": {
      "needs_background": "light"
     },
     "output_type": "display_data"
    }
   ],
   "source": [
    "plt.ylim(15000000, 300000000)\n",
    "plt.boxplot(gos['budget'])"
   ]
  },
  {
   "cell_type": "code",
   "execution_count": 57,
   "metadata": {
    "scrolled": true
   },
   "outputs": [
    {
     "data": {
      "text/plain": [
       "<AxesSubplot:title={'center':'Бюджет фильмов с Гос.поддержкой'}, ylabel='Frequency'>"
      ]
     },
     "execution_count": 57,
     "metadata": {},
     "output_type": "execute_result"
    },
    {
     "data": {
      "image/png": "[encoded data removed]",
      "text/plain": [
       "<Figure size 432x288 with 1 Axes>"
      ]
     },
     "metadata": {
      "needs_background": "light"
     },
     "output_type": "display_data"
    }
   ],
   "source": [
    "gos['budget'].plot(kind = 'hist',bins = 100, range = (15000000, 300000000), title='Бюджет фильмов с Гос.поддержкой')"
   ]
  },
  {
   "cell_type": "markdown",
   "metadata": {},
   "source": [
    "**Тут мы выяснили, что большая часть фильмов с гос.поддержкой имеет около 15-20млн бюджетных денег**"
   ]
  },
  {
   "cell_type": "code",
   "execution_count": 58,
   "metadata": {},
   "outputs": [
    {
     "data": {
      "text/html": [
       "<div>\n",
       "<style scoped>\n",
       "    .dataframe tbody tr th:only-of-type {\n",
       "        vertical-align: middle;\n",
       "    }\n",
       "\n",
       "    .dataframe tbody tr th {\n",
       "        vertical-align: top;\n",
       "    }\n",
       "\n",
       "    .dataframe thead th {\n",
       "        text-align: right;\n",
       "    }\n",
       "</style>\n",
       "<table border=\"1\" class=\"dataframe\">\n",
       "  <thead>\n",
       "    <tr style=\"text-align: right;\">\n",
       "      <th></th>\n",
       "      <th>box_office</th>\n",
       "    </tr>\n",
       "    <tr>\n",
       "      <th>budget</th>\n",
       "      <th></th>\n",
       "    </tr>\n",
       "  </thead>\n",
       "  <tbody>\n",
       "    <tr>\n",
       "      <th>15010000.00</th>\n",
       "      <td>1957979.50</td>\n",
       "    </tr>\n",
       "    <tr>\n",
       "      <th>18166418.00</th>\n",
       "      <td>270497.00</td>\n",
       "    </tr>\n",
       "    <tr>\n",
       "      <th>27000000.00</th>\n",
       "      <td>1109238.00</td>\n",
       "    </tr>\n",
       "    <tr>\n",
       "      <th>28115580.00</th>\n",
       "      <td>2323980.00</td>\n",
       "    </tr>\n",
       "    <tr>\n",
       "      <th>28571429.00</th>\n",
       "      <td>1572434.50</td>\n",
       "    </tr>\n",
       "    <tr>\n",
       "      <th>...</th>\n",
       "      <td>...</td>\n",
       "    </tr>\n",
       "    <tr>\n",
       "      <th>270000000.00</th>\n",
       "      <td>387590521.72</td>\n",
       "    </tr>\n",
       "    <tr>\n",
       "      <th>287802711.00</th>\n",
       "      <td>51704986.00</td>\n",
       "    </tr>\n",
       "    <tr>\n",
       "      <th>292412422.00</th>\n",
       "      <td>87707397.08</td>\n",
       "    </tr>\n",
       "    <tr>\n",
       "      <th>298500000.00</th>\n",
       "      <td>299260193.31</td>\n",
       "    </tr>\n",
       "    <tr>\n",
       "      <th>300000000.00</th>\n",
       "      <td>76270556.55</td>\n",
       "    </tr>\n",
       "  </tbody>\n",
       "</table>\n",
       "<p>235 rows × 1 columns</p>\n",
       "</div>"
      ],
      "text/plain": [
       "               box_office\n",
       "budget                   \n",
       "15010000.00    1957979.50\n",
       "18166418.00     270497.00\n",
       "27000000.00    1109238.00\n",
       "28115580.00    2323980.00\n",
       "28571429.00    1572434.50\n",
       "...                   ...\n",
       "270000000.00 387590521.72\n",
       "287802711.00  51704986.00\n",
       "292412422.00  87707397.08\n",
       "298500000.00 299260193.31\n",
       "300000000.00  76270556.55\n",
       "\n",
       "[235 rows x 1 columns]"
      ]
     },
     "execution_count": 58,
     "metadata": {},
     "output_type": "execute_result"
    }
   ],
   "source": [
    "(\n",
    "    gos.query('15000000 <= budget <= 300000000')\n",
    "    .pivot_table(index = 'budget', values = 'box_office')\n",
    ")\n"
   ]
  },
  {
   "cell_type": "code",
   "execution_count": 59,
   "metadata": {},
   "outputs": [],
   "source": [
    "def payback (row):\n",
    "    box = row['box_office']\n",
    "    budget = row['budget']\n",
    "    if box >= budget:\n",
    "        return 'окупился'\n",
    "    return 'не_окупился'"
   ]
  },
  {
   "cell_type": "code",
   "execution_count": 60,
   "metadata": {},
   "outputs": [],
   "source": [
    "cash['payback'] = cash.apply(payback, axis =1)"
   ]
  },
  {
   "cell_type": "code",
   "execution_count": 61,
   "metadata": {
    "scrolled": true
   },
   "outputs": [
    {
     "data": {
      "text/plain": [
       "не_окупился    2702\n",
       "окупился         81\n",
       "Name: payback, dtype: int64"
      ]
     },
     "execution_count": 61,
     "metadata": {},
     "output_type": "execute_result"
    }
   ],
   "source": [
    "cash['payback'].value_counts()"
   ]
  },
  {
   "cell_type": "markdown",
   "metadata": {},
   "source": [
    "**Фильмы с гос.поддержкой плохо окупаются, возможно из-за плохого выбора самих фильмов, либо плохим использования бюджета, давайте проверим какие там рейтинги**"
   ]
  },
  {
   "cell_type": "code",
   "execution_count": 62,
   "metadata": {},
   "outputs": [
    {
     "data": {
      "text/plain": [
       "6.3"
      ]
     },
     "execution_count": 62,
     "metadata": {},
     "output_type": "execute_result"
    }
   ],
   "source": [
    "cash['ratings'].median()"
   ]
  },
  {
   "cell_type": "markdown",
   "metadata": {},
   "source": [
    "**Рейтинг фильмов с гос.поддержкой тоже оставляет желать лучшего, Видимо это причина плохой окупаемости**"
   ]
  },
  {
   "cell_type": "code",
   "execution_count": 63,
   "metadata": {
    "scrolled": true
   },
   "outputs": [
    {
     "data": {
      "text/plain": [
       "age_restriction\n",
       "«0+»_-_для_любой_зрительской_аудитории     175\n",
       "«12+»_-_для_детей_старше_12_лет            433\n",
       "«16+»_-_для_детей_старше_16_лет           1011\n",
       "«18+»_-_запрещено_для_детей                838\n",
       "«6+»_-_для_детей_старше_6_лет              326\n",
       "Name: age_restriction, dtype: int64"
      ]
     },
     "execution_count": 63,
     "metadata": {},
     "output_type": "execute_result"
    }
   ],
   "source": [
    "cash.groupby(by = 'age_restriction')['age_restriction'].count()"
   ]
  },
  {
   "cell_type": "markdown",
   "metadata": {},
   "source": [
    "**Мало вложений идёт на фильмы \"семейные\", с возрастной категорией 12+, это было бы хорошим решением**"
   ]
  },
  {
   "cell_type": "code",
   "execution_count": 64,
   "metadata": {
    "scrolled": true
   },
   "outputs": [
    {
     "data": {
      "text/plain": [
       "main_genre\n",
       "короткометражка      1\n",
       "для_взрослых         1\n",
       "реальное_тв          1\n",
       "фильм-нуар           1\n",
       "концерт              2\n",
       "музыка               3\n",
       "вестерн              5\n",
       "спорт                6\n",
       "криминал            15\n",
       "мюзикл              16\n",
       "семейный            18\n",
       "детский             19\n",
       "история             19\n",
       "биография           20\n",
       "военный             21\n",
       "детектив            21\n",
       "аниме               25\n",
       "приключения         31\n",
       "документальный      95\n",
       "мелодрама          108\n",
       "фэнтези            138\n",
       "фантастика         173\n",
       "триллер            214\n",
       "боевик             228\n",
       "ужасы              264\n",
       "мультфильм         336\n",
       "комедия            356\n",
       "драма              646\n",
       "Name: main_genre, dtype: int64"
      ]
     },
     "execution_count": 64,
     "metadata": {},
     "output_type": "execute_result"
    }
   ],
   "source": [
    "cash.groupby(by = 'main_genre')['main_genre'].count().sort_values()"
   ]
  },
  {
   "cell_type": "markdown",
   "metadata": {},
   "source": [
    "**Больше всего средств идёт на спонсирование драмм, что тоже может иметь свои причины плорхой окупаемости**"
   ]
  },
  {
   "cell_type": "code",
   "execution_count": 65,
   "metadata": {
    "scrolled": false
   },
   "outputs": [
    {
     "data": {
      "text/plain": [
       "production_country\n",
       "cша                     1\n",
       "польша                  1\n",
       "франция_-__бельгия      1\n",
       "пакистан                1\n",
       "оаэ_-_сша               1\n",
       "                     ... \n",
       "италия                 47\n",
       "великобритания         75\n",
       "франция               147\n",
       "россия                668\n",
       "сша                   814\n",
       "Name: production_country, Length: 517, dtype: int64"
      ]
     },
     "execution_count": 65,
     "metadata": {},
     "output_type": "execute_result"
    }
   ],
   "source": [
    "cash.groupby(by = 'production_country')['production_country'].count().sort_values()"
   ]
  },
  {
   "cell_type": "markdown",
   "metadata": {},
   "source": [
    "# По итогам анализа стало ясно, что фильмы спонсирующие гос.поддержкой мало того что не сильно интересны зрителю, так ещё и имеют плохой рейтинг и плохую окупаемость. В целом, с каждым годом сборы только увеличиваются. Так же можно заметить динамику развития фильмов для детей (категория 6+) и семейные (категория 12+), эти две категории начали идти на равне с самой кассовой категорией, от чего можно сделать вывод, что в ближайшие годы их сборы будут только расти."
   ]
  }
 ],
 "metadata": {
  "ExecuteTimeLog": [
   {
    "duration": 537,
    "start_time": "2021-07-07T10:12:08.634Z"
   },
   {
    "duration": 206,
    "start_time": "2021-07-07T10:12:30.191Z"
   },
   {
    "duration": 227,
    "start_time": "2021-07-07T10:12:33.078Z"
   },
   {
    "duration": 153,
    "start_time": "2021-07-07T10:13:42.146Z"
   },
   {
    "duration": 233,
    "start_time": "2021-07-07T10:30:09.252Z"
   },
   {
    "duration": 19,
    "start_time": "2021-07-07T10:30:15.577Z"
   },
   {
    "duration": 18,
    "start_time": "2021-07-07T10:30:57.348Z"
   },
   {
    "duration": 19,
    "start_time": "2021-07-07T10:31:17.452Z"
   },
   {
    "duration": 21,
    "start_time": "2021-07-07T10:31:32.227Z"
   },
   {
    "duration": 27,
    "start_time": "2021-07-07T10:32:06.588Z"
   },
   {
    "duration": 23,
    "start_time": "2021-07-07T10:32:43.645Z"
   },
   {
    "duration": 24,
    "start_time": "2021-07-07T10:33:06.948Z"
   },
   {
    "duration": 7,
    "start_time": "2021-07-07T10:33:28.558Z"
   },
   {
    "duration": 23,
    "start_time": "2021-07-07T10:33:43.761Z"
   },
   {
    "duration": 28,
    "start_time": "2021-07-07T10:34:13.466Z"
   },
   {
    "duration": 23,
    "start_time": "2021-07-07T10:35:56.187Z"
   },
   {
    "duration": 6,
    "start_time": "2021-07-07T10:36:48.182Z"
   },
   {
    "duration": 14,
    "start_time": "2021-07-07T10:37:49.641Z"
   },
   {
    "duration": 6,
    "start_time": "2021-07-07T10:38:06.694Z"
   },
   {
    "duration": 6,
    "start_time": "2021-07-07T10:38:13.493Z"
   },
   {
    "duration": 19,
    "start_time": "2021-07-07T10:38:44.056Z"
   },
   {
    "duration": 186,
    "start_time": "2021-07-07T10:48:35.618Z"
   },
   {
    "duration": 24,
    "start_time": "2021-07-07T10:48:51.498Z"
   },
   {
    "duration": 20,
    "start_time": "2021-07-07T10:48:59.415Z"
   },
   {
    "duration": 20,
    "start_time": "2021-07-07T10:53:02.195Z"
   },
   {
    "duration": 188,
    "start_time": "2021-07-07T10:54:40.486Z"
   },
   {
    "duration": 115,
    "start_time": "2021-07-07T10:54:52.552Z"
   },
   {
    "duration": 214,
    "start_time": "2021-07-07T10:54:56.354Z"
   },
   {
    "duration": 47,
    "start_time": "2021-07-07T10:54:58.282Z"
   },
   {
    "duration": 217,
    "start_time": "2021-07-07T10:59:16.075Z"
   },
   {
    "duration": 51,
    "start_time": "2021-07-07T10:59:16.243Z"
   },
   {
    "duration": 578,
    "start_time": "2021-07-07T10:59:18.774Z"
   },
   {
    "duration": 161,
    "start_time": "2021-07-07T10:59:21.238Z"
   },
   {
    "duration": 59,
    "start_time": "2021-07-07T10:59:21.453Z"
   },
   {
    "duration": 3,
    "start_time": "2021-07-07T11:02:10.786Z"
   },
   {
    "duration": 13,
    "start_time": "2021-07-07T11:07:07.722Z"
   },
   {
    "duration": 26,
    "start_time": "2021-07-07T11:07:17.958Z"
   },
   {
    "duration": 22,
    "start_time": "2021-07-07T11:08:17.939Z"
   },
   {
    "duration": 212,
    "start_time": "2021-07-07T11:08:19.665Z"
   },
   {
    "duration": 21,
    "start_time": "2021-07-07T11:08:29.945Z"
   },
   {
    "duration": 31,
    "start_time": "2021-07-07T11:08:38.899Z"
   },
   {
    "duration": 23,
    "start_time": "2021-07-07T11:08:54.527Z"
   },
   {
    "duration": 8,
    "start_time": "2021-07-07T11:18:55.974Z"
   },
   {
    "duration": 7,
    "start_time": "2021-07-07T11:19:03.639Z"
   },
   {
    "duration": 7,
    "start_time": "2021-07-07T11:19:06.444Z"
   },
   {
    "duration": 578,
    "start_time": "2021-07-07T12:09:59.576Z"
   },
   {
    "duration": 195,
    "start_time": "2021-07-07T12:10:00.156Z"
   },
   {
    "duration": 115,
    "start_time": "2021-07-07T12:10:00.353Z"
   },
   {
    "duration": 3,
    "start_time": "2021-07-07T12:10:00.470Z"
   },
   {
    "duration": 32,
    "start_time": "2021-07-07T12:10:00.474Z"
   },
   {
    "duration": 23,
    "start_time": "2021-07-07T12:10:00.508Z"
   },
   {
    "duration": 19,
    "start_time": "2021-07-07T12:10:00.533Z"
   },
   {
    "duration": 44,
    "start_time": "2021-07-07T12:10:00.553Z"
   },
   {
    "duration": 7,
    "start_time": "2021-07-07T12:10:00.600Z"
   },
   {
    "duration": 7,
    "start_time": "2021-07-07T12:19:45.761Z"
   },
   {
    "duration": 21,
    "start_time": "2021-07-07T12:21:35.482Z"
   },
   {
    "duration": 21,
    "start_time": "2021-07-07T12:29:23.569Z"
   },
   {
    "duration": 525,
    "start_time": "2021-07-07T12:29:44.542Z"
   },
   {
    "duration": 214,
    "start_time": "2021-07-07T12:29:45.069Z"
   },
   {
    "duration": 92,
    "start_time": "2021-07-07T12:29:45.285Z"
   },
   {
    "duration": 3,
    "start_time": "2021-07-07T12:29:45.379Z"
   },
   {
    "duration": 28,
    "start_time": "2021-07-07T12:29:45.384Z"
   },
   {
    "duration": 23,
    "start_time": "2021-07-07T12:29:45.413Z"
   },
   {
    "duration": 21,
    "start_time": "2021-07-07T12:29:45.437Z"
   },
   {
    "duration": 41,
    "start_time": "2021-07-07T12:29:45.460Z"
   },
   {
    "duration": 7,
    "start_time": "2021-07-07T12:29:45.502Z"
   },
   {
    "duration": 20,
    "start_time": "2021-07-07T12:29:45.511Z"
   },
   {
    "duration": 12,
    "start_time": "2021-07-07T12:34:02.800Z"
   },
   {
    "duration": 7,
    "start_time": "2021-07-07T12:35:10.479Z"
   },
   {
    "duration": 8,
    "start_time": "2021-07-07T12:35:22.440Z"
   },
   {
    "duration": 6,
    "start_time": "2021-07-07T12:35:35.649Z"
   },
   {
    "duration": 6,
    "start_time": "2021-07-07T12:35:43.107Z"
   },
   {
    "duration": 22,
    "start_time": "2021-07-07T12:38:03.029Z"
   },
   {
    "duration": 10,
    "start_time": "2021-07-07T12:38:06.592Z"
   },
   {
    "duration": 563,
    "start_time": "2021-07-07T12:38:46.493Z"
   },
   {
    "duration": 265,
    "start_time": "2021-07-07T12:38:47.058Z"
   },
   {
    "duration": 94,
    "start_time": "2021-07-07T12:38:47.325Z"
   },
   {
    "duration": 3,
    "start_time": "2021-07-07T12:38:47.422Z"
   },
   {
    "duration": 30,
    "start_time": "2021-07-07T12:38:47.427Z"
   },
   {
    "duration": 16,
    "start_time": "2021-07-07T12:38:53.305Z"
   },
   {
    "duration": 10,
    "start_time": "2021-07-07T12:38:53.499Z"
   },
   {
    "duration": 8,
    "start_time": "2021-07-07T12:39:48.161Z"
   },
   {
    "duration": 27,
    "start_time": "2021-07-07T12:41:17.629Z"
   },
   {
    "duration": 17,
    "start_time": "2021-07-07T12:41:17.867Z"
   },
   {
    "duration": 21,
    "start_time": "2021-07-07T12:41:19.310Z"
   },
   {
    "duration": 7,
    "start_time": "2021-07-07T12:41:19.544Z"
   },
   {
    "duration": 20,
    "start_time": "2021-07-07T12:41:20.504Z"
   },
   {
    "duration": 554,
    "start_time": "2021-07-07T12:56:23.696Z"
   },
   {
    "duration": 200,
    "start_time": "2021-07-07T12:56:25.234Z"
   },
   {
    "duration": 119,
    "start_time": "2021-07-07T12:56:25.480Z"
   },
   {
    "duration": 4,
    "start_time": "2021-07-07T12:56:25.762Z"
   },
   {
    "duration": 26,
    "start_time": "2021-07-07T12:56:27.172Z"
   },
   {
    "duration": 12,
    "start_time": "2021-07-07T12:56:29.051Z"
   },
   {
    "duration": 10,
    "start_time": "2021-07-07T12:56:29.291Z"
   },
   {
    "duration": 8,
    "start_time": "2021-07-07T12:56:29.623Z"
   },
   {
    "duration": 28,
    "start_time": "2021-07-07T12:56:32.137Z"
   },
   {
    "duration": 19,
    "start_time": "2021-07-07T12:56:39.785Z"
   },
   {
    "duration": 20,
    "start_time": "2021-07-07T12:56:44.297Z"
   },
   {
    "duration": 7,
    "start_time": "2021-07-07T12:56:45.392Z"
   },
   {
    "duration": 23,
    "start_time": "2021-07-07T12:56:46.615Z"
   },
   {
    "duration": 4,
    "start_time": "2021-07-07T12:57:06.625Z"
   },
   {
    "duration": 32,
    "start_time": "2021-07-07T12:57:36.690Z"
   },
   {
    "duration": 18,
    "start_time": "2021-07-07T12:58:00.149Z"
   },
   {
    "duration": 15,
    "start_time": "2021-07-07T12:59:16.793Z"
   },
   {
    "duration": 7,
    "start_time": "2021-07-07T13:19:22.624Z"
   },
   {
    "duration": 6,
    "start_time": "2021-07-07T14:17:33.527Z"
   },
   {
    "duration": 9,
    "start_time": "2021-07-07T14:17:48.409Z"
   },
   {
    "duration": 8,
    "start_time": "2021-07-07T14:20:13.060Z"
   },
   {
    "duration": 8,
    "start_time": "2021-07-07T14:20:37.957Z"
   },
   {
    "duration": 8,
    "start_time": "2021-07-07T14:20:47.470Z"
   },
   {
    "duration": 9,
    "start_time": "2021-07-07T14:20:54.503Z"
   },
   {
    "duration": 10,
    "start_time": "2021-07-07T14:28:57.763Z"
   },
   {
    "duration": 3,
    "start_time": "2021-07-07T14:30:23.377Z"
   },
   {
    "duration": 3,
    "start_time": "2021-07-07T14:30:36.489Z"
   },
   {
    "duration": 103,
    "start_time": "2021-07-07T14:30:52.351Z"
   },
   {
    "duration": 8,
    "start_time": "2021-07-07T14:30:54.763Z"
   },
   {
    "duration": 8,
    "start_time": "2021-07-07T14:31:29.301Z"
   },
   {
    "duration": 13,
    "start_time": "2021-07-07T14:31:44.516Z"
   },
   {
    "duration": 7,
    "start_time": "2021-07-07T14:33:10.972Z"
   },
   {
    "duration": 11,
    "start_time": "2021-07-07T14:33:27.780Z"
   },
   {
    "duration": 8,
    "start_time": "2021-07-07T14:34:44.588Z"
   },
   {
    "duration": 57,
    "start_time": "2021-07-07T14:35:59.042Z"
   },
   {
    "duration": 3,
    "start_time": "2021-07-07T14:36:28.168Z"
   },
   {
    "duration": 5,
    "start_time": "2021-07-07T14:36:46.254Z"
   },
   {
    "duration": 4,
    "start_time": "2021-07-07T14:36:52.714Z"
   },
   {
    "duration": 3,
    "start_time": "2021-07-07T14:36:56.612Z"
   },
   {
    "duration": 4,
    "start_time": "2021-07-07T14:36:57.049Z"
   },
   {
    "duration": 3,
    "start_time": "2021-07-07T14:39:21.214Z"
   },
   {
    "duration": 7,
    "start_time": "2021-07-07T14:39:52.406Z"
   },
   {
    "duration": 11,
    "start_time": "2021-07-07T14:39:58.576Z"
   },
   {
    "duration": 9,
    "start_time": "2021-07-07T14:40:26.301Z"
   },
   {
    "duration": 10,
    "start_time": "2021-07-07T14:40:31.704Z"
   },
   {
    "duration": 11,
    "start_time": "2021-07-07T14:40:36.249Z"
   },
   {
    "duration": 10,
    "start_time": "2021-07-07T14:40:39.783Z"
   },
   {
    "duration": 9,
    "start_time": "2021-07-07T14:40:48.558Z"
   },
   {
    "duration": 10,
    "start_time": "2021-07-07T14:40:57.143Z"
   },
   {
    "duration": 9,
    "start_time": "2021-07-07T14:41:06.074Z"
   },
   {
    "duration": 4324,
    "start_time": "2021-07-07T14:41:22.004Z"
   },
   {
    "duration": 11,
    "start_time": "2021-07-07T14:41:33.392Z"
   },
   {
    "duration": 9,
    "start_time": "2021-07-07T14:41:39.288Z"
   },
   {
    "duration": 569,
    "start_time": "2021-07-07T14:42:14.387Z"
   },
   {
    "duration": 197,
    "start_time": "2021-07-07T14:42:14.959Z"
   },
   {
    "duration": 84,
    "start_time": "2021-07-07T14:42:16.052Z"
   },
   {
    "duration": 4,
    "start_time": "2021-07-07T14:42:16.900Z"
   },
   {
    "duration": 27,
    "start_time": "2021-07-07T14:42:19.898Z"
   },
   {
    "duration": 12,
    "start_time": "2021-07-07T14:42:21.577Z"
   },
   {
    "duration": 9,
    "start_time": "2021-07-07T14:42:21.813Z"
   },
   {
    "duration": 9,
    "start_time": "2021-07-07T14:42:22.569Z"
   },
   {
    "duration": 29,
    "start_time": "2021-07-07T14:42:25.837Z"
   },
   {
    "duration": 20,
    "start_time": "2021-07-07T14:42:27.003Z"
   },
   {
    "duration": 21,
    "start_time": "2021-07-07T14:42:28.767Z"
   },
   {
    "duration": 7,
    "start_time": "2021-07-07T14:42:29.838Z"
   },
   {
    "duration": 4,
    "start_time": "2021-07-07T14:43:25.493Z"
   },
   {
    "duration": 7,
    "start_time": "2021-07-07T14:43:26.573Z"
   },
   {
    "duration": 10,
    "start_time": "2021-07-07T14:43:31.639Z"
   },
   {
    "duration": 9,
    "start_time": "2021-07-07T14:43:32.046Z"
   },
   {
    "duration": 10,
    "start_time": "2021-07-07T14:43:33.301Z"
   },
   {
    "duration": 12,
    "start_time": "2021-07-07T14:43:33.658Z"
   },
   {
    "duration": 8,
    "start_time": "2021-07-07T14:43:34.552Z"
   },
   {
    "duration": 9,
    "start_time": "2021-07-07T14:43:35.058Z"
   },
   {
    "duration": 12,
    "start_time": "2021-07-07T14:43:35.914Z"
   },
   {
    "duration": 17,
    "start_time": "2021-07-07T14:45:34.368Z"
   },
   {
    "duration": 512,
    "start_time": "2021-07-07T14:51:58.236Z"
   },
   {
    "duration": 223,
    "start_time": "2021-07-07T14:51:58.750Z"
   },
   {
    "duration": 93,
    "start_time": "2021-07-07T14:51:58.977Z"
   },
   {
    "duration": 4,
    "start_time": "2021-07-07T14:51:59.071Z"
   },
   {
    "duration": 37,
    "start_time": "2021-07-07T14:51:59.077Z"
   },
   {
    "duration": 18,
    "start_time": "2021-07-07T14:51:59.116Z"
   },
   {
    "duration": 10,
    "start_time": "2021-07-07T14:51:59.137Z"
   },
   {
    "duration": 8,
    "start_time": "2021-07-07T14:51:59.149Z"
   },
   {
    "duration": 54,
    "start_time": "2021-07-07T14:51:59.158Z"
   },
   {
    "duration": 18,
    "start_time": "2021-07-07T14:51:59.213Z"
   },
   {
    "duration": 22,
    "start_time": "2021-07-07T14:51:59.232Z"
   },
   {
    "duration": 36,
    "start_time": "2021-07-07T14:51:59.255Z"
   },
   {
    "duration": 7,
    "start_time": "2021-07-07T14:51:59.293Z"
   },
   {
    "duration": 10,
    "start_time": "2021-07-07T14:51:59.302Z"
   },
   {
    "duration": 9,
    "start_time": "2021-07-07T14:51:59.313Z"
   },
   {
    "duration": 11,
    "start_time": "2021-07-07T14:51:59.324Z"
   },
   {
    "duration": 8,
    "start_time": "2021-07-07T14:51:59.337Z"
   },
   {
    "duration": 46,
    "start_time": "2021-07-07T14:51:59.347Z"
   },
   {
    "duration": 22,
    "start_time": "2021-07-07T14:51:59.395Z"
   },
   {
    "duration": 24,
    "start_time": "2021-07-07T14:57:32.911Z"
   },
   {
    "duration": 7,
    "start_time": "2021-07-07T14:58:22.070Z"
   },
   {
    "duration": 4,
    "start_time": "2021-07-07T14:59:11.239Z"
   },
   {
    "duration": 25,
    "start_time": "2021-07-07T15:07:22.208Z"
   },
   {
    "duration": 16,
    "start_time": "2021-07-07T15:08:25.560Z"
   },
   {
    "duration": 15,
    "start_time": "2021-07-07T15:08:40.647Z"
   },
   {
    "duration": 14,
    "start_time": "2021-07-07T15:08:46.669Z"
   },
   {
    "duration": 533,
    "start_time": "2021-07-07T15:18:07.440Z"
   },
   {
    "duration": 173,
    "start_time": "2021-07-07T15:18:07.974Z"
   },
   {
    "duration": 84,
    "start_time": "2021-07-07T15:18:08.149Z"
   },
   {
    "duration": 3,
    "start_time": "2021-07-07T15:18:08.235Z"
   },
   {
    "duration": 30,
    "start_time": "2021-07-07T15:18:08.240Z"
   },
   {
    "duration": 22,
    "start_time": "2021-07-07T15:18:08.272Z"
   },
   {
    "duration": 11,
    "start_time": "2021-07-07T15:18:08.295Z"
   },
   {
    "duration": 11,
    "start_time": "2021-07-07T15:18:08.309Z"
   },
   {
    "duration": 40,
    "start_time": "2021-07-07T15:18:08.322Z"
   },
   {
    "duration": 42,
    "start_time": "2021-07-07T15:18:08.364Z"
   },
   {
    "duration": 22,
    "start_time": "2021-07-07T15:18:08.408Z"
   },
   {
    "duration": 5,
    "start_time": "2021-07-07T15:18:08.432Z"
   },
   {
    "duration": 13,
    "start_time": "2021-07-07T15:18:08.439Z"
   },
   {
    "duration": 9,
    "start_time": "2021-07-07T15:18:08.454Z"
   },
   {
    "duration": 32,
    "start_time": "2021-07-07T15:18:08.465Z"
   },
   {
    "duration": 10,
    "start_time": "2021-07-07T15:18:08.501Z"
   },
   {
    "duration": 7,
    "start_time": "2021-07-07T15:18:08.513Z"
   },
   {
    "duration": 11,
    "start_time": "2021-07-07T15:18:08.521Z"
   },
   {
    "duration": 17,
    "start_time": "2021-07-07T15:18:08.534Z"
   },
   {
    "duration": 44,
    "start_time": "2021-07-07T15:18:08.553Z"
   },
   {
    "duration": 22,
    "start_time": "2021-07-07T15:18:08.599Z"
   },
   {
    "duration": 61,
    "start_time": "2021-07-07T15:18:08.622Z"
   },
   {
    "duration": 7,
    "start_time": "2021-07-07T15:18:39.457Z"
   },
   {
    "duration": 5,
    "start_time": "2021-07-07T16:05:17.020Z"
   },
   {
    "duration": 5,
    "start_time": "2021-07-07T16:51:28.794Z"
   },
   {
    "duration": 546,
    "start_time": "2021-07-07T16:52:26.306Z"
   },
   {
    "duration": 203,
    "start_time": "2021-07-07T16:52:27.523Z"
   },
   {
    "duration": 85,
    "start_time": "2021-07-07T16:52:27.736Z"
   },
   {
    "duration": 4,
    "start_time": "2021-07-07T16:52:27.899Z"
   },
   {
    "duration": 25,
    "start_time": "2021-07-07T16:52:28.674Z"
   },
   {
    "duration": 8,
    "start_time": "2021-07-07T16:52:32.956Z"
   },
   {
    "duration": 18,
    "start_time": "2021-07-07T16:52:35.616Z"
   },
   {
    "duration": 6,
    "start_time": "2021-07-07T16:52:36.913Z"
   },
   {
    "duration": 11,
    "start_time": "2021-07-07T16:52:40.258Z"
   },
   {
    "duration": 10,
    "start_time": "2021-07-07T16:52:46.251Z"
   },
   {
    "duration": 8,
    "start_time": "2021-07-07T16:52:47.182Z"
   },
   {
    "duration": 27,
    "start_time": "2021-07-07T16:53:20.391Z"
   },
   {
    "duration": 20,
    "start_time": "2021-07-07T16:53:22.022Z"
   },
   {
    "duration": 23,
    "start_time": "2021-07-07T16:53:23.690Z"
   },
   {
    "duration": 8,
    "start_time": "2021-07-07T16:53:24.261Z"
   },
   {
    "duration": 4,
    "start_time": "2021-07-07T16:53:38.733Z"
   },
   {
    "duration": 7,
    "start_time": "2021-07-07T16:53:40.445Z"
   },
   {
    "duration": 11,
    "start_time": "2021-07-07T16:53:41.348Z"
   },
   {
    "duration": 13,
    "start_time": "2021-07-07T16:53:45.250Z"
   },
   {
    "duration": 12,
    "start_time": "2021-07-07T16:53:45.467Z"
   },
   {
    "duration": 4,
    "start_time": "2021-07-07T16:55:32.704Z"
   },
   {
    "duration": 12,
    "start_time": "2021-07-07T16:55:49.012Z"
   },
   {
    "duration": 18,
    "start_time": "2021-07-07T16:55:49.547Z"
   },
   {
    "duration": 611,
    "start_time": "2021-07-07T16:58:35.156Z"
   },
   {
    "duration": 200,
    "start_time": "2021-07-07T16:58:35.770Z"
   },
   {
    "duration": 86,
    "start_time": "2021-07-07T16:58:35.972Z"
   },
   {
    "duration": 3,
    "start_time": "2021-07-07T16:58:36.060Z"
   },
   {
    "duration": 27,
    "start_time": "2021-07-07T16:58:36.065Z"
   },
   {
    "duration": 8,
    "start_time": "2021-07-07T16:58:36.094Z"
   },
   {
    "duration": 17,
    "start_time": "2021-07-07T16:58:36.103Z"
   },
   {
    "duration": 5,
    "start_time": "2021-07-07T16:58:36.123Z"
   },
   {
    "duration": 11,
    "start_time": "2021-07-07T16:58:36.130Z"
   },
   {
    "duration": 7,
    "start_time": "2021-07-07T16:58:36.143Z"
   },
   {
    "duration": 37,
    "start_time": "2021-07-07T16:58:36.152Z"
   },
   {
    "duration": 27,
    "start_time": "2021-07-07T16:58:36.191Z"
   },
   {
    "duration": 19,
    "start_time": "2021-07-07T16:58:36.219Z"
   },
   {
    "duration": 49,
    "start_time": "2021-07-07T16:58:36.240Z"
   },
   {
    "duration": 6,
    "start_time": "2021-07-07T16:58:36.291Z"
   },
   {
    "duration": 3,
    "start_time": "2021-07-07T16:58:36.299Z"
   },
   {
    "duration": 13,
    "start_time": "2021-07-07T16:58:36.304Z"
   },
   {
    "duration": 10,
    "start_time": "2021-07-07T16:58:36.319Z"
   },
   {
    "duration": 10,
    "start_time": "2021-07-07T16:58:36.331Z"
   },
   {
    "duration": 44,
    "start_time": "2021-07-07T16:58:36.343Z"
   },
   {
    "duration": 4,
    "start_time": "2021-07-07T16:58:36.388Z"
   },
   {
    "duration": 13,
    "start_time": "2021-07-07T16:58:36.394Z"
   },
   {
    "duration": 16,
    "start_time": "2021-07-07T16:58:36.410Z"
   },
   {
    "duration": 8,
    "start_time": "2021-07-07T17:02:31.629Z"
   },
   {
    "duration": 8,
    "start_time": "2021-07-07T17:02:34.308Z"
   },
   {
    "duration": 6,
    "start_time": "2021-07-07T17:05:13.483Z"
   },
   {
    "duration": 17,
    "start_time": "2021-07-07T17:05:20.606Z"
   },
   {
    "duration": 7,
    "start_time": "2021-07-07T17:05:34.638Z"
   },
   {
    "duration": 3,
    "start_time": "2021-07-07T17:06:31.883Z"
   },
   {
    "duration": 570,
    "start_time": "2021-07-07T17:06:37.165Z"
   },
   {
    "duration": 174,
    "start_time": "2021-07-07T17:06:37.737Z"
   },
   {
    "duration": 47,
    "start_time": "2021-07-07T17:06:37.913Z"
   },
   {
    "duration": 3,
    "start_time": "2021-07-07T17:06:37.962Z"
   },
   {
    "duration": 27,
    "start_time": "2021-07-07T17:06:37.967Z"
   },
   {
    "duration": 7,
    "start_time": "2021-07-07T17:06:37.996Z"
   },
   {
    "duration": 16,
    "start_time": "2021-07-07T17:06:38.005Z"
   },
   {
    "duration": 6,
    "start_time": "2021-07-07T17:06:38.024Z"
   },
   {
    "duration": 12,
    "start_time": "2021-07-07T17:06:38.031Z"
   },
   {
    "duration": 41,
    "start_time": "2021-07-07T17:06:38.045Z"
   },
   {
    "duration": 8,
    "start_time": "2021-07-07T17:06:38.088Z"
   },
   {
    "duration": 26,
    "start_time": "2021-07-07T17:06:38.098Z"
   },
   {
    "duration": 17,
    "start_time": "2021-07-07T17:06:38.126Z"
   },
   {
    "duration": 43,
    "start_time": "2021-07-07T17:06:38.144Z"
   },
   {
    "duration": 6,
    "start_time": "2021-07-07T17:06:38.188Z"
   },
   {
    "duration": 5,
    "start_time": "2021-07-07T17:06:38.195Z"
   },
   {
    "duration": 9,
    "start_time": "2021-07-07T17:06:38.201Z"
   },
   {
    "duration": 12,
    "start_time": "2021-07-07T17:06:38.212Z"
   },
   {
    "duration": 11,
    "start_time": "2021-07-07T17:06:38.226Z"
   },
   {
    "duration": 47,
    "start_time": "2021-07-07T17:06:38.239Z"
   },
   {
    "duration": 4,
    "start_time": "2021-07-07T17:06:38.288Z"
   },
   {
    "duration": 13,
    "start_time": "2021-07-07T17:06:38.293Z"
   },
   {
    "duration": 5,
    "start_time": "2021-07-07T17:06:38.309Z"
   },
   {
    "duration": 18,
    "start_time": "2021-07-07T17:06:38.325Z"
   },
   {
    "duration": 20,
    "start_time": "2021-07-07T17:07:02.805Z"
   },
   {
    "duration": 19,
    "start_time": "2021-07-07T17:07:08.527Z"
   },
   {
    "duration": 19,
    "start_time": "2021-07-07T17:07:12.758Z"
   },
   {
    "duration": 22,
    "start_time": "2021-07-07T17:07:17.497Z"
   },
   {
    "duration": 19,
    "start_time": "2021-07-07T17:07:19.645Z"
   },
   {
    "duration": 10,
    "start_time": "2021-07-07T17:07:34.239Z"
   },
   {
    "duration": 17,
    "start_time": "2021-07-07T17:07:54.144Z"
   },
   {
    "duration": 14,
    "start_time": "2021-07-07T17:08:14.357Z"
   },
   {
    "duration": 616,
    "start_time": "2021-07-07T17:08:45.254Z"
   },
   {
    "duration": 178,
    "start_time": "2021-07-07T17:08:45.872Z"
   },
   {
    "duration": 60,
    "start_time": "2021-07-07T17:08:46.054Z"
   },
   {
    "duration": 3,
    "start_time": "2021-07-07T17:08:46.116Z"
   },
   {
    "duration": 26,
    "start_time": "2021-07-07T17:08:46.121Z"
   },
   {
    "duration": 7,
    "start_time": "2021-07-07T17:08:46.149Z"
   },
   {
    "duration": 17,
    "start_time": "2021-07-07T17:08:46.158Z"
   },
   {
    "duration": 14,
    "start_time": "2021-07-07T17:08:46.176Z"
   },
   {
    "duration": 17,
    "start_time": "2021-07-07T17:08:46.193Z"
   },
   {
    "duration": 9,
    "start_time": "2021-07-07T17:08:46.211Z"
   },
   {
    "duration": 21,
    "start_time": "2021-07-07T17:08:46.221Z"
   },
   {
    "duration": 49,
    "start_time": "2021-07-07T17:08:46.244Z"
   },
   {
    "duration": 24,
    "start_time": "2021-07-07T17:08:46.295Z"
   },
   {
    "duration": 22,
    "start_time": "2021-07-07T17:08:46.321Z"
   },
   {
    "duration": 6,
    "start_time": "2021-07-07T17:08:46.345Z"
   },
   {
    "duration": 5,
    "start_time": "2021-07-07T17:08:46.353Z"
   },
   {
    "duration": 13,
    "start_time": "2021-07-07T17:08:46.386Z"
   },
   {
    "duration": 12,
    "start_time": "2021-07-07T17:08:46.402Z"
   },
   {
    "duration": 10,
    "start_time": "2021-07-07T17:08:46.415Z"
   },
   {
    "duration": 7,
    "start_time": "2021-07-07T17:08:46.427Z"
   },
   {
    "duration": 8,
    "start_time": "2021-07-07T17:08:46.435Z"
   },
   {
    "duration": 68,
    "start_time": "2021-07-07T17:08:46.446Z"
   },
   {
    "duration": 13,
    "start_time": "2021-07-07T17:08:46.516Z"
   },
   {
    "duration": 78,
    "start_time": "2021-07-07T17:08:46.530Z"
   },
   {
    "duration": 40,
    "start_time": "2021-07-07T17:09:08.185Z"
   },
   {
    "duration": 16,
    "start_time": "2021-07-07T17:09:19.324Z"
   },
   {
    "duration": 21,
    "start_time": "2021-07-07T17:09:23.290Z"
   },
   {
    "duration": 13,
    "start_time": "2021-07-07T17:09:54.812Z"
   },
   {
    "duration": 13,
    "start_time": "2021-07-07T17:10:02.039Z"
   },
   {
    "duration": 10,
    "start_time": "2021-07-07T17:10:29.632Z"
   },
   {
    "duration": 13,
    "start_time": "2021-07-07T17:10:52.372Z"
   },
   {
    "duration": 13,
    "start_time": "2021-07-07T17:11:17.270Z"
   },
   {
    "duration": 13,
    "start_time": "2021-07-07T17:14:59.284Z"
   },
   {
    "duration": 547,
    "start_time": "2021-07-07T17:18:52.403Z"
   },
   {
    "duration": 163,
    "start_time": "2021-07-07T17:18:52.952Z"
   },
   {
    "duration": 44,
    "start_time": "2021-07-07T17:18:53.117Z"
   },
   {
    "duration": 3,
    "start_time": "2021-07-07T17:18:53.162Z"
   },
   {
    "duration": 26,
    "start_time": "2021-07-07T17:18:53.167Z"
   },
   {
    "duration": 6,
    "start_time": "2021-07-07T17:18:53.195Z"
   },
   {
    "duration": 15,
    "start_time": "2021-07-07T17:18:53.203Z"
   },
   {
    "duration": 5,
    "start_time": "2021-07-07T17:18:53.220Z"
   },
   {
    "duration": 11,
    "start_time": "2021-07-07T17:18:53.228Z"
   },
   {
    "duration": 9,
    "start_time": "2021-07-07T17:18:53.241Z"
   },
   {
    "duration": 41,
    "start_time": "2021-07-07T17:18:53.252Z"
   },
   {
    "duration": 33,
    "start_time": "2021-07-07T17:18:53.295Z"
   },
   {
    "duration": 19,
    "start_time": "2021-07-07T17:18:53.330Z"
   },
   {
    "duration": 49,
    "start_time": "2021-07-07T17:18:53.350Z"
   },
   {
    "duration": 5,
    "start_time": "2021-07-07T17:18:53.401Z"
   },
   {
    "duration": 5,
    "start_time": "2021-07-07T17:18:53.408Z"
   },
   {
    "duration": 11,
    "start_time": "2021-07-07T17:18:53.414Z"
   },
   {
    "duration": 9,
    "start_time": "2021-07-07T17:18:53.427Z"
   },
   {
    "duration": 10,
    "start_time": "2021-07-07T17:18:53.437Z"
   },
   {
    "duration": 39,
    "start_time": "2021-07-07T17:18:53.448Z"
   },
   {
    "duration": 26,
    "start_time": "2021-07-07T17:18:55.799Z"
   },
   {
    "duration": 598,
    "start_time": "2021-07-07T17:20:17.862Z"
   },
   {
    "duration": 161,
    "start_time": "2021-07-07T17:20:18.462Z"
   },
   {
    "duration": 45,
    "start_time": "2021-07-07T17:20:18.626Z"
   },
   {
    "duration": 4,
    "start_time": "2021-07-07T17:20:18.673Z"
   },
   {
    "duration": 38,
    "start_time": "2021-07-07T17:20:26.877Z"
   },
   {
    "duration": 7,
    "start_time": "2021-07-07T17:20:37.405Z"
   },
   {
    "duration": 19,
    "start_time": "2021-07-07T17:20:51.534Z"
   },
   {
    "duration": 5,
    "start_time": "2021-07-07T17:20:57.228Z"
   },
   {
    "duration": 7,
    "start_time": "2021-07-07T17:21:08.235Z"
   },
   {
    "duration": 19,
    "start_time": "2021-07-07T17:21:42.158Z"
   },
   {
    "duration": 14,
    "start_time": "2021-07-07T17:21:50.225Z"
   },
   {
    "duration": 22,
    "start_time": "2021-07-07T17:22:54.104Z"
   },
   {
    "duration": 5,
    "start_time": "2021-07-07T17:22:56.371Z"
   },
   {
    "duration": 14,
    "start_time": "2021-07-07T17:22:58.316Z"
   },
   {
    "duration": 5,
    "start_time": "2021-07-07T17:22:58.493Z"
   },
   {
    "duration": 35,
    "start_time": "2021-07-07T17:22:59.666Z"
   },
   {
    "duration": 6,
    "start_time": "2021-07-07T17:23:02.410Z"
   },
   {
    "duration": 611,
    "start_time": "2021-07-07T17:24:59.664Z"
   },
   {
    "duration": 178,
    "start_time": "2021-07-07T17:25:01.945Z"
   },
   {
    "duration": 47,
    "start_time": "2021-07-07T17:25:02.125Z"
   },
   {
    "duration": 2,
    "start_time": "2021-07-07T17:25:07.903Z"
   },
   {
    "duration": 254,
    "start_time": "2021-07-07T17:25:08.232Z"
   },
   {
    "duration": 182,
    "start_time": "2021-07-07T17:25:08.671Z"
   },
   {
    "duration": 6,
    "start_time": "2021-07-07T17:25:13.104Z"
   },
   {
    "duration": 36,
    "start_time": "2021-07-07T17:25:13.662Z"
   },
   {
    "duration": 7,
    "start_time": "2021-07-07T17:25:14.528Z"
   },
   {
    "duration": 24,
    "start_time": "2021-07-07T17:25:27.982Z"
   },
   {
    "duration": 3,
    "start_time": "2021-07-07T17:25:48.982Z"
   },
   {
    "duration": 165,
    "start_time": "2021-07-07T17:25:48.987Z"
   },
   {
    "duration": 50,
    "start_time": "2021-07-07T17:25:49.154Z"
   },
   {
    "duration": 4,
    "start_time": "2021-07-07T17:25:49.206Z"
   },
   {
    "duration": 26,
    "start_time": "2021-07-07T17:25:49.212Z"
   },
   {
    "duration": 7,
    "start_time": "2021-07-07T17:25:49.240Z"
   },
   {
    "duration": 16,
    "start_time": "2021-07-07T17:25:49.249Z"
   },
   {
    "duration": 22,
    "start_time": "2021-07-07T17:25:49.266Z"
   },
   {
    "duration": 16,
    "start_time": "2021-07-07T17:25:49.291Z"
   },
   {
    "duration": 9,
    "start_time": "2021-07-07T17:25:49.309Z"
   },
   {
    "duration": 7,
    "start_time": "2021-07-07T17:25:49.319Z"
   },
   {
    "duration": 28,
    "start_time": "2021-07-07T17:25:49.328Z"
   },
   {
    "duration": 44,
    "start_time": "2021-07-07T17:25:49.357Z"
   },
   {
    "duration": 22,
    "start_time": "2021-07-07T17:25:49.403Z"
   },
   {
    "duration": 7,
    "start_time": "2021-07-07T17:25:49.427Z"
   },
   {
    "duration": 3,
    "start_time": "2021-07-07T17:25:49.436Z"
   },
   {
    "duration": 44,
    "start_time": "2021-07-07T17:25:49.441Z"
   },
   {
    "duration": 12,
    "start_time": "2021-07-07T17:25:49.488Z"
   },
   {
    "duration": 13,
    "start_time": "2021-07-07T17:25:49.502Z"
   },
   {
    "duration": 10,
    "start_time": "2021-07-07T17:25:49.516Z"
   },
   {
    "duration": 62,
    "start_time": "2021-07-07T17:25:49.527Z"
   },
   {
    "duration": 26,
    "start_time": "2021-07-07T17:26:51.809Z"
   },
   {
    "duration": 26,
    "start_time": "2021-07-07T17:26:55.759Z"
   },
   {
    "duration": 26,
    "start_time": "2021-07-07T17:27:04.501Z"
   },
   {
    "duration": 25,
    "start_time": "2021-07-07T17:28:24.859Z"
   },
   {
    "duration": 21,
    "start_time": "2021-07-07T17:28:55.250Z"
   },
   {
    "duration": 21,
    "start_time": "2021-07-07T17:28:58.885Z"
   },
   {
    "duration": 7,
    "start_time": "2021-07-07T17:45:40.972Z"
   },
   {
    "duration": 13,
    "start_time": "2021-07-07T17:45:42.529Z"
   },
   {
    "duration": 27,
    "start_time": "2021-07-07T17:45:51.026Z"
   },
   {
    "duration": 518,
    "start_time": "2021-07-07T17:46:15.532Z"
   },
   {
    "duration": 235,
    "start_time": "2021-07-07T17:46:16.053Z"
   },
   {
    "duration": 80,
    "start_time": "2021-07-07T17:46:16.292Z"
   },
   {
    "duration": 5,
    "start_time": "2021-07-07T17:46:16.373Z"
   },
   {
    "duration": 26,
    "start_time": "2021-07-07T17:46:16.380Z"
   },
   {
    "duration": 7,
    "start_time": "2021-07-07T17:46:16.408Z"
   },
   {
    "duration": 16,
    "start_time": "2021-07-07T17:46:16.418Z"
   },
   {
    "duration": 5,
    "start_time": "2021-07-07T17:46:16.436Z"
   },
   {
    "duration": 13,
    "start_time": "2021-07-07T17:46:16.442Z"
   },
   {
    "duration": 35,
    "start_time": "2021-07-07T17:46:16.456Z"
   },
   {
    "duration": 8,
    "start_time": "2021-07-07T17:46:16.493Z"
   },
   {
    "duration": 28,
    "start_time": "2021-07-07T17:46:16.502Z"
   },
   {
    "duration": 17,
    "start_time": "2021-07-07T17:46:16.532Z"
   },
   {
    "duration": 44,
    "start_time": "2021-07-07T17:46:16.551Z"
   },
   {
    "duration": 6,
    "start_time": "2021-07-07T17:46:16.597Z"
   },
   {
    "duration": 4,
    "start_time": "2021-07-07T17:46:16.605Z"
   },
   {
    "duration": 9,
    "start_time": "2021-07-07T17:46:16.610Z"
   },
   {
    "duration": 9,
    "start_time": "2021-07-07T17:46:16.621Z"
   },
   {
    "duration": 10,
    "start_time": "2021-07-07T17:46:16.632Z"
   },
   {
    "duration": 43,
    "start_time": "2021-07-07T17:46:16.644Z"
   },
   {
    "duration": 26,
    "start_time": "2021-07-07T17:46:16.689Z"
   },
   {
    "duration": 19,
    "start_time": "2021-07-07T17:46:16.718Z"
   },
   {
    "duration": 8,
    "start_time": "2021-07-07T17:46:16.738Z"
   },
   {
    "duration": 43,
    "start_time": "2021-07-07T17:46:16.747Z"
   },
   {
    "duration": 19,
    "start_time": "2021-07-07T17:46:16.791Z"
   },
   {
    "duration": 9,
    "start_time": "2021-07-07T17:46:16.812Z"
   },
   {
    "duration": 60,
    "start_time": "2021-07-07T17:46:16.822Z"
   },
   {
    "duration": -8,
    "start_time": "2021-07-07T17:46:16.892Z"
   },
   {
    "duration": 12,
    "start_time": "2021-07-07T17:48:47.707Z"
   },
   {
    "duration": 553,
    "start_time": "2021-07-07T18:10:09.350Z"
   },
   {
    "duration": 230,
    "start_time": "2021-07-07T18:10:09.905Z"
   },
   {
    "duration": 97,
    "start_time": "2021-07-07T18:10:10.137Z"
   },
   {
    "duration": 5,
    "start_time": "2021-07-07T18:10:10.236Z"
   },
   {
    "duration": 29,
    "start_time": "2021-07-07T18:10:10.242Z"
   },
   {
    "duration": 7,
    "start_time": "2021-07-07T18:10:10.272Z"
   },
   {
    "duration": 15,
    "start_time": "2021-07-07T18:10:10.281Z"
   },
   {
    "duration": 4,
    "start_time": "2021-07-07T18:10:10.299Z"
   },
   {
    "duration": 14,
    "start_time": "2021-07-07T18:10:10.305Z"
   },
   {
    "duration": 8,
    "start_time": "2021-07-07T18:10:10.321Z"
   },
   {
    "duration": 8,
    "start_time": "2021-07-07T18:10:10.331Z"
   },
   {
    "duration": 56,
    "start_time": "2021-07-07T18:10:10.341Z"
   },
   {
    "duration": 19,
    "start_time": "2021-07-07T18:10:10.399Z"
   },
   {
    "duration": 23,
    "start_time": "2021-07-07T18:10:10.419Z"
   },
   {
    "duration": 6,
    "start_time": "2021-07-07T18:10:10.444Z"
   },
   {
    "duration": 9,
    "start_time": "2021-07-07T18:10:10.451Z"
   },
   {
    "duration": 30,
    "start_time": "2021-07-07T18:10:10.462Z"
   },
   {
    "duration": 9,
    "start_time": "2021-07-07T18:10:10.494Z"
   },
   {
    "duration": 14,
    "start_time": "2021-07-07T18:10:10.505Z"
   },
   {
    "duration": 7,
    "start_time": "2021-07-07T18:10:10.521Z"
   },
   {
    "duration": 26,
    "start_time": "2021-07-07T18:10:10.530Z"
   },
   {
    "duration": 44,
    "start_time": "2021-07-07T18:10:10.558Z"
   },
   {
    "duration": 7,
    "start_time": "2021-07-07T18:10:10.605Z"
   },
   {
    "duration": 11,
    "start_time": "2021-07-07T18:10:10.614Z"
   },
   {
    "duration": 19,
    "start_time": "2021-07-07T18:10:10.626Z"
   },
   {
    "duration": 44,
    "start_time": "2021-07-07T18:10:10.646Z"
   },
   {
    "duration": 516,
    "start_time": "2021-07-07T18:14:00.826Z"
   },
   {
    "duration": 230,
    "start_time": "2021-07-07T18:14:01.344Z"
   },
   {
    "duration": 105,
    "start_time": "2021-07-07T18:14:01.576Z"
   },
   {
    "duration": 5,
    "start_time": "2021-07-07T18:14:01.683Z"
   },
   {
    "duration": 46,
    "start_time": "2021-07-07T18:14:01.690Z"
   },
   {
    "duration": 7,
    "start_time": "2021-07-07T18:14:01.738Z"
   },
   {
    "duration": 20,
    "start_time": "2021-07-07T18:14:01.747Z"
   },
   {
    "duration": 16,
    "start_time": "2021-07-07T18:14:01.769Z"
   },
   {
    "duration": 14,
    "start_time": "2021-07-07T18:14:01.787Z"
   },
   {
    "duration": 15,
    "start_time": "2021-07-07T18:14:01.803Z"
   },
   {
    "duration": 12,
    "start_time": "2021-07-07T18:14:01.820Z"
   },
   {
    "duration": 35,
    "start_time": "2021-07-07T18:14:01.833Z"
   },
   {
    "duration": 31,
    "start_time": "2021-07-07T18:14:01.869Z"
   },
   {
    "duration": 37,
    "start_time": "2021-07-07T18:14:01.902Z"
   },
   {
    "duration": 8,
    "start_time": "2021-07-07T18:14:01.942Z"
   },
   {
    "duration": 16,
    "start_time": "2021-07-07T18:14:01.952Z"
   },
   {
    "duration": 13,
    "start_time": "2021-07-07T18:14:01.970Z"
   },
   {
    "duration": 32,
    "start_time": "2021-07-07T18:14:01.985Z"
   },
   {
    "duration": 11,
    "start_time": "2021-07-07T18:14:02.019Z"
   },
   {
    "duration": 22,
    "start_time": "2021-07-07T18:14:02.031Z"
   },
   {
    "duration": 27,
    "start_time": "2021-07-07T18:14:02.055Z"
   },
   {
    "duration": 18,
    "start_time": "2021-07-07T18:14:02.084Z"
   },
   {
    "duration": 18,
    "start_time": "2021-07-07T18:14:02.106Z"
   },
   {
    "duration": 11,
    "start_time": "2021-07-07T18:14:02.126Z"
   },
   {
    "duration": 21,
    "start_time": "2021-07-07T18:14:02.138Z"
   },
   {
    "duration": 32,
    "start_time": "2021-07-07T18:14:02.161Z"
   },
   {
    "duration": 28,
    "start_time": "2021-07-07T18:14:44.295Z"
   },
   {
    "duration": 6,
    "start_time": "2021-07-07T18:15:05.834Z"
   },
   {
    "duration": 511,
    "start_time": "2021-07-07T18:15:41.541Z"
   },
   {
    "duration": 183,
    "start_time": "2021-07-07T18:15:42.054Z"
   },
   {
    "duration": 50,
    "start_time": "2021-07-07T18:15:42.239Z"
   },
   {
    "duration": 5,
    "start_time": "2021-07-07T18:15:42.291Z"
   },
   {
    "duration": 48,
    "start_time": "2021-07-07T18:15:42.297Z"
   },
   {
    "duration": 8,
    "start_time": "2021-07-07T18:15:42.346Z"
   },
   {
    "duration": 17,
    "start_time": "2021-07-07T18:15:42.356Z"
   },
   {
    "duration": 15,
    "start_time": "2021-07-07T18:15:42.375Z"
   },
   {
    "duration": 12,
    "start_time": "2021-07-07T18:15:42.392Z"
   },
   {
    "duration": 7,
    "start_time": "2021-07-07T18:15:42.406Z"
   },
   {
    "duration": 7,
    "start_time": "2021-07-07T18:15:42.415Z"
   },
   {
    "duration": 29,
    "start_time": "2021-07-07T18:15:42.423Z"
   },
   {
    "duration": 43,
    "start_time": "2021-07-07T18:15:42.453Z"
   },
   {
    "duration": 18,
    "start_time": "2021-07-07T18:15:42.497Z"
   },
   {
    "duration": 6,
    "start_time": "2021-07-07T18:15:42.516Z"
   },
   {
    "duration": 3,
    "start_time": "2021-07-07T18:15:42.523Z"
   },
   {
    "duration": 18,
    "start_time": "2021-07-07T18:15:42.528Z"
   },
   {
    "duration": 10,
    "start_time": "2021-07-07T18:15:42.547Z"
   },
   {
    "duration": 36,
    "start_time": "2021-07-07T18:15:42.559Z"
   },
   {
    "duration": 8,
    "start_time": "2021-07-07T18:15:42.597Z"
   },
   {
    "duration": 28,
    "start_time": "2021-07-07T18:15:42.606Z"
   },
   {
    "duration": 52,
    "start_time": "2021-07-07T18:15:42.635Z"
   },
   {
    "duration": 7,
    "start_time": "2021-07-07T18:15:42.690Z"
   },
   {
    "duration": 10,
    "start_time": "2021-07-07T18:15:42.699Z"
   },
   {
    "duration": 19,
    "start_time": "2021-07-07T18:15:42.711Z"
   },
   {
    "duration": 9,
    "start_time": "2021-07-07T18:15:42.732Z"
   },
   {
    "duration": 5,
    "start_time": "2021-07-07T18:15:42.743Z"
   },
   {
    "duration": 1450,
    "start_time": "2021-07-07T18:15:51.984Z"
   },
   {
    "duration": 161,
    "start_time": "2021-07-07T18:15:53.435Z"
   },
   {
    "duration": 124,
    "start_time": "2021-07-07T18:15:53.598Z"
   },
   {
    "duration": 5,
    "start_time": "2021-07-07T18:15:53.724Z"
   },
   {
    "duration": 34,
    "start_time": "2021-07-07T18:15:53.730Z"
   },
   {
    "duration": 7,
    "start_time": "2021-07-07T18:15:53.765Z"
   },
   {
    "duration": 15,
    "start_time": "2021-07-07T18:15:53.773Z"
   },
   {
    "duration": 5,
    "start_time": "2021-07-07T18:15:53.791Z"
   },
   {
    "duration": 19,
    "start_time": "2021-07-07T18:15:53.798Z"
   },
   {
    "duration": 9,
    "start_time": "2021-07-07T18:15:53.818Z"
   },
   {
    "duration": 19,
    "start_time": "2021-07-07T18:15:53.828Z"
   },
   {
    "duration": 27,
    "start_time": "2021-07-07T18:15:53.848Z"
   },
   {
    "duration": 16,
    "start_time": "2021-07-07T18:15:53.884Z"
   },
   {
    "duration": 29,
    "start_time": "2021-07-07T18:15:53.901Z"
   },
   {
    "duration": 5,
    "start_time": "2021-07-07T18:15:53.932Z"
   },
   {
    "duration": 15,
    "start_time": "2021-07-07T18:15:53.939Z"
   },
   {
    "duration": 13,
    "start_time": "2021-07-07T18:15:53.956Z"
   },
   {
    "duration": 20,
    "start_time": "2021-07-07T18:15:53.971Z"
   },
   {
    "duration": 14,
    "start_time": "2021-07-07T18:15:53.992Z"
   },
   {
    "duration": 9,
    "start_time": "2021-07-07T18:15:54.009Z"
   },
   {
    "duration": 28,
    "start_time": "2021-07-07T18:15:54.020Z"
   },
   {
    "duration": 50,
    "start_time": "2021-07-07T18:15:54.051Z"
   },
   {
    "duration": 8,
    "start_time": "2021-07-07T18:15:54.105Z"
   },
   {
    "duration": 11,
    "start_time": "2021-07-07T18:15:54.115Z"
   },
   {
    "duration": 20,
    "start_time": "2021-07-07T18:15:54.128Z"
   },
   {
    "duration": 13,
    "start_time": "2021-07-07T18:15:54.184Z"
   },
   {
    "duration": 7,
    "start_time": "2021-07-07T18:15:54.199Z"
   },
   {
    "duration": 7,
    "start_time": "2021-07-07T18:17:08.042Z"
   },
   {
    "duration": 8,
    "start_time": "2021-07-07T18:17:21.008Z"
   },
   {
    "duration": 7,
    "start_time": "2021-07-07T18:17:29.003Z"
   },
   {
    "duration": 8,
    "start_time": "2021-07-07T18:17:32.492Z"
   },
   {
    "duration": 9,
    "start_time": "2021-07-07T18:17:41.758Z"
   },
   {
    "duration": 255,
    "start_time": "2021-07-07T18:20:20.897Z"
   },
   {
    "duration": 173,
    "start_time": "2021-07-07T18:20:26.636Z"
   },
   {
    "duration": 7,
    "start_time": "2021-07-07T18:21:47.164Z"
   },
   {
    "duration": 254,
    "start_time": "2021-07-07T18:23:08.703Z"
   },
   {
    "duration": 21,
    "start_time": "2021-07-07T18:23:22.506Z"
   },
   {
    "duration": 315,
    "start_time": "2021-07-07T18:25:54.801Z"
   },
   {
    "duration": 34,
    "start_time": "2021-07-07T18:26:51.817Z"
   },
   {
    "duration": 327,
    "start_time": "2021-07-07T18:26:56.147Z"
   },
   {
    "duration": 342,
    "start_time": "2021-07-07T18:27:15.887Z"
   },
   {
    "duration": 302,
    "start_time": "2021-07-07T18:28:18.569Z"
   },
   {
    "duration": 226,
    "start_time": "2021-07-07T18:29:20.879Z"
   },
   {
    "duration": 207,
    "start_time": "2021-07-07T18:29:58.114Z"
   },
   {
    "duration": 140,
    "start_time": "2021-07-07T18:32:04.372Z"
   },
   {
    "duration": 158,
    "start_time": "2021-07-07T18:32:32.508Z"
   },
   {
    "duration": 145,
    "start_time": "2021-07-07T18:32:41.365Z"
   },
   {
    "duration": 132,
    "start_time": "2021-07-07T18:32:45.199Z"
   },
   {
    "duration": 11,
    "start_time": "2021-07-07T18:35:24.679Z"
   },
   {
    "duration": 268,
    "start_time": "2021-07-07T18:36:16.145Z"
   },
   {
    "duration": 227,
    "start_time": "2021-07-07T18:37:04.918Z"
   },
   {
    "duration": 3,
    "start_time": "2021-07-07T18:37:33.012Z"
   },
   {
    "duration": 671,
    "start_time": "2021-07-07T18:37:38.295Z"
   },
   {
    "duration": 54,
    "start_time": "2021-07-07T18:37:53.406Z"
   },
   {
    "duration": 631,
    "start_time": "2021-07-07T18:37:56.463Z"
   },
   {
    "duration": 19,
    "start_time": "2021-07-07T18:39:40.535Z"
   },
   {
    "duration": 20,
    "start_time": "2021-07-07T18:40:12.236Z"
   },
   {
    "duration": 633,
    "start_time": "2021-07-07T18:42:00.398Z"
   },
   {
    "duration": 218,
    "start_time": "2021-07-07T18:42:01.033Z"
   },
   {
    "duration": 49,
    "start_time": "2021-07-07T18:42:01.253Z"
   },
   {
    "duration": 5,
    "start_time": "2021-07-07T18:42:01.303Z"
   },
   {
    "duration": 27,
    "start_time": "2021-07-07T18:42:01.310Z"
   },
   {
    "duration": 8,
    "start_time": "2021-07-07T18:42:01.339Z"
   },
   {
    "duration": 20,
    "start_time": "2021-07-07T18:42:01.348Z"
   },
   {
    "duration": 6,
    "start_time": "2021-07-07T18:42:01.386Z"
   },
   {
    "duration": 16,
    "start_time": "2021-07-07T18:42:01.394Z"
   },
   {
    "duration": 9,
    "start_time": "2021-07-07T18:42:01.411Z"
   },
   {
    "duration": 11,
    "start_time": "2021-07-07T18:42:01.421Z"
   },
   {
    "duration": 31,
    "start_time": "2021-07-07T18:42:01.434Z"
   },
   {
    "duration": 18,
    "start_time": "2021-07-07T18:42:01.485Z"
   },
   {
    "duration": 23,
    "start_time": "2021-07-07T18:42:01.505Z"
   },
   {
    "duration": 6,
    "start_time": "2021-07-07T18:42:01.530Z"
   },
   {
    "duration": 10,
    "start_time": "2021-07-07T18:42:01.538Z"
   },
   {
    "duration": 13,
    "start_time": "2021-07-07T18:42:01.550Z"
   },
   {
    "duration": 24,
    "start_time": "2021-07-07T18:42:01.564Z"
   },
   {
    "duration": 20,
    "start_time": "2021-07-07T18:42:01.590Z"
   },
   {
    "duration": 8,
    "start_time": "2021-07-07T18:42:01.611Z"
   },
   {
    "duration": 31,
    "start_time": "2021-07-07T18:42:01.620Z"
   },
   {
    "duration": 39,
    "start_time": "2021-07-07T18:42:01.653Z"
   },
   {
    "duration": 8,
    "start_time": "2021-07-07T18:42:01.696Z"
   },
   {
    "duration": 13,
    "start_time": "2021-07-07T18:42:01.705Z"
   },
   {
    "duration": 20,
    "start_time": "2021-07-07T18:42:01.720Z"
   },
   {
    "duration": 12,
    "start_time": "2021-07-07T18:42:01.741Z"
   },
   {
    "duration": 35,
    "start_time": "2021-07-07T18:42:01.755Z"
   },
   {
    "duration": 14,
    "start_time": "2021-07-07T18:42:01.792Z"
   },
   {
    "duration": 188,
    "start_time": "2021-07-07T18:42:01.808Z"
   },
   {
    "duration": 19,
    "start_time": "2021-07-07T18:42:01.998Z"
   },
   {
    "duration": 175,
    "start_time": "2021-07-07T18:42:02.019Z"
   },
   {
    "duration": 134,
    "start_time": "2021-07-07T18:42:02.196Z"
   },
   {
    "duration": 10,
    "start_time": "2021-07-07T18:42:02.331Z"
   },
   {
    "duration": 19,
    "start_time": "2021-07-07T18:42:02.343Z"
   },
   {
    "duration": 628,
    "start_time": "2021-07-07T18:46:30.701Z"
   },
   {
    "duration": 183,
    "start_time": "2021-07-07T18:46:31.331Z"
   },
   {
    "duration": 48,
    "start_time": "2021-07-07T18:46:31.516Z"
   },
   {
    "duration": 5,
    "start_time": "2021-07-07T18:46:31.566Z"
   },
   {
    "duration": 28,
    "start_time": "2021-07-07T18:46:31.572Z"
   },
   {
    "duration": 8,
    "start_time": "2021-07-07T18:46:31.602Z"
   },
   {
    "duration": 19,
    "start_time": "2021-07-07T18:46:31.611Z"
   },
   {
    "duration": 6,
    "start_time": "2021-07-07T18:46:31.633Z"
   },
   {
    "duration": 17,
    "start_time": "2021-07-07T18:46:31.642Z"
   },
   {
    "duration": 10,
    "start_time": "2021-07-07T18:46:31.684Z"
   },
   {
    "duration": 9,
    "start_time": "2021-07-07T18:46:31.695Z"
   },
   {
    "duration": 28,
    "start_time": "2021-07-07T18:46:31.705Z"
   },
   {
    "duration": 18,
    "start_time": "2021-07-07T18:46:31.735Z"
   },
   {
    "duration": 48,
    "start_time": "2021-07-07T18:46:31.755Z"
   },
   {
    "duration": 6,
    "start_time": "2021-07-07T18:46:31.804Z"
   },
   {
    "duration": 4,
    "start_time": "2021-07-07T18:46:31.812Z"
   },
   {
    "duration": 9,
    "start_time": "2021-07-07T18:46:31.817Z"
   },
   {
    "duration": 10,
    "start_time": "2021-07-07T18:46:31.827Z"
   },
   {
    "duration": 12,
    "start_time": "2021-07-07T18:46:31.838Z"
   },
   {
    "duration": 39,
    "start_time": "2021-07-07T18:46:31.851Z"
   },
   {
    "duration": 24,
    "start_time": "2021-07-07T18:46:31.892Z"
   },
   {
    "duration": 15,
    "start_time": "2021-07-07T18:46:31.918Z"
   },
   {
    "duration": 7,
    "start_time": "2021-07-07T18:46:31.936Z"
   },
   {
    "duration": 8,
    "start_time": "2021-07-07T18:46:31.944Z"
   },
   {
    "duration": 19,
    "start_time": "2021-07-07T18:46:31.984Z"
   },
   {
    "duration": 10,
    "start_time": "2021-07-07T18:46:32.004Z"
   },
   {
    "duration": 5,
    "start_time": "2021-07-07T18:46:32.016Z"
   },
   {
    "duration": 9,
    "start_time": "2021-07-07T18:46:32.023Z"
   },
   {
    "duration": 199,
    "start_time": "2021-07-07T18:46:32.033Z"
   },
   {
    "duration": 19,
    "start_time": "2021-07-07T18:46:32.234Z"
   },
   {
    "duration": 159,
    "start_time": "2021-07-07T18:46:32.255Z"
   },
   {
    "duration": 134,
    "start_time": "2021-07-07T18:46:32.416Z"
   },
   {
    "duration": 10,
    "start_time": "2021-07-07T18:46:32.552Z"
   },
   {
    "duration": 34,
    "start_time": "2021-07-07T18:46:32.563Z"
   },
   {
    "duration": 1039,
    "start_time": "2021-07-08T08:41:09.419Z"
   },
   {
    "duration": 333,
    "start_time": "2021-07-08T08:41:10.459Z"
   },
   {
    "duration": 173,
    "start_time": "2021-07-08T08:41:10.794Z"
   },
   {
    "duration": 5,
    "start_time": "2021-07-08T08:41:10.968Z"
   },
   {
    "duration": 25,
    "start_time": "2021-07-08T08:41:10.975Z"
   },
   {
    "duration": 9,
    "start_time": "2021-07-08T08:41:11.002Z"
   },
   {
    "duration": 18,
    "start_time": "2021-07-08T08:41:11.013Z"
   },
   {
    "duration": 6,
    "start_time": "2021-07-08T08:41:11.033Z"
   },
   {
    "duration": 44,
    "start_time": "2021-07-08T08:41:11.042Z"
   },
   {
    "duration": 10,
    "start_time": "2021-07-08T08:41:11.088Z"
   },
   {
    "duration": 9,
    "start_time": "2021-07-08T08:41:11.100Z"
   },
   {
    "duration": 27,
    "start_time": "2021-07-08T08:41:11.111Z"
   },
   {
    "duration": 46,
    "start_time": "2021-07-08T08:41:11.140Z"
   },
   {
    "duration": 17,
    "start_time": "2021-07-08T08:41:11.187Z"
   },
   {
    "duration": 6,
    "start_time": "2021-07-08T08:41:11.206Z"
   },
   {
    "duration": 5,
    "start_time": "2021-07-08T08:41:11.213Z"
   },
   {
    "duration": 10,
    "start_time": "2021-07-08T08:41:11.219Z"
   },
   {
    "duration": 9,
    "start_time": "2021-07-08T08:41:11.230Z"
   },
   {
    "duration": 45,
    "start_time": "2021-07-08T08:41:11.241Z"
   },
   {
    "duration": 7,
    "start_time": "2021-07-08T08:41:11.287Z"
   },
   {
    "duration": 24,
    "start_time": "2021-07-08T08:41:11.296Z"
   },
   {
    "duration": 16,
    "start_time": "2021-07-08T08:41:11.322Z"
   },
   {
    "duration": 7,
    "start_time": "2021-07-08T08:41:11.341Z"
   },
   {
    "duration": 41,
    "start_time": "2021-07-08T08:41:11.349Z"
   },
   {
    "duration": 17,
    "start_time": "2021-07-08T08:41:11.391Z"
   },
   {
    "duration": 9,
    "start_time": "2021-07-08T08:41:11.410Z"
   },
   {
    "duration": 5,
    "start_time": "2021-07-08T08:41:11.421Z"
   },
   {
    "duration": 6,
    "start_time": "2021-07-08T08:41:11.428Z"
   },
   {
    "duration": 198,
    "start_time": "2021-07-08T08:41:11.435Z"
   },
   {
    "duration": 18,
    "start_time": "2021-07-08T08:41:11.635Z"
   },
   {
    "duration": 155,
    "start_time": "2021-07-08T08:41:11.655Z"
   },
   {
    "duration": 138,
    "start_time": "2021-07-08T08:41:11.811Z"
   },
   {
    "duration": 10,
    "start_time": "2021-07-08T08:41:11.950Z"
   },
   {
    "duration": 29,
    "start_time": "2021-07-08T08:41:11.961Z"
   },
   {
    "duration": 171,
    "start_time": "2021-07-08T08:47:44.522Z"
   },
   {
    "duration": 124,
    "start_time": "2021-07-08T08:47:46.872Z"
   },
   {
    "duration": 191,
    "start_time": "2021-07-08T08:47:58.148Z"
   },
   {
    "duration": 191,
    "start_time": "2021-07-08T08:48:07.412Z"
   },
   {
    "duration": 261,
    "start_time": "2021-07-08T08:48:10.385Z"
   },
   {
    "duration": 255,
    "start_time": "2021-07-08T08:48:14.494Z"
   },
   {
    "duration": 219,
    "start_time": "2021-07-08T08:48:22.752Z"
   },
   {
    "duration": 173,
    "start_time": "2021-07-08T08:49:06.395Z"
   },
   {
    "duration": 180,
    "start_time": "2021-07-08T08:49:21.011Z"
   },
   {
    "duration": 6,
    "start_time": "2021-07-08T08:50:31.697Z"
   },
   {
    "duration": 10,
    "start_time": "2021-07-08T08:50:47.394Z"
   },
   {
    "duration": 11,
    "start_time": "2021-07-08T08:53:49.332Z"
   },
   {
    "duration": 171,
    "start_time": "2021-07-08T08:54:28.408Z"
   },
   {
    "duration": 636,
    "start_time": "2021-07-08T09:02:48.385Z"
   },
   {
    "duration": 227,
    "start_time": "2021-07-08T09:02:49.023Z"
   },
   {
    "duration": 104,
    "start_time": "2021-07-08T09:02:49.252Z"
   },
   {
    "duration": 5,
    "start_time": "2021-07-08T09:02:49.358Z"
   },
   {
    "duration": 27,
    "start_time": "2021-07-08T09:02:49.365Z"
   },
   {
    "duration": 8,
    "start_time": "2021-07-08T09:02:49.394Z"
   },
   {
    "duration": 18,
    "start_time": "2021-07-08T09:02:49.404Z"
   },
   {
    "duration": 6,
    "start_time": "2021-07-08T09:02:49.424Z"
   },
   {
    "duration": 11,
    "start_time": "2021-07-08T09:02:49.433Z"
   },
   {
    "duration": 13,
    "start_time": "2021-07-08T09:02:49.485Z"
   },
   {
    "duration": 9,
    "start_time": "2021-07-08T09:02:49.500Z"
   },
   {
    "duration": 38,
    "start_time": "2021-07-08T09:02:49.511Z"
   },
   {
    "duration": 42,
    "start_time": "2021-07-08T09:02:49.551Z"
   },
   {
    "duration": 21,
    "start_time": "2021-07-08T09:02:49.594Z"
   },
   {
    "duration": 6,
    "start_time": "2021-07-08T09:02:49.616Z"
   },
   {
    "duration": 3,
    "start_time": "2021-07-08T09:02:49.623Z"
   },
   {
    "duration": 9,
    "start_time": "2021-07-08T09:02:49.628Z"
   },
   {
    "duration": 52,
    "start_time": "2021-07-08T09:02:49.638Z"
   },
   {
    "duration": 11,
    "start_time": "2021-07-08T09:02:49.692Z"
   },
   {
    "duration": 8,
    "start_time": "2021-07-08T09:02:49.704Z"
   },
   {
    "duration": 27,
    "start_time": "2021-07-08T09:02:49.713Z"
   },
   {
    "duration": 59,
    "start_time": "2021-07-08T09:02:49.741Z"
   },
   {
    "duration": 8,
    "start_time": "2021-07-08T09:02:49.803Z"
   },
   {
    "duration": 14,
    "start_time": "2021-07-08T09:02:49.813Z"
   },
   {
    "duration": 20,
    "start_time": "2021-07-08T09:02:49.829Z"
   },
   {
    "duration": 44,
    "start_time": "2021-07-08T09:02:49.851Z"
   },
   {
    "duration": 14,
    "start_time": "2021-07-08T09:02:49.896Z"
   },
   {
    "duration": 221,
    "start_time": "2021-07-08T09:02:49.912Z"
   },
   {
    "duration": 6,
    "start_time": "2021-07-08T09:02:50.134Z"
   },
   {
    "duration": 206,
    "start_time": "2021-07-08T09:02:50.142Z"
   },
   {
    "duration": 19,
    "start_time": "2021-07-08T09:02:50.350Z"
   },
   {
    "duration": 21,
    "start_time": "2021-07-08T09:02:50.370Z"
   },
   {
    "duration": 20,
    "start_time": "2021-07-08T09:02:50.393Z"
   },
   {
    "duration": 5,
    "start_time": "2021-07-08T09:02:50.414Z"
   },
   {
    "duration": 5,
    "start_time": "2021-07-08T09:03:34.173Z"
   },
   {
    "duration": 6,
    "start_time": "2021-07-08T09:04:49.062Z"
   },
   {
    "duration": 9,
    "start_time": "2021-07-08T09:04:50.118Z"
   },
   {
    "duration": 14,
    "start_time": "2021-07-08T09:04:58.512Z"
   },
   {
    "duration": 9,
    "start_time": "2021-07-08T09:05:10.988Z"
   },
   {
    "duration": 11,
    "start_time": "2021-07-08T09:05:11.743Z"
   },
   {
    "duration": 7,
    "start_time": "2021-07-08T09:05:25.677Z"
   },
   {
    "duration": 13,
    "start_time": "2021-07-08T09:05:47.189Z"
   },
   {
    "duration": 13,
    "start_time": "2021-07-08T09:05:54.755Z"
   },
   {
    "duration": 4,
    "start_time": "2021-07-08T09:06:29.189Z"
   },
   {
    "duration": 244,
    "start_time": "2021-07-08T09:06:29.195Z"
   },
   {
    "duration": 91,
    "start_time": "2021-07-08T09:06:29.441Z"
   },
   {
    "duration": 4,
    "start_time": "2021-07-08T09:06:29.534Z"
   },
   {
    "duration": 28,
    "start_time": "2021-07-08T09:06:29.540Z"
   },
   {
    "duration": 6,
    "start_time": "2021-07-08T09:06:29.570Z"
   },
   {
    "duration": 18,
    "start_time": "2021-07-08T09:06:29.578Z"
   },
   {
    "duration": 5,
    "start_time": "2021-07-08T09:06:29.597Z"
   },
   {
    "duration": 13,
    "start_time": "2021-07-08T09:06:29.605Z"
   },
   {
    "duration": 8,
    "start_time": "2021-07-08T09:06:29.620Z"
   },
   {
    "duration": 7,
    "start_time": "2021-07-08T09:06:29.630Z"
   },
   {
    "duration": 63,
    "start_time": "2021-07-08T09:06:29.639Z"
   },
   {
    "duration": 17,
    "start_time": "2021-07-08T09:06:29.704Z"
   },
   {
    "duration": 20,
    "start_time": "2021-07-08T09:06:29.723Z"
   },
   {
    "duration": 6,
    "start_time": "2021-07-08T09:06:29.745Z"
   },
   {
    "duration": 3,
    "start_time": "2021-07-08T09:06:29.752Z"
   },
   {
    "duration": 7,
    "start_time": "2021-07-08T09:06:29.785Z"
   },
   {
    "duration": 11,
    "start_time": "2021-07-08T09:06:29.794Z"
   },
   {
    "duration": 15,
    "start_time": "2021-07-08T09:06:29.807Z"
   },
   {
    "duration": 8,
    "start_time": "2021-07-08T09:06:29.823Z"
   },
   {
    "duration": 70,
    "start_time": "2021-07-08T09:06:29.832Z"
   },
   {
    "duration": 17,
    "start_time": "2021-07-08T09:06:29.903Z"
   },
   {
    "duration": 9,
    "start_time": "2021-07-08T09:06:29.921Z"
   },
   {
    "duration": 9,
    "start_time": "2021-07-08T09:06:29.932Z"
   },
   {
    "duration": 57,
    "start_time": "2021-07-08T09:06:29.942Z"
   },
   {
    "duration": 11,
    "start_time": "2021-07-08T09:06:30.001Z"
   },
   {
    "duration": 19,
    "start_time": "2021-07-08T09:06:30.016Z"
   },
   {
    "duration": 217,
    "start_time": "2021-07-08T09:06:30.037Z"
   },
   {
    "duration": 6,
    "start_time": "2021-07-08T09:06:30.255Z"
   },
   {
    "duration": 205,
    "start_time": "2021-07-08T09:06:30.263Z"
   },
   {
    "duration": 27,
    "start_time": "2021-07-08T09:06:30.470Z"
   },
   {
    "duration": 11,
    "start_time": "2021-07-08T09:06:30.500Z"
   },
   {
    "duration": 31,
    "start_time": "2021-07-08T09:06:30.513Z"
   },
   {
    "duration": 18,
    "start_time": "2021-07-08T09:06:30.546Z"
   },
   {
    "duration": 11,
    "start_time": "2021-07-08T09:06:30.566Z"
   },
   {
    "duration": 19,
    "start_time": "2021-07-08T09:06:30.579Z"
   },
   {
    "duration": 20,
    "start_time": "2021-07-08T09:06:49.466Z"
   },
   {
    "duration": 9,
    "start_time": "2021-07-08T09:06:51.994Z"
   },
   {
    "duration": 20,
    "start_time": "2021-07-08T09:06:52.273Z"
   },
   {
    "duration": 246,
    "start_time": "2021-07-08T09:10:21.272Z"
   },
   {
    "duration": 84,
    "start_time": "2021-07-08T09:10:21.436Z"
   },
   {
    "duration": 7,
    "start_time": "2021-07-08T09:10:37.608Z"
   },
   {
    "duration": 189,
    "start_time": "2021-07-08T09:10:38.573Z"
   },
   {
    "duration": 185,
    "start_time": "2021-07-08T09:10:53.181Z"
   },
   {
    "duration": 11,
    "start_time": "2021-07-08T09:10:59.549Z"
   },
   {
    "duration": 42,
    "start_time": "2021-07-08T09:10:59.709Z"
   },
   {
    "duration": 12,
    "start_time": "2021-07-08T09:11:02.857Z"
   },
   {
    "duration": 28,
    "start_time": "2021-07-08T09:11:10.062Z"
   },
   {
    "duration": 249,
    "start_time": "2021-07-08T09:11:37.388Z"
   },
   {
    "duration": 232,
    "start_time": "2021-07-08T09:11:49.485Z"
   },
   {
    "duration": 453,
    "start_time": "2021-07-08T09:12:01.546Z"
   },
   {
    "duration": 440,
    "start_time": "2021-07-08T09:12:12.347Z"
   },
   {
    "duration": 213,
    "start_time": "2021-07-08T09:13:32.196Z"
   },
   {
    "duration": 172,
    "start_time": "2021-07-08T09:14:07.400Z"
   },
   {
    "duration": 185,
    "start_time": "2021-07-08T09:14:14.905Z"
   },
   {
    "duration": 209,
    "start_time": "2021-07-08T09:14:40.109Z"
   },
   {
    "duration": 201,
    "start_time": "2021-07-08T09:14:54.506Z"
   },
   {
    "duration": 622,
    "start_time": "2021-07-08T09:18:14.497Z"
   },
   {
    "duration": 220,
    "start_time": "2021-07-08T09:18:15.121Z"
   },
   {
    "duration": 79,
    "start_time": "2021-07-08T09:18:15.343Z"
   },
   {
    "duration": 4,
    "start_time": "2021-07-08T09:18:15.425Z"
   },
   {
    "duration": 24,
    "start_time": "2021-07-08T09:18:15.431Z"
   },
   {
    "duration": 8,
    "start_time": "2021-07-08T09:18:15.457Z"
   },
   {
    "duration": 16,
    "start_time": "2021-07-08T09:18:15.466Z"
   },
   {
    "duration": 5,
    "start_time": "2021-07-08T09:18:15.484Z"
   },
   {
    "duration": 10,
    "start_time": "2021-07-08T09:18:15.493Z"
   },
   {
    "duration": 8,
    "start_time": "2021-07-08T09:18:15.504Z"
   },
   {
    "duration": 7,
    "start_time": "2021-07-08T09:18:15.513Z"
   },
   {
    "duration": 26,
    "start_time": "2021-07-08T09:18:15.522Z"
   },
   {
    "duration": 49,
    "start_time": "2021-07-08T09:18:15.550Z"
   },
   {
    "duration": 21,
    "start_time": "2021-07-08T09:18:15.601Z"
   },
   {
    "duration": 8,
    "start_time": "2021-07-08T09:18:15.624Z"
   },
   {
    "duration": 3,
    "start_time": "2021-07-08T09:18:15.634Z"
   },
   {
    "duration": 8,
    "start_time": "2021-07-08T09:18:15.639Z"
   },
   {
    "duration": 45,
    "start_time": "2021-07-08T09:18:15.649Z"
   },
   {
    "duration": 13,
    "start_time": "2021-07-08T09:18:15.696Z"
   },
   {
    "duration": 10,
    "start_time": "2021-07-08T09:18:15.711Z"
   },
   {
    "duration": 64,
    "start_time": "2021-07-08T09:18:15.722Z"
   },
   {
    "duration": 19,
    "start_time": "2021-07-08T09:18:15.788Z"
   },
   {
    "duration": 9,
    "start_time": "2021-07-08T09:18:15.809Z"
   },
   {
    "duration": 9,
    "start_time": "2021-07-08T09:18:15.820Z"
   },
   {
    "duration": 18,
    "start_time": "2021-07-08T09:18:15.831Z"
   },
   {
    "duration": 43,
    "start_time": "2021-07-08T09:18:15.851Z"
   },
   {
    "duration": 12,
    "start_time": "2021-07-08T09:18:15.897Z"
   },
   {
    "duration": 219,
    "start_time": "2021-07-08T09:18:15.911Z"
   },
   {
    "duration": 8,
    "start_time": "2021-07-08T09:18:16.132Z"
   },
   {
    "duration": 199,
    "start_time": "2021-07-08T09:18:16.141Z"
   },
   {
    "duration": 18,
    "start_time": "2021-07-08T09:18:16.341Z"
   },
   {
    "duration": 24,
    "start_time": "2021-07-08T09:18:16.361Z"
   },
   {
    "duration": 24,
    "start_time": "2021-07-08T09:18:16.387Z"
   },
   {
    "duration": 211,
    "start_time": "2021-07-08T09:18:16.413Z"
   },
   {
    "duration": 18,
    "start_time": "2021-07-08T09:18:16.626Z"
   },
   {
    "duration": 596,
    "start_time": "2021-07-08T10:06:33.623Z"
   },
   {
    "duration": 181,
    "start_time": "2021-07-08T10:06:34.221Z"
   },
   {
    "duration": 176,
    "start_time": "2021-07-08T10:06:34.635Z"
   },
   {
    "duration": 239,
    "start_time": "2021-07-08T10:06:55.572Z"
   },
   {
    "duration": 6,
    "start_time": "2021-07-08T10:06:57.687Z"
   },
   {
    "duration": 4,
    "start_time": "2021-07-08T10:07:03.956Z"
   },
   {
    "duration": 4,
    "start_time": "2021-07-08T10:07:10.376Z"
   },
   {
    "duration": 4,
    "start_time": "2021-07-08T10:17:19.889Z"
   },
   {
    "duration": 3,
    "start_time": "2021-07-08T10:19:19.407Z"
   },
   {
    "duration": 197,
    "start_time": "2021-07-08T10:19:19.412Z"
   },
   {
    "duration": 127,
    "start_time": "2021-07-08T10:19:19.611Z"
   },
   {
    "duration": 4,
    "start_time": "2021-07-08T10:19:19.740Z"
   },
   {
    "duration": 27,
    "start_time": "2021-07-08T10:19:19.746Z"
   },
   {
    "duration": 7,
    "start_time": "2021-07-08T10:19:19.775Z"
   },
   {
    "duration": 30,
    "start_time": "2021-07-08T10:19:19.784Z"
   },
   {
    "duration": 7,
    "start_time": "2021-07-08T10:19:19.817Z"
   },
   {
    "duration": 26,
    "start_time": "2021-07-08T10:19:19.826Z"
   },
   {
    "duration": 18,
    "start_time": "2021-07-08T10:19:19.854Z"
   },
   {
    "duration": 14,
    "start_time": "2021-07-08T10:19:19.874Z"
   },
   {
    "duration": 48,
    "start_time": "2021-07-08T10:19:19.890Z"
   },
   {
    "duration": 17,
    "start_time": "2021-07-08T10:19:19.940Z"
   },
   {
    "duration": 38,
    "start_time": "2021-07-08T10:19:19.959Z"
   },
   {
    "duration": 8,
    "start_time": "2021-07-08T10:19:19.999Z"
   },
   {
    "duration": 15,
    "start_time": "2021-07-08T10:19:20.009Z"
   },
   {
    "duration": 22,
    "start_time": "2021-07-08T10:19:20.026Z"
   },
   {
    "duration": 10,
    "start_time": "2021-07-08T10:19:20.050Z"
   },
   {
    "duration": 10,
    "start_time": "2021-07-08T10:19:20.062Z"
   },
   {
    "duration": 20,
    "start_time": "2021-07-08T10:19:20.073Z"
   },
   {
    "duration": 29,
    "start_time": "2021-07-08T10:19:20.095Z"
   },
   {
    "duration": 17,
    "start_time": "2021-07-08T10:19:20.126Z"
   },
   {
    "duration": 40,
    "start_time": "2021-07-08T10:19:20.146Z"
   },
   {
    "duration": 15,
    "start_time": "2021-07-08T10:19:20.189Z"
   },
   {
    "duration": 19,
    "start_time": "2021-07-08T10:19:20.206Z"
   },
   {
    "duration": 10,
    "start_time": "2021-07-08T10:19:20.226Z"
   },
   {
    "duration": 11,
    "start_time": "2021-07-08T10:19:20.238Z"
   },
   {
    "duration": 297,
    "start_time": "2021-07-08T10:19:20.250Z"
   },
   {
    "duration": 6,
    "start_time": "2021-07-08T10:19:20.549Z"
   },
   {
    "duration": 191,
    "start_time": "2021-07-08T10:19:20.557Z"
   },
   {
    "duration": 19,
    "start_time": "2021-07-08T10:19:20.750Z"
   },
   {
    "duration": 20,
    "start_time": "2021-07-08T10:19:20.771Z"
   },
   {
    "duration": 15,
    "start_time": "2021-07-08T10:19:20.793Z"
   },
   {
    "duration": 222,
    "start_time": "2021-07-08T10:19:20.809Z"
   },
   {
    "duration": 20,
    "start_time": "2021-07-08T10:19:21.033Z"
   },
   {
    "duration": 27,
    "start_time": "2021-07-08T10:45:04.055Z"
   },
   {
    "duration": 8,
    "start_time": "2021-07-08T10:45:08.478Z"
   },
   {
    "duration": 8,
    "start_time": "2021-07-08T10:45:31.982Z"
   },
   {
    "duration": 10,
    "start_time": "2021-07-08T10:46:01.221Z"
   },
   {
    "duration": 17,
    "start_time": "2021-07-08T10:46:40.011Z"
   },
   {
    "duration": 193,
    "start_time": "2021-07-08T10:48:19.471Z"
   },
   {
    "duration": 225,
    "start_time": "2021-07-08T10:49:26.480Z"
   },
   {
    "duration": 204,
    "start_time": "2021-07-08T10:49:59.992Z"
   },
   {
    "duration": 435,
    "start_time": "2021-07-08T10:50:06.779Z"
   },
   {
    "duration": 199,
    "start_time": "2021-07-08T10:50:14.891Z"
   },
   {
    "duration": 204,
    "start_time": "2021-07-08T10:50:18.501Z"
   },
   {
    "duration": 244,
    "start_time": "2021-07-08T10:50:23.359Z"
   },
   {
    "duration": 192,
    "start_time": "2021-07-08T10:50:29.135Z"
   },
   {
    "duration": 218,
    "start_time": "2021-07-08T10:50:33.092Z"
   },
   {
    "duration": 207,
    "start_time": "2021-07-08T10:52:45.381Z"
   },
   {
    "duration": 5,
    "start_time": "2021-07-08T10:53:34.641Z"
   },
   {
    "duration": 196,
    "start_time": "2021-07-08T10:53:41.478Z"
   },
   {
    "duration": 43,
    "start_time": "2021-07-08T10:53:50.335Z"
   },
   {
    "duration": 32,
    "start_time": "2021-07-08T10:53:55.294Z"
   },
   {
    "duration": 55,
    "start_time": "2021-07-08T10:54:09.675Z"
   },
   {
    "duration": 16,
    "start_time": "2021-07-08T10:54:12.260Z"
   },
   {
    "duration": 15,
    "start_time": "2021-07-08T10:54:49.150Z"
   },
   {
    "duration": 20,
    "start_time": "2021-07-08T10:56:07.596Z"
   },
   {
    "duration": 16,
    "start_time": "2021-07-08T10:58:26.276Z"
   },
   {
    "duration": 22,
    "start_time": "2021-07-08T10:59:00.486Z"
   },
   {
    "duration": 18,
    "start_time": "2021-07-08T11:02:09.653Z"
   },
   {
    "duration": 10,
    "start_time": "2021-07-08T11:03:44.331Z"
   },
   {
    "duration": 10,
    "start_time": "2021-07-08T11:03:54.055Z"
   },
   {
    "duration": 12,
    "start_time": "2021-07-08T11:04:41.967Z"
   },
   {
    "duration": 24,
    "start_time": "2021-07-08T11:07:30.732Z"
   },
   {
    "duration": 6,
    "start_time": "2021-07-08T11:07:37.364Z"
   },
   {
    "duration": 16,
    "start_time": "2021-07-08T11:08:01.819Z"
   },
   {
    "duration": 17,
    "start_time": "2021-07-08T11:09:47.488Z"
   },
   {
    "duration": 246,
    "start_time": "2021-07-08T11:10:00.830Z"
   },
   {
    "duration": 18,
    "start_time": "2021-07-08T11:13:55.195Z"
   },
   {
    "duration": 204,
    "start_time": "2021-07-08T11:14:04.951Z"
   },
   {
    "duration": 19,
    "start_time": "2021-07-08T11:15:10.613Z"
   },
   {
    "duration": 680,
    "start_time": "2021-07-08T11:16:25.793Z"
   },
   {
    "duration": 451,
    "start_time": "2021-07-08T11:16:40.313Z"
   },
   {
    "duration": 469,
    "start_time": "2021-07-08T11:17:21.286Z"
   },
   {
    "duration": 20,
    "start_time": "2021-07-08T11:19:12.554Z"
   },
   {
    "duration": 35,
    "start_time": "2021-07-08T11:20:05.484Z"
   },
   {
    "duration": 53,
    "start_time": "2021-07-08T11:21:40.050Z"
   },
   {
    "duration": 13,
    "start_time": "2021-07-08T11:22:26.059Z"
   },
   {
    "duration": 19,
    "start_time": "2021-07-08T11:22:47.419Z"
   },
   {
    "duration": 25,
    "start_time": "2021-07-08T11:23:19.958Z"
   },
   {
    "duration": 29,
    "start_time": "2021-07-08T11:23:25.415Z"
   },
   {
    "duration": 10,
    "start_time": "2021-07-08T11:24:45.138Z"
   },
   {
    "duration": 19,
    "start_time": "2021-07-08T11:24:54.498Z"
   },
   {
    "duration": 12,
    "start_time": "2021-07-08T11:25:32.225Z"
   },
   {
    "duration": 19,
    "start_time": "2021-07-08T11:25:37.092Z"
   },
   {
    "duration": 17,
    "start_time": "2021-07-08T11:25:58.116Z"
   },
   {
    "duration": 15,
    "start_time": "2021-07-08T11:26:02.258Z"
   },
   {
    "duration": 8,
    "start_time": "2021-07-08T11:26:59.682Z"
   },
   {
    "duration": 184,
    "start_time": "2021-07-08T11:27:21.894Z"
   },
   {
    "duration": 8,
    "start_time": "2021-07-08T11:27:23.824Z"
   },
   {
    "duration": 202,
    "start_time": "2021-07-08T11:27:23.962Z"
   },
   {
    "duration": 360,
    "start_time": "2021-07-08T11:28:33.215Z"
   },
   {
    "duration": 231,
    "start_time": "2021-07-08T11:32:05.542Z"
   },
   {
    "duration": 607,
    "start_time": "2021-07-08T11:36:27.854Z"
   },
   {
    "duration": 241,
    "start_time": "2021-07-08T11:36:28.463Z"
   },
   {
    "duration": 67,
    "start_time": "2021-07-08T11:36:28.709Z"
   },
   {
    "duration": 5,
    "start_time": "2021-07-08T11:36:28.778Z"
   },
   {
    "duration": 32,
    "start_time": "2021-07-08T11:36:28.784Z"
   },
   {
    "duration": 11,
    "start_time": "2021-07-08T11:36:28.819Z"
   },
   {
    "duration": 20,
    "start_time": "2021-07-08T11:36:28.834Z"
   },
   {
    "duration": 36,
    "start_time": "2021-07-08T11:36:28.857Z"
   },
   {
    "duration": 16,
    "start_time": "2021-07-08T11:36:28.895Z"
   },
   {
    "duration": 14,
    "start_time": "2021-07-08T11:36:28.913Z"
   },
   {
    "duration": 9,
    "start_time": "2021-07-08T11:36:28.930Z"
   },
   {
    "duration": 55,
    "start_time": "2021-07-08T11:36:28.941Z"
   },
   {
    "duration": 27,
    "start_time": "2021-07-08T11:36:28.999Z"
   },
   {
    "duration": 30,
    "start_time": "2021-07-08T11:36:29.028Z"
   },
   {
    "duration": 31,
    "start_time": "2021-07-08T11:36:29.060Z"
   },
   {
    "duration": 3,
    "start_time": "2021-07-08T11:36:29.093Z"
   },
   {
    "duration": 12,
    "start_time": "2021-07-08T11:36:29.099Z"
   },
   {
    "duration": 11,
    "start_time": "2021-07-08T11:36:29.112Z"
   },
   {
    "duration": 12,
    "start_time": "2021-07-08T11:36:29.125Z"
   },
   {
    "duration": 9,
    "start_time": "2021-07-08T11:36:29.139Z"
   },
   {
    "duration": 31,
    "start_time": "2021-07-08T11:36:29.191Z"
   },
   {
    "duration": 17,
    "start_time": "2021-07-08T11:36:29.226Z"
   },
   {
    "duration": 7,
    "start_time": "2021-07-08T11:36:29.245Z"
   },
   {
    "duration": 10,
    "start_time": "2021-07-08T11:36:29.254Z"
   },
   {
    "duration": 30,
    "start_time": "2021-07-08T11:36:29.292Z"
   },
   {
    "duration": 11,
    "start_time": "2021-07-08T11:36:29.324Z"
   },
   {
    "duration": 11,
    "start_time": "2021-07-08T11:36:29.337Z"
   },
   {
    "duration": 230,
    "start_time": "2021-07-08T11:36:29.349Z"
   },
   {
    "duration": 13,
    "start_time": "2021-07-08T11:36:29.588Z"
   },
   {
    "duration": 205,
    "start_time": "2021-07-08T11:36:29.603Z"
   },
   {
    "duration": 20,
    "start_time": "2021-07-08T11:36:29.810Z"
   },
   {
    "duration": 9,
    "start_time": "2021-07-08T11:36:29.832Z"
   },
   {
    "duration": 16,
    "start_time": "2021-07-08T11:36:29.843Z"
   },
   {
    "duration": 283,
    "start_time": "2021-07-08T11:36:29.861Z"
   },
   {
    "duration": 50,
    "start_time": "2021-07-08T11:36:30.146Z"
   },
   {
    "duration": 14,
    "start_time": "2021-07-08T11:36:30.198Z"
   },
   {
    "duration": 11,
    "start_time": "2021-07-08T11:36:30.214Z"
   },
   {
    "duration": 245,
    "start_time": "2021-07-08T11:36:30.227Z"
   },
   {
    "duration": 439,
    "start_time": "2021-07-08T11:36:30.474Z"
   },
   {
    "duration": 210,
    "start_time": "2021-07-08T11:36:30.915Z"
   },
   {
    "duration": 15,
    "start_time": "2021-07-08T11:36:31.127Z"
   },
   {
    "duration": 17,
    "start_time": "2021-07-08T11:38:20.451Z"
   },
   {
    "duration": 642,
    "start_time": "2021-07-08T11:46:17.881Z"
   },
   {
    "duration": 210,
    "start_time": "2021-07-08T11:46:18.525Z"
   },
   {
    "duration": 104,
    "start_time": "2021-07-08T11:46:18.741Z"
   },
   {
    "duration": 8,
    "start_time": "2021-07-08T11:46:18.847Z"
   },
   {
    "duration": 25,
    "start_time": "2021-07-08T11:46:18.857Z"
   },
   {
    "duration": 14,
    "start_time": "2021-07-08T11:46:18.884Z"
   },
   {
    "duration": 22,
    "start_time": "2021-07-08T11:46:18.900Z"
   },
   {
    "duration": 5,
    "start_time": "2021-07-08T11:46:18.924Z"
   },
   {
    "duration": 13,
    "start_time": "2021-07-08T11:46:18.931Z"
   },
   {
    "duration": 45,
    "start_time": "2021-07-08T11:46:18.946Z"
   },
   {
    "duration": 12,
    "start_time": "2021-07-08T11:46:18.993Z"
   },
   {
    "duration": 38,
    "start_time": "2021-07-08T11:46:19.006Z"
   },
   {
    "duration": 50,
    "start_time": "2021-07-08T11:46:19.046Z"
   },
   {
    "duration": 29,
    "start_time": "2021-07-08T11:46:19.099Z"
   },
   {
    "duration": 7,
    "start_time": "2021-07-08T11:46:19.130Z"
   },
   {
    "duration": 3,
    "start_time": "2021-07-08T11:46:19.139Z"
   },
   {
    "duration": 11,
    "start_time": "2021-07-08T11:46:19.144Z"
   },
   {
    "duration": 40,
    "start_time": "2021-07-08T11:46:19.157Z"
   },
   {
    "duration": 15,
    "start_time": "2021-07-08T11:46:19.199Z"
   },
   {
    "duration": 10,
    "start_time": "2021-07-08T11:46:19.217Z"
   },
   {
    "duration": 68,
    "start_time": "2021-07-08T11:46:19.230Z"
   },
   {
    "duration": 17,
    "start_time": "2021-07-08T11:46:19.301Z"
   },
   {
    "duration": 7,
    "start_time": "2021-07-08T11:46:19.321Z"
   },
   {
    "duration": 11,
    "start_time": "2021-07-08T11:46:19.330Z"
   },
   {
    "duration": 59,
    "start_time": "2021-07-08T11:46:19.343Z"
   },
   {
    "duration": 17,
    "start_time": "2021-07-08T11:46:19.405Z"
   },
   {
    "duration": 16,
    "start_time": "2021-07-08T11:46:19.424Z"
   },
   {
    "duration": 252,
    "start_time": "2021-07-08T11:46:19.443Z"
   },
   {
    "duration": 9,
    "start_time": "2021-07-08T11:46:19.697Z"
   },
   {
    "duration": 224,
    "start_time": "2021-07-08T11:46:19.708Z"
   },
   {
    "duration": 21,
    "start_time": "2021-07-08T11:46:19.934Z"
   },
   {
    "duration": 9,
    "start_time": "2021-07-08T11:46:19.956Z"
   },
   {
    "duration": 32,
    "start_time": "2021-07-08T11:46:19.967Z"
   },
   {
    "duration": 288,
    "start_time": "2021-07-08T11:46:20.004Z"
   },
   {
    "duration": 23,
    "start_time": "2021-07-08T11:46:20.300Z"
   },
   {
    "duration": 11,
    "start_time": "2021-07-08T11:46:20.325Z"
   },
   {
    "duration": 11,
    "start_time": "2021-07-08T11:46:20.339Z"
   },
   {
    "duration": 259,
    "start_time": "2021-07-08T11:46:20.352Z"
   },
   {
    "duration": 438,
    "start_time": "2021-07-08T11:46:20.613Z"
   },
   {
    "duration": 207,
    "start_time": "2021-07-08T11:46:21.054Z"
   },
   {
    "duration": 27,
    "start_time": "2021-07-08T11:46:21.262Z"
   },
   {
    "duration": 19,
    "start_time": "2021-07-08T11:46:21.291Z"
   },
   {
    "duration": 820,
    "start_time": "2021-07-08T11:49:01.655Z"
   },
   {
    "duration": 372,
    "start_time": "2021-07-08T11:49:02.478Z"
   },
   {
    "duration": 98,
    "start_time": "2021-07-08T11:49:02.853Z"
   },
   {
    "duration": 6,
    "start_time": "2021-07-08T11:49:02.953Z"
   },
   {
    "duration": 39,
    "start_time": "2021-07-08T11:49:02.960Z"
   },
   {
    "duration": 9,
    "start_time": "2021-07-08T11:49:03.003Z"
   },
   {
    "duration": 23,
    "start_time": "2021-07-08T11:49:03.014Z"
   },
   {
    "duration": 6,
    "start_time": "2021-07-08T11:49:03.041Z"
   },
   {
    "duration": 20,
    "start_time": "2021-07-08T11:49:03.049Z"
   },
   {
    "duration": 18,
    "start_time": "2021-07-08T11:49:03.084Z"
   },
   {
    "duration": 14,
    "start_time": "2021-07-08T11:49:03.104Z"
   },
   {
    "duration": 39,
    "start_time": "2021-07-08T11:49:03.119Z"
   },
   {
    "duration": 38,
    "start_time": "2021-07-08T11:49:03.160Z"
   },
   {
    "duration": 26,
    "start_time": "2021-07-08T11:49:03.200Z"
   },
   {
    "duration": 7,
    "start_time": "2021-07-08T11:49:03.227Z"
   },
   {
    "duration": 4,
    "start_time": "2021-07-08T11:49:03.236Z"
   },
   {
    "duration": 15,
    "start_time": "2021-07-08T11:49:03.243Z"
   },
   {
    "duration": 21,
    "start_time": "2021-07-08T11:49:03.285Z"
   },
   {
    "duration": 17,
    "start_time": "2021-07-08T11:49:03.309Z"
   },
   {
    "duration": 10,
    "start_time": "2021-07-08T11:49:03.328Z"
   },
   {
    "duration": 65,
    "start_time": "2021-07-08T11:49:03.340Z"
   },
   {
    "duration": 18,
    "start_time": "2021-07-08T11:49:03.407Z"
   },
   {
    "duration": 8,
    "start_time": "2021-07-08T11:49:03.428Z"
   },
   {
    "duration": 15,
    "start_time": "2021-07-08T11:49:03.438Z"
   },
   {
    "duration": 40,
    "start_time": "2021-07-08T11:49:03.455Z"
   },
   {
    "duration": 12,
    "start_time": "2021-07-08T11:49:03.497Z"
   },
   {
    "duration": 29,
    "start_time": "2021-07-08T11:49:03.511Z"
   },
   {
    "duration": 285,
    "start_time": "2021-07-08T11:49:03.542Z"
   },
   {
    "duration": 8,
    "start_time": "2021-07-08T11:49:03.829Z"
   },
   {
    "duration": 227,
    "start_time": "2021-07-08T11:49:03.838Z"
   },
   {
    "duration": 40,
    "start_time": "2021-07-08T11:49:04.066Z"
   },
   {
    "duration": 10,
    "start_time": "2021-07-08T11:49:04.108Z"
   },
   {
    "duration": 26,
    "start_time": "2021-07-08T11:49:04.121Z"
   },
   {
    "duration": 290,
    "start_time": "2021-07-08T11:49:04.149Z"
   },
   {
    "duration": 26,
    "start_time": "2021-07-08T11:49:04.441Z"
   },
   {
    "duration": 31,
    "start_time": "2021-07-08T11:49:04.470Z"
   },
   {
    "duration": 14,
    "start_time": "2021-07-08T11:49:04.503Z"
   },
   {
    "duration": 259,
    "start_time": "2021-07-08T11:49:04.521Z"
   },
   {
    "duration": 480,
    "start_time": "2021-07-08T11:49:04.782Z"
   },
   {
    "duration": 225,
    "start_time": "2021-07-08T11:49:05.264Z"
   },
   {
    "duration": 22,
    "start_time": "2021-07-08T11:49:05.491Z"
   },
   {
    "duration": 24,
    "start_time": "2021-07-08T11:49:05.515Z"
   },
   {
    "duration": 634,
    "start_time": "2021-07-08T11:52:24.960Z"
   },
   {
    "duration": 199,
    "start_time": "2021-07-08T11:52:25.599Z"
   },
   {
    "duration": 106,
    "start_time": "2021-07-08T11:52:25.803Z"
   },
   {
    "duration": 7,
    "start_time": "2021-07-08T11:52:25.911Z"
   },
   {
    "duration": 29,
    "start_time": "2021-07-08T11:52:25.920Z"
   },
   {
    "duration": 7,
    "start_time": "2021-07-08T11:52:25.951Z"
   },
   {
    "duration": 26,
    "start_time": "2021-07-08T11:52:25.961Z"
   },
   {
    "duration": 11,
    "start_time": "2021-07-08T11:52:25.990Z"
   },
   {
    "duration": 29,
    "start_time": "2021-07-08T11:52:26.005Z"
   },
   {
    "duration": 9,
    "start_time": "2021-07-08T11:52:26.036Z"
   },
   {
    "duration": 8,
    "start_time": "2021-07-08T11:52:26.047Z"
   },
   {
    "duration": 63,
    "start_time": "2021-07-08T11:52:26.057Z"
   },
   {
    "duration": 17,
    "start_time": "2021-07-08T11:52:26.122Z"
   },
   {
    "duration": 43,
    "start_time": "2021-07-08T11:52:26.142Z"
   },
   {
    "duration": 17,
    "start_time": "2021-07-08T11:52:26.187Z"
   },
   {
    "duration": 5,
    "start_time": "2021-07-08T11:52:26.206Z"
   },
   {
    "duration": 12,
    "start_time": "2021-07-08T11:52:26.212Z"
   },
   {
    "duration": 11,
    "start_time": "2021-07-08T11:52:26.226Z"
   },
   {
    "duration": 12,
    "start_time": "2021-07-08T11:52:26.238Z"
   },
   {
    "duration": 38,
    "start_time": "2021-07-08T11:52:26.252Z"
   },
   {
    "duration": 40,
    "start_time": "2021-07-08T11:52:26.292Z"
   },
   {
    "duration": 17,
    "start_time": "2021-07-08T11:52:26.336Z"
   },
   {
    "duration": 39,
    "start_time": "2021-07-08T11:52:26.355Z"
   },
   {
    "duration": 11,
    "start_time": "2021-07-08T11:52:26.395Z"
   },
   {
    "duration": 23,
    "start_time": "2021-07-08T11:52:26.408Z"
   },
   {
    "duration": 12,
    "start_time": "2021-07-08T11:52:26.432Z"
   },
   {
    "duration": 41,
    "start_time": "2021-07-08T11:52:26.446Z"
   },
   {
    "duration": 215,
    "start_time": "2021-07-08T11:52:26.493Z"
   },
   {
    "duration": 8,
    "start_time": "2021-07-08T11:52:26.710Z"
   },
   {
    "duration": 228,
    "start_time": "2021-07-08T11:52:26.720Z"
   },
   {
    "duration": 18,
    "start_time": "2021-07-08T11:52:26.950Z"
   },
   {
    "duration": 35,
    "start_time": "2021-07-08T11:52:26.969Z"
   },
   {
    "duration": 23,
    "start_time": "2021-07-08T11:52:27.006Z"
   },
   {
    "duration": 258,
    "start_time": "2021-07-08T11:52:27.030Z"
   },
   {
    "duration": 24,
    "start_time": "2021-07-08T11:52:27.290Z"
   },
   {
    "duration": 12,
    "start_time": "2021-07-08T11:52:27.316Z"
   },
   {
    "duration": 10,
    "start_time": "2021-07-08T11:52:27.329Z"
   },
   {
    "duration": 298,
    "start_time": "2021-07-08T11:52:27.341Z"
   },
   {
    "duration": 436,
    "start_time": "2021-07-08T11:52:27.641Z"
   },
   {
    "duration": 216,
    "start_time": "2021-07-08T11:52:28.079Z"
   },
   {
    "duration": 20,
    "start_time": "2021-07-08T11:52:28.297Z"
   },
   {
    "duration": 17,
    "start_time": "2021-07-08T11:52:28.319Z"
   },
   {
    "duration": 105,
    "start_time": "2024-12-17T15:00:52.343Z"
   },
   {
    "duration": 563,
    "start_time": "2024-12-17T15:00:58.980Z"
   },
   {
    "duration": 176,
    "start_time": "2024-12-17T15:01:18.824Z"
   },
   {
    "duration": 570,
    "start_time": "2024-12-17T15:03:22.895Z"
   },
   {
    "duration": 84,
    "start_time": "2024-12-17T15:03:43.146Z"
   },
   {
    "duration": 23,
    "start_time": "2024-12-17T15:04:03.437Z"
   },
   {
    "duration": 18,
    "start_time": "2024-12-17T15:04:13.474Z"
   },
   {
    "duration": 11,
    "start_time": "2024-12-17T15:04:24.061Z"
   },
   {
    "duration": 8,
    "start_time": "2024-12-17T15:05:28.878Z"
   },
   {
    "duration": 53,
    "start_time": "2024-12-18T15:17:07.223Z"
   },
   {
    "duration": 1193,
    "start_time": "2024-12-18T15:17:11.615Z"
   },
   {
    "duration": 18,
    "start_time": "2024-12-18T15:17:12.811Z"
   },
   {
    "duration": 17,
    "start_time": "2024-12-18T15:17:12.834Z"
   },
   {
    "duration": 115,
    "start_time": "2024-12-18T15:17:12.852Z"
   },
   {
    "duration": 17,
    "start_time": "2024-12-18T15:18:44.702Z"
   },
   {
    "duration": 13,
    "start_time": "2024-12-18T15:19:16.749Z"
   },
   {
    "duration": 50,
    "start_time": "2024-12-19T09:17:54.878Z"
   },
   {
    "duration": 1084,
    "start_time": "2024-12-19T09:17:59.494Z"
   },
   {
    "duration": 17,
    "start_time": "2024-12-19T09:18:00.581Z"
   },
   {
    "duration": 25,
    "start_time": "2024-12-19T09:18:00.599Z"
   },
   {
    "duration": 26,
    "start_time": "2024-12-19T09:18:00.626Z"
   },
   {
    "duration": 15,
    "start_time": "2024-12-19T09:18:00.653Z"
   },
   {
    "duration": 79,
    "start_time": "2024-12-19T09:18:23.435Z"
   },
   {
    "duration": 552,
    "start_time": "2024-12-19T09:18:29.575Z"
   },
   {
    "duration": 15,
    "start_time": "2024-12-19T09:24:53.772Z"
   },
   {
    "duration": 12,
    "start_time": "2024-12-19T09:25:21.313Z"
   },
   {
    "duration": 356,
    "start_time": "2024-12-19T09:32:35.533Z"
   },
   {
    "duration": 349,
    "start_time": "2024-12-19T09:33:37.958Z"
   },
   {
    "duration": 740,
    "start_time": "2024-12-19T09:34:10.922Z"
   },
   {
    "duration": 8,
    "start_time": "2024-12-19T09:35:11.912Z"
   },
   {
    "duration": 31,
    "start_time": "2024-12-19T09:35:18.627Z"
   },
   {
    "duration": 1628,
    "start_time": "2024-12-19T09:37:54.153Z"
   },
   {
    "duration": 1433,
    "start_time": "2024-12-19T09:38:22.301Z"
   },
   {
    "duration": 13,
    "start_time": "2024-12-19T09:40:19.430Z"
   },
   {
    "duration": 14,
    "start_time": "2024-12-19T09:41:45.806Z"
   },
   {
    "duration": 27,
    "start_time": "2024-12-19T09:42:35.291Z"
   },
   {
    "duration": 12,
    "start_time": "2024-12-19T10:43:48.350Z"
   },
   {
    "duration": 426,
    "start_time": "2024-12-19T10:46:22.740Z"
   },
   {
    "duration": 8,
    "start_time": "2024-12-19T10:48:05.848Z"
   },
   {
    "duration": 4,
    "start_time": "2024-12-19T10:48:19.524Z"
   },
   {
    "duration": 25,
    "start_time": "2024-12-19T10:48:25.527Z"
   },
   {
    "duration": 27,
    "start_time": "2024-12-19T10:49:33.792Z"
   },
   {
    "duration": 28,
    "start_time": "2024-12-19T10:49:49.333Z"
   },
   {
    "duration": 23,
    "start_time": "2024-12-19T10:50:00.276Z"
   },
   {
    "duration": 28,
    "start_time": "2024-12-19T10:50:11.286Z"
   },
   {
    "duration": 11,
    "start_time": "2024-12-19T10:54:12.747Z"
   },
   {
    "duration": 16,
    "start_time": "2024-12-19T10:54:25.416Z"
   },
   {
    "duration": 27,
    "start_time": "2024-12-19T10:54:35.944Z"
   },
   {
    "duration": 6,
    "start_time": "2024-12-19T10:55:03.009Z"
   },
   {
    "duration": 17,
    "start_time": "2024-12-19T10:55:12.940Z"
   },
   {
    "duration": 10,
    "start_time": "2024-12-19T10:56:00.312Z"
   },
   {
    "duration": 16,
    "start_time": "2024-12-19T10:56:09.092Z"
   },
   {
    "duration": 801,
    "start_time": "2024-12-19T10:56:29.137Z"
   },
   {
    "duration": 23,
    "start_time": "2024-12-19T10:56:29.939Z"
   },
   {
    "duration": 30,
    "start_time": "2024-12-19T10:56:29.963Z"
   },
   {
    "duration": 10,
    "start_time": "2024-12-19T10:56:29.995Z"
   },
   {
    "duration": 74,
    "start_time": "2024-12-19T10:56:30.007Z"
   },
   {
    "duration": 37,
    "start_time": "2024-12-19T10:56:30.083Z"
   },
   {
    "duration": 68,
    "start_time": "2024-12-19T10:56:30.122Z"
   },
   {
    "duration": 21,
    "start_time": "2024-12-19T10:56:30.191Z"
   },
   {
    "duration": 31,
    "start_time": "2024-12-19T11:04:39.563Z"
   },
   {
    "duration": 5,
    "start_time": "2024-12-19T11:27:32.770Z"
   },
   {
    "duration": 16,
    "start_time": "2024-12-19T11:27:41.413Z"
   },
   {
    "duration": 848,
    "start_time": "2024-12-19T11:27:49.210Z"
   },
   {
    "duration": 18,
    "start_time": "2024-12-19T11:27:50.060Z"
   },
   {
    "duration": 37,
    "start_time": "2024-12-19T11:27:50.080Z"
   },
   {
    "duration": 11,
    "start_time": "2024-12-19T11:27:50.119Z"
   },
   {
    "duration": 38,
    "start_time": "2024-12-19T11:27:50.132Z"
   },
   {
    "duration": 28,
    "start_time": "2024-12-19T11:27:50.172Z"
   },
   {
    "duration": 83,
    "start_time": "2024-12-19T11:27:50.201Z"
   },
   {
    "duration": 13,
    "start_time": "2024-12-19T11:27:50.286Z"
   },
   {
    "duration": 17,
    "start_time": "2024-12-19T11:27:50.301Z"
   },
   {
    "duration": 18,
    "start_time": "2024-12-19T11:34:12.519Z"
   },
   {
    "duration": 20,
    "start_time": "2024-12-19T11:34:23.274Z"
   },
   {
    "duration": 80,
    "start_time": "2024-12-19T11:34:41.039Z"
   },
   {
    "duration": 8,
    "start_time": "2024-12-19T11:34:50.115Z"
   },
   {
    "duration": 22,
    "start_time": "2024-12-19T11:34:50.843Z"
   },
   {
    "duration": 4,
    "start_time": "2024-12-19T11:35:12.291Z"
   },
   {
    "duration": 4,
    "start_time": "2024-12-19T11:35:12.793Z"
   },
   {
    "duration": 8,
    "start_time": "2024-12-19T11:35:13.019Z"
   },
   {
    "duration": 21,
    "start_time": "2024-12-19T11:35:13.211Z"
   },
   {
    "duration": 15,
    "start_time": "2024-12-19T12:10:26.603Z"
   },
   {
    "duration": 9,
    "start_time": "2024-12-19T12:11:45.558Z"
   },
   {
    "duration": 22,
    "start_time": "2024-12-19T12:11:47.454Z"
   },
   {
    "duration": 15,
    "start_time": "2024-12-19T12:11:51.553Z"
   },
   {
    "duration": 11,
    "start_time": "2024-12-19T12:19:19.582Z"
   },
   {
    "duration": 25,
    "start_time": "2024-12-19T12:19:20.197Z"
   },
   {
    "duration": 15,
    "start_time": "2024-12-19T12:19:22.705Z"
   },
   {
    "duration": 12,
    "start_time": "2024-12-19T12:21:27.978Z"
   },
   {
    "duration": 30,
    "start_time": "2024-12-19T12:21:28.706Z"
   },
   {
    "duration": 14,
    "start_time": "2024-12-19T12:21:32.214Z"
   },
   {
    "duration": 867,
    "start_time": "2024-12-19T12:21:48.129Z"
   },
   {
    "duration": 18,
    "start_time": "2024-12-19T12:21:48.998Z"
   },
   {
    "duration": 68,
    "start_time": "2024-12-19T12:21:49.018Z"
   },
   {
    "duration": 11,
    "start_time": "2024-12-19T12:21:49.088Z"
   },
   {
    "duration": 22,
    "start_time": "2024-12-19T12:21:49.101Z"
   },
   {
    "duration": 10,
    "start_time": "2024-12-19T12:21:49.125Z"
   },
   {
    "duration": 55,
    "start_time": "2024-12-19T12:21:49.137Z"
   },
   {
    "duration": 16,
    "start_time": "2024-12-19T12:21:49.193Z"
   },
   {
    "duration": 64,
    "start_time": "2024-12-19T12:21:49.211Z"
   },
   {
    "duration": 44,
    "start_time": "2024-12-19T12:21:49.276Z"
   },
   {
    "duration": 24,
    "start_time": "2024-12-19T12:21:49.322Z"
   },
   {
    "duration": 18,
    "start_time": "2024-12-19T12:43:49.307Z"
   },
   {
    "duration": 30,
    "start_time": "2024-12-19T12:44:02.333Z"
   },
   {
    "duration": 13,
    "start_time": "2024-12-19T12:44:08.850Z"
   },
   {
    "duration": 7,
    "start_time": "2024-12-19T12:49:11.711Z"
   },
   {
    "duration": 28,
    "start_time": "2024-12-19T12:49:38.555Z"
   },
   {
    "duration": 6,
    "start_time": "2024-12-19T12:50:10.318Z"
   },
   {
    "duration": 21,
    "start_time": "2024-12-19T12:50:46.550Z"
   },
   {
    "duration": 5,
    "start_time": "2024-12-19T12:51:03.163Z"
   },
   {
    "duration": 23,
    "start_time": "2024-12-19T13:46:10.935Z"
   },
   {
    "duration": 16,
    "start_time": "2024-12-19T13:46:30.466Z"
   },
   {
    "duration": 37,
    "start_time": "2024-12-19T13:51:01.747Z"
   },
   {
    "duration": 15,
    "start_time": "2024-12-19T13:57:13.428Z"
   },
   {
    "duration": 31,
    "start_time": "2024-12-19T13:57:26.380Z"
   },
   {
    "duration": 5,
    "start_time": "2024-12-19T13:57:49.305Z"
   },
   {
    "duration": 6,
    "start_time": "2024-12-19T13:58:13.042Z"
   },
   {
    "duration": 4,
    "start_time": "2024-12-19T13:58:51.673Z"
   },
   {
    "duration": 6,
    "start_time": "2024-12-19T13:59:03.597Z"
   },
   {
    "duration": 841,
    "start_time": "2024-12-19T14:00:04.211Z"
   },
   {
    "duration": 19,
    "start_time": "2024-12-19T14:00:05.054Z"
   },
   {
    "duration": 79,
    "start_time": "2024-12-19T14:00:05.077Z"
   },
   {
    "duration": 46,
    "start_time": "2024-12-19T14:00:05.158Z"
   },
   {
    "duration": 58,
    "start_time": "2024-12-19T14:00:05.206Z"
   },
   {
    "duration": 31,
    "start_time": "2024-12-19T14:00:05.266Z"
   },
   {
    "duration": 41,
    "start_time": "2024-12-19T14:00:05.299Z"
   },
   {
    "duration": 33,
    "start_time": "2024-12-19T14:00:05.342Z"
   },
   {
    "duration": 62,
    "start_time": "2024-12-19T14:00:05.378Z"
   },
   {
    "duration": 51,
    "start_time": "2024-12-19T14:00:05.442Z"
   },
   {
    "duration": 100,
    "start_time": "2024-12-19T14:00:05.495Z"
   },
   {
    "duration": 66,
    "start_time": "2024-12-19T14:00:05.596Z"
   },
   {
    "duration": 30,
    "start_time": "2024-12-19T14:00:05.663Z"
   },
   {
    "duration": 16,
    "start_time": "2024-12-19T14:00:30.889Z"
   },
   {
    "duration": 5504,
    "start_time": "2024-12-19T14:34:10.803Z"
   },
   {
    "duration": 11,
    "start_time": "2024-12-19T14:34:51.831Z"
   },
   {
    "duration": 8,
    "start_time": "2024-12-19T14:35:35.371Z"
   },
   {
    "duration": 9,
    "start_time": "2024-12-19T14:35:48.809Z"
   },
   {
    "duration": 17,
    "start_time": "2024-12-19T14:35:59.723Z"
   },
   {
    "duration": 5,
    "start_time": "2024-12-19T14:46:56.813Z"
   },
   {
    "duration": 17,
    "start_time": "2024-12-19T14:46:58.705Z"
   },
   {
    "duration": 6,
    "start_time": "2024-12-19T14:47:47.727Z"
   },
   {
    "duration": 4,
    "start_time": "2024-12-19T14:48:27.090Z"
   },
   {
    "duration": 108,
    "start_time": "2024-12-19T14:48:27.701Z"
   },
   {
    "duration": 1021,
    "start_time": "2024-12-19T14:48:41.998Z"
   },
   {
    "duration": 0,
    "start_time": "2024-12-19T14:48:43.021Z"
   },
   {
    "duration": 1107,
    "start_time": "2024-12-19T14:49:03.121Z"
   },
   {
    "duration": 0,
    "start_time": "2024-12-19T14:49:04.230Z"
   },
   {
    "duration": 833,
    "start_time": "2024-12-19T14:49:09.829Z"
   },
   {
    "duration": 18,
    "start_time": "2024-12-19T14:49:10.664Z"
   },
   {
    "duration": 35,
    "start_time": "2024-12-19T14:49:10.684Z"
   },
   {
    "duration": 11,
    "start_time": "2024-12-19T14:49:10.721Z"
   },
   {
    "duration": 26,
    "start_time": "2024-12-19T14:49:10.734Z"
   },
   {
    "duration": 11,
    "start_time": "2024-12-19T14:49:10.761Z"
   },
   {
    "duration": 14,
    "start_time": "2024-12-19T14:49:10.774Z"
   },
   {
    "duration": 21,
    "start_time": "2024-12-19T14:49:10.789Z"
   },
   {
    "duration": 38,
    "start_time": "2024-12-19T14:49:10.811Z"
   },
   {
    "duration": 35,
    "start_time": "2024-12-19T14:49:10.850Z"
   },
   {
    "duration": 23,
    "start_time": "2024-12-19T14:49:10.887Z"
   },
   {
    "duration": 5,
    "start_time": "2024-12-19T14:49:10.911Z"
   },
   {
    "duration": 6,
    "start_time": "2024-12-19T14:49:10.917Z"
   },
   {
    "duration": 22,
    "start_time": "2024-12-19T14:49:10.925Z"
   },
   {
    "duration": 21,
    "start_time": "2024-12-19T15:04:03.951Z"
   },
   {
    "duration": 92,
    "start_time": "2024-12-19T15:06:00.575Z"
   },
   {
    "duration": 78,
    "start_time": "2024-12-19T15:06:03.862Z"
   },
   {
    "duration": 9,
    "start_time": "2024-12-19T15:07:27.487Z"
   },
   {
    "duration": 6,
    "start_time": "2024-12-19T15:07:38.812Z"
   },
   {
    "duration": 6,
    "start_time": "2024-12-19T15:07:54.927Z"
   },
   {
    "duration": 6,
    "start_time": "2024-12-19T15:08:45.577Z"
   },
   {
    "duration": 4,
    "start_time": "2024-12-19T15:09:17.944Z"
   },
   {
    "duration": 7,
    "start_time": "2024-12-19T15:09:34.339Z"
   },
   {
    "duration": 7,
    "start_time": "2024-12-19T15:11:26.180Z"
   },
   {
    "duration": 5,
    "start_time": "2024-12-19T15:11:26.547Z"
   },
   {
    "duration": 823,
    "start_time": "2024-12-19T15:11:56.031Z"
   },
   {
    "duration": 18,
    "start_time": "2024-12-19T15:11:56.856Z"
   },
   {
    "duration": 32,
    "start_time": "2024-12-19T15:11:56.875Z"
   },
   {
    "duration": 10,
    "start_time": "2024-12-19T15:11:56.908Z"
   },
   {
    "duration": 24,
    "start_time": "2024-12-19T15:11:56.920Z"
   },
   {
    "duration": 11,
    "start_time": "2024-12-19T15:11:56.945Z"
   },
   {
    "duration": 13,
    "start_time": "2024-12-19T15:11:56.958Z"
   },
   {
    "duration": 24,
    "start_time": "2024-12-19T15:11:56.973Z"
   },
   {
    "duration": 35,
    "start_time": "2024-12-19T15:11:56.999Z"
   },
   {
    "duration": 22,
    "start_time": "2024-12-19T15:11:57.036Z"
   },
   {
    "duration": 12,
    "start_time": "2024-12-19T15:11:57.059Z"
   },
   {
    "duration": 14,
    "start_time": "2024-12-19T15:11:57.072Z"
   },
   {
    "duration": 10,
    "start_time": "2024-12-19T15:11:57.088Z"
   },
   {
    "duration": 30,
    "start_time": "2024-12-19T15:11:57.101Z"
   },
   {
    "duration": 18,
    "start_time": "2024-12-19T15:11:57.133Z"
   },
   {
    "duration": 6,
    "start_time": "2024-12-19T15:11:57.153Z"
   },
   {
    "duration": 11,
    "start_time": "2024-12-19T15:11:57.160Z"
   },
   {
    "duration": 9,
    "start_time": "2024-12-19T15:11:57.173Z"
   },
   {
    "duration": 11,
    "start_time": "2024-12-19T15:12:57.770Z"
   },
   {
    "duration": 5,
    "start_time": "2024-12-19T15:12:58.184Z"
   },
   {
    "duration": 4,
    "start_time": "2024-12-19T15:12:58.441Z"
   },
   {
    "duration": 16,
    "start_time": "2024-12-19T15:12:58.624Z"
   },
   {
    "duration": 17,
    "start_time": "2024-12-19T15:12:59.232Z"
   },
   {
    "duration": 6,
    "start_time": "2024-12-19T15:12:59.600Z"
   },
   {
    "duration": 7,
    "start_time": "2024-12-19T15:12:59.776Z"
   },
   {
    "duration": 6,
    "start_time": "2024-12-19T15:12:59.969Z"
   },
   {
    "duration": 7,
    "start_time": "2024-12-19T15:13:55.737Z"
   },
   {
    "duration": 1098,
    "start_time": "2024-12-20T11:39:06.857Z"
   },
   {
    "duration": 19,
    "start_time": "2024-12-20T11:39:07.957Z"
   },
   {
    "duration": 38,
    "start_time": "2024-12-20T11:39:07.978Z"
   },
   {
    "duration": 11,
    "start_time": "2024-12-20T11:39:08.019Z"
   },
   {
    "duration": 25,
    "start_time": "2024-12-20T11:39:08.031Z"
   },
   {
    "duration": 34,
    "start_time": "2024-12-20T11:39:08.058Z"
   },
   {
    "duration": 17,
    "start_time": "2024-12-20T11:39:08.094Z"
   },
   {
    "duration": 24,
    "start_time": "2024-12-20T11:39:08.112Z"
   },
   {
    "duration": 46,
    "start_time": "2024-12-20T11:39:08.137Z"
   },
   {
    "duration": 24,
    "start_time": "2024-12-20T11:39:08.186Z"
   },
   {
    "duration": 13,
    "start_time": "2024-12-20T11:39:08.212Z"
   },
   {
    "duration": 9,
    "start_time": "2024-12-20T11:39:08.227Z"
   },
   {
    "duration": 16,
    "start_time": "2024-12-20T11:39:08.238Z"
   },
   {
    "duration": 31,
    "start_time": "2024-12-20T11:39:08.256Z"
   },
   {
    "duration": 31,
    "start_time": "2024-12-20T11:39:08.289Z"
   },
   {
    "duration": 9,
    "start_time": "2024-12-20T11:39:08.322Z"
   },
   {
    "duration": 8,
    "start_time": "2024-12-20T11:39:08.333Z"
   },
   {
    "duration": 10,
    "start_time": "2024-12-20T11:39:08.343Z"
   },
   {
    "duration": 7,
    "start_time": "2024-12-20T11:39:08.356Z"
   },
   {
    "duration": 78,
    "start_time": "2024-12-20T11:39:28.735Z"
   },
   {
    "duration": 5,
    "start_time": "2024-12-20T11:39:34.333Z"
   },
   {
    "duration": 6,
    "start_time": "2024-12-20T11:40:38.483Z"
   },
   {
    "duration": 18,
    "start_time": "2024-12-20T11:41:39.828Z"
   },
   {
    "duration": 6,
    "start_time": "2024-12-20T11:42:26.974Z"
   },
   {
    "duration": 8,
    "start_time": "2024-12-20T11:42:31.182Z"
   },
   {
    "duration": 17,
    "start_time": "2024-12-20T11:46:41.557Z"
   },
   {
    "duration": 4,
    "start_time": "2024-12-20T11:49:08.227Z"
   },
   {
    "duration": 4,
    "start_time": "2024-12-20T11:49:17.023Z"
   },
   {
    "duration": 5,
    "start_time": "2024-12-20T11:49:25.280Z"
   },
   {
    "duration": 5,
    "start_time": "2024-12-20T11:49:37.715Z"
   },
   {
    "duration": 5,
    "start_time": "2024-12-20T11:50:34.555Z"
   },
   {
    "duration": 4,
    "start_time": "2024-12-20T11:56:22.349Z"
   },
   {
    "duration": 5,
    "start_time": "2024-12-20T11:56:32.336Z"
   },
   {
    "duration": 5,
    "start_time": "2024-12-20T11:56:33.689Z"
   },
   {
    "duration": 4,
    "start_time": "2024-12-20T11:56:37.859Z"
   },
   {
    "duration": 89,
    "start_time": "2024-12-20T11:56:45.156Z"
   },
   {
    "duration": 4,
    "start_time": "2024-12-20T11:56:51.341Z"
   },
   {
    "duration": 784,
    "start_time": "2024-12-20T11:56:55.781Z"
   },
   {
    "duration": 18,
    "start_time": "2024-12-20T11:56:56.567Z"
   },
   {
    "duration": 39,
    "start_time": "2024-12-20T11:56:56.587Z"
   },
   {
    "duration": 11,
    "start_time": "2024-12-20T11:56:56.628Z"
   },
   {
    "duration": 32,
    "start_time": "2024-12-20T11:56:56.641Z"
   },
   {
    "duration": 12,
    "start_time": "2024-12-20T11:56:56.674Z"
   },
   {
    "duration": 10,
    "start_time": "2024-12-20T11:56:56.687Z"
   },
   {
    "duration": 13,
    "start_time": "2024-12-20T11:56:56.699Z"
   },
   {
    "duration": 33,
    "start_time": "2024-12-20T11:56:56.714Z"
   },
   {
    "duration": 19,
    "start_time": "2024-12-20T11:56:56.750Z"
   },
   {
    "duration": 13,
    "start_time": "2024-12-20T11:56:56.770Z"
   },
   {
    "duration": 4,
    "start_time": "2024-12-20T11:56:56.785Z"
   },
   {
    "duration": 5,
    "start_time": "2024-12-20T11:56:56.791Z"
   },
   {
    "duration": 41,
    "start_time": "2024-12-20T11:56:56.798Z"
   },
   {
    "duration": 44,
    "start_time": "2024-12-20T11:56:56.841Z"
   },
   {
    "duration": 16,
    "start_time": "2024-12-20T11:56:56.887Z"
   },
   {
    "duration": 22,
    "start_time": "2024-12-20T11:56:56.905Z"
   },
   {
    "duration": 5,
    "start_time": "2024-12-20T11:56:56.928Z"
   },
   {
    "duration": 9,
    "start_time": "2024-12-20T11:56:56.934Z"
   },
   {
    "duration": 12,
    "start_time": "2024-12-20T11:56:56.945Z"
   },
   {
    "duration": 7,
    "start_time": "2024-12-20T11:57:14.055Z"
   },
   {
    "duration": 5,
    "start_time": "2024-12-20T11:57:19.644Z"
   },
   {
    "duration": 19,
    "start_time": "2024-12-20T11:57:29.987Z"
   },
   {
    "duration": 125,
    "start_time": "2024-12-20T11:58:12.334Z"
   },
   {
    "duration": 4,
    "start_time": "2024-12-20T11:59:24.387Z"
   },
   {
    "duration": 6,
    "start_time": "2024-12-20T11:59:55.780Z"
   },
   {
    "duration": 10,
    "start_time": "2024-12-20T12:00:07.247Z"
   },
   {
    "duration": 6,
    "start_time": "2024-12-20T12:00:11.726Z"
   },
   {
    "duration": 826,
    "start_time": "2024-12-20T12:00:17.492Z"
   },
   {
    "duration": 22,
    "start_time": "2024-12-20T12:00:18.320Z"
   },
   {
    "duration": 39,
    "start_time": "2024-12-20T12:00:18.345Z"
   },
   {
    "duration": 14,
    "start_time": "2024-12-20T12:00:18.386Z"
   },
   {
    "duration": 44,
    "start_time": "2024-12-20T12:00:18.402Z"
   },
   {
    "duration": 24,
    "start_time": "2024-12-20T12:00:18.448Z"
   },
   {
    "duration": 15,
    "start_time": "2024-12-20T12:00:18.474Z"
   },
   {
    "duration": 16,
    "start_time": "2024-12-20T12:00:18.491Z"
   },
   {
    "duration": 23,
    "start_time": "2024-12-20T12:00:18.508Z"
   },
   {
    "duration": 35,
    "start_time": "2024-12-20T12:00:18.533Z"
   },
   {
    "duration": 17,
    "start_time": "2024-12-20T12:00:18.570Z"
   },
   {
    "duration": 4,
    "start_time": "2024-12-20T12:00:18.589Z"
   },
   {
    "duration": 8,
    "start_time": "2024-12-20T12:00:18.595Z"
   },
   {
    "duration": 27,
    "start_time": "2024-12-20T12:00:18.605Z"
   },
   {
    "duration": 19,
    "start_time": "2024-12-20T12:00:18.634Z"
   },
   {
    "duration": 19,
    "start_time": "2024-12-20T12:00:18.655Z"
   },
   {
    "duration": 30,
    "start_time": "2024-12-20T12:00:18.676Z"
   },
   {
    "duration": 4,
    "start_time": "2024-12-20T12:00:18.708Z"
   },
   {
    "duration": 4,
    "start_time": "2024-12-20T12:00:18.730Z"
   },
   {
    "duration": 21,
    "start_time": "2024-12-20T12:00:18.736Z"
   },
   {
    "duration": 11,
    "start_time": "2024-12-20T12:00:18.759Z"
   },
   {
    "duration": 24,
    "start_time": "2024-12-20T12:00:30.178Z"
   },
   {
    "duration": 6,
    "start_time": "2024-12-20T12:00:36.848Z"
   },
   {
    "duration": 6,
    "start_time": "2024-12-20T12:00:37.112Z"
   },
   {
    "duration": 11,
    "start_time": "2024-12-20T12:00:37.367Z"
   },
   {
    "duration": 5,
    "start_time": "2024-12-20T12:05:16.996Z"
   },
   {
    "duration": 3,
    "start_time": "2024-12-20T12:08:45.440Z"
   },
   {
    "duration": 7,
    "start_time": "2024-12-20T12:09:22.619Z"
   },
   {
    "duration": 5,
    "start_time": "2024-12-20T12:31:22.594Z"
   },
   {
    "duration": 8,
    "start_time": "2024-12-20T12:31:33.261Z"
   },
   {
    "duration": 85,
    "start_time": "2024-12-20T12:32:30.734Z"
   },
   {
    "duration": 19,
    "start_time": "2024-12-20T12:33:18.060Z"
   },
   {
    "duration": 123,
    "start_time": "2024-12-20T12:35:18.939Z"
   },
   {
    "duration": 93,
    "start_time": "2024-12-20T12:35:27.734Z"
   },
   {
    "duration": 107,
    "start_time": "2024-12-20T12:36:49.761Z"
   },
   {
    "duration": 4,
    "start_time": "2024-12-20T12:37:48.465Z"
   },
   {
    "duration": 5,
    "start_time": "2024-12-20T12:37:55.401Z"
   },
   {
    "duration": 4,
    "start_time": "2024-12-20T12:38:33.646Z"
   },
   {
    "duration": 5,
    "start_time": "2024-12-20T12:38:34.356Z"
   },
   {
    "duration": 842,
    "start_time": "2024-12-20T12:38:40.013Z"
   },
   {
    "duration": 18,
    "start_time": "2024-12-20T12:38:40.856Z"
   },
   {
    "duration": 39,
    "start_time": "2024-12-20T12:38:40.877Z"
   },
   {
    "duration": 11,
    "start_time": "2024-12-20T12:38:40.918Z"
   },
   {
    "duration": 29,
    "start_time": "2024-12-20T12:38:40.931Z"
   },
   {
    "duration": 11,
    "start_time": "2024-12-20T12:38:40.962Z"
   },
   {
    "duration": 9,
    "start_time": "2024-12-20T12:38:40.975Z"
   },
   {
    "duration": 14,
    "start_time": "2024-12-20T12:38:40.986Z"
   },
   {
    "duration": 19,
    "start_time": "2024-12-20T12:38:41.002Z"
   },
   {
    "duration": 17,
    "start_time": "2024-12-20T12:38:41.032Z"
   },
   {
    "duration": 24,
    "start_time": "2024-12-20T12:38:41.051Z"
   },
   {
    "duration": 19,
    "start_time": "2024-12-20T12:38:41.077Z"
   },
   {
    "duration": 19,
    "start_time": "2024-12-20T12:38:41.097Z"
   },
   {
    "duration": 24,
    "start_time": "2024-12-20T12:38:41.117Z"
   },
   {
    "duration": 4,
    "start_time": "2024-12-20T12:38:41.143Z"
   },
   {
    "duration": 5,
    "start_time": "2024-12-20T12:38:41.149Z"
   },
   {
    "duration": 15,
    "start_time": "2024-12-20T12:38:41.156Z"
   },
   {
    "duration": 18,
    "start_time": "2024-12-20T12:38:41.173Z"
   },
   {
    "duration": 43,
    "start_time": "2024-12-20T12:38:41.193Z"
   },
   {
    "duration": 19,
    "start_time": "2024-12-20T12:38:41.237Z"
   },
   {
    "duration": 6,
    "start_time": "2024-12-20T12:38:41.258Z"
   },
   {
    "duration": 13,
    "start_time": "2024-12-20T12:38:41.266Z"
   },
   {
    "duration": 8,
    "start_time": "2024-12-20T12:38:41.281Z"
   },
   {
    "duration": 9,
    "start_time": "2024-12-20T12:38:41.290Z"
   },
   {
    "duration": 77,
    "start_time": "2024-12-20T12:40:30.238Z"
   },
   {
    "duration": 836,
    "start_time": "2024-12-20T12:41:12.131Z"
   },
   {
    "duration": 8,
    "start_time": "2024-12-20T12:55:54.815Z"
   },
   {
    "duration": 6,
    "start_time": "2024-12-20T12:56:03.899Z"
   },
   {
    "duration": 19,
    "start_time": "2024-12-20T12:56:29.323Z"
   },
   {
    "duration": 5,
    "start_time": "2024-12-20T12:57:21.207Z"
   },
   {
    "duration": 7,
    "start_time": "2024-12-20T13:16:03.062Z"
   },
   {
    "duration": 7,
    "start_time": "2024-12-20T13:17:01.886Z"
   },
   {
    "duration": 10,
    "start_time": "2024-12-20T13:17:18.956Z"
   },
   {
    "duration": 74,
    "start_time": "2024-12-20T13:24:35.358Z"
   },
   {
    "duration": 11,
    "start_time": "2024-12-20T13:28:29.126Z"
   },
   {
    "duration": 6,
    "start_time": "2024-12-20T13:28:40.195Z"
   },
   {
    "duration": 13,
    "start_time": "2024-12-20T13:28:52.363Z"
   },
   {
    "duration": 5,
    "start_time": "2024-12-20T13:29:03.190Z"
   },
   {
    "duration": 5,
    "start_time": "2024-12-20T13:29:11.227Z"
   },
   {
    "duration": 6,
    "start_time": "2024-12-20T13:31:04.957Z"
   },
   {
    "duration": 4,
    "start_time": "2024-12-20T13:42:16.469Z"
   },
   {
    "duration": 1830,
    "start_time": "2024-12-20T13:46:27.682Z"
   },
   {
    "duration": 2019,
    "start_time": "2024-12-20T13:54:03.192Z"
   },
   {
    "duration": 337,
    "start_time": "2024-12-20T13:55:25.807Z"
   },
   {
    "duration": 9,
    "start_time": "2024-12-20T13:58:20.849Z"
   },
   {
    "duration": 20,
    "start_time": "2024-12-20T13:59:28.917Z"
   },
   {
    "duration": 7,
    "start_time": "2024-12-20T13:59:53.717Z"
   },
   {
    "duration": 7,
    "start_time": "2024-12-20T14:00:51.357Z"
   },
   {
    "duration": 75,
    "start_time": "2024-12-20T14:09:49.804Z"
   },
   {
    "duration": 5,
    "start_time": "2024-12-20T14:09:50.701Z"
   },
   {
    "duration": 75,
    "start_time": "2024-12-20T14:10:22.918Z"
   },
   {
    "duration": 11,
    "start_time": "2024-12-20T14:10:32.881Z"
   },
   {
    "duration": 6,
    "start_time": "2024-12-20T14:10:50.556Z"
   },
   {
    "duration": 7,
    "start_time": "2024-12-20T14:33:44.748Z"
   },
   {
    "duration": 91,
    "start_time": "2024-12-20T14:34:20.601Z"
   },
   {
    "duration": 42,
    "start_time": "2024-12-20T14:35:08.996Z"
   },
   {
    "duration": 75,
    "start_time": "2024-12-20T14:42:22.038Z"
   },
   {
    "duration": 23,
    "start_time": "2024-12-20T14:42:22.429Z"
   },
   {
    "duration": 6,
    "start_time": "2024-12-20T14:44:44.096Z"
   },
   {
    "duration": 805,
    "start_time": "2024-12-20T14:44:51.885Z"
   },
   {
    "duration": 16,
    "start_time": "2024-12-20T14:44:52.694Z"
   },
   {
    "duration": 43,
    "start_time": "2024-12-20T14:44:52.712Z"
   },
   {
    "duration": 11,
    "start_time": "2024-12-20T14:44:52.756Z"
   },
   {
    "duration": 36,
    "start_time": "2024-12-20T14:44:52.770Z"
   },
   {
    "duration": 22,
    "start_time": "2024-12-20T14:44:52.808Z"
   },
   {
    "duration": 9,
    "start_time": "2024-12-20T14:44:52.831Z"
   },
   {
    "duration": 62,
    "start_time": "2024-12-20T14:44:52.842Z"
   },
   {
    "duration": 47,
    "start_time": "2024-12-20T14:44:52.905Z"
   },
   {
    "duration": 23,
    "start_time": "2024-12-20T14:44:52.954Z"
   },
   {
    "duration": 14,
    "start_time": "2024-12-20T14:44:52.979Z"
   },
   {
    "duration": 31,
    "start_time": "2024-12-20T14:44:52.995Z"
   },
   {
    "duration": 5,
    "start_time": "2024-12-20T14:44:53.027Z"
   },
   {
    "duration": 25,
    "start_time": "2024-12-20T14:44:53.035Z"
   },
   {
    "duration": 39,
    "start_time": "2024-12-20T14:44:53.062Z"
   },
   {
    "duration": 40,
    "start_time": "2024-12-20T14:44:53.103Z"
   },
   {
    "duration": 40,
    "start_time": "2024-12-20T14:44:53.145Z"
   },
   {
    "duration": 13,
    "start_time": "2024-12-20T14:44:53.186Z"
   },
   {
    "duration": 26,
    "start_time": "2024-12-20T14:44:53.201Z"
   },
   {
    "duration": 23,
    "start_time": "2024-12-20T14:44:53.229Z"
   },
   {
    "duration": 11,
    "start_time": "2024-12-20T14:44:53.254Z"
   },
   {
    "duration": 26,
    "start_time": "2024-12-20T14:44:53.266Z"
   },
   {
    "duration": 90,
    "start_time": "2024-12-20T14:44:53.294Z"
   },
   {
    "duration": 65,
    "start_time": "2024-12-20T14:44:53.385Z"
   },
   {
    "duration": 6,
    "start_time": "2024-12-20T14:44:53.453Z"
   },
   {
    "duration": 9,
    "start_time": "2024-12-20T14:45:39.024Z"
   },
   {
    "duration": 6,
    "start_time": "2024-12-20T14:45:55.150Z"
   },
   {
    "duration": 11,
    "start_time": "2024-12-20T14:48:59.645Z"
   },
   {
    "duration": 56,
    "start_time": "2024-12-20T14:48:59.869Z"
   },
   {
    "duration": 24,
    "start_time": "2024-12-20T14:49:00.093Z"
   },
   {
    "duration": 798,
    "start_time": "2024-12-20T14:49:18.404Z"
   },
   {
    "duration": 18,
    "start_time": "2024-12-20T14:49:19.204Z"
   },
   {
    "duration": 46,
    "start_time": "2024-12-20T14:49:19.224Z"
   },
   {
    "duration": 11,
    "start_time": "2024-12-20T14:49:19.272Z"
   },
   {
    "duration": 28,
    "start_time": "2024-12-20T14:49:19.284Z"
   },
   {
    "duration": 16,
    "start_time": "2024-12-20T14:49:19.314Z"
   },
   {
    "duration": 19,
    "start_time": "2024-12-20T14:49:19.332Z"
   },
   {
    "duration": 27,
    "start_time": "2024-12-20T14:49:19.353Z"
   },
   {
    "duration": 19,
    "start_time": "2024-12-20T14:49:19.382Z"
   },
   {
    "duration": 32,
    "start_time": "2024-12-20T14:49:19.404Z"
   },
   {
    "duration": 13,
    "start_time": "2024-12-20T14:49:19.438Z"
   },
   {
    "duration": 4,
    "start_time": "2024-12-20T14:49:19.453Z"
   },
   {
    "duration": 21,
    "start_time": "2024-12-20T14:49:19.459Z"
   },
   {
    "duration": 17,
    "start_time": "2024-12-20T14:49:19.482Z"
   },
   {
    "duration": 37,
    "start_time": "2024-12-20T14:49:19.501Z"
   },
   {
    "duration": 17,
    "start_time": "2024-12-20T14:49:19.540Z"
   },
   {
    "duration": 18,
    "start_time": "2024-12-20T14:49:19.559Z"
   },
   {
    "duration": 4,
    "start_time": "2024-12-20T14:49:19.579Z"
   },
   {
    "duration": 11,
    "start_time": "2024-12-20T14:49:19.584Z"
   },
   {
    "duration": 34,
    "start_time": "2024-12-20T14:49:19.597Z"
   },
   {
    "duration": 15,
    "start_time": "2024-12-20T14:49:19.633Z"
   },
   {
    "duration": 14,
    "start_time": "2024-12-20T14:49:19.650Z"
   },
   {
    "duration": 13,
    "start_time": "2024-12-20T14:49:19.666Z"
   },
   {
    "duration": 73,
    "start_time": "2024-12-20T14:49:19.681Z"
   },
   {
    "duration": 46,
    "start_time": "2024-12-20T14:49:19.756Z"
   },
   {
    "duration": 4,
    "start_time": "2024-12-20T14:49:19.804Z"
   },
   {
    "duration": 79,
    "start_time": "2024-12-20T14:50:33.962Z"
   },
   {
    "duration": 22,
    "start_time": "2024-12-20T14:50:34.153Z"
   },
   {
    "duration": 6,
    "start_time": "2024-12-20T14:56:52.877Z"
   },
   {
    "duration": 789,
    "start_time": "2024-12-20T14:57:01.360Z"
   },
   {
    "duration": 19,
    "start_time": "2024-12-20T14:57:02.151Z"
   },
   {
    "duration": 54,
    "start_time": "2024-12-20T14:57:02.172Z"
   },
   {
    "duration": 163,
    "start_time": "2024-12-20T14:57:02.228Z"
   },
   {
    "duration": 85,
    "start_time": "2024-12-20T14:57:02.393Z"
   },
   {
    "duration": 128,
    "start_time": "2024-12-20T14:57:02.480Z"
   },
   {
    "duration": 56,
    "start_time": "2024-12-20T14:57:02.610Z"
   },
   {
    "duration": 56,
    "start_time": "2024-12-20T14:57:02.667Z"
   },
   {
    "duration": 40,
    "start_time": "2024-12-20T14:57:02.724Z"
   },
   {
    "duration": 75,
    "start_time": "2024-12-20T14:57:02.767Z"
   },
   {
    "duration": 52,
    "start_time": "2024-12-20T14:57:02.844Z"
   },
   {
    "duration": 40,
    "start_time": "2024-12-20T14:57:02.898Z"
   },
   {
    "duration": 41,
    "start_time": "2024-12-20T14:57:02.940Z"
   },
   {
    "duration": 45,
    "start_time": "2024-12-20T14:57:02.983Z"
   },
   {
    "duration": 33,
    "start_time": "2024-12-20T14:57:03.030Z"
   },
   {
    "duration": 38,
    "start_time": "2024-12-20T14:57:03.065Z"
   },
   {
    "duration": 5,
    "start_time": "2024-12-20T14:57:03.105Z"
   },
   {
    "duration": 22,
    "start_time": "2024-12-20T14:57:03.112Z"
   },
   {
    "duration": 30,
    "start_time": "2024-12-20T14:57:03.137Z"
   },
   {
    "duration": 27,
    "start_time": "2024-12-20T14:57:03.169Z"
   },
   {
    "duration": 7,
    "start_time": "2024-12-20T14:57:03.198Z"
   },
   {
    "duration": 113,
    "start_time": "2024-12-20T14:57:03.207Z"
   },
   {
    "duration": 13,
    "start_time": "2024-12-20T14:57:03.321Z"
   },
   {
    "duration": 30,
    "start_time": "2024-12-20T14:57:03.336Z"
   },
   {
    "duration": 1109,
    "start_time": "2024-12-21T13:25:17.221Z"
   },
   {
    "duration": 19,
    "start_time": "2024-12-21T13:25:18.332Z"
   },
   {
    "duration": 32,
    "start_time": "2024-12-21T13:25:18.353Z"
   },
   {
    "duration": 11,
    "start_time": "2024-12-21T13:25:18.387Z"
   },
   {
    "duration": 43,
    "start_time": "2024-12-21T13:25:18.399Z"
   },
   {
    "duration": 11,
    "start_time": "2024-12-21T13:25:18.444Z"
   },
   {
    "duration": 6,
    "start_time": "2024-12-21T13:25:18.457Z"
   },
   {
    "duration": 14,
    "start_time": "2024-12-21T13:25:18.465Z"
   },
   {
    "duration": 20,
    "start_time": "2024-12-21T13:25:18.481Z"
   },
   {
    "duration": 23,
    "start_time": "2024-12-21T13:25:18.537Z"
   },
   {
    "duration": 17,
    "start_time": "2024-12-21T13:25:18.562Z"
   },
   {
    "duration": 5,
    "start_time": "2024-12-21T13:25:18.580Z"
   },
   {
    "duration": 4,
    "start_time": "2024-12-21T13:25:18.587Z"
   },
   {
    "duration": 47,
    "start_time": "2024-12-21T13:25:18.594Z"
   },
   {
    "duration": 6,
    "start_time": "2024-12-21T13:25:18.643Z"
   },
   {
    "duration": 25,
    "start_time": "2024-12-21T13:25:18.650Z"
   },
   {
    "duration": 5,
    "start_time": "2024-12-21T13:25:18.677Z"
   },
   {
    "duration": 15,
    "start_time": "2024-12-21T13:25:18.684Z"
   },
   {
    "duration": 15,
    "start_time": "2024-12-21T13:25:18.701Z"
   },
   {
    "duration": 22,
    "start_time": "2024-12-21T13:25:18.718Z"
   },
   {
    "duration": 5,
    "start_time": "2024-12-21T13:25:18.742Z"
   },
   {
    "duration": 102,
    "start_time": "2024-12-21T13:25:18.748Z"
   },
   {
    "duration": 11,
    "start_time": "2024-12-21T13:25:18.852Z"
   },
   {
    "duration": 4,
    "start_time": "2024-12-21T13:25:18.864Z"
   },
   {
    "duration": 74,
    "start_time": "2024-12-21T13:25:39.055Z"
   },
   {
    "duration": 11,
    "start_time": "2024-12-21T13:25:39.306Z"
   },
   {
    "duration": 799,
    "start_time": "2024-12-21T13:25:47.097Z"
   },
   {
    "duration": 17,
    "start_time": "2024-12-21T13:25:47.898Z"
   },
   {
    "duration": 121,
    "start_time": "2024-12-21T13:25:47.917Z"
   },
   {
    "duration": 11,
    "start_time": "2024-12-21T13:25:48.040Z"
   },
   {
    "duration": 38,
    "start_time": "2024-12-21T13:25:48.052Z"
   },
   {
    "duration": 11,
    "start_time": "2024-12-21T13:25:48.092Z"
   },
   {
    "duration": 55,
    "start_time": "2024-12-21T13:25:48.105Z"
   },
   {
    "duration": 17,
    "start_time": "2024-12-21T13:25:48.162Z"
   },
   {
    "duration": 18,
    "start_time": "2024-12-21T13:25:48.181Z"
   },
   {
    "duration": 32,
    "start_time": "2024-12-21T13:25:48.202Z"
   },
   {
    "duration": 18,
    "start_time": "2024-12-21T13:25:48.236Z"
   },
   {
    "duration": 6,
    "start_time": "2024-12-21T13:25:48.257Z"
   },
   {
    "duration": 11,
    "start_time": "2024-12-21T13:25:48.265Z"
   },
   {
    "duration": 15,
    "start_time": "2024-12-21T13:25:48.278Z"
   },
   {
    "duration": 13,
    "start_time": "2024-12-21T13:25:48.295Z"
   },
   {
    "duration": 35,
    "start_time": "2024-12-21T13:25:48.309Z"
   },
   {
    "duration": 4,
    "start_time": "2024-12-21T13:25:48.346Z"
   },
   {
    "duration": 4,
    "start_time": "2024-12-21T13:25:48.352Z"
   },
   {
    "duration": 13,
    "start_time": "2024-12-21T13:25:48.358Z"
   },
   {
    "duration": 12,
    "start_time": "2024-12-21T13:25:48.373Z"
   },
   {
    "duration": 14,
    "start_time": "2024-12-21T13:25:48.387Z"
   },
   {
    "duration": 95,
    "start_time": "2024-12-21T13:25:48.403Z"
   },
   {
    "duration": 14,
    "start_time": "2024-12-21T13:25:48.499Z"
   },
   {
    "duration": 4,
    "start_time": "2024-12-21T13:25:48.515Z"
   },
   {
    "duration": 13,
    "start_time": "2024-12-21T13:26:13.625Z"
   },
   {
    "duration": 5,
    "start_time": "2024-12-21T13:26:14.685Z"
   },
   {
    "duration": 11,
    "start_time": "2024-12-21T13:26:16.660Z"
   },
   {
    "duration": 4,
    "start_time": "2024-12-21T13:26:18.156Z"
   },
   {
    "duration": 24,
    "start_time": "2024-12-21T13:28:24.942Z"
   },
   {
    "duration": 10,
    "start_time": "2024-12-21T13:30:52.619Z"
   },
   {
    "duration": 18,
    "start_time": "2024-12-21T13:33:16.636Z"
   },
   {
    "duration": 6,
    "start_time": "2024-12-21T13:35:45.247Z"
   },
   {
    "duration": 64,
    "start_time": "2024-12-21T13:35:45.949Z"
   },
   {
    "duration": 11,
    "start_time": "2024-12-21T13:35:46.087Z"
   },
   {
    "duration": 6,
    "start_time": "2024-12-21T13:35:48.229Z"
   },
   {
    "duration": 18,
    "start_time": "2024-12-21T13:35:50.493Z"
   },
   {
    "duration": 841,
    "start_time": "2024-12-21T13:36:07.815Z"
   },
   {
    "duration": 18,
    "start_time": "2024-12-21T13:36:08.659Z"
   },
   {
    "duration": 36,
    "start_time": "2024-12-21T13:36:08.679Z"
   },
   {
    "duration": 10,
    "start_time": "2024-12-21T13:36:08.718Z"
   },
   {
    "duration": 30,
    "start_time": "2024-12-21T13:36:08.730Z"
   },
   {
    "duration": 11,
    "start_time": "2024-12-21T13:36:08.762Z"
   },
   {
    "duration": 21,
    "start_time": "2024-12-21T13:36:08.774Z"
   },
   {
    "duration": 14,
    "start_time": "2024-12-21T13:36:08.796Z"
   },
   {
    "duration": 19,
    "start_time": "2024-12-21T13:36:08.811Z"
   },
   {
    "duration": 36,
    "start_time": "2024-12-21T13:36:08.832Z"
   },
   {
    "duration": 23,
    "start_time": "2024-12-21T13:36:08.870Z"
   },
   {
    "duration": 4,
    "start_time": "2024-12-21T13:36:08.894Z"
   },
   {
    "duration": 6,
    "start_time": "2024-12-21T13:36:08.900Z"
   },
   {
    "duration": 16,
    "start_time": "2024-12-21T13:36:08.907Z"
   },
   {
    "duration": 9,
    "start_time": "2024-12-21T13:36:08.925Z"
   },
   {
    "duration": 27,
    "start_time": "2024-12-21T13:36:08.936Z"
   },
   {
    "duration": 14,
    "start_time": "2024-12-21T13:36:08.964Z"
   },
   {
    "duration": 16,
    "start_time": "2024-12-21T13:36:08.979Z"
   },
   {
    "duration": 11,
    "start_time": "2024-12-21T13:36:08.996Z"
   },
   {
    "duration": 12,
    "start_time": "2024-12-21T13:36:09.008Z"
   },
   {
    "duration": 7,
    "start_time": "2024-12-21T13:36:09.022Z"
   },
   {
    "duration": 7,
    "start_time": "2024-12-21T13:36:09.031Z"
   },
   {
    "duration": 93,
    "start_time": "2024-12-21T13:36:09.040Z"
   },
   {
    "duration": 12,
    "start_time": "2024-12-21T13:36:09.135Z"
   },
   {
    "duration": 16,
    "start_time": "2024-12-21T13:36:09.149Z"
   },
   {
    "duration": 29,
    "start_time": "2024-12-21T13:36:09.167Z"
   },
   {
    "duration": 14,
    "start_time": "2024-12-21T13:36:09.199Z"
   },
   {
    "duration": 22,
    "start_time": "2024-12-21T13:36:09.216Z"
   },
   {
    "duration": 4,
    "start_time": "2024-12-21T13:38:11.094Z"
   },
   {
    "duration": 4,
    "start_time": "2024-12-21T13:38:20.265Z"
   },
   {
    "duration": 3,
    "start_time": "2024-12-21T13:44:14.793Z"
   },
   {
    "duration": 3,
    "start_time": "2024-12-21T13:44:49.119Z"
   },
   {
    "duration": 76,
    "start_time": "2024-12-21T13:45:03.109Z"
   },
   {
    "duration": 11,
    "start_time": "2024-12-21T13:45:22.595Z"
   },
   {
    "duration": 3,
    "start_time": "2024-12-21T13:50:35.705Z"
   },
   {
    "duration": 13,
    "start_time": "2024-12-21T13:50:36.121Z"
   },
   {
    "duration": 92,
    "start_time": "2024-12-21T13:54:28.466Z"
   },
   {
    "duration": 117,
    "start_time": "2024-12-21T13:55:03.913Z"
   },
   {
    "duration": 3,
    "start_time": "2024-12-21T13:55:10.463Z"
   },
   {
    "duration": 405,
    "start_time": "2024-12-21T13:55:53.365Z"
   },
   {
    "duration": 3,
    "start_time": "2024-12-21T13:56:53.397Z"
   },
   {
    "duration": 335,
    "start_time": "2024-12-21T13:56:53.632Z"
   },
   {
    "duration": 3,
    "start_time": "2024-12-21T13:59:26.644Z"
   },
   {
    "duration": 34,
    "start_time": "2024-12-21T13:59:32.495Z"
   },
   {
    "duration": 19,
    "start_time": "2024-12-21T13:59:42.046Z"
   },
   {
    "duration": 2,
    "start_time": "2024-12-21T14:00:06.257Z"
   },
   {
    "duration": 30,
    "start_time": "2024-12-21T14:00:06.693Z"
   },
   {
    "duration": 18,
    "start_time": "2024-12-21T14:00:07.148Z"
   },
   {
    "duration": 2036,
    "start_time": "2024-12-21T14:01:01.320Z"
   },
   {
    "duration": 0,
    "start_time": "2024-12-21T14:01:03.357Z"
   },
   {
    "duration": 19,
    "start_time": "2024-12-21T14:01:19.280Z"
   },
   {
    "duration": 18,
    "start_time": "2024-12-21T14:01:20.795Z"
   },
   {
    "duration": 5,
    "start_time": "2024-12-21T14:02:00.952Z"
   },
   {
    "duration": 19,
    "start_time": "2024-12-21T14:02:01.472Z"
   },
   {
    "duration": 18,
    "start_time": "2024-12-21T14:02:01.937Z"
   },
   {
    "duration": 5,
    "start_time": "2024-12-21T14:02:40.684Z"
   },
   {
    "duration": 19,
    "start_time": "2024-12-21T14:02:40.954Z"
   },
   {
    "duration": 1098,
    "start_time": "2024-12-22T11:04:49.096Z"
   },
   {
    "duration": 17,
    "start_time": "2024-12-22T11:04:50.196Z"
   },
   {
    "duration": 45,
    "start_time": "2024-12-22T11:04:50.214Z"
   },
   {
    "duration": 10,
    "start_time": "2024-12-22T11:04:50.261Z"
   },
   {
    "duration": 19,
    "start_time": "2024-12-22T11:04:50.273Z"
   },
   {
    "duration": 12,
    "start_time": "2024-12-22T11:04:50.293Z"
   },
   {
    "duration": 17,
    "start_time": "2024-12-22T11:04:50.316Z"
   },
   {
    "duration": 37,
    "start_time": "2024-12-22T11:04:50.335Z"
   },
   {
    "duration": 21,
    "start_time": "2024-12-22T11:04:50.374Z"
   },
   {
    "duration": 46,
    "start_time": "2024-12-22T11:04:50.398Z"
   },
   {
    "duration": 16,
    "start_time": "2024-12-22T11:04:50.445Z"
   },
   {
    "duration": 14,
    "start_time": "2024-12-22T11:04:50.463Z"
   },
   {
    "duration": 16,
    "start_time": "2024-12-22T11:04:50.478Z"
   },
   {
    "duration": 26,
    "start_time": "2024-12-22T11:04:50.496Z"
   },
   {
    "duration": 13,
    "start_time": "2024-12-22T11:04:50.524Z"
   },
   {
    "duration": 20,
    "start_time": "2024-12-22T11:04:50.539Z"
   },
   {
    "duration": 4,
    "start_time": "2024-12-22T11:04:50.560Z"
   },
   {
    "duration": 18,
    "start_time": "2024-12-22T11:04:50.566Z"
   },
   {
    "duration": 8,
    "start_time": "2024-12-22T11:04:50.585Z"
   },
   {
    "duration": 92,
    "start_time": "2024-12-22T11:04:50.594Z"
   },
   {
    "duration": 40,
    "start_time": "2024-12-22T11:04:50.687Z"
   },
   {
    "duration": 55,
    "start_time": "2024-12-22T11:04:50.729Z"
   },
   {
    "duration": 98,
    "start_time": "2024-12-22T11:04:50.786Z"
   },
   {
    "duration": 11,
    "start_time": "2024-12-22T11:04:50.886Z"
   },
   {
    "duration": 19,
    "start_time": "2024-12-22T11:04:50.898Z"
   },
   {
    "duration": 20,
    "start_time": "2024-12-22T11:04:50.919Z"
   },
   {
    "duration": 21,
    "start_time": "2024-12-22T11:04:50.941Z"
   },
   {
    "duration": 30,
    "start_time": "2024-12-22T11:04:50.965Z"
   },
   {
    "duration": 15,
    "start_time": "2024-12-22T11:04:50.997Z"
   },
   {
    "duration": 151,
    "start_time": "2024-12-22T11:04:51.014Z"
   },
   {
    "duration": 22,
    "start_time": "2024-12-22T11:04:51.167Z"
   },
   {
    "duration": 41,
    "start_time": "2024-12-22T11:04:51.190Z"
   },
   {
    "duration": 19,
    "start_time": "2024-12-22T11:07:05.200Z"
   },
   {
    "duration": 3,
    "start_time": "2024-12-22T11:08:09.508Z"
   },
   {
    "duration": 5,
    "start_time": "2024-12-22T11:08:09.873Z"
   },
   {
    "duration": 5,
    "start_time": "2024-12-22T11:08:10.283Z"
   },
   {
    "duration": 19,
    "start_time": "2024-12-22T11:08:10.772Z"
   },
   {
    "duration": 2,
    "start_time": "2024-12-22T12:53:47.317Z"
   },
   {
    "duration": 75,
    "start_time": "2024-12-22T12:55:34.207Z"
   },
   {
    "duration": 12,
    "start_time": "2024-12-22T12:55:44.087Z"
   },
   {
    "duration": 3,
    "start_time": "2024-12-22T13:01:04.946Z"
   },
   {
    "duration": 5,
    "start_time": "2024-12-22T13:01:17.363Z"
   },
   {
    "duration": 18,
    "start_time": "2024-12-22T13:01:24.233Z"
   },
   {
    "duration": 30,
    "start_time": "2024-12-22T13:02:18.645Z"
   },
   {
    "duration": 18,
    "start_time": "2024-12-22T13:02:18.891Z"
   },
   {
    "duration": 14,
    "start_time": "2024-12-22T13:16:55.150Z"
   },
   {
    "duration": 23,
    "start_time": "2024-12-22T13:19:16.275Z"
   },
   {
    "duration": 10,
    "start_time": "2024-12-22T13:21:42.368Z"
   },
   {
    "duration": 23,
    "start_time": "2024-12-22T13:21:47.033Z"
   },
   {
    "duration": 763,
    "start_time": "2024-12-22T13:22:06.160Z"
   },
   {
    "duration": 16,
    "start_time": "2024-12-22T13:22:06.925Z"
   },
   {
    "duration": 58,
    "start_time": "2024-12-22T13:22:06.942Z"
   },
   {
    "duration": 10,
    "start_time": "2024-12-22T13:22:07.003Z"
   },
   {
    "duration": 46,
    "start_time": "2024-12-22T13:22:07.015Z"
   },
   {
    "duration": 22,
    "start_time": "2024-12-22T13:22:07.063Z"
   },
   {
    "duration": 36,
    "start_time": "2024-12-22T13:22:07.087Z"
   },
   {
    "duration": 22,
    "start_time": "2024-12-22T13:22:07.124Z"
   },
   {
    "duration": 42,
    "start_time": "2024-12-22T13:22:07.148Z"
   },
   {
    "duration": 19,
    "start_time": "2024-12-22T13:22:07.192Z"
   },
   {
    "duration": 66,
    "start_time": "2024-12-22T13:22:07.213Z"
   },
   {
    "duration": 17,
    "start_time": "2024-12-22T13:22:07.280Z"
   },
   {
    "duration": 35,
    "start_time": "2024-12-22T13:22:07.299Z"
   },
   {
    "duration": 53,
    "start_time": "2024-12-22T13:22:07.336Z"
   },
   {
    "duration": 19,
    "start_time": "2024-12-22T13:22:07.391Z"
   },
   {
    "duration": 17,
    "start_time": "2024-12-22T13:22:07.411Z"
   },
   {
    "duration": 4,
    "start_time": "2024-12-22T13:22:07.430Z"
   },
   {
    "duration": 32,
    "start_time": "2024-12-22T13:22:07.436Z"
   },
   {
    "duration": 9,
    "start_time": "2024-12-22T13:22:07.470Z"
   },
   {
    "duration": 26,
    "start_time": "2024-12-22T13:22:07.481Z"
   },
   {
    "duration": 7,
    "start_time": "2024-12-22T13:22:07.508Z"
   },
   {
    "duration": 16,
    "start_time": "2024-12-22T13:22:07.517Z"
   },
   {
    "duration": 90,
    "start_time": "2024-12-22T13:22:07.534Z"
   },
   {
    "duration": 11,
    "start_time": "2024-12-22T13:22:07.626Z"
   },
   {
    "duration": 44,
    "start_time": "2024-12-22T13:22:07.638Z"
   },
   {
    "duration": 55,
    "start_time": "2024-12-22T13:22:07.684Z"
   },
   {
    "duration": 68,
    "start_time": "2024-12-22T13:22:07.741Z"
   },
   {
    "duration": 78,
    "start_time": "2024-12-22T13:22:07.812Z"
   },
   {
    "duration": 115,
    "start_time": "2024-12-22T13:22:07.891Z"
   },
   {
    "duration": 85,
    "start_time": "2024-12-22T13:22:08.007Z"
   },
   {
    "duration": 7,
    "start_time": "2024-12-22T13:23:30.333Z"
   },
   {
    "duration": 17,
    "start_time": "2024-12-22T13:28:14.837Z"
   },
   {
    "duration": 16,
    "start_time": "2024-12-22T13:29:09.725Z"
   },
   {
    "duration": 4,
    "start_time": "2024-12-22T13:29:10.815Z"
   },
   {
    "duration": 4,
    "start_time": "2024-12-22T13:29:11.055Z"
   },
   {
    "duration": 15,
    "start_time": "2024-12-22T13:29:11.455Z"
   },
   {
    "duration": 103,
    "start_time": "2024-12-22T13:29:40.755Z"
   },
   {
    "duration": 5,
    "start_time": "2024-12-22T13:29:40.995Z"
   },
   {
    "duration": 4,
    "start_time": "2024-12-22T13:29:41.220Z"
   },
   {
    "duration": 18,
    "start_time": "2024-12-22T13:29:41.460Z"
   },
   {
    "duration": 826,
    "start_time": "2024-12-22T13:29:48.065Z"
   },
   {
    "duration": 17,
    "start_time": "2024-12-22T13:29:48.892Z"
   },
   {
    "duration": 29,
    "start_time": "2024-12-22T13:29:48.911Z"
   },
   {
    "duration": 9,
    "start_time": "2024-12-22T13:29:48.942Z"
   },
   {
    "duration": 43,
    "start_time": "2024-12-22T13:29:48.953Z"
   },
   {
    "duration": 15,
    "start_time": "2024-12-22T13:29:48.998Z"
   },
   {
    "duration": 7,
    "start_time": "2024-12-22T13:29:49.014Z"
   },
   {
    "duration": 12,
    "start_time": "2024-12-22T13:29:49.023Z"
   },
   {
    "duration": 18,
    "start_time": "2024-12-22T13:29:49.037Z"
   },
   {
    "duration": 18,
    "start_time": "2024-12-22T13:29:49.058Z"
   },
   {
    "duration": 39,
    "start_time": "2024-12-22T13:29:49.077Z"
   },
   {
    "duration": 5,
    "start_time": "2024-12-22T13:29:49.117Z"
   },
   {
    "duration": 4,
    "start_time": "2024-12-22T13:29:49.124Z"
   },
   {
    "duration": 18,
    "start_time": "2024-12-22T13:29:49.129Z"
   },
   {
    "duration": 5,
    "start_time": "2024-12-22T13:29:49.149Z"
   },
   {
    "duration": 17,
    "start_time": "2024-12-22T13:29:49.156Z"
   },
   {
    "duration": 4,
    "start_time": "2024-12-22T13:29:49.175Z"
   },
   {
    "duration": 44,
    "start_time": "2024-12-22T13:29:49.180Z"
   },
   {
    "duration": 9,
    "start_time": "2024-12-22T13:29:49.226Z"
   },
   {
    "duration": 7,
    "start_time": "2024-12-22T13:29:49.236Z"
   },
   {
    "duration": 7,
    "start_time": "2024-12-22T13:29:49.244Z"
   },
   {
    "duration": 9,
    "start_time": "2024-12-22T13:29:49.252Z"
   },
   {
    "duration": 78,
    "start_time": "2024-12-22T13:29:49.263Z"
   },
   {
    "duration": 12,
    "start_time": "2024-12-22T13:29:49.344Z"
   },
   {
    "duration": 11,
    "start_time": "2024-12-22T13:29:49.358Z"
   },
   {
    "duration": 24,
    "start_time": "2024-12-22T13:29:49.371Z"
   },
   {
    "duration": 23,
    "start_time": "2024-12-22T13:29:49.396Z"
   },
   {
    "duration": 19,
    "start_time": "2024-12-22T13:29:49.422Z"
   },
   {
    "duration": 11,
    "start_time": "2024-12-22T13:29:49.443Z"
   },
   {
    "duration": 23,
    "start_time": "2024-12-22T13:29:49.456Z"
   },
   {
    "duration": 42,
    "start_time": "2024-12-22T13:29:49.480Z"
   },
   {
    "duration": 16,
    "start_time": "2024-12-22T13:30:27.704Z"
   },
   {
    "duration": 5,
    "start_time": "2024-12-22T13:30:28.113Z"
   },
   {
    "duration": 4,
    "start_time": "2024-12-22T13:30:28.384Z"
   },
   {
    "duration": 16,
    "start_time": "2024-12-22T13:30:28.624Z"
   },
   {
    "duration": 803,
    "start_time": "2024-12-22T13:30:34.363Z"
   },
   {
    "duration": 17,
    "start_time": "2024-12-22T13:30:35.168Z"
   },
   {
    "duration": 33,
    "start_time": "2024-12-22T13:30:35.187Z"
   },
   {
    "duration": 10,
    "start_time": "2024-12-22T13:30:35.222Z"
   },
   {
    "duration": 33,
    "start_time": "2024-12-22T13:30:35.234Z"
   },
   {
    "duration": 10,
    "start_time": "2024-12-22T13:30:35.268Z"
   },
   {
    "duration": 12,
    "start_time": "2024-12-22T13:30:35.280Z"
   },
   {
    "duration": 22,
    "start_time": "2024-12-22T13:30:35.293Z"
   },
   {
    "duration": 17,
    "start_time": "2024-12-22T13:30:35.317Z"
   },
   {
    "duration": 40,
    "start_time": "2024-12-22T13:30:35.336Z"
   },
   {
    "duration": 15,
    "start_time": "2024-12-22T13:30:35.377Z"
   },
   {
    "duration": 4,
    "start_time": "2024-12-22T13:30:35.394Z"
   },
   {
    "duration": 33,
    "start_time": "2024-12-22T13:30:35.399Z"
   },
   {
    "duration": 43,
    "start_time": "2024-12-22T13:30:35.434Z"
   },
   {
    "duration": 5,
    "start_time": "2024-12-22T13:30:35.478Z"
   },
   {
    "duration": 29,
    "start_time": "2024-12-22T13:30:35.484Z"
   },
   {
    "duration": 20,
    "start_time": "2024-12-22T13:30:35.514Z"
   },
   {
    "duration": 38,
    "start_time": "2024-12-22T13:30:35.536Z"
   },
   {
    "duration": 25,
    "start_time": "2024-12-22T13:30:35.575Z"
   },
   {
    "duration": 23,
    "start_time": "2024-12-22T13:30:35.601Z"
   },
   {
    "duration": 48,
    "start_time": "2024-12-22T13:30:35.625Z"
   },
   {
    "duration": 18,
    "start_time": "2024-12-22T13:30:35.675Z"
   },
   {
    "duration": 86,
    "start_time": "2024-12-22T13:30:35.695Z"
   },
   {
    "duration": 12,
    "start_time": "2024-12-22T13:30:35.783Z"
   },
   {
    "duration": 9,
    "start_time": "2024-12-22T13:30:35.796Z"
   },
   {
    "duration": 29,
    "start_time": "2024-12-22T13:30:35.807Z"
   },
   {
    "duration": 38,
    "start_time": "2024-12-22T13:30:35.837Z"
   },
   {
    "duration": 89,
    "start_time": "2024-12-22T13:30:35.879Z"
   },
   {
    "duration": 61,
    "start_time": "2024-12-22T13:30:35.970Z"
   },
   {
    "duration": 49,
    "start_time": "2024-12-22T13:30:36.033Z"
   },
   {
    "duration": 39,
    "start_time": "2024-12-22T13:30:36.083Z"
   },
   {
    "duration": 80,
    "start_time": "2024-12-22T13:36:09.212Z"
   },
   {
    "duration": 5,
    "start_time": "2024-12-22T13:36:34.012Z"
   },
   {
    "duration": 26,
    "start_time": "2024-12-22T13:36:43.062Z"
   },
   {
    "duration": 29,
    "start_time": "2024-12-22T13:37:37.071Z"
   },
   {
    "duration": 4,
    "start_time": "2024-12-22T13:38:08.848Z"
   },
   {
    "duration": 27,
    "start_time": "2024-12-22T13:38:09.092Z"
   },
   {
    "duration": 13,
    "start_time": "2024-12-22T13:38:20.728Z"
   },
   {
    "duration": 27,
    "start_time": "2024-12-22T13:38:30.508Z"
   },
   {
    "duration": 20,
    "start_time": "2024-12-22T13:39:21.925Z"
   },
   {
    "duration": 12,
    "start_time": "2024-12-22T13:39:47.677Z"
   },
   {
    "duration": 6,
    "start_time": "2024-12-22T13:39:59.563Z"
   },
   {
    "duration": 7,
    "start_time": "2024-12-22T13:40:45.504Z"
   },
   {
    "duration": 4,
    "start_time": "2024-12-22T13:41:17.596Z"
   },
   {
    "duration": 5,
    "start_time": "2024-12-22T13:41:33.868Z"
   },
   {
    "duration": 5,
    "start_time": "2024-12-22T13:41:39.977Z"
   },
   {
    "duration": 4,
    "start_time": "2024-12-22T13:42:56.211Z"
   },
   {
    "duration": 4,
    "start_time": "2024-12-22T13:43:04.816Z"
   },
   {
    "duration": 18,
    "start_time": "2024-12-22T13:43:53.308Z"
   },
   {
    "duration": 31,
    "start_time": "2024-12-22T13:44:42.496Z"
   },
   {
    "duration": 72,
    "start_time": "2024-12-22T13:46:39.257Z"
   },
   {
    "duration": 4,
    "start_time": "2024-12-22T13:46:45.397Z"
   },
   {
    "duration": 26,
    "start_time": "2024-12-22T13:46:50.262Z"
   },
   {
    "duration": 16,
    "start_time": "2024-12-22T13:47:09.853Z"
   },
   {
    "duration": 6,
    "start_time": "2024-12-22T13:47:21.704Z"
   },
   {
    "duration": 250,
    "start_time": "2024-12-22T13:47:41.819Z"
   },
   {
    "duration": 5,
    "start_time": "2024-12-22T13:48:12.924Z"
   },
   {
    "duration": 5,
    "start_time": "2024-12-22T13:48:17.314Z"
   },
   {
    "duration": 4,
    "start_time": "2024-12-22T13:48:24.916Z"
   },
   {
    "duration": 5,
    "start_time": "2024-12-22T13:48:36.808Z"
   },
   {
    "duration": 124,
    "start_time": "2024-12-22T13:48:49.737Z"
   },
   {
    "duration": 4,
    "start_time": "2024-12-22T13:49:52.675Z"
   },
   {
    "duration": 6,
    "start_time": "2024-12-22T13:49:57.071Z"
   },
   {
    "duration": 82,
    "start_time": "2024-12-22T13:52:09.701Z"
   },
   {
    "duration": 10,
    "start_time": "2024-12-22T13:52:30.912Z"
   },
   {
    "duration": 146,
    "start_time": "2024-12-22T13:52:38.767Z"
   },
   {
    "duration": 181,
    "start_time": "2024-12-22T13:52:58.453Z"
   },
   {
    "duration": 86,
    "start_time": "2024-12-22T13:54:33.629Z"
   },
   {
    "duration": 84,
    "start_time": "2024-12-22T13:54:42.114Z"
   },
   {
    "duration": 85,
    "start_time": "2024-12-22T13:54:49.214Z"
   },
   {
    "duration": 86,
    "start_time": "2024-12-22T13:55:09.067Z"
   },
   {
    "duration": 104,
    "start_time": "2024-12-22T13:55:13.115Z"
   },
   {
    "duration": 90,
    "start_time": "2024-12-22T13:58:21.429Z"
   },
   {
    "duration": 85,
    "start_time": "2024-12-22T13:58:48.420Z"
   },
   {
    "duration": 142,
    "start_time": "2024-12-22T13:58:59.426Z"
   },
   {
    "duration": 39,
    "start_time": "2024-12-22T13:59:17.672Z"
   },
   {
    "duration": 17,
    "start_time": "2024-12-22T13:59:38.579Z"
   },
   {
    "duration": 81,
    "start_time": "2024-12-22T14:00:21.525Z"
   },
   {
    "duration": 83,
    "start_time": "2024-12-22T14:00:28.105Z"
   },
   {
    "duration": 103,
    "start_time": "2024-12-22T14:00:34.145Z"
   },
   {
    "duration": 91,
    "start_time": "2024-12-22T14:00:38.502Z"
   },
   {
    "duration": 5,
    "start_time": "2024-12-22T14:02:00.689Z"
   },
   {
    "duration": 212,
    "start_time": "2024-12-22T14:02:41.361Z"
   },
   {
    "duration": 143,
    "start_time": "2024-12-22T14:03:47.020Z"
   },
   {
    "duration": 192,
    "start_time": "2024-12-22T14:05:15.413Z"
   },
   {
    "duration": 110,
    "start_time": "2024-12-22T14:05:29.964Z"
   },
   {
    "duration": 46,
    "start_time": "2024-12-22T14:05:36.584Z"
   },
   {
    "duration": 21,
    "start_time": "2024-12-22T14:05:47.391Z"
   },
   {
    "duration": 155,
    "start_time": "2024-12-22T14:05:53.719Z"
   },
   {
    "duration": 52,
    "start_time": "2024-12-22T14:05:57.251Z"
   },
   {
    "duration": 163,
    "start_time": "2024-12-22T14:06:00.925Z"
   },
   {
    "duration": 9,
    "start_time": "2024-12-22T14:06:23.547Z"
   },
   {
    "duration": 18,
    "start_time": "2024-12-22T14:06:39.127Z"
   },
   {
    "duration": 125,
    "start_time": "2024-12-22T14:07:40.235Z"
   },
   {
    "duration": 121,
    "start_time": "2024-12-22T14:07:53.251Z"
   },
   {
    "duration": 170,
    "start_time": "2024-12-22T14:08:02.512Z"
   },
   {
    "duration": 12,
    "start_time": "2024-12-22T14:08:32.908Z"
   },
   {
    "duration": 43,
    "start_time": "2024-12-22T14:08:42.299Z"
   },
   {
    "duration": 42,
    "start_time": "2024-12-22T14:08:54.039Z"
   },
   {
    "duration": 31,
    "start_time": "2024-12-22T14:09:06.015Z"
   },
   {
    "duration": 151,
    "start_time": "2024-12-22T14:09:33.006Z"
   },
   {
    "duration": 16,
    "start_time": "2024-12-22T14:09:51.857Z"
   },
   {
    "duration": 7,
    "start_time": "2024-12-22T14:10:40.124Z"
   },
   {
    "duration": 151,
    "start_time": "2024-12-22T14:10:47.285Z"
   },
   {
    "duration": 8,
    "start_time": "2024-12-22T14:11:18.161Z"
   },
   {
    "duration": 108,
    "start_time": "2024-12-22T14:11:57.852Z"
   },
   {
    "duration": 814,
    "start_time": "2024-12-22T14:12:06.753Z"
   },
   {
    "duration": 18,
    "start_time": "2024-12-22T14:12:07.569Z"
   },
   {
    "duration": 42,
    "start_time": "2024-12-22T14:12:07.589Z"
   },
   {
    "duration": 11,
    "start_time": "2024-12-22T14:12:07.633Z"
   },
   {
    "duration": 47,
    "start_time": "2024-12-22T14:12:07.645Z"
   },
   {
    "duration": 26,
    "start_time": "2024-12-22T14:12:07.693Z"
   },
   {
    "duration": 16,
    "start_time": "2024-12-22T14:12:07.721Z"
   },
   {
    "duration": 22,
    "start_time": "2024-12-22T14:12:07.739Z"
   },
   {
    "duration": 40,
    "start_time": "2024-12-22T14:12:07.763Z"
   },
   {
    "duration": 43,
    "start_time": "2024-12-22T14:12:07.806Z"
   },
   {
    "duration": 44,
    "start_time": "2024-12-22T14:12:07.850Z"
   },
   {
    "duration": 6,
    "start_time": "2024-12-22T14:12:07.896Z"
   },
   {
    "duration": 4,
    "start_time": "2024-12-22T14:12:07.903Z"
   },
   {
    "duration": 21,
    "start_time": "2024-12-22T14:12:07.908Z"
   },
   {
    "duration": 19,
    "start_time": "2024-12-22T14:12:07.931Z"
   },
   {
    "duration": 55,
    "start_time": "2024-12-22T14:12:07.952Z"
   },
   {
    "duration": 12,
    "start_time": "2024-12-22T14:12:08.009Z"
   },
   {
    "duration": 29,
    "start_time": "2024-12-22T14:12:08.022Z"
   },
   {
    "duration": 34,
    "start_time": "2024-12-22T14:12:08.053Z"
   },
   {
    "duration": 33,
    "start_time": "2024-12-22T14:12:08.089Z"
   },
   {
    "duration": 11,
    "start_time": "2024-12-22T14:12:08.124Z"
   },
   {
    "duration": 73,
    "start_time": "2024-12-22T14:12:08.137Z"
   },
   {
    "duration": 141,
    "start_time": "2024-12-22T14:12:08.212Z"
   },
   {
    "duration": 11,
    "start_time": "2024-12-22T14:12:08.354Z"
   },
   {
    "duration": 4,
    "start_time": "2024-12-22T14:12:08.367Z"
   },
   {
    "duration": 26,
    "start_time": "2024-12-22T14:12:08.372Z"
   },
   {
    "duration": 25,
    "start_time": "2024-12-22T14:12:08.399Z"
   },
   {
    "duration": 19,
    "start_time": "2024-12-22T14:12:08.428Z"
   },
   {
    "duration": 12,
    "start_time": "2024-12-22T14:12:08.449Z"
   },
   {
    "duration": 20,
    "start_time": "2024-12-22T14:12:08.463Z"
   },
   {
    "duration": 4,
    "start_time": "2024-12-22T14:12:08.485Z"
   },
   {
    "duration": 30,
    "start_time": "2024-12-22T14:12:08.515Z"
   },
   {
    "duration": 4,
    "start_time": "2024-12-22T14:12:08.547Z"
   },
   {
    "duration": 8,
    "start_time": "2024-12-22T14:12:08.553Z"
   },
   {
    "duration": 169,
    "start_time": "2024-12-22T14:12:08.563Z"
   },
   {
    "duration": 144,
    "start_time": "2024-12-22T14:12:08.734Z"
   },
   {
    "duration": 8,
    "start_time": "2024-12-22T14:12:08.879Z"
   },
   {
    "duration": 7,
    "start_time": "2024-12-22T14:12:08.889Z"
   },
   {
    "duration": 130,
    "start_time": "2024-12-22T14:12:08.897Z"
   },
   {
    "duration": 171,
    "start_time": "2024-12-22T14:12:09.029Z"
   },
   {
    "duration": 165,
    "start_time": "2024-12-22T14:12:48.680Z"
   },
   {
    "duration": 7,
    "start_time": "2024-12-22T14:13:17.862Z"
   },
   {
    "duration": 5,
    "start_time": "2024-12-22T14:13:37.896Z"
   },
   {
    "duration": 4,
    "start_time": "2024-12-22T14:13:56.149Z"
   },
   {
    "duration": 24,
    "start_time": "2024-12-22T14:14:02.168Z"
   },
   {
    "duration": 21,
    "start_time": "2024-12-22T14:14:08.408Z"
   },
   {
    "duration": 8,
    "start_time": "2024-12-22T14:14:22.229Z"
   },
   {
    "duration": 8,
    "start_time": "2024-12-22T14:14:43.255Z"
   },
   {
    "duration": 147,
    "start_time": "2024-12-22T14:15:32.598Z"
   },
   {
    "duration": 87,
    "start_time": "2024-12-22T14:15:38.298Z"
   },
   {
    "duration": 89,
    "start_time": "2024-12-22T14:15:48.614Z"
   },
   {
    "duration": 88,
    "start_time": "2024-12-22T14:15:53.364Z"
   },
   {
    "duration": 89,
    "start_time": "2024-12-22T14:15:57.529Z"
   },
   {
    "duration": 86,
    "start_time": "2024-12-22T14:16:09.069Z"
   },
   {
    "duration": 107,
    "start_time": "2024-12-22T14:16:47.611Z"
   },
   {
    "duration": 91,
    "start_time": "2024-12-22T14:16:51.161Z"
   },
   {
    "duration": 84,
    "start_time": "2024-12-22T14:16:54.692Z"
   },
   {
    "duration": 87,
    "start_time": "2024-12-22T14:16:57.591Z"
   },
   {
    "duration": 95,
    "start_time": "2024-12-22T14:17:03.091Z"
   },
   {
    "duration": 44,
    "start_time": "2024-12-22T14:17:50.370Z"
   },
   {
    "duration": 4,
    "start_time": "2024-12-22T14:18:08.205Z"
   },
   {
    "duration": 28,
    "start_time": "2024-12-22T14:18:11.829Z"
   },
   {
    "duration": 7,
    "start_time": "2024-12-22T14:19:55.261Z"
   },
   {
    "duration": 6,
    "start_time": "2024-12-22T14:19:55.800Z"
   },
   {
    "duration": 168,
    "start_time": "2024-12-22T14:19:58.095Z"
   },
   {
    "duration": 159,
    "start_time": "2024-12-22T14:19:59.411Z"
   },
   {
    "duration": 7,
    "start_time": "2024-12-22T14:20:15.555Z"
   },
   {
    "duration": 5,
    "start_time": "2024-12-22T14:20:15.972Z"
   },
   {
    "duration": 93,
    "start_time": "2024-12-22T14:20:17.101Z"
   },
   {
    "duration": 9,
    "start_time": "2024-12-22T14:22:44.604Z"
   },
   {
    "duration": 93,
    "start_time": "2024-12-22T14:23:49.972Z"
   },
   {
    "duration": 169,
    "start_time": "2024-12-22T14:24:01.398Z"
   },
   {
    "duration": 160,
    "start_time": "2024-12-22T14:24:32.649Z"
   },
   {
    "duration": 154,
    "start_time": "2024-12-22T14:24:54.418Z"
   },
   {
    "duration": 167,
    "start_time": "2024-12-22T14:25:06.784Z"
   },
   {
    "duration": 148,
    "start_time": "2024-12-22T14:25:41.977Z"
   },
   {
    "duration": 186,
    "start_time": "2024-12-22T14:27:01.611Z"
   },
   {
    "duration": 168,
    "start_time": "2024-12-22T14:27:12.551Z"
   },
   {
    "duration": 161,
    "start_time": "2024-12-22T14:28:11.914Z"
   },
   {
    "duration": 261,
    "start_time": "2024-12-22T14:28:35.420Z"
   },
   {
    "duration": 5,
    "start_time": "2024-12-22T14:29:26.463Z"
   },
   {
    "duration": 22,
    "start_time": "2024-12-22T14:29:31.227Z"
   },
   {
    "duration": 10,
    "start_time": "2024-12-22T14:30:03.029Z"
   },
   {
    "duration": 7,
    "start_time": "2024-12-22T14:30:03.539Z"
   },
   {
    "duration": 9,
    "start_time": "2024-12-22T14:30:03.879Z"
   },
   {
    "duration": 105,
    "start_time": "2024-12-22T14:30:04.519Z"
   },
   {
    "duration": 165,
    "start_time": "2024-12-22T14:30:07.591Z"
   },
   {
    "duration": 6,
    "start_time": "2024-12-22T14:31:26.438Z"
   },
   {
    "duration": 7,
    "start_time": "2024-12-22T14:31:29.332Z"
   },
   {
    "duration": 8,
    "start_time": "2024-12-22T14:31:36.063Z"
   },
   {
    "duration": 10,
    "start_time": "2024-12-22T14:31:36.353Z"
   },
   {
    "duration": 98,
    "start_time": "2024-12-22T14:31:38.533Z"
   },
   {
    "duration": 169,
    "start_time": "2024-12-22T14:31:39.443Z"
   },
   {
    "duration": 71,
    "start_time": "2024-12-22T16:26:39.142Z"
   },
   {
    "duration": 16,
    "start_time": "2024-12-22T16:26:45.712Z"
   },
   {
    "duration": 13,
    "start_time": "2024-12-22T16:28:11.659Z"
   },
   {
    "duration": 7,
    "start_time": "2024-12-22T16:28:11.904Z"
   },
   {
    "duration": 4,
    "start_time": "2024-12-22T16:28:22.106Z"
   },
   {
    "duration": 7,
    "start_time": "2024-12-22T16:28:23.323Z"
   },
   {
    "duration": 9,
    "start_time": "2024-12-22T16:28:24.435Z"
   },
   {
    "duration": 8,
    "start_time": "2024-12-22T16:28:24.691Z"
   },
   {
    "duration": 103,
    "start_time": "2024-12-22T16:28:26.015Z"
   },
   {
    "duration": 771,
    "start_time": "2024-12-22T16:41:57.830Z"
   },
   {
    "duration": 16,
    "start_time": "2024-12-22T16:41:58.603Z"
   },
   {
    "duration": 28,
    "start_time": "2024-12-22T16:41:58.621Z"
   },
   {
    "duration": 10,
    "start_time": "2024-12-22T16:41:58.651Z"
   },
   {
    "duration": 27,
    "start_time": "2024-12-22T16:41:58.663Z"
   },
   {
    "duration": 10,
    "start_time": "2024-12-22T16:41:58.691Z"
   },
   {
    "duration": 13,
    "start_time": "2024-12-22T16:41:58.714Z"
   },
   {
    "duration": 16,
    "start_time": "2024-12-22T16:41:58.729Z"
   },
   {
    "duration": 17,
    "start_time": "2024-12-22T16:41:58.747Z"
   },
   {
    "duration": 20,
    "start_time": "2024-12-22T16:41:58.767Z"
   },
   {
    "duration": 28,
    "start_time": "2024-12-22T16:41:58.788Z"
   },
   {
    "duration": 5,
    "start_time": "2024-12-22T16:41:58.817Z"
   },
   {
    "duration": 4,
    "start_time": "2024-12-22T16:41:58.823Z"
   },
   {
    "duration": 32,
    "start_time": "2024-12-22T16:41:58.828Z"
   },
   {
    "duration": 43,
    "start_time": "2024-12-22T16:41:58.861Z"
   },
   {
    "duration": 16,
    "start_time": "2024-12-22T16:41:58.906Z"
   },
   {
    "duration": 3,
    "start_time": "2024-12-22T16:41:58.924Z"
   },
   {
    "duration": 5,
    "start_time": "2024-12-22T16:41:58.929Z"
   },
   {
    "duration": 6,
    "start_time": "2024-12-22T16:41:58.936Z"
   },
   {
    "duration": 7,
    "start_time": "2024-12-22T16:41:58.944Z"
   },
   {
    "duration": 16,
    "start_time": "2024-12-22T16:41:58.952Z"
   },
   {
    "duration": 14,
    "start_time": "2024-12-22T16:41:58.970Z"
   },
   {
    "duration": 175,
    "start_time": "2024-12-22T16:41:58.986Z"
   },
   {
    "duration": 11,
    "start_time": "2024-12-22T16:41:59.163Z"
   },
   {
    "duration": 4,
    "start_time": "2024-12-22T16:41:59.177Z"
   },
   {
    "duration": 16,
    "start_time": "2024-12-22T16:41:59.183Z"
   },
   {
    "duration": 10,
    "start_time": "2024-12-22T16:41:59.216Z"
   },
   {
    "duration": 22,
    "start_time": "2024-12-22T16:41:59.230Z"
   },
   {
    "duration": 14,
    "start_time": "2024-12-22T16:41:59.254Z"
   },
   {
    "duration": 17,
    "start_time": "2024-12-22T16:41:59.270Z"
   },
   {
    "duration": 28,
    "start_time": "2024-12-22T16:41:59.289Z"
   },
   {
    "duration": 12,
    "start_time": "2024-12-22T16:41:59.319Z"
   },
   {
    "duration": 4,
    "start_time": "2024-12-22T16:41:59.333Z"
   },
   {
    "duration": 4,
    "start_time": "2024-12-22T16:41:59.338Z"
   },
   {
    "duration": 156,
    "start_time": "2024-12-22T16:41:59.343Z"
   },
   {
    "duration": 130,
    "start_time": "2024-12-22T16:41:59.500Z"
   },
   {
    "duration": 4,
    "start_time": "2024-12-22T16:41:59.631Z"
   },
   {
    "duration": 10,
    "start_time": "2024-12-22T16:41:59.637Z"
   },
   {
    "duration": 14,
    "start_time": "2024-12-22T16:41:59.648Z"
   },
   {
    "duration": 12,
    "start_time": "2024-12-22T16:41:59.663Z"
   },
   {
    "duration": 116,
    "start_time": "2024-12-22T16:41:59.676Z"
   },
   {
    "duration": 176,
    "start_time": "2024-12-22T16:41:59.793Z"
   },
   {
    "duration": 19,
    "start_time": "2024-12-22T16:41:59.970Z"
   },
   {
    "duration": 80,
    "start_time": "2024-12-22T16:42:17.385Z"
   },
   {
    "duration": 9,
    "start_time": "2024-12-22T16:43:05.522Z"
   },
   {
    "duration": 16,
    "start_time": "2024-12-22T16:49:34.771Z"
   },
   {
    "duration": 20,
    "start_time": "2024-12-22T16:49:41.176Z"
   },
   {
    "duration": 229,
    "start_time": "2024-12-22T16:52:05.279Z"
   },
   {
    "duration": 22,
    "start_time": "2024-12-22T16:56:51.943Z"
   },
   {
    "duration": 169,
    "start_time": "2024-12-22T16:57:12.194Z"
   },
   {
    "duration": 23,
    "start_time": "2024-12-22T16:57:23.769Z"
   },
   {
    "duration": 9,
    "start_time": "2024-12-22T17:00:24.977Z"
   },
   {
    "duration": 3,
    "start_time": "2024-12-22T17:01:04.249Z"
   },
   {
    "duration": 5,
    "start_time": "2024-12-22T17:01:06.485Z"
   },
   {
    "duration": 7,
    "start_time": "2024-12-22T17:01:13.177Z"
   },
   {
    "duration": 7,
    "start_time": "2024-12-22T17:01:13.425Z"
   },
   {
    "duration": 94,
    "start_time": "2024-12-22T17:01:13.829Z"
   },
   {
    "duration": 163,
    "start_time": "2024-12-22T17:01:14.058Z"
   },
   {
    "duration": 16,
    "start_time": "2024-12-22T17:01:14.639Z"
   },
   {
    "duration": 20,
    "start_time": "2024-12-22T17:01:15.241Z"
   },
   {
    "duration": 21,
    "start_time": "2024-12-22T17:01:15.440Z"
   },
   {
    "duration": 3,
    "start_time": "2024-12-22T17:02:03.648Z"
   },
   {
    "duration": 22,
    "start_time": "2024-12-22T17:02:43.005Z"
   },
   {
    "duration": 164,
    "start_time": "2024-12-22T17:02:57.681Z"
   },
   {
    "duration": 21,
    "start_time": "2024-12-22T17:03:14.758Z"
   },
   {
    "duration": 161,
    "start_time": "2024-12-22T17:04:32.580Z"
   },
   {
    "duration": 83,
    "start_time": "2024-12-22T17:06:24.865Z"
   },
   {
    "duration": 20,
    "start_time": "2024-12-22T17:06:40.285Z"
   },
   {
    "duration": 148,
    "start_time": "2024-12-22T17:06:45.996Z"
   },
   {
    "duration": 19,
    "start_time": "2024-12-22T17:06:58.157Z"
   },
   {
    "duration": 9,
    "start_time": "2024-12-22T17:09:24.463Z"
   },
   {
    "duration": 9,
    "start_time": "2024-12-22T17:09:24.803Z"
   },
   {
    "duration": 98,
    "start_time": "2024-12-22T17:09:25.649Z"
   },
   {
    "duration": 86,
    "start_time": "2024-12-22T17:09:26.338Z"
   },
   {
    "duration": 16,
    "start_time": "2024-12-22T17:09:27.693Z"
   },
   {
    "duration": 21,
    "start_time": "2024-12-22T17:09:28.660Z"
   },
   {
    "duration": 24,
    "start_time": "2024-12-22T17:09:28.877Z"
   },
   {
    "duration": 111,
    "start_time": "2024-12-22T17:11:20.709Z"
   },
   {
    "duration": 103,
    "start_time": "2024-12-22T17:11:29.984Z"
   },
   {
    "duration": 93,
    "start_time": "2024-12-22T17:11:33.684Z"
   },
   {
    "duration": 82,
    "start_time": "2024-12-22T17:11:40.843Z"
   },
   {
    "duration": 21,
    "start_time": "2024-12-22T17:11:48.233Z"
   },
   {
    "duration": 79,
    "start_time": "2024-12-22T17:11:48.473Z"
   },
   {
    "duration": 793,
    "start_time": "2024-12-22T17:11:55.425Z"
   },
   {
    "duration": 17,
    "start_time": "2024-12-22T17:11:56.221Z"
   },
   {
    "duration": 36,
    "start_time": "2024-12-22T17:11:56.240Z"
   },
   {
    "duration": 10,
    "start_time": "2024-12-22T17:11:56.279Z"
   },
   {
    "duration": 40,
    "start_time": "2024-12-22T17:11:56.291Z"
   },
   {
    "duration": 19,
    "start_time": "2024-12-22T17:11:56.333Z"
   },
   {
    "duration": 24,
    "start_time": "2024-12-22T17:11:56.354Z"
   },
   {
    "duration": 42,
    "start_time": "2024-12-22T17:11:56.380Z"
   },
   {
    "duration": 31,
    "start_time": "2024-12-22T17:11:56.424Z"
   },
   {
    "duration": 30,
    "start_time": "2024-12-22T17:11:56.458Z"
   },
   {
    "duration": 15,
    "start_time": "2024-12-22T17:11:56.490Z"
   },
   {
    "duration": 18,
    "start_time": "2024-12-22T17:11:56.506Z"
   },
   {
    "duration": 26,
    "start_time": "2024-12-22T17:11:56.525Z"
   },
   {
    "duration": 40,
    "start_time": "2024-12-22T17:11:56.553Z"
   },
   {
    "duration": 15,
    "start_time": "2024-12-22T17:11:56.596Z"
   },
   {
    "duration": 53,
    "start_time": "2024-12-22T17:11:56.613Z"
   },
   {
    "duration": 33,
    "start_time": "2024-12-22T17:11:56.668Z"
   },
   {
    "duration": 27,
    "start_time": "2024-12-22T17:11:56.703Z"
   },
   {
    "duration": 30,
    "start_time": "2024-12-22T17:11:56.731Z"
   },
   {
    "duration": 23,
    "start_time": "2024-12-22T17:11:56.763Z"
   },
   {
    "duration": 12,
    "start_time": "2024-12-22T17:11:56.789Z"
   },
   {
    "duration": 31,
    "start_time": "2024-12-22T17:11:56.804Z"
   },
   {
    "duration": 86,
    "start_time": "2024-12-22T17:11:56.837Z"
   },
   {
    "duration": 10,
    "start_time": "2024-12-22T17:11:56.925Z"
   },
   {
    "duration": 18,
    "start_time": "2024-12-22T17:11:56.937Z"
   },
   {
    "duration": 49,
    "start_time": "2024-12-22T17:11:56.956Z"
   },
   {
    "duration": 109,
    "start_time": "2024-12-22T17:11:57.006Z"
   },
   {
    "duration": 157,
    "start_time": "2024-12-22T17:11:57.118Z"
   },
   {
    "duration": 28,
    "start_time": "2024-12-22T17:11:57.277Z"
   },
   {
    "duration": 36,
    "start_time": "2024-12-22T17:11:57.307Z"
   },
   {
    "duration": 31,
    "start_time": "2024-12-22T17:11:57.344Z"
   },
   {
    "duration": 29,
    "start_time": "2024-12-22T17:11:57.377Z"
   },
   {
    "duration": 5,
    "start_time": "2024-12-22T17:11:57.407Z"
   },
   {
    "duration": 19,
    "start_time": "2024-12-22T17:11:57.414Z"
   },
   {
    "duration": 176,
    "start_time": "2024-12-22T17:11:57.434Z"
   },
   {
    "duration": 138,
    "start_time": "2024-12-22T17:11:57.614Z"
   },
   {
    "duration": 3,
    "start_time": "2024-12-22T17:11:57.755Z"
   },
   {
    "duration": 13,
    "start_time": "2024-12-22T17:11:57.760Z"
   },
   {
    "duration": 11,
    "start_time": "2024-12-22T17:11:57.775Z"
   },
   {
    "duration": 32,
    "start_time": "2024-12-22T17:11:57.788Z"
   },
   {
    "duration": 111,
    "start_time": "2024-12-22T17:11:57.822Z"
   },
   {
    "duration": 84,
    "start_time": "2024-12-22T17:11:57.935Z"
   },
   {
    "duration": 0,
    "start_time": "2024-12-22T17:11:58.021Z"
   },
   {
    "duration": 0,
    "start_time": "2024-12-22T17:11:58.022Z"
   },
   {
    "duration": 0,
    "start_time": "2024-12-22T17:11:58.024Z"
   },
   {
    "duration": 16,
    "start_time": "2024-12-22T17:12:04.952Z"
   },
   {
    "duration": 22,
    "start_time": "2024-12-22T17:12:07.370Z"
   },
   {
    "duration": 86,
    "start_time": "2024-12-22T17:12:07.731Z"
   },
   {
    "duration": 19,
    "start_time": "2024-12-22T17:12:14.705Z"
   },
   {
    "duration": 8,
    "start_time": "2024-12-22T17:12:40.703Z"
   },
   {
    "duration": 18,
    "start_time": "2024-12-22T17:12:55.563Z"
   },
   {
    "duration": 72,
    "start_time": "2024-12-22T17:18:29.504Z"
   },
   {
    "duration": 70,
    "start_time": "2024-12-22T17:19:15.516Z"
   },
   {
    "duration": 9,
    "start_time": "2024-12-22T17:19:22.040Z"
   },
   {
    "duration": 11,
    "start_time": "2024-12-22T17:19:37.487Z"
   },
   {
    "duration": 102,
    "start_time": "2024-12-22T17:20:09.493Z"
   },
   {
    "duration": 799,
    "start_time": "2024-12-22T17:20:37.362Z"
   },
   {
    "duration": 16,
    "start_time": "2024-12-22T17:20:38.163Z"
   },
   {
    "duration": 58,
    "start_time": "2024-12-22T17:20:38.181Z"
   },
   {
    "duration": 10,
    "start_time": "2024-12-22T17:20:38.241Z"
   },
   {
    "duration": 34,
    "start_time": "2024-12-22T17:20:38.253Z"
   },
   {
    "duration": 26,
    "start_time": "2024-12-22T17:20:38.289Z"
   },
   {
    "duration": 6,
    "start_time": "2024-12-22T17:20:38.316Z"
   },
   {
    "duration": 14,
    "start_time": "2024-12-22T17:20:38.324Z"
   },
   {
    "duration": 20,
    "start_time": "2024-12-22T17:20:38.339Z"
   },
   {
    "duration": 16,
    "start_time": "2024-12-22T17:20:38.362Z"
   },
   {
    "duration": 46,
    "start_time": "2024-12-22T17:20:38.379Z"
   },
   {
    "duration": 4,
    "start_time": "2024-12-22T17:20:38.428Z"
   },
   {
    "duration": 26,
    "start_time": "2024-12-22T17:20:38.433Z"
   },
   {
    "duration": 41,
    "start_time": "2024-12-22T17:20:38.460Z"
   },
   {
    "duration": 37,
    "start_time": "2024-12-22T17:20:38.503Z"
   },
   {
    "duration": 30,
    "start_time": "2024-12-22T17:20:38.542Z"
   },
   {
    "duration": 4,
    "start_time": "2024-12-22T17:20:38.575Z"
   },
   {
    "duration": 12,
    "start_time": "2024-12-22T17:20:38.581Z"
   },
   {
    "duration": 7,
    "start_time": "2024-12-22T17:20:38.594Z"
   },
   {
    "duration": 10,
    "start_time": "2024-12-22T17:20:38.602Z"
   },
   {
    "duration": 19,
    "start_time": "2024-12-22T17:20:38.613Z"
   },
   {
    "duration": 9,
    "start_time": "2024-12-22T17:20:38.634Z"
   },
   {
    "duration": 83,
    "start_time": "2024-12-22T17:20:38.645Z"
   },
   {
    "duration": 11,
    "start_time": "2024-12-22T17:20:38.729Z"
   },
   {
    "duration": 8,
    "start_time": "2024-12-22T17:20:38.742Z"
   },
   {
    "duration": 20,
    "start_time": "2024-12-22T17:20:38.752Z"
   },
   {
    "duration": 20,
    "start_time": "2024-12-22T17:20:38.774Z"
   },
   {
    "duration": 18,
    "start_time": "2024-12-22T17:20:38.814Z"
   },
   {
    "duration": 26,
    "start_time": "2024-12-22T17:20:38.834Z"
   },
   {
    "duration": 22,
    "start_time": "2024-12-22T17:20:38.862Z"
   },
   {
    "duration": 29,
    "start_time": "2024-12-22T17:20:38.886Z"
   },
   {
    "duration": 31,
    "start_time": "2024-12-22T17:20:38.916Z"
   },
   {
    "duration": 15,
    "start_time": "2024-12-22T17:20:38.949Z"
   },
   {
    "duration": 20,
    "start_time": "2024-12-22T17:20:38.966Z"
   },
   {
    "duration": 155,
    "start_time": "2024-12-22T17:20:38.987Z"
   },
   {
    "duration": 144,
    "start_time": "2024-12-22T17:20:39.144Z"
   },
   {
    "duration": 24,
    "start_time": "2024-12-22T17:20:39.290Z"
   },
   {
    "duration": 11,
    "start_time": "2024-12-22T17:20:39.316Z"
   },
   {
    "duration": 15,
    "start_time": "2024-12-22T17:20:39.328Z"
   },
   {
    "duration": 8,
    "start_time": "2024-12-22T17:20:39.345Z"
   },
   {
    "duration": 121,
    "start_time": "2024-12-22T17:20:39.355Z"
   },
   {
    "duration": 77,
    "start_time": "2024-12-22T17:20:39.478Z"
   },
   {
    "duration": 0,
    "start_time": "2024-12-22T17:20:39.556Z"
   },
   {
    "duration": 0,
    "start_time": "2024-12-22T17:20:39.557Z"
   },
   {
    "duration": 0,
    "start_time": "2024-12-22T17:20:39.558Z"
   },
   {
    "duration": 182,
    "start_time": "2024-12-22T17:21:12.920Z"
   },
   {
    "duration": 21,
    "start_time": "2024-12-22T17:21:22.991Z"
   },
   {
    "duration": 9,
    "start_time": "2024-12-22T17:28:26.502Z"
   },
   {
    "duration": 6,
    "start_time": "2024-12-22T17:28:27.967Z"
   },
   {
    "duration": 10,
    "start_time": "2024-12-22T17:28:39.177Z"
   },
   {
    "duration": 7,
    "start_time": "2024-12-22T17:28:39.512Z"
   },
   {
    "duration": 9,
    "start_time": "2024-12-22T17:29:00.948Z"
   },
   {
    "duration": 7,
    "start_time": "2024-12-22T17:29:01.408Z"
   },
   {
    "duration": 778,
    "start_time": "2024-12-22T17:29:08.231Z"
   },
   {
    "duration": 17,
    "start_time": "2024-12-22T17:29:09.012Z"
   },
   {
    "duration": 34,
    "start_time": "2024-12-22T17:29:09.031Z"
   },
   {
    "duration": 10,
    "start_time": "2024-12-22T17:29:09.067Z"
   },
   {
    "duration": 49,
    "start_time": "2024-12-22T17:29:09.079Z"
   },
   {
    "duration": 11,
    "start_time": "2024-12-22T17:29:09.130Z"
   },
   {
    "duration": 13,
    "start_time": "2024-12-22T17:29:09.143Z"
   },
   {
    "duration": 14,
    "start_time": "2024-12-22T17:29:09.158Z"
   },
   {
    "duration": 19,
    "start_time": "2024-12-22T17:29:09.173Z"
   },
   {
    "duration": 66,
    "start_time": "2024-12-22T17:29:09.196Z"
   },
   {
    "duration": 14,
    "start_time": "2024-12-22T17:29:09.265Z"
   },
   {
    "duration": 9,
    "start_time": "2024-12-22T17:29:09.281Z"
   },
   {
    "duration": 9,
    "start_time": "2024-12-22T17:29:09.292Z"
   },
   {
    "duration": 30,
    "start_time": "2024-12-22T17:29:09.303Z"
   },
   {
    "duration": 4,
    "start_time": "2024-12-22T17:29:09.335Z"
   },
   {
    "duration": 21,
    "start_time": "2024-12-22T17:29:09.341Z"
   },
   {
    "duration": 4,
    "start_time": "2024-12-22T17:29:09.364Z"
   },
   {
    "duration": 13,
    "start_time": "2024-12-22T17:29:09.369Z"
   },
   {
    "duration": 8,
    "start_time": "2024-12-22T17:29:09.384Z"
   },
   {
    "duration": 10,
    "start_time": "2024-12-22T17:29:09.394Z"
   },
   {
    "duration": 5,
    "start_time": "2024-12-22T17:29:09.415Z"
   },
   {
    "duration": 8,
    "start_time": "2024-12-22T17:29:09.422Z"
   },
   {
    "duration": 83,
    "start_time": "2024-12-22T17:29:09.432Z"
   },
   {
    "duration": 12,
    "start_time": "2024-12-22T17:29:09.516Z"
   },
   {
    "duration": 5,
    "start_time": "2024-12-22T17:29:09.530Z"
   },
   {
    "duration": 29,
    "start_time": "2024-12-22T17:29:09.536Z"
   },
   {
    "duration": 11,
    "start_time": "2024-12-22T17:29:09.567Z"
   },
   {
    "duration": 124,
    "start_time": "2024-12-22T17:29:09.582Z"
   },
   {
    "duration": 11,
    "start_time": "2024-12-22T17:29:09.708Z"
   },
   {
    "duration": 27,
    "start_time": "2024-12-22T17:29:09.720Z"
   },
   {
    "duration": 17,
    "start_time": "2024-12-22T17:29:09.749Z"
   },
   {
    "duration": 29,
    "start_time": "2024-12-22T17:29:09.768Z"
   },
   {
    "duration": 4,
    "start_time": "2024-12-22T17:29:09.799Z"
   },
   {
    "duration": 80,
    "start_time": "2024-12-22T17:29:09.805Z"
   },
   {
    "duration": 175,
    "start_time": "2024-12-22T17:29:09.886Z"
   },
   {
    "duration": 138,
    "start_time": "2024-12-22T17:29:10.063Z"
   },
   {
    "duration": 3,
    "start_time": "2024-12-22T17:29:10.203Z"
   },
   {
    "duration": 23,
    "start_time": "2024-12-22T17:29:10.214Z"
   },
   {
    "duration": 28,
    "start_time": "2024-12-22T17:29:10.238Z"
   },
   {
    "duration": 25,
    "start_time": "2024-12-22T17:29:10.267Z"
   },
   {
    "duration": 11,
    "start_time": "2024-12-22T17:29:10.294Z"
   },
   {
    "duration": 94,
    "start_time": "2024-12-22T17:29:10.306Z"
   },
   {
    "duration": 178,
    "start_time": "2024-12-22T17:29:10.401Z"
   },
   {
    "duration": 19,
    "start_time": "2024-12-22T17:29:10.581Z"
   },
   {
    "duration": 33,
    "start_time": "2024-12-22T17:29:10.602Z"
   },
   {
    "duration": 20,
    "start_time": "2024-12-22T17:29:10.636Z"
   },
   {
    "duration": 10,
    "start_time": "2024-12-22T17:29:25.124Z"
   },
   {
    "duration": 8,
    "start_time": "2024-12-22T17:29:25.357Z"
   },
   {
    "duration": 801,
    "start_time": "2024-12-22T17:29:29.549Z"
   },
   {
    "duration": 17,
    "start_time": "2024-12-22T17:29:30.353Z"
   },
   {
    "duration": 92,
    "start_time": "2024-12-22T17:29:30.372Z"
   },
   {
    "duration": 11,
    "start_time": "2024-12-22T17:29:30.466Z"
   },
   {
    "duration": 57,
    "start_time": "2024-12-22T17:29:30.479Z"
   },
   {
    "duration": 26,
    "start_time": "2024-12-22T17:29:30.538Z"
   },
   {
    "duration": 20,
    "start_time": "2024-12-22T17:29:30.566Z"
   },
   {
    "duration": 12,
    "start_time": "2024-12-22T17:29:30.588Z"
   },
   {
    "duration": 17,
    "start_time": "2024-12-22T17:29:30.602Z"
   },
   {
    "duration": 23,
    "start_time": "2024-12-22T17:29:30.622Z"
   },
   {
    "duration": 28,
    "start_time": "2024-12-22T17:29:30.646Z"
   },
   {
    "duration": 4,
    "start_time": "2024-12-22T17:29:30.676Z"
   },
   {
    "duration": 29,
    "start_time": "2024-12-22T17:29:30.682Z"
   },
   {
    "duration": 23,
    "start_time": "2024-12-22T17:29:30.713Z"
   },
   {
    "duration": 26,
    "start_time": "2024-12-22T17:29:30.738Z"
   },
   {
    "duration": 17,
    "start_time": "2024-12-22T17:29:30.766Z"
   },
   {
    "duration": 5,
    "start_time": "2024-12-22T17:29:30.784Z"
   },
   {
    "duration": 5,
    "start_time": "2024-12-22T17:29:30.790Z"
   },
   {
    "duration": 19,
    "start_time": "2024-12-22T17:29:30.796Z"
   },
   {
    "duration": 14,
    "start_time": "2024-12-22T17:29:30.816Z"
   },
   {
    "duration": 15,
    "start_time": "2024-12-22T17:29:30.832Z"
   },
   {
    "duration": 18,
    "start_time": "2024-12-22T17:29:30.849Z"
   },
   {
    "duration": 72,
    "start_time": "2024-12-22T17:29:30.868Z"
   },
   {
    "duration": 10,
    "start_time": "2024-12-22T17:29:30.942Z"
   },
   {
    "duration": 18,
    "start_time": "2024-12-22T17:29:30.954Z"
   },
   {
    "duration": 19,
    "start_time": "2024-12-22T17:29:30.974Z"
   },
   {
    "duration": 21,
    "start_time": "2024-12-22T17:29:30.994Z"
   },
   {
    "duration": 19,
    "start_time": "2024-12-22T17:29:31.018Z"
   },
   {
    "duration": 47,
    "start_time": "2024-12-22T17:29:31.039Z"
   },
   {
    "duration": 108,
    "start_time": "2024-12-22T17:29:31.087Z"
   },
   {
    "duration": 126,
    "start_time": "2024-12-22T17:29:31.197Z"
   },
   {
    "duration": 15,
    "start_time": "2024-12-22T17:29:31.325Z"
   },
   {
    "duration": 21,
    "start_time": "2024-12-22T17:29:31.342Z"
   },
   {
    "duration": 6,
    "start_time": "2024-12-22T17:29:31.364Z"
   },
   {
    "duration": 143,
    "start_time": "2024-12-22T17:29:31.372Z"
   },
   {
    "duration": 141,
    "start_time": "2024-12-22T17:29:31.516Z"
   },
   {
    "duration": 3,
    "start_time": "2024-12-22T17:29:31.659Z"
   },
   {
    "duration": 14,
    "start_time": "2024-12-22T17:29:31.664Z"
   },
   {
    "duration": 8,
    "start_time": "2024-12-22T17:29:31.680Z"
   },
   {
    "duration": 31,
    "start_time": "2024-12-22T17:29:31.690Z"
   },
   {
    "duration": 15,
    "start_time": "2024-12-22T17:29:31.723Z"
   },
   {
    "duration": 114,
    "start_time": "2024-12-22T17:29:31.740Z"
   },
   {
    "duration": 180,
    "start_time": "2024-12-22T17:29:31.856Z"
   },
   {
    "duration": 16,
    "start_time": "2024-12-22T17:29:32.038Z"
   },
   {
    "duration": 27,
    "start_time": "2024-12-22T17:29:32.056Z"
   },
   {
    "duration": 36,
    "start_time": "2024-12-22T17:29:32.084Z"
   },
   {
    "duration": 150,
    "start_time": "2024-12-22T17:30:06.743Z"
   },
   {
    "duration": 101,
    "start_time": "2024-12-22T17:30:12.358Z"
   },
   {
    "duration": 103,
    "start_time": "2024-12-22T17:30:15.313Z"
   },
   {
    "duration": 6,
    "start_time": "2024-12-22T17:32:19.734Z"
   },
   {
    "duration": 14,
    "start_time": "2024-12-22T17:35:56.829Z"
   },
   {
    "duration": 164,
    "start_time": "2024-12-22T17:36:05.493Z"
   },
   {
    "duration": 245,
    "start_time": "2024-12-22T17:36:35.845Z"
   },
   {
    "duration": 157,
    "start_time": "2024-12-22T17:36:51.476Z"
   },
   {
    "duration": 19,
    "start_time": "2024-12-22T17:37:52.705Z"
   },
   {
    "duration": 96,
    "start_time": "2024-12-22T17:39:26.433Z"
   },
   {
    "duration": 146,
    "start_time": "2024-12-22T17:39:42.299Z"
   },
   {
    "duration": 16,
    "start_time": "2024-12-22T17:39:51.630Z"
   },
   {
    "duration": 6,
    "start_time": "2024-12-22T17:39:59.445Z"
   },
   {
    "duration": 19,
    "start_time": "2024-12-22T17:39:59.965Z"
   },
   {
    "duration": 816,
    "start_time": "2024-12-22T17:40:06.697Z"
   },
   {
    "duration": 18,
    "start_time": "2024-12-22T17:40:07.515Z"
   },
   {
    "duration": 51,
    "start_time": "2024-12-22T17:40:07.535Z"
   },
   {
    "duration": 11,
    "start_time": "2024-12-22T17:40:07.589Z"
   },
   {
    "duration": 29,
    "start_time": "2024-12-22T17:40:07.601Z"
   },
   {
    "duration": 10,
    "start_time": "2024-12-22T17:40:07.632Z"
   },
   {
    "duration": 52,
    "start_time": "2024-12-22T17:40:07.644Z"
   },
   {
    "duration": 14,
    "start_time": "2024-12-22T17:40:07.698Z"
   },
   {
    "duration": 17,
    "start_time": "2024-12-22T17:40:07.714Z"
   },
   {
    "duration": 17,
    "start_time": "2024-12-22T17:40:07.735Z"
   },
   {
    "duration": 21,
    "start_time": "2024-12-22T17:40:07.754Z"
   },
   {
    "duration": 5,
    "start_time": "2024-12-22T17:40:07.776Z"
   },
   {
    "duration": 33,
    "start_time": "2024-12-22T17:40:07.782Z"
   },
   {
    "duration": 16,
    "start_time": "2024-12-22T17:40:07.817Z"
   },
   {
    "duration": 5,
    "start_time": "2024-12-22T17:40:07.835Z"
   },
   {
    "duration": 21,
    "start_time": "2024-12-22T17:40:07.841Z"
   },
   {
    "duration": 11,
    "start_time": "2024-12-22T17:40:07.863Z"
   },
   {
    "duration": 4,
    "start_time": "2024-12-22T17:40:07.875Z"
   },
   {
    "duration": 25,
    "start_time": "2024-12-22T17:40:07.880Z"
   },
   {
    "duration": 14,
    "start_time": "2024-12-22T17:40:07.906Z"
   },
   {
    "duration": 10,
    "start_time": "2024-12-22T17:40:07.922Z"
   },
   {
    "duration": 6,
    "start_time": "2024-12-22T17:40:07.934Z"
   },
   {
    "duration": 83,
    "start_time": "2024-12-22T17:40:07.942Z"
   },
   {
    "duration": 10,
    "start_time": "2024-12-22T17:40:08.027Z"
   },
   {
    "duration": 5,
    "start_time": "2024-12-22T17:40:08.039Z"
   },
   {
    "duration": 15,
    "start_time": "2024-12-22T17:40:08.046Z"
   },
   {
    "duration": 34,
    "start_time": "2024-12-22T17:40:08.063Z"
   },
   {
    "duration": 17,
    "start_time": "2024-12-22T17:40:08.101Z"
   },
   {
    "duration": 27,
    "start_time": "2024-12-22T17:40:08.120Z"
   },
   {
    "duration": 33,
    "start_time": "2024-12-22T17:40:08.148Z"
   },
   {
    "duration": 13,
    "start_time": "2024-12-22T17:40:08.183Z"
   },
   {
    "duration": 11,
    "start_time": "2024-12-22T17:40:08.198Z"
   },
   {
    "duration": 4,
    "start_time": "2024-12-22T17:40:08.211Z"
   },
   {
    "duration": 8,
    "start_time": "2024-12-22T17:40:08.216Z"
   },
   {
    "duration": 160,
    "start_time": "2024-12-22T17:40:08.225Z"
   },
   {
    "duration": 136,
    "start_time": "2024-12-22T17:40:08.387Z"
   },
   {
    "duration": 3,
    "start_time": "2024-12-22T17:40:08.525Z"
   },
   {
    "duration": 26,
    "start_time": "2024-12-22T17:40:08.529Z"
   },
   {
    "duration": 40,
    "start_time": "2024-12-22T17:40:08.557Z"
   },
   {
    "duration": 43,
    "start_time": "2024-12-22T17:40:08.599Z"
   },
   {
    "duration": 7,
    "start_time": "2024-12-22T17:40:08.644Z"
   },
   {
    "duration": 99,
    "start_time": "2024-12-22T17:40:08.652Z"
   },
   {
    "duration": 151,
    "start_time": "2024-12-22T17:40:08.753Z"
   },
   {
    "duration": 21,
    "start_time": "2024-12-22T17:40:08.906Z"
   },
   {
    "duration": 16,
    "start_time": "2024-12-22T17:40:08.928Z"
   },
   {
    "duration": 26,
    "start_time": "2024-12-22T17:40:08.946Z"
   },
   {
    "duration": 86,
    "start_time": "2024-12-22T17:41:39.108Z"
   },
   {
    "duration": 19,
    "start_time": "2024-12-22T17:41:45.864Z"
   },
   {
    "duration": 22,
    "start_time": "2024-12-22T17:44:32.881Z"
   },
   {
    "duration": 260,
    "start_time": "2024-12-22T17:44:51.001Z"
   },
   {
    "duration": 228,
    "start_time": "2024-12-22T17:45:20.013Z"
   },
   {
    "duration": 20,
    "start_time": "2024-12-22T17:45:40.310Z"
   },
   {
    "duration": 79,
    "start_time": "2024-12-22T17:49:45.212Z"
   },
   {
    "duration": 20,
    "start_time": "2024-12-22T17:49:48.951Z"
   },
   {
    "duration": 22,
    "start_time": "2024-12-22T17:57:09.812Z"
   },
   {
    "duration": 28,
    "start_time": "2024-12-22T17:58:10.925Z"
   },
   {
    "duration": 89,
    "start_time": "2024-12-22T17:58:21.220Z"
   },
   {
    "duration": 9,
    "start_time": "2024-12-22T17:58:31.511Z"
   },
   {
    "duration": 42,
    "start_time": "2024-12-22T17:58:41.172Z"
   },
   {
    "duration": 5,
    "start_time": "2024-12-22T17:59:13.882Z"
   },
   {
    "duration": 117,
    "start_time": "2024-12-22T17:59:27.088Z"
   },
   {
    "duration": 135,
    "start_time": "2024-12-22T17:59:47.249Z"
   },
   {
    "duration": 9,
    "start_time": "2024-12-22T18:00:35.662Z"
   },
   {
    "duration": 133,
    "start_time": "2024-12-22T18:02:04.676Z"
   },
   {
    "duration": 88,
    "start_time": "2024-12-22T18:02:30.966Z"
   },
   {
    "duration": 104,
    "start_time": "2024-12-22T18:03:22.020Z"
   },
   {
    "duration": 102,
    "start_time": "2024-12-22T18:03:36.630Z"
   },
   {
    "duration": 103,
    "start_time": "2024-12-22T18:03:40.255Z"
   },
   {
    "duration": 102,
    "start_time": "2024-12-22T18:03:45.625Z"
   },
   {
    "duration": 93,
    "start_time": "2024-12-22T18:04:02.711Z"
   },
   {
    "duration": 6,
    "start_time": "2024-12-22T18:04:32.574Z"
   },
   {
    "duration": 8,
    "start_time": "2024-12-22T18:04:33.303Z"
   },
   {
    "duration": 209,
    "start_time": "2024-12-22T18:04:36.053Z"
   },
   {
    "duration": 102,
    "start_time": "2024-12-22T18:04:37.358Z"
   },
   {
    "duration": 105,
    "start_time": "2024-12-22T18:13:43.695Z"
   },
   {
    "duration": 98,
    "start_time": "2024-12-22T18:13:51.070Z"
   },
   {
    "duration": 97,
    "start_time": "2024-12-22T18:14:04.660Z"
   },
   {
    "duration": 144,
    "start_time": "2024-12-22T18:14:44.028Z"
   },
   {
    "duration": 164,
    "start_time": "2024-12-22T18:14:53.177Z"
   },
   {
    "duration": 18,
    "start_time": "2024-12-22T18:20:43.355Z"
   },
   {
    "duration": 193,
    "start_time": "2024-12-22T18:22:16.404Z"
   },
   {
    "duration": 18,
    "start_time": "2024-12-22T18:23:19.257Z"
   },
   {
    "duration": 6,
    "start_time": "2024-12-22T18:25:10.031Z"
   },
   {
    "duration": 26,
    "start_time": "2024-12-22T18:25:30.304Z"
   },
   {
    "duration": 3,
    "start_time": "2024-12-22T18:25:43.629Z"
   },
   {
    "duration": 15,
    "start_time": "2024-12-22T18:25:43.859Z"
   },
   {
    "duration": 80,
    "start_time": "2024-12-22T18:26:59.953Z"
   },
   {
    "duration": 25,
    "start_time": "2024-12-22T18:27:10.043Z"
   },
   {
    "duration": 44,
    "start_time": "2024-12-22T18:27:37.605Z"
   },
   {
    "duration": 25,
    "start_time": "2024-12-22T18:27:38.320Z"
   },
   {
    "duration": 35,
    "start_time": "2024-12-22T18:28:04.731Z"
   },
   {
    "duration": 32,
    "start_time": "2024-12-22T18:28:04.981Z"
   },
   {
    "duration": 32,
    "start_time": "2024-12-22T18:28:10.121Z"
   },
   {
    "duration": 9,
    "start_time": "2024-12-22T18:28:45.018Z"
   },
   {
    "duration": 6,
    "start_time": "2024-12-22T18:30:39.258Z"
   },
   {
    "duration": 19,
    "start_time": "2024-12-22T18:30:45.139Z"
   },
   {
    "duration": 58,
    "start_time": "2024-12-22T18:35:11.887Z"
   },
   {
    "duration": 112,
    "start_time": "2024-12-22T18:35:25.268Z"
   },
   {
    "duration": 25,
    "start_time": "2024-12-22T18:35:37.083Z"
   },
   {
    "duration": 97,
    "start_time": "2024-12-22T18:36:17.165Z"
   },
   {
    "duration": 19,
    "start_time": "2024-12-22T18:40:40.011Z"
   },
   {
    "duration": 26,
    "start_time": "2024-12-22T18:41:10.630Z"
   },
   {
    "duration": 14,
    "start_time": "2024-12-22T18:41:14.099Z"
   },
   {
    "duration": 17,
    "start_time": "2024-12-22T18:41:21.609Z"
   },
   {
    "duration": 3,
    "start_time": "2024-12-22T18:42:02.182Z"
   },
   {
    "duration": 10,
    "start_time": "2024-12-22T18:42:16.547Z"
   },
   {
    "duration": 11,
    "start_time": "2024-12-22T18:43:32.151Z"
   },
   {
    "duration": 6,
    "start_time": "2024-12-22T18:44:18.373Z"
   },
   {
    "duration": 7,
    "start_time": "2024-12-22T18:44:34.064Z"
   },
   {
    "duration": 1515,
    "start_time": "2024-12-22T18:46:12.748Z"
   },
   {
    "duration": 829,
    "start_time": "2024-12-22T18:46:24.107Z"
   },
   {
    "duration": 21,
    "start_time": "2024-12-22T18:46:24.938Z"
   },
   {
    "duration": 35,
    "start_time": "2024-12-22T18:46:24.960Z"
   },
   {
    "duration": 17,
    "start_time": "2024-12-22T18:46:24.998Z"
   },
   {
    "duration": 35,
    "start_time": "2024-12-22T18:46:25.017Z"
   },
   {
    "duration": 16,
    "start_time": "2024-12-22T18:46:25.054Z"
   },
   {
    "duration": 15,
    "start_time": "2024-12-22T18:46:25.072Z"
   },
   {
    "duration": 44,
    "start_time": "2024-12-22T18:46:25.089Z"
   },
   {
    "duration": 17,
    "start_time": "2024-12-22T18:46:25.134Z"
   },
   {
    "duration": 34,
    "start_time": "2024-12-22T18:46:25.154Z"
   },
   {
    "duration": 1438,
    "start_time": "2024-12-22T18:46:25.189Z"
   },
   {
    "duration": 0,
    "start_time": "2024-12-22T18:46:26.631Z"
   },
   {
    "duration": 0,
    "start_time": "2024-12-22T18:46:26.633Z"
   },
   {
    "duration": 1,
    "start_time": "2024-12-22T18:46:26.638Z"
   },
   {
    "duration": 0,
    "start_time": "2024-12-22T18:46:26.641Z"
   },
   {
    "duration": 0,
    "start_time": "2024-12-22T18:46:26.642Z"
   },
   {
    "duration": 0,
    "start_time": "2024-12-22T18:46:26.644Z"
   },
   {
    "duration": 0,
    "start_time": "2024-12-22T18:46:26.645Z"
   },
   {
    "duration": 0,
    "start_time": "2024-12-22T18:46:26.646Z"
   },
   {
    "duration": 0,
    "start_time": "2024-12-22T18:46:26.647Z"
   },
   {
    "duration": 0,
    "start_time": "2024-12-22T18:46:26.648Z"
   },
   {
    "duration": 0,
    "start_time": "2024-12-22T18:46:26.649Z"
   },
   {
    "duration": 0,
    "start_time": "2024-12-22T18:46:26.650Z"
   },
   {
    "duration": 0,
    "start_time": "2024-12-22T18:46:26.651Z"
   },
   {
    "duration": 1,
    "start_time": "2024-12-22T18:46:26.652Z"
   },
   {
    "duration": 0,
    "start_time": "2024-12-22T18:46:26.654Z"
   },
   {
    "duration": 0,
    "start_time": "2024-12-22T18:46:26.655Z"
   },
   {
    "duration": 0,
    "start_time": "2024-12-22T18:46:26.656Z"
   },
   {
    "duration": 0,
    "start_time": "2024-12-22T18:46:26.657Z"
   },
   {
    "duration": 0,
    "start_time": "2024-12-22T18:46:26.658Z"
   },
   {
    "duration": 0,
    "start_time": "2024-12-22T18:46:26.659Z"
   },
   {
    "duration": 0,
    "start_time": "2024-12-22T18:46:26.660Z"
   },
   {
    "duration": 0,
    "start_time": "2024-12-22T18:46:26.661Z"
   },
   {
    "duration": 0,
    "start_time": "2024-12-22T18:46:26.662Z"
   },
   {
    "duration": 1,
    "start_time": "2024-12-22T18:46:26.663Z"
   },
   {
    "duration": 0,
    "start_time": "2024-12-22T18:46:26.664Z"
   },
   {
    "duration": 0,
    "start_time": "2024-12-22T18:46:26.666Z"
   },
   {
    "duration": 0,
    "start_time": "2024-12-22T18:46:26.667Z"
   },
   {
    "duration": 0,
    "start_time": "2024-12-22T18:46:26.668Z"
   },
   {
    "duration": 0,
    "start_time": "2024-12-22T18:46:26.669Z"
   },
   {
    "duration": 0,
    "start_time": "2024-12-22T18:46:26.715Z"
   },
   {
    "duration": 0,
    "start_time": "2024-12-22T18:46:26.717Z"
   },
   {
    "duration": 0,
    "start_time": "2024-12-22T18:46:26.718Z"
   },
   {
    "duration": 0,
    "start_time": "2024-12-22T18:46:26.720Z"
   },
   {
    "duration": 0,
    "start_time": "2024-12-22T18:46:26.721Z"
   },
   {
    "duration": 0,
    "start_time": "2024-12-22T18:46:26.723Z"
   },
   {
    "duration": 0,
    "start_time": "2024-12-22T18:46:26.724Z"
   },
   {
    "duration": 0,
    "start_time": "2024-12-22T18:46:26.726Z"
   },
   {
    "duration": 0,
    "start_time": "2024-12-22T18:46:26.727Z"
   },
   {
    "duration": 0,
    "start_time": "2024-12-22T18:46:26.729Z"
   },
   {
    "duration": 0,
    "start_time": "2024-12-22T18:46:26.731Z"
   },
   {
    "duration": 0,
    "start_time": "2024-12-22T18:46:26.732Z"
   },
   {
    "duration": 0,
    "start_time": "2024-12-22T18:46:26.734Z"
   },
   {
    "duration": 0,
    "start_time": "2024-12-22T18:46:26.735Z"
   },
   {
    "duration": 0,
    "start_time": "2024-12-22T18:46:26.736Z"
   },
   {
    "duration": 0,
    "start_time": "2024-12-22T18:46:26.737Z"
   },
   {
    "duration": 12,
    "start_time": "2024-12-22T18:47:01.192Z"
   },
   {
    "duration": 816,
    "start_time": "2024-12-22T18:47:06.554Z"
   },
   {
    "duration": 16,
    "start_time": "2024-12-22T18:47:07.372Z"
   },
   {
    "duration": 64,
    "start_time": "2024-12-22T18:47:07.390Z"
   },
   {
    "duration": 11,
    "start_time": "2024-12-22T18:47:07.456Z"
   },
   {
    "duration": 46,
    "start_time": "2024-12-22T18:47:07.468Z"
   },
   {
    "duration": 18,
    "start_time": "2024-12-22T18:47:07.517Z"
   },
   {
    "duration": 6,
    "start_time": "2024-12-22T18:47:07.536Z"
   },
   {
    "duration": 18,
    "start_time": "2024-12-22T18:47:07.544Z"
   },
   {
    "duration": 19,
    "start_time": "2024-12-22T18:47:07.564Z"
   },
   {
    "duration": 48,
    "start_time": "2024-12-22T18:47:07.585Z"
   },
   {
    "duration": 66,
    "start_time": "2024-12-22T18:47:07.635Z"
   },
   {
    "duration": 16,
    "start_time": "2024-12-22T18:47:07.703Z"
   },
   {
    "duration": 6,
    "start_time": "2024-12-22T18:47:07.721Z"
   },
   {
    "duration": 10,
    "start_time": "2024-12-22T18:47:07.729Z"
   },
   {
    "duration": 32,
    "start_time": "2024-12-22T18:47:07.741Z"
   },
   {
    "duration": 5,
    "start_time": "2024-12-22T18:47:07.775Z"
   },
   {
    "duration": 96,
    "start_time": "2024-12-22T18:47:07.782Z"
   },
   {
    "duration": 4,
    "start_time": "2024-12-22T18:47:07.880Z"
   },
   {
    "duration": 6,
    "start_time": "2024-12-22T18:47:07.885Z"
   },
   {
    "duration": 17,
    "start_time": "2024-12-22T18:47:07.892Z"
   },
   {
    "duration": 29,
    "start_time": "2024-12-22T18:47:07.910Z"
   },
   {
    "duration": 7,
    "start_time": "2024-12-22T18:47:07.940Z"
   },
   {
    "duration": 115,
    "start_time": "2024-12-22T18:47:07.948Z"
   },
   {
    "duration": 80,
    "start_time": "2024-12-22T18:47:08.065Z"
   },
   {
    "duration": 12,
    "start_time": "2024-12-22T18:47:08.146Z"
   },
   {
    "duration": 4,
    "start_time": "2024-12-22T18:47:08.160Z"
   },
   {
    "duration": 36,
    "start_time": "2024-12-22T18:47:08.166Z"
   },
   {
    "duration": 32,
    "start_time": "2024-12-22T18:47:08.207Z"
   },
   {
    "duration": 43,
    "start_time": "2024-12-22T18:47:08.241Z"
   },
   {
    "duration": 32,
    "start_time": "2024-12-22T18:47:08.286Z"
   },
   {
    "duration": 27,
    "start_time": "2024-12-22T18:47:08.320Z"
   },
   {
    "duration": 13,
    "start_time": "2024-12-22T18:47:08.349Z"
   },
   {
    "duration": 14,
    "start_time": "2024-12-22T18:47:08.364Z"
   },
   {
    "duration": 13,
    "start_time": "2024-12-22T18:47:08.380Z"
   },
   {
    "duration": 11,
    "start_time": "2024-12-22T18:47:08.394Z"
   },
   {
    "duration": 182,
    "start_time": "2024-12-22T18:47:08.407Z"
   },
   {
    "duration": 146,
    "start_time": "2024-12-22T18:47:08.590Z"
   },
   {
    "duration": 3,
    "start_time": "2024-12-22T18:47:08.738Z"
   },
   {
    "duration": 33,
    "start_time": "2024-12-22T18:47:08.742Z"
   },
   {
    "duration": 14,
    "start_time": "2024-12-22T18:47:08.777Z"
   },
   {
    "duration": 10,
    "start_time": "2024-12-22T18:47:08.792Z"
   },
   {
    "duration": 8,
    "start_time": "2024-12-22T18:47:08.804Z"
   },
   {
    "duration": 120,
    "start_time": "2024-12-22T18:47:08.813Z"
   },
   {
    "duration": 163,
    "start_time": "2024-12-22T18:47:08.934Z"
   },
   {
    "duration": 29,
    "start_time": "2024-12-22T18:47:09.099Z"
   },
   {
    "duration": 21,
    "start_time": "2024-12-22T18:47:09.130Z"
   },
   {
    "duration": 28,
    "start_time": "2024-12-22T18:47:09.153Z"
   },
   {
    "duration": 26,
    "start_time": "2024-12-22T18:47:09.183Z"
   },
   {
    "duration": 27,
    "start_time": "2024-12-22T18:47:09.210Z"
   },
   {
    "duration": 218,
    "start_time": "2024-12-22T18:47:09.239Z"
   },
   {
    "duration": 112,
    "start_time": "2024-12-22T18:47:09.459Z"
   },
   {
    "duration": 183,
    "start_time": "2024-12-22T18:47:09.573Z"
   },
   {
    "duration": 19,
    "start_time": "2024-12-22T18:47:09.757Z"
   },
   {
    "duration": 22,
    "start_time": "2024-12-22T18:47:09.777Z"
   },
   {
    "duration": 77,
    "start_time": "2024-12-22T18:47:09.800Z"
   },
   {
    "duration": 7,
    "start_time": "2024-12-22T18:47:09.878Z"
   },
   {
    "duration": 11,
    "start_time": "2024-12-22T18:47:26.614Z"
   },
   {
    "duration": 5,
    "start_time": "2024-12-22T18:47:36.485Z"
   },
   {
    "duration": 30,
    "start_time": "2024-12-22T18:47:56.911Z"
   },
   {
    "duration": 81,
    "start_time": "2024-12-22T18:51:00.769Z"
   },
   {
    "duration": 4,
    "start_time": "2024-12-22T18:51:59.887Z"
   },
   {
    "duration": 4,
    "start_time": "2024-12-22T18:53:17.411Z"
   },
   {
    "duration": 8,
    "start_time": "2024-12-22T18:54:46.126Z"
   },
   {
    "duration": 6,
    "start_time": "2024-12-22T18:54:48.433Z"
   },
   {
    "duration": 4,
    "start_time": "2024-12-22T18:54:48.660Z"
   },
   {
    "duration": 850,
    "start_time": "2024-12-22T18:55:22.382Z"
   },
   {
    "duration": 18,
    "start_time": "2024-12-22T18:55:23.235Z"
   },
   {
    "duration": 33,
    "start_time": "2024-12-22T18:55:23.254Z"
   },
   {
    "duration": 11,
    "start_time": "2024-12-22T18:55:23.289Z"
   },
   {
    "duration": 28,
    "start_time": "2024-12-22T18:55:23.314Z"
   },
   {
    "duration": 12,
    "start_time": "2024-12-22T18:55:23.344Z"
   },
   {
    "duration": 16,
    "start_time": "2024-12-22T18:55:23.357Z"
   },
   {
    "duration": 13,
    "start_time": "2024-12-22T18:55:23.375Z"
   },
   {
    "duration": 35,
    "start_time": "2024-12-22T18:55:23.390Z"
   },
   {
    "duration": 59,
    "start_time": "2024-12-22T18:55:23.430Z"
   },
   {
    "duration": 473,
    "start_time": "2024-12-22T18:55:23.491Z"
   },
   {
    "duration": 0,
    "start_time": "2024-12-22T18:55:23.967Z"
   },
   {
    "duration": 0,
    "start_time": "2024-12-22T18:55:23.968Z"
   },
   {
    "duration": 0,
    "start_time": "2024-12-22T18:55:23.969Z"
   },
   {
    "duration": 0,
    "start_time": "2024-12-22T18:55:23.971Z"
   },
   {
    "duration": 0,
    "start_time": "2024-12-22T18:55:23.971Z"
   },
   {
    "duration": 0,
    "start_time": "2024-12-22T18:55:23.972Z"
   },
   {
    "duration": 0,
    "start_time": "2024-12-22T18:55:23.973Z"
   },
   {
    "duration": 0,
    "start_time": "2024-12-22T18:55:23.974Z"
   },
   {
    "duration": 0,
    "start_time": "2024-12-22T18:55:23.975Z"
   },
   {
    "duration": 0,
    "start_time": "2024-12-22T18:55:23.976Z"
   },
   {
    "duration": 0,
    "start_time": "2024-12-22T18:55:23.977Z"
   },
   {
    "duration": 0,
    "start_time": "2024-12-22T18:55:23.978Z"
   },
   {
    "duration": 0,
    "start_time": "2024-12-22T18:55:23.979Z"
   },
   {
    "duration": 0,
    "start_time": "2024-12-22T18:55:23.980Z"
   },
   {
    "duration": 0,
    "start_time": "2024-12-22T18:55:23.980Z"
   },
   {
    "duration": 0,
    "start_time": "2024-12-22T18:55:23.981Z"
   },
   {
    "duration": 0,
    "start_time": "2024-12-22T18:55:23.982Z"
   },
   {
    "duration": 0,
    "start_time": "2024-12-22T18:55:23.983Z"
   },
   {
    "duration": 0,
    "start_time": "2024-12-22T18:55:23.984Z"
   },
   {
    "duration": 0,
    "start_time": "2024-12-22T18:55:23.985Z"
   },
   {
    "duration": 0,
    "start_time": "2024-12-22T18:55:23.986Z"
   },
   {
    "duration": 0,
    "start_time": "2024-12-22T18:55:23.987Z"
   },
   {
    "duration": 0,
    "start_time": "2024-12-22T18:55:23.988Z"
   },
   {
    "duration": 0,
    "start_time": "2024-12-22T18:55:23.989Z"
   },
   {
    "duration": 0,
    "start_time": "2024-12-22T18:55:23.990Z"
   },
   {
    "duration": 0,
    "start_time": "2024-12-22T18:55:23.991Z"
   },
   {
    "duration": 0,
    "start_time": "2024-12-22T18:55:23.992Z"
   },
   {
    "duration": 0,
    "start_time": "2024-12-22T18:55:23.993Z"
   },
   {
    "duration": 0,
    "start_time": "2024-12-22T18:55:23.994Z"
   },
   {
    "duration": 0,
    "start_time": "2024-12-22T18:55:23.995Z"
   },
   {
    "duration": 0,
    "start_time": "2024-12-22T18:55:23.996Z"
   },
   {
    "duration": 0,
    "start_time": "2024-12-22T18:55:23.997Z"
   },
   {
    "duration": 0,
    "start_time": "2024-12-22T18:55:23.998Z"
   },
   {
    "duration": 0,
    "start_time": "2024-12-22T18:55:23.999Z"
   },
   {
    "duration": 0,
    "start_time": "2024-12-22T18:55:24.000Z"
   },
   {
    "duration": 0,
    "start_time": "2024-12-22T18:55:24.001Z"
   },
   {
    "duration": 0,
    "start_time": "2024-12-22T18:55:24.015Z"
   },
   {
    "duration": 0,
    "start_time": "2024-12-22T18:55:24.017Z"
   },
   {
    "duration": 0,
    "start_time": "2024-12-22T18:55:24.019Z"
   },
   {
    "duration": 0,
    "start_time": "2024-12-22T18:55:24.023Z"
   },
   {
    "duration": 0,
    "start_time": "2024-12-22T18:55:24.027Z"
   },
   {
    "duration": 0,
    "start_time": "2024-12-22T18:55:24.029Z"
   },
   {
    "duration": 0,
    "start_time": "2024-12-22T18:55:24.031Z"
   },
   {
    "duration": 0,
    "start_time": "2024-12-22T18:55:24.032Z"
   },
   {
    "duration": 0,
    "start_time": "2024-12-22T18:55:24.034Z"
   },
   {
    "duration": 0,
    "start_time": "2024-12-22T18:55:24.035Z"
   },
   {
    "duration": 0,
    "start_time": "2024-12-22T18:55:24.036Z"
   },
   {
    "duration": 0,
    "start_time": "2024-12-22T18:55:24.037Z"
   },
   {
    "duration": 10,
    "start_time": "2024-12-22T18:56:17.647Z"
   },
   {
    "duration": 561,
    "start_time": "2024-12-22T18:56:17.904Z"
   },
   {
    "duration": 8,
    "start_time": "2024-12-22T18:56:18.663Z"
   },
   {
    "duration": 9,
    "start_time": "2024-12-22T18:56:25.638Z"
   },
   {
    "duration": 370,
    "start_time": "2024-12-22T18:56:25.965Z"
   },
   {
    "duration": 837,
    "start_time": "2024-12-22T18:56:30.440Z"
   },
   {
    "duration": 16,
    "start_time": "2024-12-22T18:56:31.279Z"
   },
   {
    "duration": 36,
    "start_time": "2024-12-22T18:56:31.297Z"
   },
   {
    "duration": 10,
    "start_time": "2024-12-22T18:56:31.336Z"
   },
   {
    "duration": 45,
    "start_time": "2024-12-22T18:56:31.348Z"
   },
   {
    "duration": 10,
    "start_time": "2024-12-22T18:56:31.395Z"
   },
   {
    "duration": 27,
    "start_time": "2024-12-22T18:56:31.407Z"
   },
   {
    "duration": 62,
    "start_time": "2024-12-22T18:56:31.435Z"
   },
   {
    "duration": 26,
    "start_time": "2024-12-22T18:56:31.499Z"
   },
   {
    "duration": 16,
    "start_time": "2024-12-22T18:56:31.529Z"
   },
   {
    "duration": 35,
    "start_time": "2024-12-22T18:56:31.547Z"
   },
   {
    "duration": 608,
    "start_time": "2024-12-22T18:56:31.583Z"
   },
   {
    "duration": 0,
    "start_time": "2024-12-22T18:56:32.194Z"
   },
   {
    "duration": 0,
    "start_time": "2024-12-22T18:56:32.196Z"
   },
   {
    "duration": 0,
    "start_time": "2024-12-22T18:56:32.196Z"
   },
   {
    "duration": 0,
    "start_time": "2024-12-22T18:56:32.197Z"
   },
   {
    "duration": 0,
    "start_time": "2024-12-22T18:56:32.199Z"
   },
   {
    "duration": 0,
    "start_time": "2024-12-22T18:56:32.200Z"
   },
   {
    "duration": 0,
    "start_time": "2024-12-22T18:56:32.200Z"
   },
   {
    "duration": 0,
    "start_time": "2024-12-22T18:56:32.201Z"
   },
   {
    "duration": 0,
    "start_time": "2024-12-22T18:56:32.202Z"
   },
   {
    "duration": 0,
    "start_time": "2024-12-22T18:56:32.203Z"
   },
   {
    "duration": 0,
    "start_time": "2024-12-22T18:56:32.204Z"
   },
   {
    "duration": 0,
    "start_time": "2024-12-22T18:56:32.205Z"
   },
   {
    "duration": 0,
    "start_time": "2024-12-22T18:56:32.206Z"
   },
   {
    "duration": 0,
    "start_time": "2024-12-22T18:56:32.207Z"
   },
   {
    "duration": 0,
    "start_time": "2024-12-22T18:56:32.208Z"
   },
   {
    "duration": 0,
    "start_time": "2024-12-22T18:56:32.208Z"
   },
   {
    "duration": 0,
    "start_time": "2024-12-22T18:56:32.209Z"
   },
   {
    "duration": 0,
    "start_time": "2024-12-22T18:56:32.210Z"
   },
   {
    "duration": 0,
    "start_time": "2024-12-22T18:56:32.211Z"
   },
   {
    "duration": 0,
    "start_time": "2024-12-22T18:56:32.212Z"
   },
   {
    "duration": 0,
    "start_time": "2024-12-22T18:56:32.213Z"
   },
   {
    "duration": 0,
    "start_time": "2024-12-22T18:56:32.214Z"
   },
   {
    "duration": 0,
    "start_time": "2024-12-22T18:56:32.216Z"
   },
   {
    "duration": 0,
    "start_time": "2024-12-22T18:56:32.218Z"
   },
   {
    "duration": 0,
    "start_time": "2024-12-22T18:56:32.220Z"
   },
   {
    "duration": 0,
    "start_time": "2024-12-22T18:56:32.221Z"
   },
   {
    "duration": 0,
    "start_time": "2024-12-22T18:56:32.223Z"
   },
   {
    "duration": 0,
    "start_time": "2024-12-22T18:56:32.224Z"
   },
   {
    "duration": 0,
    "start_time": "2024-12-22T18:56:32.226Z"
   },
   {
    "duration": 0,
    "start_time": "2024-12-22T18:56:32.227Z"
   },
   {
    "duration": 0,
    "start_time": "2024-12-22T18:56:32.228Z"
   },
   {
    "duration": 0,
    "start_time": "2024-12-22T18:56:32.230Z"
   },
   {
    "duration": 0,
    "start_time": "2024-12-22T18:56:32.232Z"
   },
   {
    "duration": 0,
    "start_time": "2024-12-22T18:56:32.233Z"
   },
   {
    "duration": 0,
    "start_time": "2024-12-22T18:56:32.234Z"
   },
   {
    "duration": 0,
    "start_time": "2024-12-22T18:56:32.235Z"
   },
   {
    "duration": 0,
    "start_time": "2024-12-22T18:56:32.236Z"
   },
   {
    "duration": 0,
    "start_time": "2024-12-22T18:56:32.237Z"
   },
   {
    "duration": 0,
    "start_time": "2024-12-22T18:56:32.238Z"
   },
   {
    "duration": 0,
    "start_time": "2024-12-22T18:56:32.239Z"
   },
   {
    "duration": 1,
    "start_time": "2024-12-22T18:56:32.240Z"
   },
   {
    "duration": 0,
    "start_time": "2024-12-22T18:56:32.241Z"
   },
   {
    "duration": 0,
    "start_time": "2024-12-22T18:56:32.242Z"
   },
   {
    "duration": 0,
    "start_time": "2024-12-22T18:56:32.243Z"
   },
   {
    "duration": 0,
    "start_time": "2024-12-22T18:56:32.244Z"
   },
   {
    "duration": 0,
    "start_time": "2024-12-22T18:56:32.245Z"
   },
   {
    "duration": 0,
    "start_time": "2024-12-22T18:56:32.246Z"
   },
   {
    "duration": 6,
    "start_time": "2024-12-22T18:57:11.162Z"
   },
   {
    "duration": 12,
    "start_time": "2024-12-22T18:58:04.339Z"
   },
   {
    "duration": 8,
    "start_time": "2024-12-22T18:58:04.813Z"
   },
   {
    "duration": 390,
    "start_time": "2024-12-22T18:58:05.169Z"
   },
   {
    "duration": 10,
    "start_time": "2024-12-22T18:58:11.524Z"
   },
   {
    "duration": 840,
    "start_time": "2024-12-22T18:58:15.466Z"
   },
   {
    "duration": 23,
    "start_time": "2024-12-22T18:58:16.308Z"
   },
   {
    "duration": 31,
    "start_time": "2024-12-22T18:58:16.333Z"
   },
   {
    "duration": 10,
    "start_time": "2024-12-22T18:58:16.366Z"
   },
   {
    "duration": 42,
    "start_time": "2024-12-22T18:58:16.378Z"
   },
   {
    "duration": 13,
    "start_time": "2024-12-22T18:58:16.423Z"
   },
   {
    "duration": 6,
    "start_time": "2024-12-22T18:58:16.438Z"
   },
   {
    "duration": 13,
    "start_time": "2024-12-22T18:58:16.446Z"
   },
   {
    "duration": 18,
    "start_time": "2024-12-22T18:58:16.461Z"
   },
   {
    "duration": 52,
    "start_time": "2024-12-22T18:58:16.481Z"
   },
   {
    "duration": 15,
    "start_time": "2024-12-22T18:58:16.535Z"
   },
   {
    "duration": 14,
    "start_time": "2024-12-22T18:58:16.552Z"
   },
   {
    "duration": 5,
    "start_time": "2024-12-22T18:58:16.567Z"
   },
   {
    "duration": 517,
    "start_time": "2024-12-22T18:58:16.574Z"
   },
   {
    "duration": 0,
    "start_time": "2024-12-22T18:58:17.094Z"
   },
   {
    "duration": 0,
    "start_time": "2024-12-22T18:58:17.096Z"
   },
   {
    "duration": 0,
    "start_time": "2024-12-22T18:58:17.097Z"
   },
   {
    "duration": 0,
    "start_time": "2024-12-22T18:58:17.098Z"
   },
   {
    "duration": 0,
    "start_time": "2024-12-22T18:58:17.100Z"
   },
   {
    "duration": 0,
    "start_time": "2024-12-22T18:58:17.101Z"
   },
   {
    "duration": 0,
    "start_time": "2024-12-22T18:58:17.102Z"
   },
   {
    "duration": 0,
    "start_time": "2024-12-22T18:58:17.103Z"
   },
   {
    "duration": 0,
    "start_time": "2024-12-22T18:58:17.105Z"
   },
   {
    "duration": 0,
    "start_time": "2024-12-22T18:58:17.106Z"
   },
   {
    "duration": 0,
    "start_time": "2024-12-22T18:58:17.107Z"
   },
   {
    "duration": 0,
    "start_time": "2024-12-22T18:58:17.108Z"
   },
   {
    "duration": 0,
    "start_time": "2024-12-22T18:58:17.108Z"
   },
   {
    "duration": 0,
    "start_time": "2024-12-22T18:58:17.110Z"
   },
   {
    "duration": 0,
    "start_time": "2024-12-22T18:58:17.111Z"
   },
   {
    "duration": 0,
    "start_time": "2024-12-22T18:58:17.111Z"
   },
   {
    "duration": 0,
    "start_time": "2024-12-22T18:58:17.112Z"
   },
   {
    "duration": 1,
    "start_time": "2024-12-22T18:58:17.114Z"
   },
   {
    "duration": 0,
    "start_time": "2024-12-22T18:58:17.116Z"
   },
   {
    "duration": 0,
    "start_time": "2024-12-22T18:58:17.121Z"
   },
   {
    "duration": 0,
    "start_time": "2024-12-22T18:58:17.127Z"
   },
   {
    "duration": 0,
    "start_time": "2024-12-22T18:58:17.129Z"
   },
   {
    "duration": 0,
    "start_time": "2024-12-22T18:58:17.131Z"
   },
   {
    "duration": 0,
    "start_time": "2024-12-22T18:58:17.133Z"
   },
   {
    "duration": 0,
    "start_time": "2024-12-22T18:58:17.135Z"
   },
   {
    "duration": 0,
    "start_time": "2024-12-22T18:58:17.136Z"
   },
   {
    "duration": 0,
    "start_time": "2024-12-22T18:58:17.137Z"
   },
   {
    "duration": 0,
    "start_time": "2024-12-22T18:58:17.138Z"
   },
   {
    "duration": 0,
    "start_time": "2024-12-22T18:58:17.139Z"
   },
   {
    "duration": 0,
    "start_time": "2024-12-22T18:58:17.140Z"
   },
   {
    "duration": 0,
    "start_time": "2024-12-22T18:58:17.141Z"
   },
   {
    "duration": 0,
    "start_time": "2024-12-22T18:58:17.142Z"
   },
   {
    "duration": 0,
    "start_time": "2024-12-22T18:58:17.143Z"
   },
   {
    "duration": 0,
    "start_time": "2024-12-22T18:58:17.144Z"
   },
   {
    "duration": 0,
    "start_time": "2024-12-22T18:58:17.145Z"
   },
   {
    "duration": 0,
    "start_time": "2024-12-22T18:58:17.145Z"
   },
   {
    "duration": 0,
    "start_time": "2024-12-22T18:58:17.147Z"
   },
   {
    "duration": 0,
    "start_time": "2024-12-22T18:58:17.148Z"
   },
   {
    "duration": 0,
    "start_time": "2024-12-22T18:58:17.149Z"
   },
   {
    "duration": 0,
    "start_time": "2024-12-22T18:58:17.150Z"
   },
   {
    "duration": 0,
    "start_time": "2024-12-22T18:58:17.151Z"
   },
   {
    "duration": 0,
    "start_time": "2024-12-22T18:58:17.152Z"
   },
   {
    "duration": 0,
    "start_time": "2024-12-22T18:58:17.153Z"
   },
   {
    "duration": 0,
    "start_time": "2024-12-22T18:58:17.154Z"
   },
   {
    "duration": 0,
    "start_time": "2024-12-22T18:58:17.155Z"
   },
   {
    "duration": 0,
    "start_time": "2024-12-22T18:58:17.156Z"
   },
   {
    "duration": 0,
    "start_time": "2024-12-22T18:58:17.158Z"
   },
   {
    "duration": 7,
    "start_time": "2024-12-22T18:59:25.318Z"
   },
   {
    "duration": 362,
    "start_time": "2024-12-22T18:59:25.564Z"
   },
   {
    "duration": 0,
    "start_time": "2024-12-22T18:59:25.930Z"
   },
   {
    "duration": 879,
    "start_time": "2024-12-22T18:59:30.408Z"
   },
   {
    "duration": 18,
    "start_time": "2024-12-22T18:59:31.289Z"
   },
   {
    "duration": 48,
    "start_time": "2024-12-22T18:59:31.308Z"
   },
   {
    "duration": 11,
    "start_time": "2024-12-22T18:59:31.358Z"
   },
   {
    "duration": 28,
    "start_time": "2024-12-22T18:59:31.371Z"
   },
   {
    "duration": 11,
    "start_time": "2024-12-22T18:59:31.400Z"
   },
   {
    "duration": 12,
    "start_time": "2024-12-22T18:59:31.417Z"
   },
   {
    "duration": 42,
    "start_time": "2024-12-22T18:59:31.432Z"
   },
   {
    "duration": 19,
    "start_time": "2024-12-22T18:59:31.476Z"
   },
   {
    "duration": 34,
    "start_time": "2024-12-22T18:59:31.498Z"
   },
   {
    "duration": 22,
    "start_time": "2024-12-22T18:59:31.534Z"
   },
   {
    "duration": 29,
    "start_time": "2024-12-22T18:59:31.558Z"
   },
   {
    "duration": 6,
    "start_time": "2024-12-22T18:59:31.589Z"
   },
   {
    "duration": 12,
    "start_time": "2024-12-22T18:59:31.596Z"
   },
   {
    "duration": 13,
    "start_time": "2024-12-22T18:59:31.610Z"
   },
   {
    "duration": 23,
    "start_time": "2024-12-22T18:59:31.626Z"
   },
   {
    "duration": 19,
    "start_time": "2024-12-22T18:59:31.651Z"
   },
   {
    "duration": 56,
    "start_time": "2024-12-22T18:59:31.672Z"
   },
   {
    "duration": 23,
    "start_time": "2024-12-22T18:59:31.731Z"
   },
   {
    "duration": 19,
    "start_time": "2024-12-22T18:59:31.756Z"
   },
   {
    "duration": 19,
    "start_time": "2024-12-22T18:59:31.777Z"
   },
   {
    "duration": 4,
    "start_time": "2024-12-22T18:59:31.797Z"
   },
   {
    "duration": 69,
    "start_time": "2024-12-22T18:59:31.803Z"
   },
   {
    "duration": 13,
    "start_time": "2024-12-22T18:59:31.874Z"
   },
   {
    "duration": 8,
    "start_time": "2024-12-22T18:59:31.888Z"
   },
   {
    "duration": 30,
    "start_time": "2024-12-22T18:59:31.898Z"
   },
   {
    "duration": 23,
    "start_time": "2024-12-22T18:59:31.931Z"
   },
   {
    "duration": 83,
    "start_time": "2024-12-22T18:59:31.959Z"
   },
   {
    "duration": 13,
    "start_time": "2024-12-22T18:59:32.044Z"
   },
   {
    "duration": 96,
    "start_time": "2024-12-22T18:59:32.058Z"
   },
   {
    "duration": 30,
    "start_time": "2024-12-22T18:59:32.156Z"
   },
   {
    "duration": 11,
    "start_time": "2024-12-22T18:59:32.188Z"
   },
   {
    "duration": 24,
    "start_time": "2024-12-22T18:59:32.201Z"
   },
   {
    "duration": 38,
    "start_time": "2024-12-22T18:59:32.228Z"
   },
   {
    "duration": 50,
    "start_time": "2024-12-22T18:59:32.268Z"
   },
   {
    "duration": 5,
    "start_time": "2024-12-22T18:59:32.321Z"
   },
   {
    "duration": 14,
    "start_time": "2024-12-22T18:59:32.328Z"
   },
   {
    "duration": 18,
    "start_time": "2024-12-22T18:59:32.344Z"
   },
   {
    "duration": 10,
    "start_time": "2024-12-22T18:59:32.364Z"
   },
   {
    "duration": 166,
    "start_time": "2024-12-22T18:59:32.375Z"
   },
   {
    "duration": 134,
    "start_time": "2024-12-22T18:59:32.543Z"
   },
   {
    "duration": 2,
    "start_time": "2024-12-22T18:59:32.679Z"
   },
   {
    "duration": 10,
    "start_time": "2024-12-22T18:59:32.683Z"
   },
   {
    "duration": 6,
    "start_time": "2024-12-22T18:59:32.695Z"
   },
   {
    "duration": 16,
    "start_time": "2024-12-22T18:59:32.716Z"
   },
   {
    "duration": 23,
    "start_time": "2024-12-22T18:59:32.733Z"
   },
   {
    "duration": 118,
    "start_time": "2024-12-22T18:59:32.757Z"
   },
   {
    "duration": 165,
    "start_time": "2024-12-22T18:59:32.877Z"
   },
   {
    "duration": 16,
    "start_time": "2024-12-22T18:59:33.044Z"
   },
   {
    "duration": 14,
    "start_time": "2024-12-22T18:59:33.062Z"
   },
   {
    "duration": 22,
    "start_time": "2024-12-22T18:59:33.077Z"
   },
   {
    "duration": 11,
    "start_time": "2024-12-22T18:59:33.114Z"
   },
   {
    "duration": 9,
    "start_time": "2024-12-22T18:59:33.131Z"
   },
   {
    "duration": 224,
    "start_time": "2024-12-22T18:59:33.142Z"
   },
   {
    "duration": 105,
    "start_time": "2024-12-22T18:59:33.367Z"
   },
   {
    "duration": 170,
    "start_time": "2024-12-22T18:59:33.473Z"
   },
   {
    "duration": 18,
    "start_time": "2024-12-22T18:59:33.645Z"
   },
   {
    "duration": 10,
    "start_time": "2024-12-22T18:59:33.665Z"
   },
   {
    "duration": 50,
    "start_time": "2024-12-22T18:59:33.677Z"
   },
   {
    "duration": 6,
    "start_time": "2024-12-22T18:59:33.730Z"
   },
   {
    "duration": 31,
    "start_time": "2024-12-22T18:59:33.737Z"
   },
   {
    "duration": 4,
    "start_time": "2024-12-22T19:05:05.284Z"
   },
   {
    "duration": 23,
    "start_time": "2024-12-22T19:05:08.474Z"
   },
   {
    "duration": 5,
    "start_time": "2024-12-22T19:05:53.381Z"
   },
   {
    "duration": 22,
    "start_time": "2024-12-22T19:06:00.123Z"
   },
   {
    "duration": 23,
    "start_time": "2024-12-22T19:08:48.020Z"
   },
   {
    "duration": 72,
    "start_time": "2024-12-22T19:09:31.882Z"
   },
   {
    "duration": 14,
    "start_time": "2024-12-22T19:09:38.086Z"
   },
   {
    "duration": 13,
    "start_time": "2024-12-22T19:09:48.102Z"
   },
   {
    "duration": 29,
    "start_time": "2024-12-22T19:10:04.007Z"
   },
   {
    "duration": 7,
    "start_time": "2024-12-22T19:10:21.384Z"
   },
   {
    "duration": 8,
    "start_time": "2024-12-22T19:10:32.170Z"
   },
   {
    "duration": 9,
    "start_time": "2024-12-22T19:11:27.937Z"
   },
   {
    "duration": 8,
    "start_time": "2024-12-22T19:12:41.851Z"
   },
   {
    "duration": 4521,
    "start_time": "2024-12-23T14:23:36.529Z"
   },
   {
    "duration": 833,
    "start_time": "2024-12-23T14:23:47.653Z"
   },
   {
    "duration": 19,
    "start_time": "2024-12-23T14:23:48.489Z"
   },
   {
    "duration": 39,
    "start_time": "2024-12-23T14:23:48.510Z"
   },
   {
    "duration": 10,
    "start_time": "2024-12-23T14:23:48.551Z"
   },
   {
    "duration": 22,
    "start_time": "2024-12-23T14:23:48.562Z"
   },
   {
    "duration": 10,
    "start_time": "2024-12-23T14:23:48.585Z"
   },
   {
    "duration": 19,
    "start_time": "2024-12-23T14:23:48.596Z"
   },
   {
    "duration": 15,
    "start_time": "2024-12-23T14:23:48.621Z"
   },
   {
    "duration": 20,
    "start_time": "2024-12-23T14:23:48.637Z"
   },
   {
    "duration": 34,
    "start_time": "2024-12-23T14:23:48.659Z"
   },
   {
    "duration": 18,
    "start_time": "2024-12-23T14:23:48.695Z"
   },
   {
    "duration": 23,
    "start_time": "2024-12-23T14:23:48.714Z"
   },
   {
    "duration": 18,
    "start_time": "2024-12-23T14:23:48.738Z"
   },
   {
    "duration": 7,
    "start_time": "2024-12-23T14:23:48.757Z"
   },
   {
    "duration": 5,
    "start_time": "2024-12-23T14:23:48.765Z"
   },
   {
    "duration": 26,
    "start_time": "2024-12-23T14:23:48.771Z"
   },
   {
    "duration": 3855,
    "start_time": "2024-12-23T14:23:48.799Z"
   },
   {
    "duration": 4,
    "start_time": "2024-12-23T14:23:52.656Z"
   },
   {
    "duration": 28,
    "start_time": "2024-12-23T14:23:52.662Z"
   },
   {
    "duration": 17,
    "start_time": "2024-12-23T14:23:52.692Z"
   },
   {
    "duration": 7,
    "start_time": "2024-12-23T14:23:52.710Z"
   },
   {
    "duration": 20,
    "start_time": "2024-12-23T14:23:52.719Z"
   },
   {
    "duration": 19,
    "start_time": "2024-12-23T14:23:52.741Z"
   },
   {
    "duration": 14,
    "start_time": "2024-12-23T14:23:52.761Z"
   },
   {
    "duration": 10,
    "start_time": "2024-12-23T14:23:52.776Z"
   },
   {
    "duration": 11,
    "start_time": "2024-12-23T14:23:52.787Z"
   },
   {
    "duration": 5,
    "start_time": "2024-12-23T14:23:52.799Z"
   },
   {
    "duration": 6,
    "start_time": "2024-12-23T14:23:52.807Z"
   },
   {
    "duration": 66,
    "start_time": "2024-12-23T14:23:52.814Z"
   },
   {
    "duration": 10,
    "start_time": "2024-12-23T14:23:52.882Z"
   },
   {
    "duration": 29,
    "start_time": "2024-12-23T14:23:52.893Z"
   },
   {
    "duration": 15,
    "start_time": "2024-12-23T14:23:52.923Z"
   },
   {
    "duration": 10,
    "start_time": "2024-12-23T14:23:52.939Z"
   },
   {
    "duration": 25,
    "start_time": "2024-12-23T14:23:52.950Z"
   },
   {
    "duration": 54,
    "start_time": "2024-12-23T14:23:52.977Z"
   },
   {
    "duration": 30,
    "start_time": "2024-12-23T14:23:53.033Z"
   },
   {
    "duration": 26,
    "start_time": "2024-12-23T14:23:53.065Z"
   },
   {
    "duration": 15,
    "start_time": "2024-12-23T14:23:53.092Z"
   },
   {
    "duration": 4,
    "start_time": "2024-12-23T14:23:53.108Z"
   },
   {
    "duration": 9,
    "start_time": "2024-12-23T14:23:53.113Z"
   },
   {
    "duration": 119,
    "start_time": "2024-12-23T14:23:53.123Z"
   },
   {
    "duration": 115,
    "start_time": "2024-12-23T14:23:53.244Z"
   },
   {
    "duration": 2,
    "start_time": "2024-12-23T14:23:53.361Z"
   },
   {
    "duration": 26,
    "start_time": "2024-12-23T14:23:53.364Z"
   },
   {
    "duration": 28,
    "start_time": "2024-12-23T14:23:53.391Z"
   },
   {
    "duration": 31,
    "start_time": "2024-12-23T14:23:53.421Z"
   },
   {
    "duration": 9,
    "start_time": "2024-12-23T14:23:53.453Z"
   },
   {
    "duration": 86,
    "start_time": "2024-12-23T14:23:53.464Z"
   },
   {
    "duration": 140,
    "start_time": "2024-12-23T14:23:53.551Z"
   },
   {
    "duration": 14,
    "start_time": "2024-12-23T14:23:53.692Z"
   },
   {
    "duration": 20,
    "start_time": "2024-12-23T14:23:53.707Z"
   },
   {
    "duration": 112,
    "start_time": "2024-12-23T14:23:53.728Z"
   },
   {
    "duration": 5,
    "start_time": "2024-12-23T14:23:53.842Z"
   },
   {
    "duration": 16,
    "start_time": "2024-12-23T14:23:53.849Z"
   },
   {
    "duration": 117,
    "start_time": "2024-12-23T14:23:53.866Z"
   },
   {
    "duration": 83,
    "start_time": "2024-12-23T14:23:53.985Z"
   },
   {
    "duration": 203,
    "start_time": "2024-12-23T14:23:54.070Z"
   },
   {
    "duration": 15,
    "start_time": "2024-12-23T14:23:54.275Z"
   },
   {
    "duration": 15,
    "start_time": "2024-12-23T14:23:54.291Z"
   },
   {
    "duration": 34,
    "start_time": "2024-12-23T14:23:54.307Z"
   },
   {
    "duration": 10,
    "start_time": "2024-12-23T14:23:54.343Z"
   },
   {
    "duration": 17,
    "start_time": "2024-12-23T14:23:54.354Z"
   },
   {
    "duration": 6,
    "start_time": "2024-12-23T14:23:54.372Z"
   },
   {
    "duration": 8,
    "start_time": "2024-12-23T14:23:54.380Z"
   },
   {
    "duration": 6,
    "start_time": "2024-12-23T14:23:54.389Z"
   },
   {
    "duration": 121,
    "start_time": "2024-12-23T14:43:00.615Z"
   },
   {
    "duration": 131,
    "start_time": "2024-12-23T14:43:44.851Z"
   },
   {
    "duration": 144,
    "start_time": "2024-12-23T14:44:25.145Z"
   },
   {
    "duration": 213,
    "start_time": "2024-12-23T14:46:05.244Z"
   },
   {
    "duration": 224,
    "start_time": "2024-12-23T14:46:18.633Z"
   },
   {
    "duration": 97,
    "start_time": "2024-12-23T14:50:41.467Z"
   },
   {
    "duration": 10,
    "start_time": "2024-12-23T14:51:12.209Z"
   },
   {
    "duration": 21,
    "start_time": "2024-12-23T14:51:14.731Z"
   },
   {
    "duration": 737,
    "start_time": "2024-12-23T14:51:30.636Z"
   },
   {
    "duration": 15,
    "start_time": "2024-12-23T14:51:31.375Z"
   },
   {
    "duration": 34,
    "start_time": "2024-12-23T14:51:31.391Z"
   },
   {
    "duration": 10,
    "start_time": "2024-12-23T14:51:31.427Z"
   },
   {
    "duration": 62,
    "start_time": "2024-12-23T14:51:31.438Z"
   },
   {
    "duration": 21,
    "start_time": "2024-12-23T14:51:31.502Z"
   },
   {
    "duration": 15,
    "start_time": "2024-12-23T14:51:31.525Z"
   },
   {
    "duration": 21,
    "start_time": "2024-12-23T14:51:31.542Z"
   },
   {
    "duration": 15,
    "start_time": "2024-12-23T14:51:31.565Z"
   },
   {
    "duration": 19,
    "start_time": "2024-12-23T14:51:31.583Z"
   },
   {
    "duration": 9,
    "start_time": "2024-12-23T14:51:31.604Z"
   },
   {
    "duration": 25,
    "start_time": "2024-12-23T14:51:31.615Z"
   },
   {
    "duration": 25,
    "start_time": "2024-12-23T14:51:31.642Z"
   },
   {
    "duration": 25,
    "start_time": "2024-12-23T14:51:31.669Z"
   },
   {
    "duration": 5,
    "start_time": "2024-12-23T14:51:31.696Z"
   },
   {
    "duration": 42,
    "start_time": "2024-12-23T14:51:31.702Z"
   },
   {
    "duration": 4005,
    "start_time": "2024-12-23T14:51:31.745Z"
   },
   {
    "duration": 4,
    "start_time": "2024-12-23T14:51:35.752Z"
   },
   {
    "duration": 29,
    "start_time": "2024-12-23T14:51:35.757Z"
   },
   {
    "duration": 17,
    "start_time": "2024-12-23T14:51:35.788Z"
   },
   {
    "duration": 82,
    "start_time": "2024-12-23T14:51:35.806Z"
   },
   {
    "duration": 76,
    "start_time": "2024-12-23T14:51:35.890Z"
   },
   {
    "duration": 24,
    "start_time": "2024-12-23T14:51:35.967Z"
   },
   {
    "duration": 14,
    "start_time": "2024-12-23T14:51:35.993Z"
   },
   {
    "duration": 17,
    "start_time": "2024-12-23T14:51:36.009Z"
   },
   {
    "duration": 50,
    "start_time": "2024-12-23T14:51:36.027Z"
   },
   {
    "duration": 49,
    "start_time": "2024-12-23T14:51:36.080Z"
   },
   {
    "duration": 33,
    "start_time": "2024-12-23T14:51:36.132Z"
   },
   {
    "duration": 81,
    "start_time": "2024-12-23T14:51:36.167Z"
   },
   {
    "duration": 10,
    "start_time": "2024-12-23T14:51:36.249Z"
   },
   {
    "duration": 21,
    "start_time": "2024-12-23T14:51:36.260Z"
   },
   {
    "duration": 41,
    "start_time": "2024-12-23T14:51:36.282Z"
   },
   {
    "duration": 27,
    "start_time": "2024-12-23T14:51:36.325Z"
   },
   {
    "duration": 27,
    "start_time": "2024-12-23T14:51:36.353Z"
   },
   {
    "duration": 21,
    "start_time": "2024-12-23T14:51:36.382Z"
   },
   {
    "duration": 37,
    "start_time": "2024-12-23T14:51:36.404Z"
   },
   {
    "duration": 8,
    "start_time": "2024-12-23T14:51:36.442Z"
   },
   {
    "duration": 47,
    "start_time": "2024-12-23T14:51:36.451Z"
   },
   {
    "duration": 22,
    "start_time": "2024-12-23T14:51:36.499Z"
   },
   {
    "duration": 61,
    "start_time": "2024-12-23T14:51:36.522Z"
   },
   {
    "duration": 149,
    "start_time": "2024-12-23T14:51:36.585Z"
   },
   {
    "duration": 133,
    "start_time": "2024-12-23T14:51:36.735Z"
   },
   {
    "duration": 3,
    "start_time": "2024-12-23T14:51:36.869Z"
   },
   {
    "duration": 26,
    "start_time": "2024-12-23T14:51:36.873Z"
   },
   {
    "duration": 18,
    "start_time": "2024-12-23T14:51:36.900Z"
   },
   {
    "duration": 88,
    "start_time": "2024-12-23T14:51:36.920Z"
   },
   {
    "duration": 55,
    "start_time": "2024-12-23T14:51:37.010Z"
   },
   {
    "duration": 179,
    "start_time": "2024-12-23T14:51:37.066Z"
   },
   {
    "duration": 153,
    "start_time": "2024-12-23T14:51:37.246Z"
   },
   {
    "duration": 149,
    "start_time": "2024-12-23T14:51:37.400Z"
   },
   {
    "duration": 5,
    "start_time": "2024-12-23T14:51:37.551Z"
   },
   {
    "duration": 46,
    "start_time": "2024-12-23T14:51:37.558Z"
   },
   {
    "duration": 6,
    "start_time": "2024-12-23T14:51:37.605Z"
   },
   {
    "duration": 18,
    "start_time": "2024-12-23T14:51:37.612Z"
   },
   {
    "duration": 283,
    "start_time": "2024-12-23T14:51:37.631Z"
   },
   {
    "duration": 84,
    "start_time": "2024-12-23T14:51:37.921Z"
   },
   {
    "duration": 245,
    "start_time": "2024-12-23T14:51:38.007Z"
   },
   {
    "duration": 19,
    "start_time": "2024-12-23T14:51:38.253Z"
   },
   {
    "duration": 21,
    "start_time": "2024-12-23T14:51:38.273Z"
   },
   {
    "duration": 59,
    "start_time": "2024-12-23T14:51:38.296Z"
   },
   {
    "duration": 5,
    "start_time": "2024-12-23T14:51:38.357Z"
   },
   {
    "duration": 33,
    "start_time": "2024-12-23T14:51:38.363Z"
   },
   {
    "duration": 39,
    "start_time": "2024-12-23T14:51:38.398Z"
   },
   {
    "duration": 17,
    "start_time": "2024-12-23T14:51:38.438Z"
   },
   {
    "duration": 8,
    "start_time": "2024-12-23T14:51:38.456Z"
   }
  ],
  "colab": {
   "name": "DA+. Сборный проект 1. Шаблон (1).ipynb",
   "provenance": []
  },
  "kernelspec": {
   "display_name": "Python 3 (ipykernel)",
   "language": "python",
   "name": "python3"
  },
  "language_info": {
   "codemirror_mode": {
    "name": "ipython",
    "version": 3
   },
   "file_extension": ".py",
   "mimetype": "text/x-python",
   "name": "python",
   "nbconvert_exporter": "python",
   "pygments_lexer": "ipython3",
   "version": "3.9.5"
  },
  "toc": {
   "base_numbering": 1,
   "nav_menu": {},
   "number_sections": true,
   "sideBar": true,
   "skip_h1_title": true,
   "title_cell": "Table of Contents",
   "title_sidebar": "Contents",
   "toc_cell": false,
   "toc_position": {
    "height": "calc(100% - 180px)",
    "left": "10px",
    "top": "150px",
    "width": "375.391px"
   },
   "toc_section_display": true,
   "toc_window_display": false
  }
 },
 "nbformat": 4,
 "nbformat_minor": 1
}
